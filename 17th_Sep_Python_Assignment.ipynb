{
 "cells": [
  {
   "cell_type": "markdown",
   "metadata": {},
   "source": [
    "# For Loop :-\n"
   ]
  },
  {
   "cell_type": "markdown",
   "metadata": {},
   "source": [
    "1. Write a Python program to print numbers from 1 to 10 using a for loop.\n"
   ]
  },
  {
   "cell_type": "code",
   "execution_count": 1,
   "metadata": {},
   "outputs": [
    {
     "name": "stdout",
     "output_type": "stream",
     "text": [
      "1\n",
      "2\n",
      "3\n",
      "4\n",
      "5\n",
      "6\n",
      "7\n",
      "8\n",
      "9\n",
      "10\n"
     ]
    }
   ],
   "source": [
    "for num in range(1, 11):\n",
    "    print(num)\n"
   ]
  },
  {
   "cell_type": "markdown",
   "metadata": {},
   "source": [
    "2. Explain the difference between a for loop and a while loop in Python."
   ]
  },
  {
   "cell_type": "markdown",
   "metadata": {},
   "source": [
    "For Loop:\n",
    "\n",
    "-Iterates over a sequence.\n",
    "-Ideal for a fixed number of iterations.\n",
    "-Used when the number of iterations is known in advance.\n",
    "-Often used with sequences like lists, tuples, strings, or ranges.\n",
    "\n",
    "\n",
    "While Loop:\n",
    "\n",
    "-Executes code based on a condition.\n",
    "-Offers variable iteration control.\n",
    "-Used when the number of iterations isn't known in advance.\n",
    "-Care required to avoid infinite loops.\n"
   ]
  },
  {
   "cell_type": "markdown",
   "metadata": {},
   "source": [
    "3. Write a Python program to calculate the sum of all numbers from 1 to 100 using a for loop."
   ]
  },
  {
   "cell_type": "code",
   "execution_count": 2,
   "metadata": {},
   "outputs": [
    {
     "name": "stdout",
     "output_type": "stream",
     "text": [
      "The sum of numbers from 1 to 100 is: 5050\n"
     ]
    }
   ],
   "source": [
    "total = 0  # Initialize a variable to store the sum\n",
    "\n",
    "for num in range(1, 101):  # Iterate from 1 to 100 (inclusive)\n",
    "    total += num  # Add each number to the total\n",
    "\n",
    "print(\"The sum of numbers from 1 to 100 is:\", total)\n"
   ]
  },
  {
   "cell_type": "markdown",
   "metadata": {},
   "source": [
    "4. How do you iterate through a list using a for loop in Python?\n"
   ]
  },
  {
   "cell_type": "code",
   "execution_count": 3,
   "metadata": {},
   "outputs": [
    {
     "name": "stdout",
     "output_type": "stream",
     "text": [
      "1\n",
      "2\n",
      "3\n",
      "4\n",
      "5\n"
     ]
    }
   ],
   "source": [
    "my_list = [1, 2, 3, 4, 5]\n",
    "\n",
    "for number in my_list:\n",
    "    print(number)  # This will print each element in the list\n"
   ]
  },
  {
   "cell_type": "markdown",
   "metadata": {},
   "source": [
    "5. Write a Python program to find the product of all elements in a list using a for loop.\n"
   ]
  },
  {
   "cell_type": "code",
   "execution_count": 4,
   "metadata": {},
   "outputs": [
    {
     "name": "stdout",
     "output_type": "stream",
     "text": [
      "The product of all elements in the list is: 120\n"
     ]
    }
   ],
   "source": [
    "# Define a list with elements\n",
    "my_list = [2, 3, 4, 5]\n",
    "\n",
    "# Initialize a variable to store the product, initially set to 1\n",
    "product = 1\n",
    "\n",
    "# Iterate through the list and calculate the product\n",
    "for number in my_list:\n",
    "    product *= number\n",
    "\n",
    "# Print the product\n",
    "print(\"The product of all elements in the list is:\", product)\n"
   ]
  },
  {
   "cell_type": "markdown",
   "metadata": {},
   "source": [
    "6. Create a Python program that prints all even numbers from 1 to 20 using a for loop.\n"
   ]
  },
  {
   "cell_type": "code",
   "execution_count": 5,
   "metadata": {},
   "outputs": [
    {
     "name": "stdout",
     "output_type": "stream",
     "text": [
      "2\n",
      "4\n",
      "6\n",
      "8\n",
      "10\n",
      "12\n",
      "14\n",
      "16\n",
      "18\n",
      "20\n"
     ]
    }
   ],
   "source": [
    "# Iterate through numbers from 2 to 20 with a step of 2 (to cover even numbers only)\n",
    "for number in range(2, 21, 2):\n",
    "    print(number)\n"
   ]
  },
  {
   "cell_type": "markdown",
   "metadata": {},
   "source": [
    "7. Write a Python program that calculates the factorial of a number using a for loop.\n"
   ]
  },
  {
   "cell_type": "code",
   "execution_count": 7,
   "metadata": {},
   "outputs": [
    {
     "name": "stdout",
     "output_type": "stream",
     "text": [
      "Enter a number: 7\n",
      "The factorial of 7 is 5040\n"
     ]
    }
   ],
   "source": [
    "# Input: Get the number for which you want to calculate the factorial\n",
    "number = int(input(\"Enter a number: \"))\n",
    "\n",
    "# Initialize the factorial to 1\n",
    "factorial = 1\n",
    "\n",
    "# Check if the number is negative\n",
    "if number < 0:\n",
    "    print(\"Factorial is not defined for negative numbers.\")\n",
    "elif number == 0:\n",
    "    print(\"The factorial of 0 is 1.\")\n",
    "else:\n",
    "    # Calculate the factorial using a for loop\n",
    "    for i in range(1, number + 1):\n",
    "        factorial *= i\n",
    "\n",
    "    # Print the factorial\n",
    "    print(f\"The factorial of {number} is {factorial}\")\n"
   ]
  },
  {
   "cell_type": "markdown",
   "metadata": {},
   "source": [
    "8.How can you iterate through the characters of a string using a for loop in Python?"
   ]
  },
  {
   "cell_type": "code",
   "execution_count": 8,
   "metadata": {},
   "outputs": [
    {
     "name": "stdout",
     "output_type": "stream",
     "text": [
      "H\n",
      "e\n",
      "l\n",
      "l\n",
      "o\n",
      ",\n",
      " \n",
      "W\n",
      "o\n",
      "r\n",
      "l\n",
      "d\n",
      "!\n"
     ]
    }
   ],
   "source": [
    "my_string = \"Hello, World!\"\n",
    "\n",
    "for char in my_string:\n",
    "    print(char)\n"
   ]
  },
  {
   "cell_type": "markdown",
   "metadata": {},
   "source": [
    "9. Write a Python program to find the largest number in a list using a for loop."
   ]
  },
  {
   "cell_type": "code",
   "execution_count": 9,
   "metadata": {},
   "outputs": [
    {
     "name": "stdout",
     "output_type": "stream",
     "text": [
      "The largest number in the list is: 94\n"
     ]
    }
   ],
   "source": [
    "# Define a list with numbers\n",
    "my_list = [12, 45, 78, 22, 53, 9, 17, 94]\n",
    "\n",
    "# Initialize a variable to store the largest number\n",
    "largest = my_list[0]  # Initialize with the first element of the list\n",
    "\n",
    "# Iterate through the list to find the largest number\n",
    "for num in my_list:\n",
    "    if num > largest:\n",
    "        largest = num\n",
    "\n",
    "# Print the largest number\n",
    "print(\"The largest number in the list is:\", largest)\n"
   ]
  },
  {
   "cell_type": "markdown",
   "metadata": {},
   "source": [
    "10. Create a Python program that prints the Fibonacci sequence up to a specified limit using a for loop."
   ]
  },
  {
   "cell_type": "code",
   "execution_count": 10,
   "metadata": {},
   "outputs": [
    {
     "name": "stdout",
     "output_type": "stream",
     "text": [
      "Enter the limit for the Fibonacci sequence: 10\n",
      "0\n",
      "1\n",
      "1\n",
      "2\n",
      "3\n",
      "5\n",
      "8\n",
      "13\n",
      "21\n",
      "34\n"
     ]
    }
   ],
   "source": [
    "# Get the limit from the user\n",
    "limit = int(input(\"Enter the limit for the Fibonacci sequence: \"))\n",
    "\n",
    "# Initialize the first two Fibonacci numbers\n",
    "a, b = 0, 1\n",
    "\n",
    "# Print the first two numbers\n",
    "print(a)\n",
    "print(b)\n",
    "\n",
    "# Use a for loop to calculate and print the Fibonacci sequence\n",
    "for _ in range(2, limit):\n",
    "    a, b = b, a + b  # Calculate the next Fibonacci number\n",
    "    print(b)\n"
   ]
  },
  {
   "cell_type": "markdown",
   "metadata": {},
   "source": [
    "11. Write a Python program to count the number of vowels in a given string using a for loop.\n"
   ]
  },
  {
   "cell_type": "code",
   "execution_count": 11,
   "metadata": {},
   "outputs": [
    {
     "name": "stdout",
     "output_type": "stream",
     "text": [
      "Enter a string: pramikha\n",
      "The number of vowels in the string is: 3\n"
     ]
    }
   ],
   "source": [
    "# Get the input string from the user\n",
    "input_string = input(\"Enter a string: \")\n",
    "\n",
    "# Initialize a variable to store the vowel count\n",
    "vowel_count = 0\n",
    "\n",
    "# Convert the input string to lowercase to make the counting case-insensitive\n",
    "input_string = input_string.lower()\n",
    "\n",
    "# Define a list of vowels\n",
    "vowels = \"aeiou\"\n",
    "\n",
    "# Use a for loop to count the vowels\n",
    "for char in input_string:\n",
    "    if char in vowels:\n",
    "        vowel_count += 1\n",
    "\n",
    "# Print the count of vowels\n",
    "print(\"The number of vowels in the string is:\", vowel_count)\n"
   ]
  },
  {
   "cell_type": "markdown",
   "metadata": {},
   "source": [
    "12. Create a Python program that generates a multiplication table for a given number using a for loop"
   ]
  },
  {
   "cell_type": "code",
   "execution_count": 13,
   "metadata": {},
   "outputs": [
    {
     "name": "stdout",
     "output_type": "stream",
     "text": [
      "Enter a number: 13\n",
      "Enter the number of rows for the multiplication table: 10\n",
      "Multiplication table for 13 up to 10 rows:\n",
      "13 x 1 = 13\n",
      "13 x 2 = 26\n",
      "13 x 3 = 39\n",
      "13 x 4 = 52\n",
      "13 x 5 = 65\n",
      "13 x 6 = 78\n",
      "13 x 7 = 91\n",
      "13 x 8 = 104\n",
      "13 x 9 = 117\n",
      "13 x 10 = 130\n"
     ]
    }
   ],
   "source": [
    "# Get the number for which you want to generate a multiplication table\n",
    "number = int(input(\"Enter a number: \"))\n",
    "\n",
    "# Get the number of rows for the multiplication table\n",
    "rows = int(input(\"Enter the number of rows for the multiplication table: \"))\n",
    "\n",
    "# Generate the multiplication table\n",
    "print(f\"Multiplication table for {number} up to {rows} rows:\")\n",
    "\n",
    "for i in range(1, rows + 1):\n",
    "    result = number * i\n",
    "    print(f\"{number} x {i} = {result}\")\n",
    "\n",
    "    "
   ]
  },
  {
   "cell_type": "markdown",
   "metadata": {},
   "source": [
    "13. Write a Python program to reverse a list using a for loop.\n"
   ]
  },
  {
   "cell_type": "code",
   "execution_count": 14,
   "metadata": {},
   "outputs": [
    {
     "name": "stdout",
     "output_type": "stream",
     "text": [
      "Original List: [1, 2, 3, 4, 5]\n",
      "Reversed List: [5, 4, 3, 2, 1]\n"
     ]
    }
   ],
   "source": [
    "# Define the original list\n",
    "original_list = [1, 2, 3, 4, 5]\n",
    "\n",
    "# Initialize an empty list to store the reversed elements\n",
    "reversed_list = []\n",
    "\n",
    "# Use a for loop to reverse the list\n",
    "for item in original_list:\n",
    "    reversed_list.insert(0, item)\n",
    "\n",
    "# Print the reversed list\n",
    "print(\"Original List:\", original_list)\n",
    "print(\"Reversed List:\", reversed_list)\n"
   ]
  },
  {
   "cell_type": "markdown",
   "metadata": {},
   "source": [
    "14. Write a Python program to find the common elements between two lists using a for loop."
   ]
  },
  {
   "cell_type": "code",
   "execution_count": 15,
   "metadata": {},
   "outputs": [
    {
     "name": "stdout",
     "output_type": "stream",
     "text": [
      "Common elements between list1 and list2: [3, 4, 5]\n"
     ]
    }
   ],
   "source": [
    "# Define two lists\n",
    "list1 = [1, 2, 3, 4, 5]\n",
    "list2 = [3, 4, 5, 6, 7]\n",
    "\n",
    "# Initialize an empty list to store common elements\n",
    "common_elements = []\n",
    "\n",
    "# Use a for loop to find common elements\n",
    "for item1 in list1:\n",
    "    for item2 in list2:\n",
    "        if item1 == item2:\n",
    "            common_elements.append(item1)\n",
    "\n",
    "# Print the common elements\n",
    "print(\"Common elements between list1 and list2:\", common_elements)\n"
   ]
  },
  {
   "cell_type": "markdown",
   "metadata": {},
   "source": [
    "15. Explain how to use a for loop to iterate through the keys and values of a dictionary in Python."
   ]
  },
  {
   "cell_type": "markdown",
   "metadata": {},
   "source": [
    "#syntax:\n",
    "my_dict = {'key1': 'value1', 'key2': 'value2', 'key3': 'value3'}\n",
    "\n",
    "for key, value in my_dict.items():\n",
    "    # Code to be executed for each key-value pair\n",
    "\n",
    "\n",
    "    \n",
    "    my_dict.items() returns a sequence of key-value pairs (tuples), which you can iterate through.\n",
    "\n",
    "key represents the key of the current key-value pair, and value represents the value.\n",
    "\n",
    "Inside the loop, you can perform operations or execute code specific to each key and value pair."
   ]
  },
  {
   "cell_type": "markdown",
   "metadata": {},
   "source": [
    "16. Write a Python program to find the GCD (Greatest Common Divisor) of two numbers using a for loop"
   ]
  },
  {
   "cell_type": "code",
   "execution_count": 18,
   "metadata": {},
   "outputs": [
    {
     "name": "stdout",
     "output_type": "stream",
     "text": [
      "Enter the first number: 24\n",
      "Enter the second number: 48\n",
      "The GCD of 24 and 48 is: 24\n"
     ]
    }
   ],
   "source": [
    "# Function to find the GCD using the Euclidean algorithm\n",
    "def find_gcd(a, b):\n",
    "    while b:\n",
    "        a, b = b, a % b\n",
    "    return a\n",
    "\n",
    "# Get input from the user for two numbers\n",
    "num1 = int(input(\"Enter the first number: \"))\n",
    "num2 = int(input(\"Enter the second number: \"))\n",
    "\n",
    "# Calculate the GCD\n",
    "gcd = find_gcd(num1, num2)\n",
    "\n",
    "# Print the GCD\n",
    "print(f\"The GCD of {num1} and {num2} is: {gcd}\")\n"
   ]
  },
  {
   "cell_type": "markdown",
   "metadata": {},
   "source": [
    "17. Create a Python program that checks if a string is a palindrome using a for loop.\n"
   ]
  },
  {
   "cell_type": "code",
   "execution_count": 22,
   "metadata": {},
   "outputs": [
    {
     "name": "stdout",
     "output_type": "stream",
     "text": [
      "Enter a string: malayalam\n",
      "It's a palindrome!\n"
     ]
    }
   ],
   "source": [
    "\n",
    "# Get input from the user\n",
    "string = input(\"Enter a string: \")\n",
    "\n",
    "# Remove spaces and convert the input string to lowercase\n",
    "string = string.replace(\" \", \"\").lower()\n",
    "\n",
    "# Check if the string is a palindrome\n",
    "if string == string[::-1]:\n",
    "    print(\"It's a palindrome!\")\n",
    "else:\n",
    "    print(\"It's not a palindrome.\")\n"
   ]
  },
  {
   "cell_type": "markdown",
   "metadata": {},
   "source": [
    "18. Write a Python program to remove duplicates from a list using a for loop.\n"
   ]
  },
  {
   "cell_type": "code",
   "execution_count": 21,
   "metadata": {},
   "outputs": [
    {
     "name": "stdout",
     "output_type": "stream",
     "text": [
      "Original List: [1, 2, 2, 3, 4, 4, 5, 5]\n",
      "List with Duplicates Removed: [1, 2, 3, 4, 5]\n"
     ]
    }
   ],
   "source": [
    "# Define a list with duplicates\n",
    "my_list = [1, 2, 2, 3, 4, 4, 5, 5]\n",
    "\n",
    "# Initialize an empty list to store unique elements\n",
    "unique_list = []\n",
    "\n",
    "# Use a for loop to remove duplicates\n",
    "for item in my_list:\n",
    "    if item not in unique_list:\n",
    "        unique_list.append(item)\n",
    "\n",
    "# Print the list with duplicates removed\n",
    "print(\"Original List:\", my_list)\n",
    "print(\"List with Duplicates Removed:\", unique_list)\n"
   ]
  },
  {
   "cell_type": "markdown",
   "metadata": {},
   "source": [
    "19. Create a Python program that counts the number of words in a sentence using a for loop"
   ]
  },
  {
   "cell_type": "code",
   "execution_count": 23,
   "metadata": {},
   "outputs": [
    {
     "name": "stdout",
     "output_type": "stream",
     "text": [
      "Enter a sentence: My name is Pramikha\n",
      "The number of words in the sentence is: 4\n"
     ]
    }
   ],
   "source": [
    "# Get the input sentence from the user\n",
    "sentence = input(\"Enter a sentence: \")\n",
    "\n",
    "# Initialize a variable to count words\n",
    "word_count = 0\n",
    "\n",
    "# Split the sentence into words using spaces as separators\n",
    "words = sentence.split()\n",
    "\n",
    "# Use a for loop to count the words\n",
    "for word in words:\n",
    "    word_count += 1\n",
    "\n",
    "# Print the word count\n",
    "print(\"The number of words in the sentence is:\", word_count)\n"
   ]
  },
  {
   "cell_type": "markdown",
   "metadata": {},
   "source": [
    "20. Write a Python program to find the sum of all odd numbers from 1 to 50 using a for loop.\n"
   ]
  },
  {
   "cell_type": "code",
   "execution_count": 24,
   "metadata": {},
   "outputs": [
    {
     "name": "stdout",
     "output_type": "stream",
     "text": [
      "The sum of odd numbers from 1 to 50 is: 625\n"
     ]
    }
   ],
   "source": [
    "# Initialize a variable to store the sum\n",
    "odd_sum = 0\n",
    "\n",
    "# Use a for loop to iterate through numbers from 1 to 50\n",
    "for number in range(1, 51):\n",
    "    if number % 2 != 0:  # Check if the number is odd\n",
    "        odd_sum += number\n",
    "\n",
    "# Print the sum of odd numbers\n",
    "print(\"The sum of odd numbers from 1 to 50 is:\", odd_sum)\n"
   ]
  },
  {
   "cell_type": "markdown",
   "metadata": {},
   "source": [
    "21. Write a Python program that checks if a given year is a leap year using a for loop.\n"
   ]
  },
  {
   "cell_type": "code",
   "execution_count": 25,
   "metadata": {},
   "outputs": [
    {
     "name": "stdout",
     "output_type": "stream",
     "text": [
      "Enter a year: 2032\n",
      "2032 is a leap year.\n"
     ]
    }
   ],
   "source": [
    "# Get the input year from the user\n",
    "year = int(input(\"Enter a year: \"))\n",
    "\n",
    "# Check if it's a leap year\n",
    "if (year % 4 == 0 and year % 100 != 0) or (year % 400 == 0):\n",
    "    print(f\"{year} is a leap year.\")\n",
    "else:\n",
    "    print(f\"{year} is not a leap year.\")\n"
   ]
  },
  {
   "cell_type": "markdown",
   "metadata": {},
   "source": [
    "22. Create a Python program that calculates the square root of a number using a for loop.\n"
   ]
  },
  {
   "cell_type": "code",
   "execution_count": 26,
   "metadata": {},
   "outputs": [
    {
     "name": "stdout",
     "output_type": "stream",
     "text": [
      "Enter a number: 81\n",
      "The square root of 81.0 is 9.0\n"
     ]
    }
   ],
   "source": [
    "import math\n",
    "\n",
    "# Get the input number from the user\n",
    "number = float(input(\"Enter a number: \"))\n",
    "\n",
    "# Calculate the square root\n",
    "if number >= 0:\n",
    "    square_root = math.sqrt(number)\n",
    "    print(f\"The square root of {number} is {square_root}\")\n",
    "else:\n",
    "    print(\"Cannot calculate the square root of a negative number.\")\n"
   ]
  },
  {
   "cell_type": "markdown",
   "metadata": {},
   "source": [
    "23. Write a Python program to find the LCM (Least Common Multiple) of two numbers using a for loop.\n"
   ]
  },
  {
   "cell_type": "code",
   "execution_count": 27,
   "metadata": {},
   "outputs": [
    {
     "name": "stdout",
     "output_type": "stream",
     "text": [
      "LCM of 20 and 25 is: 100.0\n"
     ]
    }
   ],
   "source": [
    "x = 20\n",
    "y = 25\n",
    "if x > y:\n",
    "  x, y = y, x\n",
    "for i in range(1,x+1):\n",
    "  if x%i == 0 and y%i == 0:\n",
    "    gcd = i\n",
    "\n",
    "lcm = (x*y)/gcd\n",
    "\n",
    "print(\"LCM of\", x, \"and\", y, \"is:\", lcm)"
   ]
  },
  {
   "cell_type": "markdown",
   "metadata": {},
   "source": [
    "# IF ELSE:"
   ]
  },
  {
   "cell_type": "markdown",
   "metadata": {},
   "source": [
    "Write a Python program to check if a number is positive, negative, or zero using an if-else statement.\n"
   ]
  },
  {
   "cell_type": "code",
   "execution_count": 1,
   "metadata": {},
   "outputs": [
    {
     "name": "stdout",
     "output_type": "stream",
     "text": [
      "Enter a number: -65\n",
      "The number is negative.\n"
     ]
    }
   ],
   "source": [
    "# Get the input number from the user\n",
    "num = float(input(\"Enter a number: \"))\n",
    "\n",
    "# Check if the number is positive, negative, or zero\n",
    "if num > 0:\n",
    "    print(\"The number is positive.\")\n",
    "elif num < 0:\n",
    "    print(\"The number is negative.\")\n",
    "else:\n",
    "    print(\"The number is zero.\")\n"
   ]
  },
  {
   "cell_type": "markdown",
   "metadata": {},
   "source": [
    "2.Create a Python program that checks if a given number is even or odd using an if-else statement.\n"
   ]
  },
  {
   "cell_type": "code",
   "execution_count": 2,
   "metadata": {},
   "outputs": [
    {
     "name": "stdout",
     "output_type": "stream",
     "text": [
      "Enter a number: 13\n",
      "13 is odd.\n"
     ]
    }
   ],
   "source": [
    "# Get the input number from the user\n",
    "num = int(input(\"Enter a number: \"))\n",
    "\n",
    "# Check if the number is even or odd\n",
    "if num % 2 == 0:\n",
    "    print(f\"{num} is even.\")\n",
    "else:\n",
    "    print(f\"{num} is odd.\")\n"
   ]
  },
  {
   "cell_type": "markdown",
   "metadata": {},
   "source": [
    "3.How can you use nested if-else statements in Python, and provide an example?\n",
    "\n"
   ]
  },
  {
   "cell_type": "code",
   "execution_count": 3,
   "metadata": {},
   "outputs": [
    {
     "name": "stdout",
     "output_type": "stream",
     "text": [
      "The number is positive and even.\n"
     ]
    }
   ],
   "source": [
    "#Nested if-else statements in Python allow you to test multiple conditions \n",
    "#and execute different code blocks based on the results of these tests.\n",
    "\n",
    "num = 10\n",
    "\n",
    "if num > 0:\n",
    "    if num % 2 == 0:\n",
    "        print(\"The number is positive and even.\")\n",
    "    else:\n",
    "        print(\"The number is positive but odd.\")\n",
    "else:\n",
    "    print(\"The number is not positive.\")"
   ]
  },
  {
   "cell_type": "markdown",
   "metadata": {},
   "source": [
    "Write a Python program to determine the largest of three numbers using if-else."
   ]
  },
  {
   "cell_type": "code",
   "execution_count": 4,
   "metadata": {},
   "outputs": [
    {
     "name": "stdout",
     "output_type": "stream",
     "text": [
      "Enter the first number: 10\n",
      "Enter the second number: 23\n",
      "Enter the third number: 55\n",
      "The largest number among 10.0, 23.0, and 55.0 is 55.0.\n"
     ]
    }
   ],
   "source": [
    "# Get three numbers from the user\n",
    "num1 = float(input(\"Enter the first number: \"))\n",
    "num2 = float(input(\"Enter the second number: \"))\n",
    "num3 = float(input(\"Enter the third number: \"))\n",
    "\n",
    "# Initialize a variable to store the largest number\n",
    "largest = num1\n",
    "\n",
    "# Compare num2 and num3 to find the largest number\n",
    "if num2 > largest:\n",
    "    largest = num2\n",
    "\n",
    "if num3 > largest:\n",
    "    largest = num3\n",
    "\n",
    "# Print the largest number\n",
    "print(f\"The largest number among {num1}, {num2}, and {num3} is {largest}.\")\n"
   ]
  },
  {
   "cell_type": "markdown",
   "metadata": {},
   "source": [
    "5.Write a Python program that calculates the absolute value of a number using if-else."
   ]
  },
  {
   "cell_type": "code",
   "execution_count": 6,
   "metadata": {},
   "outputs": [
    {
     "name": "stdout",
     "output_type": "stream",
     "text": [
      "Enter a number: -69\n",
      "The absolute value of -69.0 is 69.0.\n"
     ]
    }
   ],
   "source": [
    "# Get the input number from the user\n",
    "num = float(input(\"Enter a number: \"))\n",
    "\n",
    "# Calculate the absolute value using an if-else statement\n",
    "if num < 0:\n",
    "    absolute_value = -num\n",
    "else:\n",
    "    absolute_value = num\n",
    "\n",
    "# Print the absolute value\n",
    "print(f\"The absolute value of {num} is {absolute_value}.\")\n"
   ]
  },
  {
   "cell_type": "markdown",
   "metadata": {},
   "source": [
    "6.Create a Python program that checks if a given character is a vowel or consonant using if-else.\n"
   ]
  },
  {
   "cell_type": "code",
   "execution_count": 7,
   "metadata": {},
   "outputs": [
    {
     "name": "stdout",
     "output_type": "stream",
     "text": [
      "Enter a character: u\n",
      "u is a vowel.\n"
     ]
    }
   ],
   "source": [
    "# Get the input character from the user (assumes a single character input)\n",
    "char = input(\"Enter a character: \")\n",
    "\n",
    "# Check if the input is a single character\n",
    "if len(char) == 1:\n",
    "    # Convert the character to lowercase to handle both uppercase and lowercase characters\n",
    "    char = char.lower()\n",
    "\n",
    "    # Check if the character is a vowel or a consonant using if-else statements\n",
    "    if char == 'a' or char == 'e' or char == 'i' or char == 'o' or char == 'u':\n",
    "        print(f\"{char} is a vowel.\")\n",
    "    else:\n",
    "        print(f\"{char} is a consonant.\")\n",
    "else:\n",
    "    print(\"Please enter a single character.\")\n"
   ]
  },
  {
   "cell_type": "markdown",
   "metadata": {},
   "source": [
    "Write a Python program to determine if a user is eligible to vote based on their age using if-else."
   ]
  },
  {
   "cell_type": "code",
   "execution_count": 9,
   "metadata": {},
   "outputs": [
    {
     "name": "stdout",
     "output_type": "stream",
     "text": [
      "Enter your age: 21\n",
      "You are eligible to vote. Go ahead and cast your vote!\n"
     ]
    }
   ],
   "source": [
    "# Get the user's age as input\n",
    "age = int(input(\"Enter your age: \"))\n",
    "\n",
    "# Check if the user is eligible to vote using an if-else statement\n",
    "if age >= 18:\n",
    "    print(\"You are eligible to vote. Go ahead and cast your vote!\")\n",
    "else:\n",
    "    print(\"You are not eligible to vote. You must be at least 18 years old to vote.\")\n"
   ]
  },
  {
   "cell_type": "markdown",
   "metadata": {},
   "source": [
    "8. Create a Python program that calculates the discount amount based on the purchase amount using if-else.\n"
   ]
  },
  {
   "cell_type": "code",
   "execution_count": 11,
   "metadata": {},
   "outputs": [
    {
     "name": "stdout",
     "output_type": "stream",
     "text": [
      "Enter the purchase amount: 2000\n",
      "You received a 10% discount of $200.00.\n",
      "Your final amount to pay is: $1800.00\n"
     ]
    }
   ],
   "source": [
    "# Get the purchase amount from the user\n",
    "amount = float(input(\"Enter the purchase amount: \"))\n",
    "\n",
    "# Calculate the discount\n",
    "if amount >= 1000:\n",
    "    discount = 0.10  # 10% discount for purchases of $1000 or more\n",
    "elif amount >= 500:\n",
    "    discount = 0.05  # 5% discount for purchases between $500 and $999.99\n",
    "else:\n",
    "    discount = 0\n",
    "\n",
    "# Calculate the discounted amount\n",
    "discounted_amount = amount - (amount * discount)\n",
    "\n",
    "# Print the discount amount and the final amount to pay\n",
    "if discount > 0:\n",
    "    print(f\"You received a {discount * 100:.0f}% discount of ${amount * discount:.2f}.\")\n",
    "print(f\"Your final amount to pay is: ${discounted_amount:.2f}\")\n"
   ]
  },
  {
   "cell_type": "markdown",
   "metadata": {},
   "source": [
    "9.Write a Python program to check if a number is within a specified range using if-else.\n"
   ]
  },
  {
   "cell_type": "code",
   "execution_count": 12,
   "metadata": {},
   "outputs": [
    {
     "name": "stdout",
     "output_type": "stream",
     "text": [
      "Enter a number: 35\n",
      "35.0 is within the range [10, 50].\n"
     ]
    }
   ],
   "source": [
    "# Define the range\n",
    "lower_limit = 10\n",
    "upper_limit = 50\n",
    "\n",
    "# Get the input number from the user\n",
    "num = float(input(\"Enter a number: \"))\n",
    "\n",
    "# Check if the number is within the specified range using if-else statements\n",
    "if num >= lower_limit and num <= upper_limit:\n",
    "    print(f\"{num} is within the range [{lower_limit}, {upper_limit}].\")\n",
    "else:\n",
    "    print(f\"{num} is not within the range [{lower_limit}, {upper_limit}].\")\n"
   ]
  },
  {
   "cell_type": "markdown",
   "metadata": {},
   "source": [
    "10.Create a Python program that determines the grade of a student based on their score using if-else."
   ]
  },
  {
   "cell_type": "code",
   "execution_count": 13,
   "metadata": {},
   "outputs": [
    {
     "name": "stdout",
     "output_type": "stream",
     "text": [
      "Enter the student's score: 66\n",
      "The student's grade is: D\n"
     ]
    }
   ],
   "source": [
    "# Get the student's score as input\n",
    "score = float(input(\"Enter the student's score: \"))\n",
    "\n",
    "# Determine the grade based on the score using if-else statements\n",
    "if score >= 90:\n",
    "    grade = 'A'\n",
    "elif score >= 80:\n",
    "    grade = 'B'\n",
    "elif score >= 70:\n",
    "    grade = 'C'\n",
    "elif score >= 60:\n",
    "    grade = 'D'\n",
    "else:\n",
    "    grade = 'F'\n",
    "\n",
    "# Print the determined grade\n",
    "print(f\"The student's grade is: {grade}\")\n"
   ]
  },
  {
   "cell_type": "markdown",
   "metadata": {},
   "source": [
    "11.Write a Python program to check if a string is empty or not using if-else."
   ]
  },
  {
   "cell_type": "code",
   "execution_count": 15,
   "metadata": {},
   "outputs": [
    {
     "name": "stdout",
     "output_type": "stream",
     "text": [
      "Enter a string:   pra  mi kha\n",
      "The string is not empty.\n"
     ]
    }
   ],
   "source": [
    "# Get a string input from the user\n",
    "user_input = input(\"Enter a string: \")\n",
    "\n",
    "# Check if the string is empty using if-else statements\n",
    "if not user_input:  # An empty string evaluates to False\n",
    "    print(\"The string is empty.\")\n",
    "else:\n",
    "    print(\"The string is not empty.\")\n"
   ]
  },
  {
   "cell_type": "markdown",
   "metadata": {},
   "source": [
    "12.Create a Python program that identifies the type of a triangle (e.g., equilateral, isosceles, or scalene) based on input values using if-else.\n"
   ]
  },
  {
   "cell_type": "code",
   "execution_count": 16,
   "metadata": {},
   "outputs": [
    {
     "name": "stdout",
     "output_type": "stream",
     "text": [
      "Enter the length of the first side: 3\n",
      "Enter the length of the second side: 6\n",
      "Enter the length of the third side: 3\n",
      "The triangle is a isosceles triangle.\n"
     ]
    }
   ],
   "source": [
    "# Get the lengths of the three sides of the triangle from the user\n",
    "side1 = float(input(\"Enter the length of the first side: \"))\n",
    "side2 = float(input(\"Enter the length of the second side: \"))\n",
    "side3 = float(input(\"Enter the length of the third side: \"))\n",
    "\n",
    "# Check the type of the triangle using if-else statements\n",
    "if side1 == side2 == side3:\n",
    "    triangle_type = \"equilateral\"\n",
    "elif side1 == side2 or side1 == side3 or side2 == side3:\n",
    "    triangle_type = \"isosceles\"\n",
    "else:\n",
    "    triangle_type = \"scalene\"\n",
    "\n",
    "# Print the type of the triangle\n",
    "print(f\"The triangle is a {triangle_type} triangle.\")\n"
   ]
  },
  {
   "cell_type": "markdown",
   "metadata": {},
   "source": [
    "13.Write a Python program to determine the day of the week based on a user-provided number using if-else."
   ]
  },
  {
   "cell_type": "code",
   "execution_count": 18,
   "metadata": {},
   "outputs": [
    {
     "name": "stdout",
     "output_type": "stream",
     "text": [
      "Enter a number (1-7) to represent the day of the week: 4\n",
      "The day corresponding to number 4 is Thursday.\n"
     ]
    }
   ],
   "source": [
    "# Get a number from the user (1-7) to represent the day of the week\n",
    "day_number = int(input(\"Enter a number (1-7) to represent the day of the week: \"))\n",
    "\n",
    "# Determine the day of the week using if-else statements\n",
    "if day_number == 1:\n",
    "    day_name = \"Monday\"\n",
    "elif day_number == 2:\n",
    "    day_name = \"Tuesday\"\n",
    "elif day_number == 3:\n",
    "    day_name = \"Wednesday\"\n",
    "elif day_number == 4:\n",
    "    day_name = \"Thursday\"\n",
    "elif day_number == 5:\n",
    "    day_name = \"Friday\"\n",
    "elif day_number == 6:\n",
    "    day_name = \"Saturday\"\n",
    "elif day_number == 7:\n",
    "    day_name = \"Sunday\"\n",
    "else:\n",
    "    day_name = \"Invalid day number\"\n",
    "\n",
    "# Print the determined day of the week\n",
    "print(f\"The day corresponding to number {day_number} is {day_name}.\")\n"
   ]
  },
  {
   "cell_type": "markdown",
   "metadata": {},
   "source": [
    "14.Create a Python program that checks if a given year is a leap year using both if-else and a function"
   ]
  },
  {
   "cell_type": "code",
   "execution_count": 20,
   "metadata": {},
   "outputs": [
    {
     "name": "stdout",
     "output_type": "stream",
     "text": [
      "Enter a year: 2023\n",
      "2023 is not a leap year.\n"
     ]
    }
   ],
   "source": [
    "# Get the input year from the user\n",
    "year = int(input(\"Enter a year: \"))\n",
    "\n",
    "# Check if the year is a leap year using if-else statements\n",
    "if (year % 4 == 0 and year % 100 != 0) or (year % 400 == 0):\n",
    "    print(f\"{year} is a leap year.\")\n",
    "else:\n",
    "    print(f\"{year} is not a leap year.\")\n"
   ]
  },
  {
   "cell_type": "markdown",
   "metadata": {},
   "source": [
    "15.How do you use the \"assert\" statement in Python to add debugging checks within if-else blocks?"
   ]
  },
  {
   "cell_type": "code",
   "execution_count": 21,
   "metadata": {},
   "outputs": [
    {
     "name": "stdout",
     "output_type": "stream",
     "text": [
      "x is less than 10.\n"
     ]
    }
   ],
   "source": [
    "x = 5\n",
    "\n",
    "# Adding an assertion within an if-else block\n",
    "if x < 10:\n",
    "    assert x >= 0, \"x should be non-negative\"\n",
    "    print(\"x is less than 10.\")\n",
    "else:\n",
    "    print(\"x is greater than or equal to 10.\")\n",
    "\n",
    "# Adding a standalone assertion\n",
    "assert x > 0, \"x should be positive\"\n"
   ]
  },
  {
   "cell_type": "markdown",
   "metadata": {},
   "source": [
    "16.Create a Python program that determines the eligibility of a person for a senior citizen discount based on age using if-else.\n"
   ]
  },
  {
   "cell_type": "code",
   "execution_count": 23,
   "metadata": {},
   "outputs": [
    {
     "name": "stdout",
     "output_type": "stream",
     "text": [
      "Enter your age: 77\n",
      "Congratulations! You are eligible for a senior citizen discount.\n"
     ]
    }
   ],
   "source": [
    "# Get the person's age as input\n",
    "age = int(input(\"Enter your age: \"))\n",
    "\n",
    "# Check if the person is eligible for a senior citizen discount using if-else statements\n",
    "if age >= 60:\n",
    "    print(\"Congratulations! You are eligible for a senior citizen discount.\")\n",
    "else:\n",
    "    print(\"Sorry, you are not eligible for a senior citizen discount.\")\n"
   ]
  },
  {
   "cell_type": "markdown",
   "metadata": {},
   "source": [
    "17.Write a Python program to categorize a given character as uppercase, lowercase, or neither using if-else"
   ]
  },
  {
   "cell_type": "code",
   "execution_count": 26,
   "metadata": {},
   "outputs": [
    {
     "name": "stdout",
     "output_type": "stream",
     "text": [
      "Enter a character: p\n",
      "p is a lowercase letter.\n"
     ]
    }
   ],
   "source": [
    "# Get a character as input\n",
    "char = input(\"Enter a character: \")\n",
    "\n",
    "# Check if the character is uppercase, lowercase, or neither using if-else statements\n",
    "if char.isalpha():\n",
    "    if char.isupper():\n",
    "        print(f\"{char} is an uppercase letter.\")\n",
    "    elif char.islower():\n",
    "        print(f\"{char} is a lowercase letter.\")\n",
    "else:\n",
    "    print(f\"{char} is neither uppercase nor lowercase.\")\n"
   ]
  },
  {
   "cell_type": "markdown",
   "metadata": {},
   "source": [
    "18.Write a Python program to determine the roots of a quadratic equation using if-else.\n"
   ]
  },
  {
   "cell_type": "code",
   "execution_count": 28,
   "metadata": {},
   "outputs": [
    {
     "name": "stdout",
     "output_type": "stream",
     "text": [
      "Enter the coefficient a: 23\n",
      "Enter the coefficient b: 24\n",
      "Enter the coefficient c: 25\n",
      "The roots are complex: -0.5217391304347826 + 0.9026321518272475i and -0.5217391304347826 - 0.9026321518272475i\n"
     ]
    }
   ],
   "source": [
    "import math\n",
    "\n",
    "# Get the coefficients a, b, and c from the user\n",
    "a = float(input(\"Enter the coefficient a: \"))\n",
    "b = float(input(\"Enter the coefficient b: \"))\n",
    "c = float(input(\"Enter the coefficient c: \"))\n",
    "\n",
    "# Calculate the discriminant\n",
    "discriminant = b**2 - 4 * a * c\n",
    "\n",
    "# Check the type of roots using if-else statements\n",
    "if discriminant > 0:\n",
    "    # Two real and distinct roots\n",
    "    root1 = (-b + math.sqrt(discriminant)) / (2 * a)\n",
    "    root2 = (-b - math.sqrt(discriminant)) / (2 * a)\n",
    "    print(f\"The roots are real and distinct: {root1} and {root2}\")\n",
    "elif discriminant == 0:\n",
    "    # One real root\n",
    "    root = -b / (2 * a)\n",
    "    print(f\"The root is real and equal: {root}\")\n",
    "else:\n",
    "    # Complex roots\n",
    "    real_part = -b / (2 * a)\n",
    "    imaginary_part = math.sqrt(abs(discriminant)) / (2 * a)\n",
    "    print(f\"The roots are complex: {real_part} + {imaginary_part}i and {real_part} - {imaginary_part}i\")\n"
   ]
  },
  {
   "cell_type": "markdown",
   "metadata": {},
   "source": [
    "19.Create a Python program that checks if a given year is a century year or not using if-else."
   ]
  },
  {
   "cell_type": "code",
   "execution_count": 29,
   "metadata": {},
   "outputs": [
    {
     "name": "stdout",
     "output_type": "stream",
     "text": [
      "Enter a year: 2024\n",
      "2024 is not a century year.\n"
     ]
    }
   ],
   "source": [
    "# Get the year as input\n",
    "year = int(input(\"Enter a year: \"))\n",
    "\n",
    "# Check if the year is a century year using if-else statements\n",
    "if year % 100 == 0:\n",
    "    print(f\"{year} is a century year.\")\n",
    "else:\n",
    "    print(f\"{year} is not a century year.\")\n"
   ]
  },
  {
   "cell_type": "markdown",
   "metadata": {},
   "source": [
    "20.Write a Python program to determine if a given number is a perfect square using if-else."
   ]
  },
  {
   "cell_type": "code",
   "execution_count": 30,
   "metadata": {},
   "outputs": [
    {
     "name": "stdout",
     "output_type": "stream",
     "text": [
      "Enter a number: 25\n",
      "25 is a perfect square, and the square root is 5.\n"
     ]
    }
   ],
   "source": [
    "# Get the number from the user\n",
    "number = int(input(\"Enter a number: \"))\n",
    "\n",
    "# Check if the number is a perfect square using if-else statements\n",
    "if number < 0:\n",
    "    print(f\"{number} is not a perfect square (negative numbers can't be perfect squares).\")\n",
    "else:\n",
    "    # Calculate the square root of the number\n",
    "    square_root = int(number ** 0.5)\n",
    "    \n",
    "    if square_root * square_root == number:\n",
    "        print(f\"{number} is a perfect square, and the square root is {square_root}.\")\n",
    "    else:\n",
    "        print(f\"{number} is not a perfect square.\")\n"
   ]
  },
  {
   "cell_type": "markdown",
   "metadata": {},
   "source": [
    "21.Explain the purpose of the \"continue\" and \"break\" statements within if-else loops."
   ]
  },
  {
   "cell_type": "code",
   "execution_count": 31,
   "metadata": {},
   "outputs": [
    {
     "name": "stdout",
     "output_type": "stream",
     "text": [
      "1\n",
      "2\n",
      "4\n",
      "5\n"
     ]
    }
   ],
   "source": [
    "\"\"\"The \"continue\" Statement:\n",
    "\n",
    "The \"continue\" statement is used to skip the rest of the current iteration of a loop and move to the next iteration.\n",
    "It is typically used when a specific condition is met, and you want to bypass the current iteration but \n",
    "continue with the next one.\n",
    "It's often used within \"for\" and \"while\" loops to skip certain elements or items that meet a certain condition.\"\"\"\n",
    "\n",
    "for i in range(1, 6):\n",
    "    if i == 3:\n",
    "        continue  # Skip iteration when i is 3\n",
    "    print(i)\n"
   ]
  },
  {
   "cell_type": "code",
   "execution_count": 32,
   "metadata": {},
   "outputs": [
    {
     "name": "stdout",
     "output_type": "stream",
     "text": [
      "1\n",
      "2\n"
     ]
    }
   ],
   "source": [
    "\"\"\"The \"break\" Statement:\n",
    "\n",
    "The \"break\" statement is used to exit the current loop prematurely when a specific condition is met, \n",
    "without waiting for the loop to complete all its iterations.\n",
    "It is often used when you want to terminate the loop when a certain condition is satisfied, \n",
    "allowing you to exit the loop early.\"\"\"\n",
    "\n",
    "for i in range(1, 6):\n",
    "    if i == 3:\n",
    "        break  # Exit the loop when i is 3\n",
    "    print(i)\n",
    "\n"
   ]
  },
  {
   "cell_type": "markdown",
   "metadata": {},
   "source": [
    "22.Create a Python program that calculates the BMI (Body Mass Index) of a person based on their weight and height using if-else."
   ]
  },
  {
   "cell_type": "code",
   "execution_count": 34,
   "metadata": {},
   "outputs": [
    {
     "name": "stdout",
     "output_type": "stream",
     "text": [
      "Enter your weight in kilograms: 64\n",
      "Enter your height in meters: 1.57\n",
      "Your BMI is: 25.96\n",
      "You are categorized as: Overweight\n"
     ]
    }
   ],
   "source": [
    "# Get the person's weight in kilograms and height in meters\n",
    "weight = float(input(\"Enter your weight in kilograms: \"))\n",
    "height = float(input(\"Enter your height in meters: \"))\n",
    "\n",
    "# Calculate the BMI\n",
    "bmi = weight / (height ** 2)\n",
    "\n",
    "# Determine the BMI category using if-else statements\n",
    "if bmi < 18.5:\n",
    "    category = \"Underweight\"\n",
    "elif 18.5 <= bmi < 24.9:\n",
    "    category = \"Normal Weight\"\n",
    "elif 25 <= bmi < 29.9:\n",
    "    category = \"Overweight\"\n",
    "else:\n",
    "    category = \"Obese\"\n",
    "\n",
    "# Print the BMI and category\n",
    "print(f\"Your BMI is: {bmi:.2f}\")\n",
    "print(f\"You are categorized as: {category}\")\n"
   ]
  },
  {
   "cell_type": "markdown",
   "metadata": {},
   "source": [
    "23.How can you use the \"filter()\" function with if-else statements to filter elements from a list?\n"
   ]
  },
  {
   "cell_type": "code",
   "execution_count": 35,
   "metadata": {},
   "outputs": [
    {
     "name": "stdout",
     "output_type": "stream",
     "text": [
      "Even numbers: [2, 4, 6, 8, 10]\n"
     ]
    }
   ],
   "source": [
    "# Define a filtering function using if-else statements\n",
    "def is_even(num):\n",
    "    if num % 2 == 0:\n",
    "        return True\n",
    "    else:\n",
    "        return False\n",
    "\n",
    "# Create a list of numbers\n",
    "numbers = [1, 2, 3, 4, 5, 6, 7, 8, 9, 10]\n",
    "\n",
    "# Use the filter() function to filter even numbers from the list\n",
    "even_numbers = list(filter(is_even, numbers))\n",
    "\n",
    "# Print the filtered result\n",
    "print(\"Even numbers:\", even_numbers)\n"
   ]
  },
  {
   "cell_type": "markdown",
   "metadata": {},
   "source": [
    "24.Write a Python program to determine if a given number is prime or not using if-else."
   ]
  },
  {
   "cell_type": "code",
   "execution_count": 36,
   "metadata": {},
   "outputs": [
    {
     "name": "stdout",
     "output_type": "stream",
     "text": [
      "Enter a number: 37\n",
      "37 is a prime number.\n"
     ]
    }
   ],
   "source": [
    "# Get the number from the user\n",
    "num = int(input(\"Enter a number: \"))\n",
    "\n",
    "# Check if the number is prime using if-else statements\n",
    "if num > 1:\n",
    "    for i in range(2, int(num**0.5) + 1):\n",
    "        if num % i == 0:\n",
    "            print(f\"{num} is not a prime number.\")\n",
    "            break\n",
    "    else:\n",
    "        print(f\"{num} is a prime number.\")\n",
    "else:\n",
    "    print(f\"{num} is not a prime number.\")\n"
   ]
  },
  {
   "cell_type": "markdown",
   "metadata": {},
   "source": [
    "# Map :-"
   ]
  },
  {
   "cell_type": "code",
   "execution_count": 37,
   "metadata": {},
   "outputs": [
    {
     "name": "stdout",
     "output_type": "stream",
     "text": [
      "[1, 4, 9, 16, 25]\n"
     ]
    }
   ],
   "source": [
    "'''The map() function in Python is used to apply a specified function to each element of an iterable (e.g., a list) and returns a new iterable (a map object) containing the results of applying the function to each element. The purpose of the map() function is to transform the elements of an iterable without explicitly writing a loop.\n",
    "\n",
    "Here's the basic syntax of the map() function:\n",
    "function: The function you want to apply to each element of the iterable.\n",
    "iterable: The iterable whose elements you want to process.\n",
    "'''\n",
    "\n",
    "#map(function, iterable)\n",
    "\n",
    "# Define a function to square a number\n",
    "def square(x):\n",
    "    return x ** 2\n",
    "\n",
    "# Create a list of numbers\n",
    "numbers = [1, 2, 3, 4, 5]\n",
    "\n",
    "# Use the map() function to square each number in the list\n",
    "squared_numbers = map(square, numbers)\n",
    "\n",
    "# Convert the map object to a list to see the results\n",
    "squared_numbers_list = list(squared_numbers)\n",
    "\n",
    "# Print the squared numbers\n",
    "print(squared_numbers_list)\n"
   ]
  },
  {
   "cell_type": "markdown",
   "metadata": {},
   "source": [
    "2.Write a Python program that uses the `map()` function to square each element of a list of numbers."
   ]
  },
  {
   "cell_type": "code",
   "execution_count": 38,
   "metadata": {},
   "outputs": [
    {
     "name": "stdout",
     "output_type": "stream",
     "text": [
      "Original numbers: [1, 2, 3, 4, 5]\n",
      "Squared numbers: [1, 4, 9, 16, 25]\n"
     ]
    }
   ],
   "source": [
    "# Define a function to square a number\n",
    "def square(x):\n",
    "    return x ** 2\n",
    "\n",
    "# Create a list of numbers\n",
    "numbers = [1, 2, 3, 4, 5]\n",
    "\n",
    "# Use the map() function to square each number in the list\n",
    "squared_numbers = map(square, numbers)\n",
    "\n",
    "# Convert the map object to a list to see the squared numbers\n",
    "squared_numbers_list = list(squared_numbers)\n",
    "\n",
    "# Print the squared numbers\n",
    "print(\"Original numbers:\", numbers)\n",
    "print(\"Squared numbers:\", squared_numbers_list)\n"
   ]
  },
  {
   "cell_type": "markdown",
   "metadata": {},
   "source": [
    "3.How does the `map()` function differ from a list comprehension in Python, and when would you choose one over the other"
   ]
  },
  {
   "cell_type": "code",
   "execution_count": 41,
   "metadata": {},
   "outputs": [],
   "source": [
    "'''The map() function and list comprehensions in Python both serve the purpose of applying a function to each element of an iterable (e.g., a list) to create a new iterable. However, they differ in their syntax and use cases.\n",
    "\n",
    "map() Function:\n",
    "\n",
    "map() is a built-in function that applies a given function to each item in an iterable (e.g., a list) and returns a map object.\n",
    "It is designed for applying functions element-wise to an iterable.\n",
    "map() returns an iterator, which can be converted into a list or another iterable type.\n",
    "You can apply more complex functions with map(), including functions that take multiple arguments.\n",
    "It is typically used when you have an existing function and want to apply it to an iterable.\n",
    "Example using map():\n",
    "'''\n",
    "\n",
    "numbers = [1, 2, 3, 4, 5]\n",
    "squared_numbers = map(lambda x: x ** 2, numbers)\n",
    "\n"
   ]
  },
  {
   "cell_type": "markdown",
   "metadata": {},
   "source": [
    "Create a Python program that uses the `map()` function to convert a list of names to uppercase.\n"
   ]
  },
  {
   "cell_type": "code",
   "execution_count": 42,
   "metadata": {},
   "outputs": [
    {
     "name": "stdout",
     "output_type": "stream",
     "text": [
      "Original names: ['Alice', 'Bob', 'Charlie', 'David', 'Eve']\n",
      "Uppercase names: ['ALICE', 'BOB', 'CHARLIE', 'DAVID', 'EVE']\n"
     ]
    }
   ],
   "source": [
    "# Define a list of names\n",
    "names = [\"Alice\", \"Bob\", \"Charlie\", \"David\", \"Eve\"]\n",
    "\n",
    "# Use the map() function to convert names to uppercase\n",
    "uppercased_names = list(map(str.upper, names))\n",
    "\n",
    "# Print the original and uppercase names\n",
    "print(\"Original names:\", names)\n",
    "print(\"Uppercase names:\", uppercased_names)\n"
   ]
  },
  {
   "cell_type": "markdown",
   "metadata": {},
   "source": [
    "Write a Python program that uses the `map()` function to calculate the length of each word in a list of strings."
   ]
  },
  {
   "cell_type": "code",
   "execution_count": 43,
   "metadata": {},
   "outputs": [
    {
     "name": "stdout",
     "output_type": "stream",
     "text": [
      "Original strings: ['Hello', 'World', 'Python', 'Programming', 'Example']\n",
      "Word lengths: [5, 5, 6, 11, 7]\n"
     ]
    }
   ],
   "source": [
    "# Define a list of strings\n",
    "strings = [\"Hello\", \"World\", \"Python\", \"Programming\", \"Example\"]\n",
    "\n",
    "# Use the map() function to calculate the length of each word\n",
    "word_lengths = list(map(len, strings))\n",
    "\n",
    "# Print the original strings and their lengths\n",
    "print(\"Original strings:\", strings)\n",
    "print(\"Word lengths:\", word_lengths)\n"
   ]
  },
  {
   "cell_type": "markdown",
   "metadata": {},
   "source": [
    "How can you use the `map()` function to apply a custom function to elements of multiple lists simultaneously in Python?"
   ]
  },
  {
   "cell_type": "code",
   "execution_count": 44,
   "metadata": {},
   "outputs": [
    {
     "name": "stdout",
     "output_type": "stream",
     "text": [
      "List 1: [1, 2, 3, 4, 5]\n",
      "List 2: [10, 20, 30, 40, 50]\n",
      "Result: [11, 22, 33, 44, 55]\n"
     ]
    }
   ],
   "source": [
    "# Define custom function to calculate the sum of elements from two lists\n",
    "def add_elements(x, y):\n",
    "    return x + y\n",
    "\n",
    "# Create two lists of numbers\n",
    "list1 = [1, 2, 3, 4, 5]\n",
    "list2 = [10, 20, 30, 40, 50]\n",
    "\n",
    "# Use the map() function to apply the custom function to elements of both lists\n",
    "result = list(map(add_elements, list1, list2))\n",
    "\n",
    "# Print the result\n",
    "print(\"List 1:\", list1)\n",
    "print(\"List 2:\", list2)\n",
    "print(\"Result:\", result)\n"
   ]
  },
  {
   "cell_type": "markdown",
   "metadata": {},
   "source": [
    "Create a Python program that uses `map()` to convert a list of temperatures from Celsius to Fahrenheit"
   ]
  },
  {
   "cell_type": "code",
   "execution_count": 45,
   "metadata": {},
   "outputs": [
    {
     "name": "stdout",
     "output_type": "stream",
     "text": [
      "List 1: [1, 2, 3, 4, 5]\n",
      "List 2: [10, 20, 30, 40, 50]\n",
      "Result: [11, 22, 33, 44, 55]\n"
     ]
    }
   ],
   "source": [
    "# Define custom function to calculate the sum of elements from two lists\n",
    "def add_elements(x, y):\n",
    "    return x + y\n",
    "\n",
    "# Create two lists of numbers\n",
    "list1 = [1, 2, 3, 4, 5]\n",
    "list2 = [10, 20, 30, 40, 50]\n",
    "\n",
    "# Use the map() function to apply the custom function to elements of both lists\n",
    "result = list(map(add_elements, list1, list2))\n",
    "\n",
    "# Print the result\n",
    "print(\"List 1:\", list1)\n",
    "print(\"List 2:\", list2)\n",
    "print(\"Result:\", result)\n"
   ]
  },
  {
   "cell_type": "markdown",
   "metadata": {},
   "source": [
    "Write a Python program that uses the `map()` function to round each element of a list of floating-point numbers to the nearest integer."
   ]
  },
  {
   "cell_type": "code",
   "execution_count": 46,
   "metadata": {},
   "outputs": [
    {
     "name": "stdout",
     "output_type": "stream",
     "text": [
      "Original Float Numbers: [3.14, 2.718, 1.618, 4.236]\n",
      "Rounded Integers: [3, 3, 2, 4]\n"
     ]
    }
   ],
   "source": [
    "# Create a list of floating-point numbers\n",
    "float_numbers = [3.14, 2.718, 1.618, 4.236]\n",
    "\n",
    "# Use the map() function to round each number to the nearest integer\n",
    "rounded_integers = list(map(round, float_numbers))\n",
    "\n",
    "# Print the original floating-point numbers and their rounded integers\n",
    "print(\"Original Float Numbers:\", float_numbers)\n",
    "print(\"Rounded Integers:\", rounded_integers)\n"
   ]
  },
  {
   "cell_type": "markdown",
   "metadata": {},
   "source": [
    "# Reduce :-\n"
   ]
  },
  {
   "cell_type": "markdown",
   "metadata": {},
   "source": [
    "What is the `reduce()` function in Python, and what module should you import to use it? Provide an example of its basic usage."
   ]
  },
  {
   "cell_type": "code",
   "execution_count": 47,
   "metadata": {},
   "outputs": [
    {
     "name": "stdout",
     "output_type": "stream",
     "text": [
      "Result: 120\n"
     ]
    }
   ],
   "source": [
    "'''The reduce() function in Python is used to apply a specified function cumulatively to the items of an iterable (e.g., a list) \n",
    "from left to right. \n",
    "The reduce() function is part of the functools module, so you need to import this module to use it.\n",
    "\n",
    "The basic usage of the reduce() function is to take a binary function (a function that takes two arguments) and \n",
    "apply it to the items of an iterable in a cumulative manner. It starts with the first two elements, then applies \n",
    "the function to the result and the next element, and so on, until all elements have been processed.'''\n",
    "\n",
    "from functools import reduce\n",
    "\n",
    "# Define a binary function to calculate the product of two numbers\n",
    "def multiply(x, y):\n",
    "    return x * y\n",
    "\n",
    "# Create a list of numbers\n",
    "numbers = [1, 2, 3, 4, 5]\n",
    "\n",
    "# Use the reduce() function to calculate the product of all numbers\n",
    "result = reduce(multiply, numbers)\n",
    "\n",
    "# Print the result\n",
    "print(\"Result:\", result)\n"
   ]
  },
  {
   "cell_type": "markdown",
   "metadata": {},
   "source": [
    "Write a Python program that uses the `reduce()` function to find the product of all elements in a list.\n"
   ]
  },
  {
   "cell_type": "code",
   "execution_count": 48,
   "metadata": {},
   "outputs": [
    {
     "name": "stdout",
     "output_type": "stream",
     "text": [
      "Product of all elements: 120\n"
     ]
    }
   ],
   "source": [
    "from functools import reduce\n",
    "\n",
    "# Define a binary function to calculate the product of two numbers\n",
    "def multiply(x, y):\n",
    "    return x * y\n",
    "\n",
    "# Create a list of numbers\n",
    "numbers = [1, 2, 3, 4, 5]\n",
    "\n",
    "# Use the reduce() function to calculate the product of all numbers\n",
    "product = reduce(multiply, numbers)\n",
    "\n",
    "# Print the result\n",
    "print(\"Product of all elements:\", product)\n"
   ]
  },
  {
   "cell_type": "markdown",
   "metadata": {},
   "source": [
    "Create a Python program that uses `reduce()` to find the maximum element in a list of numbers."
   ]
  },
  {
   "cell_type": "code",
   "execution_count": 49,
   "metadata": {},
   "outputs": [
    {
     "name": "stdout",
     "output_type": "stream",
     "text": [
      "Maximum element: 90\n"
     ]
    }
   ],
   "source": [
    "from functools import reduce\n",
    "\n",
    "# Define a binary function to find the maximum of two numbers\n",
    "def find_maximum(x, y):\n",
    "    return x if x > y else y\n",
    "\n",
    "# Create a list of numbers\n",
    "numbers = [23, 45, 12, 67, 3, 90, 56, 34]\n",
    "\n",
    "# Use the reduce() function to find the maximum element in the list\n",
    "maximum = reduce(find_maximum, numbers)\n",
    "\n",
    "# Print the result\n",
    "print(\"Maximum element:\", maximum)\n"
   ]
  },
  {
   "cell_type": "markdown",
   "metadata": {},
   "source": [
    "How can you use the `reduce()` function to concatenate a list of strings into a single string?\n"
   ]
  },
  {
   "cell_type": "code",
   "execution_count": 50,
   "metadata": {},
   "outputs": [
    {
     "name": "stdout",
     "output_type": "stream",
     "text": [
      "Concatenated string: Hello, World!\n"
     ]
    }
   ],
   "source": [
    "from functools import reduce\n",
    "\n",
    "# Define a binary function to concatenate two strings\n",
    "def concatenate_strings(x, y):\n",
    "    return x + y\n",
    "\n",
    "# Create a list of strings\n",
    "strings = [\"Hello\", \", \", \"World\", \"!\"]\n",
    "\n",
    "# Use the reduce() function to concatenate the strings into a single string\n",
    "result = reduce(concatenate_strings, strings)\n",
    "\n",
    "# Print the result\n",
    "print(\"Concatenated string:\", result)\n"
   ]
  },
  {
   "cell_type": "markdown",
   "metadata": {},
   "source": [
    "Write a Python program that calculates the factorial of a number using the `reduce()` function.\n"
   ]
  },
  {
   "cell_type": "code",
   "execution_count": 52,
   "metadata": {},
   "outputs": [
    {
     "name": "stdout",
     "output_type": "stream",
     "text": [
      "Enter a number: 6\n",
      "6! = 720\n"
     ]
    }
   ],
   "source": [
    "from functools import reduce\n",
    "\n",
    "# Define a binary function to calculate the product of two numbers\n",
    "def multiply(x, y):\n",
    "    return x * y\n",
    "\n",
    "# Input: Get the number from the user\n",
    "n = int(input(\"Enter a number: \"))\n",
    "\n",
    "# Create a list of numbers from 1 to n\n",
    "numbers = list(range(1, n + 1))\n",
    "\n",
    "# Use the reduce() function to calculate the factorial\n",
    "factorial = reduce(multiply, numbers, 1)\n",
    "\n",
    "# Print the result\n",
    "print(f\"{n}! =\", factorial)\n"
   ]
  },
  {
   "cell_type": "markdown",
   "metadata": {},
   "source": [
    "Create a Python program that uses `reduce()` to find the GCD (Greatest Common Divisor) of a list of numbers.\n"
   ]
  },
  {
   "cell_type": "code",
   "execution_count": 53,
   "metadata": {},
   "outputs": [
    {
     "name": "stdout",
     "output_type": "stream",
     "text": [
      "GCD of the numbers: 6\n"
     ]
    }
   ],
   "source": [
    "from functools import reduce\n",
    "import math\n",
    "\n",
    "# Define a binary function to calculate the GCD of two numbers\n",
    "def find_gcd(x, y):\n",
    "    return math.gcd(x, y)\n",
    "\n",
    "# Create a list of numbers\n",
    "numbers = [12, 18, 24, 36]\n",
    "\n",
    "# Use the reduce() function to find the GCD of the numbers\n",
    "gcd = reduce(find_gcd, numbers)\n",
    "\n",
    "# Print the result\n",
    "print(\"GCD of the numbers:\", gcd)\n"
   ]
  },
  {
   "cell_type": "markdown",
   "metadata": {},
   "source": [
    "Write a Python program that uses the `reduce()` function to find the sum of the digits of a given number.\n"
   ]
  },
  {
   "cell_type": "code",
   "execution_count": 54,
   "metadata": {},
   "outputs": [
    {
     "name": "stdout",
     "output_type": "stream",
     "text": [
      "Enter a number: 5\n",
      "Sum of the digits: 5\n"
     ]
    }
   ],
   "source": [
    "from functools import reduce\n",
    "\n",
    "# Define a binary function to calculate the sum of two numbers\n",
    "def add(x, y):\n",
    "    return x + y\n",
    "\n",
    "# Input: Get the number from the user\n",
    "number = int(input(\"Enter a number: \"))\n",
    "\n",
    "# Convert the number to a list of its digits\n",
    "digits = list(map(int, str(number)))\n",
    "\n",
    "# Use the reduce() function to calculate the sum of the digits\n",
    "sum_of_digits = reduce(add, digits)\n",
    "\n",
    "# Print the result\n",
    "print(f\"Sum of the digits: {sum_of_digits}\")\n"
   ]
  },
  {
   "cell_type": "markdown",
   "metadata": {},
   "source": [
    "# Filter :-\n"
   ]
  },
  {
   "cell_type": "markdown",
   "metadata": {},
   "source": [
    "Explain the purpose of the `filter()` function in Python and provide an example of \n",
    "how it can be used to filter elements from an iterable."
   ]
  },
  {
   "cell_type": "code",
   "execution_count": 55,
   "metadata": {},
   "outputs": [
    {
     "name": "stdout",
     "output_type": "stream",
     "text": [
      "Original numbers: [1, 2, 3, 4, 5, 6, 7, 8, 9, 10]\n",
      "Even numbers: [2, 4, 6, 8, 10]\n"
     ]
    }
   ],
   "source": [
    "'''The filter() function in Python is used to filter elements from an iterable (e.g., a list) based on a specified condition or a filtering function. It returns a new iterable (a filter object) that contains only the elements for which the condition is True. The purpose of the filter() function is to create a subset of elements that meet a specific criteria, making it useful for data filtering and selection.\n",
    "\n",
    "Here's the basic syntax of the filter() function:\n",
    "\n",
    "filter(function, iterable)\n",
    "\n",
    "function: The filtering function that takes an element as an argument and returns True or False based on a condition.\n",
    "\n",
    "iterable: The iterable from which elements are filtered.'''\n",
    "\n",
    "# Define a filtering function to check if a number is even\n",
    "def is_even(number):\n",
    "    return number % 2 == 0\n",
    "\n",
    "# Create a list of numbers\n",
    "numbers = [1, 2, 3, 4, 5, 6, 7, 8, 9, 10]\n",
    "\n",
    "# Use the filter() function to filter even numbers from the list\n",
    "even_numbers = list(filter(is_even, numbers))\n",
    "\n",
    "# Print the original list and the filtered even numbers\n",
    "print(\"Original numbers:\", numbers)\n",
    "print(\"Even numbers:\", even_numbers)\n"
   ]
  },
  {
   "cell_type": "markdown",
   "metadata": {},
   "source": [
    "Write a Python program that uses the `filter()` function to select even numbers from a list of integers.\n"
   ]
  },
  {
   "cell_type": "code",
   "execution_count": 56,
   "metadata": {},
   "outputs": [
    {
     "name": "stdout",
     "output_type": "stream",
     "text": [
      "Original numbers: [1, 2, 3, 4, 5, 6, 7, 8, 9, 10]\n",
      "Even numbers: [2, 4, 6, 8, 10]\n"
     ]
    }
   ],
   "source": [
    "# Define a filtering function to check if a number is even\n",
    "def is_even(number):\n",
    "    return number % 2 == 0\n",
    "\n",
    "# Create a list of numbers\n",
    "numbers = [1, 2, 3, 4, 5, 6, 7, 8, 9, 10]\n",
    "\n",
    "# Use the filter() function to select even numbers from the list\n",
    "even_numbers = list(filter(is_even, numbers))\n",
    "\n",
    "# Print the original list and the selected even numbers\n",
    "print(\"Original numbers:\", numbers)\n",
    "print(\"Even numbers:\", even_numbers)\n",
    "\n"
   ]
  },
  {
   "cell_type": "markdown",
   "metadata": {},
   "source": [
    "Create a Python program that uses the `filter()` function to select names that start with a specific letter from a list of strings."
   ]
  },
  {
   "cell_type": "code",
   "execution_count": 57,
   "metadata": {},
   "outputs": [
    {
     "name": "stdout",
     "output_type": "stream",
     "text": [
      "Selected names: ['Charlie']\n"
     ]
    }
   ],
   "source": [
    "# Define a filtering function to check if a name starts with a specific letter\n",
    "def starts_with(letter, name):\n",
    "    return name.startswith(letter)\n",
    "\n",
    "# List of names\n",
    "names = [\"Alice\", \"Bob\", \"Charlie\", \"David\", \"Eve\"]\n",
    "\n",
    "# Specific letter to filter by\n",
    "letter = \"C\"\n",
    "\n",
    "# Use filter() to select names that start with the chosen letter\n",
    "selected_names = list(filter(lambda name: starts_with(letter, name), names))\n",
    "\n",
    "# Print the selected names\n",
    "print(\"Selected names:\", selected_names)\n"
   ]
  },
  {
   "cell_type": "markdown",
   "metadata": {},
   "source": [
    "Write a Python program that uses the `filter()` function to select prime numbers from a list of integers."
   ]
  },
  {
   "cell_type": "code",
   "execution_count": 58,
   "metadata": {},
   "outputs": [
    {
     "name": "stdout",
     "output_type": "stream",
     "text": [
      "Original numbers: [1, 2, 3, 4, 5, 6, 7, 8, 9, 10]\n",
      "Prime numbers: [2, 3, 5, 7]\n"
     ]
    }
   ],
   "source": [
    "# Define a function to check if a number is prime\n",
    "def is_prime(number):\n",
    "    if number <= 1:\n",
    "        return False\n",
    "    for i in range(2, int(number**0.5) + 1):\n",
    "        if number % i == 0:\n",
    "            return False\n",
    "    return True\n",
    "\n",
    "# Create a list of numbers\n",
    "numbers = [1, 2, 3, 4, 5, 6, 7, 8, 9, 10]\n",
    "\n",
    "# Use the filter() function to select prime numbers from the list\n",
    "prime_numbers = list(filter(is_prime, numbers))\n",
    "\n",
    "# Print the original list and the selected prime numbers\n",
    "print(\"Original numbers:\", numbers)\n",
    "print(\"Prime numbers:\", prime_numbers)\n"
   ]
  },
  {
   "cell_type": "markdown",
   "metadata": {},
   "source": [
    "How can you use the `filter()` function to remove None values from a list in Python?"
   ]
  },
  {
   "cell_type": "code",
   "execution_count": 59,
   "metadata": {},
   "outputs": [
    {
     "name": "stdout",
     "output_type": "stream",
     "text": [
      "Original list: [1, 2, None, 3, None, 4, 5, None]\n",
      "Filtered list (None values removed): [1, 2, 3, 4, 5]\n"
     ]
    }
   ],
   "source": [
    "# Define a filtering function to remove None values\n",
    "def is_not_none(element):\n",
    "    return element is not None\n",
    "\n",
    "# Create a list with some None values\n",
    "my_list = [1, 2, None, 3, None, 4, 5, None]\n",
    "\n",
    "# Use the filter() function to remove None values\n",
    "filtered_list = list(filter(is_not_none, my_list))\n",
    "\n",
    "# Print the original list and the filtered list\n",
    "print(\"Original list:\", my_list)\n",
    "print(\"Filtered list (None values removed):\", filtered_list)\n"
   ]
  },
  {
   "cell_type": "markdown",
   "metadata": {},
   "source": [
    "Create a Python program that uses `filter()` to select words longer than a certain length from a list of strings."
   ]
  },
  {
   "cell_type": "code",
   "execution_count": 60,
   "metadata": {},
   "outputs": [
    {
     "name": "stdout",
     "output_type": "stream",
     "text": [
      "Original words: ['apple', 'banana', 'cherry', 'date', 'elderberry', 'fig']\n",
      "Words longer than 5 characters: ['banana', 'cherry', 'elderberry']\n"
     ]
    }
   ],
   "source": [
    "# Define a function to check if a word is longer than a given length\n",
    "def is_long(word, min_len):\n",
    "    return len(word) > min_len\n",
    "\n",
    "# List of words\n",
    "words = [\"apple\", \"banana\", \"cherry\", \"date\", \"elderberry\", \"fig\"]\n",
    "\n",
    "# Minimum word length to filter by\n",
    "min_len = 5\n",
    "\n",
    "# Use filter() to select longer words\n",
    "selected = list(filter(lambda word: is_long(word, min_len), words))\n",
    "\n",
    "# Print the selected words\n",
    "print(\"Original words:\", words)\n",
    "print(f\"Words longer than {min_len} characters:\", selected)\n"
   ]
  },
  {
   "cell_type": "markdown",
   "metadata": {},
   "source": [
    "Write a Python program that uses the `filter()` function to select elements greater than a specified threshold from a list of values."
   ]
  },
  {
   "cell_type": "code",
   "execution_count": 61,
   "metadata": {},
   "outputs": [
    {
     "name": "stdout",
     "output_type": "stream",
     "text": [
      "Original values: [10, 20, 30, 40, 50, 60, 70]\n",
      "Values greater than 40: [50, 60, 70]\n"
     ]
    }
   ],
   "source": [
    "# Define a filtering function to check if a value is greater than a threshold\n",
    "def is_gt(value, threshold):\n",
    "    return value > threshold\n",
    "\n",
    "# List of values\n",
    "vals = [10, 20, 30, 40, 50, 60, 70]\n",
    "\n",
    "# Threshold to filter by\n",
    "thresh = 40\n",
    "\n",
    "# Use filter() to select values greater than the threshold\n",
    "selected = list(filter(lambda value: is_gt(value, thresh), vals))\n",
    "\n",
    "# Print the selected values\n",
    "print(\"Original values:\", vals)\n",
    "print(f\"Values greater than {thresh}:\", selected)\n"
   ]
  },
  {
   "cell_type": "markdown",
   "metadata": {},
   "source": [
    "# Recursion:-"
   ]
  },
  {
   "cell_type": "markdown",
   "metadata": {},
   "source": [
    "Explain the concept of recursion in Python. How does it differ from iteration?"
   ]
  },
  {
   "cell_type": "markdown",
   "metadata": {},
   "source": [
    "Recursion in Python:\n",
    "\n",
    "Recursion is a technique where a function calls itself in order to solve a problem. In Python, a recursive function is defined by having a base case and a recursive case. The base case is a condition under which the function returns a specific value or result, usually when the problem has been simplified to its smallest form. The recursive case is where the function calls itself with a modified or smaller version of the problem.\n",
    "Recursion is particularly useful for solving problems that exhibit a recursive structure, such as tree traversal, factorials, and the Fibonacci sequence.\n",
    "It can lead to more elegant and concise solutions for certain problems.\n",
    "Iteration in Python:\n",
    "\n",
    "Iteration is a process of repeating a set of instructions a specified number of times or until a condition is met. This is typically achieved using loops, like for and while loops in Python.\n",
    "Iteration is well-suited for problems where the repetition occurs based on a specific count or until a certain condition is satisfied.\n",
    "It's often used when a problem can be more naturally and efficiently solved through a loop construct.\n",
    "Differences between Recursion and Iteration:\n",
    "\n",
    "Control Flow: Recursion uses a function calling itself to solve a problem, whereas iteration uses loop constructs to repeatedly execute a set of instructions.\n",
    "\n",
    "Base Cases: Recursion requires defining base cases to ensure termination. These base cases are essential to stop the recursive calls when the problem has been simplified enough. In iteration, you use loop control variables or conditions to determine when to exit the loop.\n",
    "\n",
    "Memory and Stack: Recursion uses the function call stack to keep track of function calls, which can lead to a stack overflow if not carefully managed, especially for deep recursion. Iteration typically uses a constant amount of memory.\n",
    "\n",
    "Readability: Recursion can lead to elegant and compact code for problems with recursive structures, but it may be less intuitive for some programmers. Iteration is often more straightforward and may be preferred for simpler problems.\n",
    "\n",
    "Performance: Iteration may be more efficient than recursion for some problems due to reduced overhead from function calls. However, this performance difference is often negligible in practice.\n",
    "\n",
    "In summary, both recursion and iteration have their strengths, and the choice between them depends on the specific problem, programming style, and performance considerations. Some problems are naturally suited for recursion, while others are more straightforward to solve through iteration.\n",
    "\n",
    "\n",
    "\n",
    "\n"
   ]
  },
  {
   "cell_type": "markdown",
   "metadata": {},
   "source": [
    "Write a Python program to calculate the factorial of a number using recursion.\n"
   ]
  },
  {
   "cell_type": "code",
   "execution_count": 63,
   "metadata": {},
   "outputs": [
    {
     "name": "stdout",
     "output_type": "stream",
     "text": [
      "Enter a number: 7\n",
      "7! = 5040\n"
     ]
    }
   ],
   "source": [
    "# Recursive function to calculate the factorial of a number\n",
    "def factorial(n):\n",
    "    if n == 0:\n",
    "        return 1\n",
    "    else:\n",
    "        return n * factorial(n - 1)\n",
    "\n",
    "# Input: Get the number from the user\n",
    "n = int(input(\"Enter a number: \"))\n",
    "\n",
    "# Calculate the factorial using the factorial function\n",
    "result = factorial(n)\n",
    "\n",
    "# Print the result\n",
    "print(f\"{n}! = {result}\")\n"
   ]
  },
  {
   "cell_type": "markdown",
   "metadata": {},
   "source": [
    "Write a recursive Python function to calculate the sum of all elements in a list."
   ]
  },
  {
   "cell_type": "code",
   "execution_count": 64,
   "metadata": {},
   "outputs": [
    {
     "name": "stdout",
     "output_type": "stream",
     "text": [
      "Enter numbers separated by spaces: 4 6 8 \n",
      "Sum of the elements: 18\n"
     ]
    }
   ],
   "source": [
    "# Recursive function to calculate the sum of elements in a list\n",
    "def recursive_sum(nums):\n",
    "    if not nums:\n",
    "        return 0\n",
    "    else:\n",
    "        return nums[0] + recursive_sum(nums[1:])\n",
    "\n",
    "# Input: Get a list of numbers from the user\n",
    "numbers = [int(x) for x in input(\"Enter numbers separated by spaces: \").split()]\n",
    "\n",
    "# Calculate the sum using the recursive_sum function\n",
    "result = recursive_sum(numbers)\n",
    "\n",
    "# Print the result\n",
    "print(\"Sum of the elements:\", result)\n"
   ]
  },
  {
   "cell_type": "markdown",
   "metadata": {},
   "source": [
    "How can you prevent a recursive function from running indefinitely, causing a stack overflow error?"
   ]
  },
  {
   "cell_type": "markdown",
   "metadata": {},
   "source": [
    "'''\n",
    "To prevent a recursive function from running indefinitely and causing a stack overflow error, you should ensure that your recursive function has a well-defined base case and that the recursive call progresses toward the base case. Here are some strategies to prevent infinite recursion and manage the depth of recursion:\n",
    "\n",
    "Define a Clear Base Case: Ensure that your recursive function has a base case that is well-defined and reachable. The base case should specify a condition under which the recursion should stop.\n",
    "\n",
    "Progress Toward the Base Case: Ensure that each recursive call moves closer to the base case. In other words, the function's arguments should be modified so that the problem becomes simpler or smaller with each recursive call.\n",
    "\n",
    "Limit the Depth: You can set a maximum recursion depth using the sys.setrecursionlimit(limit) function from the sys module. However, be cautious when changing the recursion limit, as it may lead to other issues.\n",
    "\n",
    "Tail Recursion: If your programming language supports tail recursion optimization, consider using tail recursion, which can reduce the risk of stack overflow errors. Python does not optimize tail recursion.\n",
    "\n",
    "Iterative Alternatives: In some cases, you can rewrite a recursive function as an iterative one using loops, which typically have less risk of stack overflow errors.\n",
    "\n",
    "Use Helper Functions: Sometimes, you can use a helper function within your recursive function to carry out the recursion, which allows you to control variables and parameters separately and avoid stack overflow errors.\n",
    "\n",
    "Memoization: For problems with overlapping subproblems, consider using memoization (caching intermediate results) to reduce redundant work and decrease the depth of recursion.\n",
    "\n",
    "Infinite Loop Guards: You can implement a mechanism to check for infinite loops. For example, you can keep track of visited states or use a counter to limit the number of recursive calls.'''"
   ]
  },
  {
   "cell_type": "markdown",
   "metadata": {},
   "source": [
    "6. Create a recursive Python function to find the greatest common divisor (GCD) of two numbers using the Euclidean algorithm.\n"
   ]
  },
  {
   "cell_type": "code",
   "execution_count": 67,
   "metadata": {},
   "outputs": [
    {
     "name": "stdout",
     "output_type": "stream",
     "text": [
      "Enter the first number: 13\n",
      "Enter the second number: 17\n",
      "GCD of 13 and 17 is 1\n"
     ]
    }
   ],
   "source": [
    "# Recursive function to calculate the GCD using the Euclidean algorithm\n",
    "def euclidean_gcd(a, b):\n",
    "    if b == 0:\n",
    "        return a\n",
    "    else:\n",
    "        return euclidean_gcd(b, a % b)\n",
    "\n",
    "# Input: Get two numbers from the user\n",
    "num1 = int(input(\"Enter the first number: \"))\n",
    "num2 = int(input(\"Enter the second number: \"))\n",
    "\n",
    "# Calculate the GCD using the euclidean_gcd function\n",
    "gcd = euclidean_gcd(num1, num2)\n",
    "\n",
    "# Print the result\n",
    "print(f\"GCD of {num1} and {num2} is {gcd}\")\n"
   ]
  },
  {
   "cell_type": "markdown",
   "metadata": {},
   "source": [
    "7.Write a recursive Python function to reverse a string."
   ]
  },
  {
   "cell_type": "code",
   "execution_count": 68,
   "metadata": {},
   "outputs": [
    {
     "name": "stdout",
     "output_type": "stream",
     "text": [
      "Enter a string: pramikha\n",
      "Reversed string: ahkimarp\n"
     ]
    }
   ],
   "source": [
    "# Recursive function to reverse a string\n",
    "def reverse_str(s):\n",
    "    if len(s) <= 1:\n",
    "        return s\n",
    "    else:\n",
    "        return s[-1] + reverse_str(s[1:-1]) + s[0]\n",
    "\n",
    "# Input: Get a string from the user\n",
    "user_input = input(\"Enter a string: \")\n",
    "\n",
    "# Calculate the reversed string using the reverse_str function\n",
    "reversed_string = reverse_str(user_input)\n",
    "\n",
    "# Print the reversed string\n",
    "print(\"Reversed string:\", reversed_string)\n"
   ]
  },
  {
   "cell_type": "markdown",
   "metadata": {},
   "source": [
    "8. Create a recursive Python function to calculate the power of a number (x^n)."
   ]
  },
  {
   "cell_type": "code",
   "execution_count": null,
   "metadata": {},
   "outputs": [],
   "source": [
    "# Recursive function to calculate x raised to the power of n\n",
    "def power(x, n):\n",
    "    if n == 0:\n",
    "        return 1\n",
    "    elif n > 0:\n",
    "        if n % 2 == 0:\n",
    "            half_power = power(x, n // 2)\n",
    "            return half_power * half_power\n",
    "        else:\n",
    "            return x * power(x, n - 1)\n",
    "    else:\n",
    "        return 1 / power(x, -n)\n",
    "\n",
    "# Input: Get the base (x) and exponent (n) from the user\n",
    "base = float(input(\"Enter the base (x): \"))\n",
    "exponent = int(input(\"Enter the exponent (n): \"))\n",
    "\n",
    "# Calculate the result using the power function\n",
    "result = power(base, exponent)\n",
    "\n",
    "# Print the result\n",
    "print(f\"{base}^{exponent} = {result}\")\n"
   ]
  },
  {
   "cell_type": "markdown",
   "metadata": {},
   "source": [
    "9.Write a recursive Python function to find all permutations of a given string."
   ]
  },
  {
   "cell_type": "code",
   "execution_count": null,
   "metadata": {},
   "outputs": [],
   "source": [
    "# Recursive function to find all permutations of a string\n",
    "def find_permutations(input_str, current=\"\"):\n",
    "    if not input_str:\n",
    "        permutations_list.append(current)\n",
    "    else:\n",
    "        for i in range(len(input_str)):\n",
    "            remaining_chars = input_str[:i] + input_str[i+1:]\n",
    "            find_permutations(remaining_chars, current + input_str[i])\n",
    "\n",
    "# Input: Get the string from the user\n",
    "user_input = input(\"Enter a string: \")\n",
    "\n",
    "# Initialize a list to store permutations\n",
    "permutations_list = []\n",
    "\n",
    "# Call the recursive function to find permutations\n",
    "find_permutations(user_input)\n",
    "\n",
    "# Print the list of permutations\n",
    "print(\"Permutations:\")\n",
    "for permutation in permutations_list:\n",
    "    print(permutation)\n"
   ]
  },
  {
   "cell_type": "markdown",
   "metadata": {},
   "source": [
    "10.Write a recursive Python function to check if a string is a palindrome."
   ]
  },
  {
   "cell_type": "code",
   "execution_count": null,
   "metadata": {},
   "outputs": [],
   "source": [
    "# Recursive function to check if a string is a palindrome\n",
    "def is_palindrome(input_str):\n",
    "    input_str = input_str.lower()  # Convert to lowercase for case-insensitive comparison\n",
    "    if len(input_str) <= 1:\n",
    "        return True\n",
    "    elif input_str[0] == input_str[-1]:\n",
    "        return is_palindrome(input_str[1:-1])\n",
    "    else:\n",
    "        return False\n",
    "\n",
    "# Input: Get the string from the user\n",
    "string = input(\"Enter a string: \")\n",
    "\n",
    "# Check if the string is a palindrome using the is_palindrome function\n",
    "if is_palindrome(string):\n",
    "    print(f\"{string} is a palindrome.\")\n",
    "else:\n",
    "    print(f\"{string} is not a palindrome.\")\n"
   ]
  },
  {
   "cell_type": "markdown",
   "metadata": {},
   "source": [
    "11.Create a recursive Python function to generate all possible combinations of a list of elements."
   ]
  },
  {
   "cell_type": "code",
   "execution_count": null,
   "metadata": {},
   "outputs": [],
   "source": [
    "# Recursive function to generate all combinations\n",
    "def generate_combinations(input_list, current=[]):\n",
    "    if not input_list:\n",
    "        combinations_list.append(current)\n",
    "    else:\n",
    "        # Include the current element in the combination\n",
    "        generate_combinations(input_list[1:], current + [input_list[0]])\n",
    "        # Exclude the current element from the combination\n",
    "        generate_combinations(input_list[1:], current)\n",
    "\n",
    "# Input: Get a list of elements from the user\n",
    "user_input = input(\"Enter a list of elements separated by spaces: \").split()\n",
    "\n",
    "# Initialize a list to store combinations\n",
    "combinations_list = []\n",
    "\n",
    "# Call the recursive function to generate combinations\n",
    "generate_combinations(user_input)\n",
    "\n",
    "# Print the list of combinations\n",
    "print(\"Combinations:\")\n",
    "for combo in combinations_list:\n",
    "    print(combo)\n"
   ]
  },
  {
   "cell_type": "markdown",
   "metadata": {},
   "source": [
    "# Basics of Functions:"
   ]
  },
  {
   "cell_type": "markdown",
   "metadata": {},
   "source": [
    "1.What is a function in Python, and why is it used?"
   ]
  },
  {
   "cell_type": "markdown",
   "metadata": {},
   "source": [
    "In Python, a function is a named block of reusable code that performs a specific task or a set of tasks.\n",
    "Uses:\n",
    "    Modularization: Functions allow you to break down your code into smaller, more manageable units, making it easier to develop, read, and maintain complex programs.\n",
    "\n",
    "Reusability: Functions enable you to write a block of code once and use it in multiple places within your program, reducing redundancy and saving time.\n",
    "\n",
    "Abstraction: Functions provide a way to hide the internal details of a task and allow you to work with a higher-level interface, making your code more user-friendly.\n",
    "\n",
    "Parameterization: Functions can accept input arguments, making them flexible and adaptable to various scenarios by customizing their behavior.\n",
    "\n",
    "Testing and Debugging: Functions make it easier to test and debug your code, as you can isolate and examine specific functionality independently, identifying and fixing issues more efficiently."
   ]
  },
  {
   "cell_type": "markdown",
   "metadata": {},
   "source": [
    "2.How do you define a function in Python? Provide an example."
   ]
  },
  {
   "cell_type": "markdown",
   "metadata": {},
   "source": [
    "To define a function in Python, you use the def keyword followed by the function name, a set of parentheses\n",
    "that may contain parameters (also known as arguments), a colon, and an indented block of code representing the function's body\n",
    "\n",
    "function_name: This is the name of the function, following Python's naming conventions. It should be a descriptive name that hints at the function's purpose.\n",
    "\n",
    "parameters: These are optional input values that the function can accept. Parameters are enclosed in the parentheses and separated by commas.\n",
    "\n",
    "return: The return statement is optional and specifies the value that the function will return. A function can return a result to the calling code, but it's not mandatory."
   ]
  },
  {
   "cell_type": "code",
   "execution_count": 1,
   "metadata": {},
   "outputs": [
    {
     "name": "stdout",
     "output_type": "stream",
     "text": [
      "The sum is: 8\n"
     ]
    }
   ],
   "source": [
    "def add_numbers(a, b):\n",
    "    result = a + b\n",
    "    return result\n",
    "\n",
    "# Call the function and store the result in a variable\n",
    "sum_result = add_numbers(3, 5)\n",
    "\n",
    "# Print the result\n",
    "print(\"The sum is:\", sum_result)\n"
   ]
  },
  {
   "cell_type": "markdown",
   "metadata": {},
   "source": [
    "4. Write a Python program that defines a function to calculate the sum of two numbers and then calls the function.\n"
   ]
  },
  {
   "cell_type": "code",
   "execution_count": 2,
   "metadata": {},
   "outputs": [
    {
     "name": "stdout",
     "output_type": "stream",
     "text": [
      "Enter the first number: 5\n",
      "Enter the second number: 8\n",
      "The sum of 5.0 and 8.0 is: 13.0\n"
     ]
    }
   ],
   "source": [
    "# Define a function to calculate the sum of two numbers\n",
    "def add_numbers(a, b):\n",
    "    result = a + b\n",
    "    return result\n",
    "\n",
    "# Input: Get two numbers from the user\n",
    "num1 = float(input(\"Enter the first number: \"))\n",
    "num2 = float(input(\"Enter the second number: \"))\n",
    "\n",
    "# Call the function and store the result in a variable\n",
    "sum_result = add_numbers(num1, num2)\n",
    "\n",
    "# Print the result\n",
    "print(f\"The sum of {num1} and {num2} is: {sum_result}\")\n"
   ]
  },
  {
   "cell_type": "markdown",
   "metadata": {},
   "source": [
    "5.What is a function signature, and what information does it typically include?"
   ]
  },
  {
   "cell_type": "markdown",
   "metadata": {},
   "source": [
    "Function Name: The name of the function, which is used to identify and call the function.\n",
    "\n",
    "Return Type: The data type of the value that the function will return when it is called. If a function does not return a value, the return type is often specified as void in languages like C and C++.\n",
    "\n",
    "Parameter List: A list of parameters or arguments that the function accepts. For each parameter, the signature specifies its data type and name. The parameter list may also include information about whether the parameters are required or optional.\n",
    "\n",
    "#def calculate_average(values: list) -> float:\n",
    "\n",
    "In this function signature:\n",
    "\n",
    "Function Name: calculate_average\n",
    "Return Type: float (the function will return a floating-point number)\n",
    "Parameter List: values of type list (a parameter named values of type list is expected as input)\n"
   ]
  },
  {
   "cell_type": "markdown",
   "metadata": {},
   "source": [
    "6.Create a Python function that takes two arguments and returns their product.\n"
   ]
  },
  {
   "cell_type": "code",
   "execution_count": 3,
   "metadata": {},
   "outputs": [
    {
     "name": "stdout",
     "output_type": "stream",
     "text": [
      "The product of 5 and 3 is: 15\n"
     ]
    }
   ],
   "source": [
    "def calculate_product(a, b):\n",
    "    result = a * b\n",
    "    return result\n",
    "\n",
    "# Example usage:\n",
    "num1 = 5\n",
    "num2 = 3\n",
    "product = calculate_product(num1, num2)\n",
    "print(f\"The product of {num1} and {num2} is: {product}\")\n"
   ]
  },
  {
   "cell_type": "markdown",
   "metadata": {},
   "source": [
    "# Function Parameters and Arguments:"
   ]
  },
  {
   "cell_type": "code",
   "execution_count": 4,
   "metadata": {},
   "outputs": [],
   "source": [
    "'''Formal Parameters:\n",
    "\n",
    "Formal parameters are placeholders for the values that a function expects to receive when it is called.\n",
    "They are defined in the function's header and serve as local variables within the function.\n",
    "Formal parameters are also known as \"function parameters\" or \"function arguments.\"\n",
    "They act as variables that can be used within the function's body to perform operations.\n",
    "Formal parameters are essentially variables with names that are used to specify what kind of data the function requires.\n",
    "You define formal parameters when you create the function using the def keyword.'''\n",
    "\n",
    "def add(a, b):  # Here, 'a' and 'b' are formal parameters.\n",
    "    result = a + b\n",
    "    return result\n"
   ]
  },
  {
   "cell_type": "code",
   "execution_count": 7,
   "metadata": {},
   "outputs": [
    {
     "name": "stdout",
     "output_type": "stream",
     "text": [
      "8\n"
     ]
    }
   ],
   "source": [
    "'''\n",
    "Actual Arguments:\n",
    "\n",
    "Actual arguments, often referred to as \"arguments\" or \"function arguments,\" are the concrete values or expressions provided when calling a function.\n",
    "These are the real data that you want to pass into the function to be processed.\n",
    "The actual arguments are used to supply values for the formal parameters.\n",
    "When calling a function, you provide actual arguments that match the order and data type expected by the function's formal parameters.'''\n",
    "\n",
    "sum_result = add(3, 5)  # Here, '3' and '5' are actual arguments.\n",
    "print(sum_result)"
   ]
  },
  {
   "cell_type": "markdown",
   "metadata": {},
   "source": [
    "2. Write a Python program that defines a function with default argument values.\n"
   ]
  },
  {
   "cell_type": "code",
   "execution_count": 8,
   "metadata": {},
   "outputs": [
    {
     "name": "stdout",
     "output_type": "stream",
     "text": [
      "Hello, Guest!\n",
      "Hello, Alice!\n",
      "Good morning, Bob!\n"
     ]
    }
   ],
   "source": [
    "# Define a function with default argument values\n",
    "def greet(name=\"Guest\", greeting=\"Hello\"):\n",
    "    message = f\"{greeting}, {name}!\"\n",
    "    return message\n",
    "\n",
    "# Example usage:\n",
    "message1 = greet()  # Uses default values\n",
    "message2 = greet(\"Alice\")  # Uses the default greeting\n",
    "message3 = greet(\"Bob\", \"Good morning\")  # Customized message\n",
    "\n",
    "# Print the messages\n",
    "print(message1)\n",
    "print(message2)\n",
    "print(message3)\n"
   ]
  },
  {
   "cell_type": "markdown",
   "metadata": {},
   "source": [
    "3.How do you use keyword arguments in Python function calls? Provide an example."
   ]
  },
  {
   "cell_type": "code",
   "execution_count": 9,
   "metadata": {},
   "outputs": [
    {
     "name": "stdout",
     "output_type": "stream",
     "text": [
      "Hi, Alice!\n"
     ]
    }
   ],
   "source": [
    "# Define a function with multiple parameters\n",
    "def greet(name, greeting, punctuation):\n",
    "    message = f\"{greeting}, {name}{punctuation}\"\n",
    "    return message\n",
    "\n",
    "# Call the function using keyword arguments\n",
    "message = greet(name=\"Alice\", greeting=\"Hi\", punctuation=\"!\")\n",
    "\n",
    "# Print the message\n",
    "print(message)\n"
   ]
  },
  {
   "cell_type": "markdown",
   "metadata": {},
   "source": [
    "4.Create a Python function that accepts a variable number of arguments and calculates their sum."
   ]
  },
  {
   "cell_type": "code",
   "execution_count": 10,
   "metadata": {},
   "outputs": [
    {
     "name": "stdout",
     "output_type": "stream",
     "text": [
      "Sum 1: 10\n",
      "Sum 2: 150\n"
     ]
    }
   ],
   "source": [
    "def calculate_sum(*args):\n",
    "    total = 0\n",
    "    for num in args:\n",
    "        total += num\n",
    "    return total\n",
    "\n",
    "# Example usage:\n",
    "result1 = calculate_sum(1, 2, 3, 4)\n",
    "result2 = calculate_sum(10, 20, 30, 40, 50)\n",
    "\n",
    "print(\"Sum 1:\", result1)\n",
    "print(\"Sum 2:\", result2)\n"
   ]
  },
  {
   "cell_type": "markdown",
   "metadata": {},
   "source": [
    "5.What is the purpose of the `*args` and `**kwargs` syntax in function parameter lists?"
   ]
  },
  {
   "cell_type": "code",
   "execution_count": 13,
   "metadata": {},
   "outputs": [],
   "source": [
    "'''*args (Arbitrary Positional Arguments):\n",
    "\n",
    "*args stands for \"arbitrary arguments\" and allows a function to accept a variable number of positional arguments.\n",
    "It collects these arguments into a tuple, which can be iterated over or processed in the function. '''\n",
    "\n",
    "def sum_numbers(*args):\n",
    "    total = 0\n",
    "    for num in args:\n",
    "        total += num\n",
    "    return total\n"
   ]
  },
  {
   "cell_type": "code",
   "execution_count": 14,
   "metadata": {},
   "outputs": [],
   "source": [
    "'''**kwargs (Arbitrary Keyword Arguments):\n",
    "\n",
    "**kwargs stands for \"keyword arguments\" and allows a function to accept a variable number of keyword arguments.\n",
    "It collects these keyword arguments into a dictionary, where the keys are the parameter names and the values are the provided values.\n",
    "'''\n",
    "\n",
    "def print_info(**kwargs):\n",
    "    for key, value in kwargs.items():\n",
    "        print(f\"{key}: {value}\")\n"
   ]
  },
  {
   "cell_type": "markdown",
   "metadata": {},
   "source": [
    "# Return Values and Scoping:\n"
   ]
  },
  {
   "cell_type": "markdown",
   "metadata": {},
   "source": [
    "1. Describe the role of the `return` statement in Python functions and provide examples.\n"
   ]
  },
  {
   "cell_type": "markdown",
   "metadata": {},
   "source": [
    "he return statement in Python functions serves a crucial role: it specifies the value that a function should produce as its output. When a function is called, it can perform some computations and then use the return statement to send a result back to the calling code. This returned value can be used in various ways, such as assigning it to a variable, printing it, or further processing it within the calling code."
   ]
  },
  {
   "cell_type": "code",
   "execution_count": 1,
   "metadata": {},
   "outputs": [],
   "source": [
    "def add_numbers(a, b):\n",
    "    result = a + b\n",
    "    return result\n"
   ]
  },
  {
   "cell_type": "code",
   "execution_count": 2,
   "metadata": {},
   "outputs": [
    {
     "name": "stdout",
     "output_type": "stream",
     "text": [
      "8\n"
     ]
    }
   ],
   "source": [
    "sum_result = add_numbers(5, 3)\n",
    "print(sum_result)  # This will output 8\n"
   ]
  },
  {
   "cell_type": "markdown",
   "metadata": {},
   "source": [
    "2. Explain the concept of variable scope in Python, including local and global variables."
   ]
  },
  {
   "cell_type": "markdown",
   "metadata": {},
   "source": [
    "Local Variables:\n",
    "\n",
    "Local variables are declared and defined within a specific block of code, such as a function or a code block enclosed by curly braces.\n",
    "They are only accessible within the block or function where they are defined. Outside of that block, attempting to access a local variable will result in an error.\n",
    "Local variables have limited lifetimes. They are created when the block is entered and destroyed when the block is exited.\n",
    "The use of local variables helps prevent naming conflicts and allows for encapsulation, as different functions can use the same variable names without interfering with each other.\n",
    "\n"
   ]
  },
  {
   "cell_type": "markdown",
   "metadata": {},
   "source": [
    "Global Variables:\n",
    "\n",
    "Global variables are defined at the module or script level and can be accessed from any part of the code, including functions and blocks.\n",
    "They have a longer lifespan and persist throughout the entire execution of the program.\n",
    "If a function wants to access a global variable, it can do so without any special declarations. However, if it needs to modify a global variable, it must use the global keyword to indicate that it intends to change the global variable's value, not create a new local variable with the same name."
   ]
  },
  {
   "cell_type": "markdown",
   "metadata": {},
   "source": [
    "3. Write a Python program that demonstrates the use of global variables within functions."
   ]
  },
  {
   "cell_type": "code",
   "execution_count": 10,
   "metadata": {},
   "outputs": [
    {
     "name": "stdout",
     "output_type": "stream",
     "text": [
      "Global variable (outside functions), global_var = 10\n",
      "Global variable (after modification), global_var = 20\n",
      "Inside use_local, local_var = 5\n"
     ]
    }
   ],
   "source": [
    "# Global variable\n",
    "global_var = 10\n",
    "\n",
    "def modify_global():\n",
    "    # Access and modify the global variable\n",
    "    global global_var\n",
    "    global_var = 20\n",
    "\n",
    "def use_local():\n",
    "    # Local variable\n",
    "    local_var = 5\n",
    "    print(\"Inside use_local, local_var =\", local_var)\n",
    "\n",
    "# Access the global variable outside of functions\n",
    "print(\"Global variable (outside functions), global_var =\", global_var)\n",
    "\n",
    "# Call the function that modifies the global variable\n",
    "modify_global()\n",
    "\n",
    "# Access the modified global variable\n",
    "print(\"Global variable (after modification), global_var =\", global_var)\n",
    "\n",
    "# Call a function that uses a local variable\n",
    "use_local()"
   ]
  },
  {
   "cell_type": "markdown",
   "metadata": {},
   "source": [
    "4. Create a Python function that calculates the factorial of a number and returns it."
   ]
  },
  {
   "cell_type": "code",
   "execution_count": 11,
   "metadata": {},
   "outputs": [
    {
     "name": "stdout",
     "output_type": "stream",
     "text": [
      "The factorial of 5 is 120\n"
     ]
    }
   ],
   "source": [
    "def factorial(n):\n",
    "    if n == 0:\n",
    "        return 1  # 0! is defined as 1\n",
    "    else:\n",
    "        return n * factorial(n - 1)\n",
    "\n",
    "# Example usage\n",
    "number = 5\n",
    "result = factorial(number)\n",
    "print(f\"The factorial of {number} is {result}\")\n"
   ]
  },
  {
   "cell_type": "markdown",
   "metadata": {},
   "source": [
    "5. How can you access variables defined outside a function from within the function?"
   ]
  },
  {
   "cell_type": "code",
   "execution_count": 12,
   "metadata": {},
   "outputs": [
    {
     "name": "stdout",
     "output_type": "stream",
     "text": [
      "Global variable (outside the function), global_variable = 10\n",
      "Inside the function, global_variable = 10\n"
     ]
    }
   ],
   "source": [
    "# Define a global variable\n",
    "global_variable = 10\n",
    "\n",
    "def access_global_variable():\n",
    "    global global_variable  # Indicate that we want to use the global variable\n",
    "    print(\"Inside the function, global_variable =\", global_variable)\n",
    "\n",
    "# Access the global variable outside the function\n",
    "print(\"Global variable (outside the function), global_variable =\", global_variable)\n",
    "\n",
    "# Call the function that accesses the global variable\n",
    "access_global_variable()\n"
   ]
  },
  {
   "cell_type": "markdown",
   "metadata": {},
   "source": [
    "# Lambda Functions and Higher-Order Functions:"
   ]
  },
  {
   "cell_type": "markdown",
   "metadata": {},
   "source": [
    "1.Write a Python program that uses lambda functions to sort a list of tuples based on the second element."
   ]
  },
  {
   "cell_type": "code",
   "execution_count": 13,
   "metadata": {},
   "outputs": [
    {
     "name": "stdout",
     "output_type": "stream",
     "text": [
      "(5, 5)\n",
      "(1, 6)\n",
      "(4, 7)\n",
      "(2, 8)\n",
      "(3, 9)\n"
     ]
    }
   ],
   "source": [
    "# List of tuples\n",
    "data = [(3, 9), (1, 6), (2, 8), (4, 7), (5, 5)]\n",
    "\n",
    "# Sort the list based on the second element of each tuple\n",
    "sorted_data = sorted(data, key=lambda x: x[1])\n",
    "\n",
    "# Print the sorted list\n",
    "for item in sorted_data:\n",
    "    print(item)\n"
   ]
  },
  {
   "cell_type": "markdown",
   "metadata": {},
   "source": [
    "2.Explain the concept of higher-order functions in Python, and provide an example."
   ]
  },
  {
   "cell_type": "markdown",
   "metadata": {},
   "source": [
    "Higher-order functions in Python are functions that can take one or more functions as arguments, return functions as their results, or both. These functions treat other functions as first-class citizens, allowing for more flexible and powerful programming constructs. Higher-order functions are a fundamental concept in functional programming and are prevalent in Python.\n",
    "\n",
    "Here's a brief explanation of higher-order functions:\n",
    "\n",
    "Functions as Arguments: Higher-order functions can accept other functions as arguments. This allows you to pass behavior as an argument to a function. This is often used for customizing the behavior of a higher-order function.\n",
    "\n",
    "Functions as Return Values: Higher-order functions can also return functions as their results. This is useful for creating functions on-the-fly, often to encapsulate specific behaviors or configuration."
   ]
  },
  {
   "cell_type": "code",
   "execution_count": 14,
   "metadata": {},
   "outputs": [
    {
     "name": "stdout",
     "output_type": "stream",
     "text": [
      "Result 1: 8\n",
      "Result 2: 2\n"
     ]
    }
   ],
   "source": [
    "def apply_operation(operation, x, y):\n",
    "    return operation(x, y)\n",
    "\n",
    "def add(x, y):\n",
    "    return x + y\n",
    "\n",
    "def subtract(x, y):\n",
    "    return x - y\n",
    "\n",
    "result1 = apply_operation(add, 5, 3)  # Calls add(5, 3) and returns 8\n",
    "result2 = apply_operation(subtract, 5, 3)  # Calls subtract(5, 3) and returns 2\n",
    "\n",
    "print(\"Result 1:\", result1)\n",
    "print(\"Result 2:\", result2)\n"
   ]
  },
  {
   "cell_type": "markdown",
   "metadata": {},
   "source": [
    "3. Create a Python function that takes a list of numbers and a function as arguments, applying the function to each element in the list."
   ]
  },
  {
   "cell_type": "code",
   "execution_count": 15,
   "metadata": {},
   "outputs": [
    {
     "name": "stdout",
     "output_type": "stream",
     "text": [
      "Original numbers: [1, 2, 3, 4, 5]\n",
      "Squared numbers: [1, 4, 9, 16, 25]\n"
     ]
    }
   ],
   "source": [
    "def apply_function_to_list(numbers, custom_function):\n",
    "    result = []\n",
    "    for number in numbers:\n",
    "        transformed_value = custom_function(number)\n",
    "        result.append(transformed_value)\n",
    "    return result\n",
    "\n",
    "# Example usage:\n",
    "\n",
    "# Define a custom function to square a number\n",
    "def square(x):\n",
    "    return x * x\n",
    "\n",
    "# Define a list of numbers\n",
    "numbers = [1, 2, 3, 4, 5]\n",
    "\n",
    "# Apply the square function to each element in the list\n",
    "squared_numbers = apply_function_to_list(numbers, square)\n",
    "\n",
    "# Print the results\n",
    "print(\"Original numbers:\", numbers)\n",
    "print(\"Squared numbers:\", squared_numbers)\n"
   ]
  },
  {
   "cell_type": "markdown",
   "metadata": {},
   "source": [
    "Built-in Functions:"
   ]
  },
  {
   "cell_type": "markdown",
   "metadata": {},
   "source": [
    "1.Describe the role of built-in functions like `len()`, `max()`, and `min()` in Python."
   ]
  },
  {
   "cell_type": "markdown",
   "metadata": {},
   "source": [
    "Built-in functions like len(), max(), and min() are essential tools in Python for performing common operations on various data structures. They provide a convenient way to obtain information about or manipulate data without the need to write custom code for these tasks. Here's an explanation of the role of these functions:\n",
    "\n",
    "len(iterable): The len() function is used to determine the length of an iterable, such as a string, list, tuple, dictionary, or any other data structure that supports iteration. It returns the number of elements or characters in the iterable.\n",
    " \n",
    "max(iterable, *args, key=default, default=object): The max() function is used to find the maximum element in an iterable or the maximum of multiple arguments. It can also accept an optional key function to specify how the maximum is determined. The default argument is used to specify a value to return when the iterable is empty, preventing an error in such cases.\n",
    "\n",
    "min(iterable, *args, key=default, default=object): The min() function is similar to max() but is used to find the minimum element in an iterable or the minimum of multiple arguments. It also accepts an optional key function and a default argument."
   ]
  },
  {
   "cell_type": "code",
   "execution_count": 16,
   "metadata": {},
   "outputs": [
    {
     "name": "stdout",
     "output_type": "stream",
     "text": [
      "Length of the list: 5\n"
     ]
    }
   ],
   "source": [
    "my_list = [1, 2, 3, 4, 5]\n",
    "length = len(my_list)\n",
    "print(\"Length of the list:\", length)  # Output: 5\n"
   ]
  },
  {
   "cell_type": "code",
   "execution_count": 17,
   "metadata": {},
   "outputs": [
    {
     "name": "stdout",
     "output_type": "stream",
     "text": [
      "Maximum: 9\n"
     ]
    }
   ],
   "source": [
    "numbers = [3, 6, 1, 9, 2, 7]\n",
    "maximum = max(numbers)\n",
    "print(\"Maximum:\", maximum)  # Output: 9\n"
   ]
  },
  {
   "cell_type": "code",
   "execution_count": 18,
   "metadata": {},
   "outputs": [
    {
     "name": "stdout",
     "output_type": "stream",
     "text": [
      "Minimum: 1\n"
     ]
    }
   ],
   "source": [
    "numbers = [3, 6, 1, 9, 2, 7]\n",
    "minimum = min(numbers)\n",
    "print(\"Minimum:\", minimum)  # Output: 1\n"
   ]
  },
  {
   "cell_type": "markdown",
   "metadata": {},
   "source": [
    "2. Write a Python program that uses the `map()` function to apply a function to each element of a list."
   ]
  },
  {
   "cell_type": "code",
   "execution_count": 19,
   "metadata": {},
   "outputs": [
    {
     "name": "stdout",
     "output_type": "stream",
     "text": [
      "Original numbers: [1, 2, 3, 4, 5]\n",
      "Squared numbers: [1, 4, 9, 16, 25]\n"
     ]
    }
   ],
   "source": [
    "# Define a function to square a number\n",
    "def square(x):\n",
    "    return x ** 2\n",
    "\n",
    "# Define a list of numbers\n",
    "numbers = [1, 2, 3, 4, 5]\n",
    "\n",
    "# Use the map function to apply the square function to each element in the list\n",
    "squared_numbers = map(square, numbers)\n",
    "\n",
    "# Convert the result of map() to a list (optional)\n",
    "squared_numbers = list(squared_numbers)\n",
    "\n",
    "# Print the squared numbers\n",
    "print(\"Original numbers:\", numbers)\n",
    "print(\"Squared numbers:\", squared_numbers)\n"
   ]
  },
  {
   "cell_type": "markdown",
   "metadata": {},
   "source": [
    "3. How does the `filter()` function work in Python, and when would you use it?"
   ]
  },
  {
   "cell_type": "markdown",
   "metadata": {},
   "source": [
    "The filter() function in Python is used to filter elements from an iterable (e.g., a list, tuple, or string) based on a given function or condition. It returns a new iterable containing only the elements for which the provided function returns True. Essentially, it's a way to selectively include items from the original iterable.\n",
    "The basic syntax of the filter() function is as follows:\n",
    "function: This is a function that defines the filtering condition. It should return True or False for each element in the iterable.\n",
    "\n",
    "iterable: This is the iterable from which elements are to be filtered.\n",
    "\n",
    "Here's an example of how filter() works:\n"
   ]
  },
  {
   "cell_type": "code",
   "execution_count": 20,
   "metadata": {},
   "outputs": [
    {
     "name": "stdout",
     "output_type": "stream",
     "text": [
      "Original numbers: [1, 2, 3, 4, 5, 6, 7, 8, 9, 10]\n",
      "Filtered even numbers: [2, 4, 6, 8, 10]\n"
     ]
    }
   ],
   "source": [
    "def is_even(num):\n",
    "    return num % 2 == 0\n",
    "\n",
    "numbers = [1, 2, 3, 4, 5, 6, 7, 8, 9, 10]\n",
    "\n",
    "filtered_numbers = filter(is_even, numbers)\n",
    "\n",
    "# Converting the filter object to a list (optional)\n",
    "filtered_numbers = list(filtered_numbers)\n",
    "\n",
    "print(\"Original numbers:\", numbers)\n",
    "print(\"Filtered even numbers:\", filtered_numbers)\n"
   ]
  },
  {
   "cell_type": "markdown",
   "metadata": {},
   "source": [
    "4. Create a Python program that uses the `reduce()` function to find the product of all elements in a list."
   ]
  },
  {
   "cell_type": "code",
   "execution_count": 21,
   "metadata": {},
   "outputs": [
    {
     "name": "stdout",
     "output_type": "stream",
     "text": [
      "Product of all numbers: 120\n"
     ]
    }
   ],
   "source": [
    "'''The reduce() function is part of the functools module in Python and is used to apply a function to the items in an iterable in a cumulative way. It keeps track of an accumulated result as it iterates over the items. To find the product of all elements in a list, you can use the reduce() function with a custom function that multiplies the accumulated result with each element. Here's a Python program that demonstrates this:'''\n",
    "from functools import reduce\n",
    "\n",
    "# Define a custom function to multiply two numbers\n",
    "def multiply(x, y):\n",
    "    return x * y\n",
    "\n",
    "# Define a list of numbers\n",
    "numbers = [1, 2, 3, 4, 5]\n",
    "\n",
    "# Use the reduce function to find the product of all elements in the list\n",
    "product = reduce(multiply, numbers)\n",
    "\n",
    "# Print the product\n",
    "print(\"Product of all numbers:\", product)\n"
   ]
  },
  {
   "cell_type": "markdown",
   "metadata": {},
   "source": [
    "# Function Documentation and Best Practices:"
   ]
  },
  {
   "cell_type": "markdown",
   "metadata": {},
   "source": [
    "1. Explain the purpose of docstrings in Python functions and how to write them.\n"
   ]
  },
  {
   "cell_type": "markdown",
   "metadata": {},
   "source": [
    "Docstrings in Python are used to provide documentation and information about a function, module, class, or method. They serve as a way to describe the purpose, behavior, and usage of the code to make it more understandable for both the developers who write the code and others who might use it. Properly written docstrings help improve code readability and maintainability.\n",
    "\n",
    "The primary purposes of docstrings are:\n",
    "\n",
    "Documentation: To provide clear, concise, and human-readable documentation about the code's purpose and functionality.\n",
    "\n",
    "Help and Guidance: To offer guidance on how to use a function, its parameters, return values, and any side effects.\n",
    "\n",
    "Auto-generating Documentation: Many documentation tools and IDEs can automatically generate documentation based on docstrings.\n",
    "\n",
    "Here's how to write docstrings in Python:\n",
    "\n",
    "Triple Quotes: Docstrings are written within triple-quotes (either single or double quotes), immediately following the function, module, class, or method definition. Triple quotes allow you to write multi-line docstrings for more extensive documentation.\n",
    "\n",
    "Format: The docstring typically follows a specific format, including a brief description, information about function parameters, return values, and optional sections for additional information. The format can vary, but one commonly used format is the \"Google Style\" or \"Numpy Style.\""
   ]
  },
  {
   "cell_type": "code",
   "execution_count": 22,
   "metadata": {},
   "outputs": [],
   "source": [
    "def add(a, b):\n",
    "    \"\"\"\n",
    "    Adds two numbers.\n",
    "\n",
    "    Args:\n",
    "        a (int or float): The first number.\n",
    "        b (int or float): The second number.\n",
    "\n",
    "    Returns:\n",
    "        int or float: The sum of the two numbers.\n",
    "    \"\"\"\n",
    "    return a + b\n"
   ]
  },
  {
   "cell_type": "markdown",
   "metadata": {},
   "source": [
    "2.Describe some best practices for naming functions and variables in Python, including naming conventions and guidelines."
   ]
  },
  {
   "cell_type": "markdown",
   "metadata": {},
   "source": [
    "# Naming functions and variables in Python is essential for writing clean, readable, and maintainable code. Following naming conventions and best practices ensures that your code is understandable not only by you but also by other developers. Here are some best practices for naming functions and variables in Python:\n",
    "\n",
    "Use Descriptive Names:\n",
    "\n",
    "Choose names that are descriptive and indicate the purpose of the function or variable.\n",
    "Avoid generic names like temp, data, or single-character names like x, which can be confusing.\n",
    "Follow PEP 8:\n",
    "\n",
    "PEP 8 is the Python Enhancement Proposal that provides style guidelines for writing clean and readable Python code.\n",
    "It recommends using lowercase letters for function and variable names, separating words with underscores (snake_case). For example: calculate_area, user_name.\n",
    "Be Consistent:\n",
    "\n",
    "Consistency in naming is crucial. If you start using calculate_area, stick with it rather than switching to computeArea later in your code.\n",
    "Use Verbs for Function Names:\n",
    "\n",
    "Function names should typically be verbs or verb phrases, as they perform actions. For example: calculate_area, validate_input, print_report.\n",
    "Use Nouns for Variable Names:\n",
    "\n",
    "Variable names should generally be nouns or noun phrases, representing the data they hold. For example: user_name, total_sales, result.\n",
    "Avoid Reserved Keywords:\n",
    "\n",
    "Avoid using Python's reserved keywords (e.g., for, if, while, def, class) as function or variable names.\n",
    "Use Meaningful Parameters:\n",
    "\n",
    "When defining function parameters, make sure their names are descriptive of the data they represent. For example: radius instead of r, filename instead of f.\n",
    "Use CamelCase for Class Names:\n",
    "\n",
    "Class names should follow CamelCase (capitalizing the first letter of each word) to distinguish them from functions and variables. For example: MyClass, CustomerAccount.\n",
    "Use Constants UPPERCASE:\n",
    "\n",
    "Constants (values that don't change) should be named in uppercase with underscores separating words. For example: MAX_VALUE, PI.\n",
    "Avoid Acronyms and Abbreviations:\n",
    "\n",
    "While some acronyms like HTTP or URL are widely recognized, it's generally better to avoid unnecessary acronyms and use descriptive names.\n",
    "Use Plural for Collections:\n",
    "\n",
    "When a variable represents a collection of items, use a plural name to indicate that it's a collection. For example: users, cars.\n",
    "Prefix Private Variables and Functions:\n",
    "\n",
    "Prefix variables and functions intended to be private (not part of the public API) with a single underscore, e.g., _my_variable or _private_method. Note that this is a convention and not enforced by Python itself.\n",
    "Consider Domain-specific Naming Conventions:\n",
    "\n",
    "In some domains, specific naming conventions or terms may be commonly used. Follow these conventions when appropriate.\n",
    "Avoid One-letter Variable Names:\n",
    "\n",
    "One-letter variable names, except for very short-lived loop variables like i and j, should be avoided as they are often cryptic and do not provide meaningful context.\n",
    "Document Your Code:\n",
    "\n",
    "Use docstrings and comments to explain the purpose and usage of functions and variables. This documentation provides context for your code.\n",
    "Consistent and clear naming makes your code more understandable, which is crucial for collaboration and maintenance. Following these best practices helps create code that is more readable, less error-prone, and easier to work with."
   ]
  },
  {
   "cell_type": "code",
   "execution_count": null,
   "metadata": {},
   "outputs": [],
   "source": []
  },
  {
   "cell_type": "markdown",
   "metadata": {},
   "source": [
    "# THANK YOU"
   ]
  },
  {
   "cell_type": "code",
   "execution_count": null,
   "metadata": {},
   "outputs": [],
   "source": []
  }
 ],
 "metadata": {
  "kernelspec": {
   "display_name": "Python 3",
   "language": "python",
   "name": "python3"
  },
  "language_info": {
   "codemirror_mode": {
    "name": "ipython",
    "version": 3
   },
   "file_extension": ".py",
   "mimetype": "text/x-python",
   "name": "python",
   "nbconvert_exporter": "python",
   "pygments_lexer": "ipython3",
   "version": "3.7.3"
  }
 },
 "nbformat": 4,
 "nbformat_minor": 2
}
