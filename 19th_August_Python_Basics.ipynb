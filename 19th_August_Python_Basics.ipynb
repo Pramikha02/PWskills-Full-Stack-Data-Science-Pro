{
 "cells": [
  {
   "cell_type": "markdown",
   "metadata": {},
   "source": [
    "# PYTHON BASIC QUESTIONS"
   ]
  },
  {
   "cell_type": "markdown",
   "metadata": {},
   "source": [
    "Q1) Write a Python program that takes a string as input and prints the length of\n",
    "the string."
   ]
  },
  {
   "cell_type": "code",
   "execution_count": 36,
   "metadata": {},
   "outputs": [
    {
     "name": "stdout",
     "output_type": "stream",
     "text": [
      "After swapping:\n",
      "x = 10\n",
      "y = 5\n"
     ]
    }
   ],
   "source": [
    "# Initialize two variables\n",
    "x = 5\n",
    "y = 10\n",
    "\n",
    "# Swap the values without using a temporary variable\n",
    "x, y = y, x\n",
    "\n",
    "# Now, 'x' will contain the value of 'y', and 'y' will contain the value of 'x'\n",
    "print(\"After swapping:\")\n",
    "print(\"x =\", x)\n",
    "print(\"y =\", y)\n"
   ]
  },
  {
   "cell_type": "code",
   "execution_count": null,
   "metadata": {},
   "outputs": [],
   "source": []
  },
  {
   "cell_type": "markdown",
   "metadata": {},
   "source": [
    "Q2) Create a program that calculates the area of a rectangle. Take the length and\n",
    "width as inputs from the user and store them in variables. Calculate and\n",
    "display the area."
   ]
  },
  {
   "cell_type": "code",
   "execution_count": 41,
   "metadata": {},
   "outputs": [
    {
     "name": "stdout",
     "output_type": "stream",
     "text": [
      "Enter the length4\n",
      "Enter the breadth5.6\n",
      "22.4\n"
     ]
    }
   ],
   "source": [
    "length=float(input('Enter the length'))\n",
    "breadth=float(input('Enter the breadth'))\n",
    "area=length*breadth\n",
    "print(area)\n",
    "\n",
    "#Explanation: We input the length and breadths and multiply them to find area. Then print area"
   ]
  },
  {
   "cell_type": "code",
   "execution_count": null,
   "metadata": {},
   "outputs": [],
   "source": []
  },
  {
   "cell_type": "markdown",
   "metadata": {},
   "source": [
    "Q3)Write a Python program that converts temperatures from Celsius to\n",
    "Fahrenheit. Take the temperature in Celsius as input, store it in a variable,\n",
    "convert it to Fahrenheit, and display the result."
   ]
  },
  {
   "cell_type": "code",
   "execution_count": 45,
   "metadata": {},
   "outputs": [
    {
     "name": "stdout",
     "output_type": "stream",
     "text": [
      "Enter the temperature in celsius40\n",
      "129.6\n"
     ]
    }
   ],
   "source": [
    "#Taking temperature input in celsius\n",
    "celsius=float(input(\"Enter the temperature in celsius\"))\n",
    "\n",
    "#Applying conversion formula\n",
    "f=9/5*(celsius+32)\n",
    "\n",
    "print(f)  #printing in fahrenheit\n",
    "\n"
   ]
  },
  {
   "cell_type": "markdown",
   "metadata": {},
   "source": [
    "# String Based Questions "
   ]
  },
  {
   "cell_type": "markdown",
   "metadata": {},
   "source": [
    "Q1) Write a Python program that takes a string as input and prints the length of\n",
    "the string."
   ]
  },
  {
   "cell_type": "code",
   "execution_count": 38,
   "metadata": {},
   "outputs": [
    {
     "name": "stdout",
     "output_type": "stream",
     "text": [
      "Enter a stringAspiring data scientist\n",
      "The length of string is 23\n"
     ]
    }
   ],
   "source": [
    "str=input(\"Enter a string\")\n",
    "#inputing the string\n",
    "\n",
    "length=len(str)\n",
    "#using len function to determine length of string\n",
    "\n",
    "print(\"The length of string is\",length)\n",
    "#printing the length\n",
    "\n"
   ]
  },
  {
   "cell_type": "code",
   "execution_count": null,
   "metadata": {},
   "outputs": [],
   "source": []
  },
  {
   "cell_type": "markdown",
   "metadata": {},
   "source": [
    "Q2)Create a program that takes a sentence from the user and counts the number\n",
    "of vowels (a, e, i, o, u) in the string."
   ]
  },
  {
   "cell_type": "code",
   "execution_count": 46,
   "metadata": {},
   "outputs": [
    {
     "name": "stdout",
     "output_type": "stream",
     "text": [
      "Enter a sentenceMy name is Pramikha\n",
      "The number of vowels in sentence is 6\n"
     ]
    },
    {
     "data": {
      "text/plain": [
       "'Explanation:  First we input as sentence. Then we list out all the vowels in upper case and lower case. We declare the count as 0.\\n    We iterate through each of the characters in the string. If any of the characters in string are present in vowel list, \\n    then we increment the count by 1, else we exit the loop. Finally the total count of vowels is printed.'"
      ]
     },
     "execution_count": 46,
     "metadata": {},
     "output_type": "execute_result"
    }
   ],
   "source": [
    "string=input(\"Enter a sentence\")\n",
    "vowels=['a','e','i','o','u','A','E','I','O','U']\n",
    "count=0\n",
    "for i in string:\n",
    "    if i in vowels:\n",
    "        count=count+1\n",
    "    \n",
    "print(\"The number of vowels in sentence is\", count)\n",
    "\n",
    "\n",
    "\"\"\"Explanation:  First we input as sentence. Then we list out all the vowels in upper case and lower case. We declare the count as 0.\n",
    "    We iterate through each of the characters in the string. If any of the characters in string are present in vowel list, \n",
    "    then we increment the count by 1, else we exit the loop. Finally the total count of vowels is printed.\"\"\""
   ]
  },
  {
   "cell_type": "code",
   "execution_count": null,
   "metadata": {},
   "outputs": [],
   "source": []
  },
  {
   "cell_type": "markdown",
   "metadata": {},
   "source": [
    "Q3) Given a string, reverse the order of characters using string slicing and print\n",
    "the reversed string."
   ]
  },
  {
   "cell_type": "code",
   "execution_count": 22,
   "metadata": {},
   "outputs": [
    {
     "name": "stdout",
     "output_type": "stream",
     "text": [
      "Enter a stringPramikha\n",
      "ahkimarP\n"
     ]
    },
    {
     "data": {
      "text/plain": [
       "\"Explanation: The -1 at the end tells the order of reversal and number of elements to skip. \\nHere it's in reverse order and continuous characters.\""
      ]
     },
     "execution_count": 22,
     "metadata": {},
     "output_type": "execute_result"
    }
   ],
   "source": [
    "string=input(\"Enter a string\")\n",
    "reverse=string[::-1]\n",
    "print(reverse)\n",
    "\n",
    "\"\"\"Explanation: The -1 at the end tells the order of reversal and number of elements to skip. \n",
    "Here it's in reverse order and continuous characters.\"\"\""
   ]
  },
  {
   "cell_type": "code",
   "execution_count": 21,
   "metadata": {},
   "outputs": [],
   "source": []
  },
  {
   "cell_type": "markdown",
   "metadata": {},
   "source": [
    "Q4) Write a program that takes a string as input and checks if it is a palindrome\n",
    "(reads the same forwards and backwards)."
   ]
  },
  {
   "cell_type": "code",
   "execution_count": 33,
   "metadata": {},
   "outputs": [
    {
     "name": "stdout",
     "output_type": "stream",
     "text": [
      "Enter a stringrotor\n",
      "It's a palindrome\n"
     ]
    },
    {
     "data": {
      "text/plain": [
       "\"Explanation: [::-1] reverses a string. Then we check revsersed string to original string. \\n   If they are same it's a palindrome, else it's not a palindrome.\""
      ]
     },
     "execution_count": 33,
     "metadata": {},
     "output_type": "execute_result"
    }
   ],
   "source": [
    "str=input(\"Enter a string\")\n",
    "rev=str[::-1]\n",
    "if str==rev:\n",
    "    print(\"It's a palindrome\")\n",
    "else:\n",
    "    print(\"Not a palindrome\")\n",
    "    \n",
    "\"\"\"Explanation: [::-1] reverses a string. Then we check revsersed string to original string. \n",
    "   If they are same it's a palindrome, else it's not a palindrome.\"\"\""
   ]
  },
  {
   "cell_type": "code",
   "execution_count": null,
   "metadata": {},
   "outputs": [],
   "source": []
  },
  {
   "cell_type": "markdown",
   "metadata": {},
   "source": [
    "Q5) Create a program that takes a string as input and removes all the spaces from\n",
    "it. Print the modified string without spaces."
   ]
  },
  {
   "cell_type": "code",
   "execution_count": 34,
   "metadata": {},
   "outputs": [
    {
     "name": "stdout",
     "output_type": "stream",
     "text": [
      "Enter a stringI love data science\n",
      "Ilovedatascience\n"
     ]
    }
   ],
   "source": [
    "string=input(\"Enter a string\")\n",
    "string_new=string.replace(\" \",\"\")\n",
    "print(string_new)"
   ]
  },
  {
   "cell_type": "code",
   "execution_count": null,
   "metadata": {},
   "outputs": [],
   "source": []
  },
  {
   "cell_type": "code",
   "execution_count": null,
   "metadata": {},
   "outputs": [],
   "source": []
  }
 ],
 "metadata": {
  "kernelspec": {
   "display_name": "Python 3",
   "language": "python",
   "name": "python3"
  },
  "language_info": {
   "codemirror_mode": {
    "name": "ipython",
    "version": 3
   },
   "file_extension": ".py",
   "mimetype": "text/x-python",
   "name": "python",
   "nbconvert_exporter": "python",
   "pygments_lexer": "ipython3",
   "version": "3.7.3"
  }
 },
 "nbformat": 4,
 "nbformat_minor": 2
}
