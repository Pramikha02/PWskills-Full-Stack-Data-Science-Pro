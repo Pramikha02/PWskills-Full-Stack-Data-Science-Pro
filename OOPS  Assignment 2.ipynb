{
 "cells": [
  {
   "cell_type": "markdown",
   "metadata": {},
   "source": [
    "# CONSTRUCTOR"
   ]
  },
  {
   "cell_type": "markdown",
   "metadata": {},
   "source": [
    "1. What is a constructor in Python? Explain its purpose and usage."
   ]
  },
  {
   "cell_type": "markdown",
   "metadata": {},
   "source": [
    "In Python, a constructor is a special method that is automatically called when an object is created from a class. It is used to initialize the attributes of the object and perform any necessary setup or configuration.\n",
    "\n",
    "Constructors are essential for setting up the initial state of objects, allowing them to be created with specific values or default values. They play a crucial role in object-oriented programming by ensuring that objects are in a valid and consistent state when they are created.\n",
    "\n",
    "\n",
    "\n",
    "\n",
    "\n"
   ]
  },
  {
   "cell_type": "code",
   "execution_count": null,
   "metadata": {},
   "outputs": [],
   "source": [
    "\n"
   ]
  },
  {
   "cell_type": "markdown",
   "metadata": {},
   "source": [
    "2. Differentiate between a parameterless constructor and a parameterized constructor in Python."
   ]
  },
  {
   "cell_type": "markdown",
   "metadata": {},
   "source": [
    "Parameterless Constructor:\n",
    "\n",
    "A parameterless constructor, as the name suggests, is a constructor that takes no parameters (other than the obligatory self).\n",
    "It is defined with the __init__ method, but it doesn't have any additional parameters besides self.\n",
    "It is used when you want to set up default values or perform some initialization that doesn't require any external information."
   ]
  },
  {
   "cell_type": "code",
   "execution_count": 3,
   "metadata": {},
   "outputs": [],
   "source": [
    "class ParameterlessConstructorExample:\n",
    "    def __init__(self):\n",
    "        self.default_value = 42\n"
   ]
  },
  {
   "cell_type": "markdown",
   "metadata": {},
   "source": [
    "Parameterized Constructor:\n",
    "\n",
    "A parameterized constructor is a constructor that takes one or more parameters, in addition to the obligatory self.\n",
    "It is used when you want to initialize the object with specific values passed as arguments during object creation."
   ]
  },
  {
   "cell_type": "code",
   "execution_count": 4,
   "metadata": {},
   "outputs": [],
   "source": [
    "class ParameterizedConstructorExample:\n",
    "    def __init__(self, value1, value2):\n",
    "        self.attribute1 = value1\n",
    "        self.attribute2 = value2\n"
   ]
  },
  {
   "cell_type": "markdown",
   "metadata": {},
   "source": [
    "3. How do you define a constructor in a Python class? Provide an example."
   ]
  },
  {
   "cell_type": "markdown",
   "metadata": {},
   "source": [
    "In Python, you define a constructor in a class using the __init__ method. The __init__ method is a special method that gets called automatically when an object of the class is created. It is used to initialize the attributes of the object and perform any setup that needs to be done during object creation."
   ]
  },
  {
   "cell_type": "code",
   "execution_count": 5,
   "metadata": {},
   "outputs": [
    {
     "name": "stdout",
     "output_type": "stream",
     "text": [
      "value1\n",
      "value2\n"
     ]
    }
   ],
   "source": [
    "class MyClass:\n",
    "    def __init__(self, parameter1, parameter2):\n",
    "        self.attribute1 = parameter1\n",
    "        self.attribute2 = parameter2\n",
    "        # Additional initialization code can go here\n",
    "\n",
    "# Creating an object of MyClass and passing values to the constructor\n",
    "obj = MyClass(\"value1\", \"value2\")\n",
    "\n",
    "# Accessing the attributes of the object\n",
    "print(obj.attribute1)  # Output: value1\n",
    "print(obj.attribute2)  # Output: value2\n"
   ]
  },
  {
   "cell_type": "markdown",
   "metadata": {},
   "source": [
    "4. Explain the `__init__` method in Python and its role in constructors."
   ]
  },
  {
   "cell_type": "markdown",
   "metadata": {},
   "source": [
    "In Python, the __init__ method is a special method within a class that is automatically called when an object of that class is created. It is commonly referred to as the constructor, and its primary role is to initialize the attributes of the object and perform any necessary setup during the object's instantiation.\n",
    "\n",
    "Here are some key points about the __init__ method and its role in constructors:\n",
    "\n",
    "Initialization: The primary purpose of the __init__ method is to initialize the attributes of the object with values provided as parameters or with default values. This ensures that the object is in a valid and usable state immediately after creation.\n",
    "\n",
    "Automatic Invocation: When an object of a class is created, the __init__ method is automatically called, allowing you to perform any necessary setup operations at the time of object instantiation.\n",
    "\n",
    "Parameters: The __init__ method takes at least one parameter, conventionally named self, which refers to the instance of the class being created. It can also take additional parameters that represent values to be used for initializing the object's attributes.\n",
    "\n",
    "Accessing Attributes: Inside the __init__ method, you can use the self parameter to access and assign values to the attributes of the object. The self parameter is a reference to the instance of the class and is used to distinguish between instance variables and local variables within the method."
   ]
  },
  {
   "cell_type": "code",
   "execution_count": 6,
   "metadata": {},
   "outputs": [],
   "source": [
    "class MyClass:\n",
    "    def __init__(self, parameter1, parameter2):\n",
    "        self.attribute1 = parameter1\n",
    "        self.attribute2 = parameter2\n"
   ]
  },
  {
   "cell_type": "markdown",
   "metadata": {},
   "source": [
    "5. In a class named `Person`, create a constructor that initializes the `name` and `age` attributes. Provide an\n",
    "example of creating an object of this class."
   ]
  },
  {
   "cell_type": "code",
   "execution_count": 7,
   "metadata": {},
   "outputs": [
    {
     "name": "stdout",
     "output_type": "stream",
     "text": [
      "John Doe\n",
      "25\n"
     ]
    }
   ],
   "source": [
    "class Person:\n",
    "    def __init__(self, name, age):\n",
    "        self.name = name\n",
    "        self.age = age\n",
    "\n",
    "# Creating an object of the Person class\n",
    "person1 = Person(\"John Doe\", 25)\n",
    "\n",
    "# Accessing attributes of the person1 object\n",
    "print(person1.name)  # Output: John Doe\n",
    "print(person1.age)   # Output: 25\n"
   ]
  },
  {
   "cell_type": "markdown",
   "metadata": {},
   "source": [
    "6. How can you call a constructor explicitly in Python? Give an example."
   ]
  },
  {
   "cell_type": "markdown",
   "metadata": {},
   "source": [
    "In Python, constructors are typically called automatically when an object is created. However, you can also call a constructor explicitly using the class name. This might be useful in certain situations where you want to perform specific initialization tasks outside the normal object creation process."
   ]
  },
  {
   "cell_type": "code",
   "execution_count": null,
   "metadata": {},
   "outputs": [],
   "source": [
    "class MyClass:\n",
    "    def __init__(self, parameter):\n",
    "        self.attribute = parameter\n",
    "\n",
    "# Explicitly calling the constructor\n",
    "explicit_obj = MyClass.__init__(MyClass(), \"Explicit Value\")\n",
    "\n",
    "# Accessing the attribute of the explicitly created object\n",
    "print(explicit_obj.attribute)  # Output: Explicit Value\n"
   ]
  },
  {
   "cell_type": "markdown",
   "metadata": {},
   "source": [
    "7. What is the significance of the `self` parameter in Python constructors? Explain with an example."
   ]
  },
  {
   "cell_type": "markdown",
   "metadata": {},
   "source": [
    "In Python, the self parameter in constructors (and in other methods of a class) is a reference to the instance of the class itself. It allows you to access and modify the attributes of the object within the class. The use of self is a convention in Python, and while you could technically use any name, it is strongly recommended to stick with self for clarity and consistency."
   ]
  },
  {
   "cell_type": "code",
   "execution_count": 10,
   "metadata": {},
   "outputs": [
    {
     "name": "stdout",
     "output_type": "stream",
     "text": [
      "Alice\n",
      "30\n",
      "Hello, my name is Alice and I am 30 years old.\n"
     ]
    }
   ],
   "source": [
    "class Person:\n",
    "    def __init__(self, name, age):\n",
    "        self.name = name\n",
    "        self.age = age\n",
    "\n",
    "    def introduce(self):\n",
    "        print(f\"Hello, my name is {self.name} and I am {self.age} years old.\")\n",
    "\n",
    "# Creating an object of the Person class\n",
    "person1 = Person(\"Alice\", 30)\n",
    "\n",
    "# Accessing attributes using self\n",
    "print(person1.name)  # Output: Alice\n",
    "print(person1.age)   # Output: 30\n",
    "\n",
    "# Calling a method using self\n",
    "person1.introduce()  # Output: Hello, my name is Alice and I am 30 years old.\n"
   ]
  },
  {
   "cell_type": "markdown",
   "metadata": {},
   "source": [
    "8. Discuss the concept of default constructors in Python. When are they used?"
   ]
  },
  {
   "cell_type": "markdown",
   "metadata": {},
   "source": [
    "In Python, a default constructor is a constructor that is provided by default if you don't explicitly define one in your class. The default constructor has no parameters other than self and doesn't perform any additional initialization beyond what is inherent in the default behavior of creating an object.\n",
    "\n",
    "If you don't define a constructor in your class, Python automatically provides a default constructor for you. This default constructor doesn't take any parameters other than self, and it doesn't perform any explicit attribute initialization. However, it allows you to create instances of the class without any issues."
   ]
  },
  {
   "cell_type": "code",
   "execution_count": null,
   "metadata": {},
   "outputs": [],
   "source": [
    "class MyClass:\n",
    "    # No explicit constructor defined\n",
    "\n",
    "# Creating an object of MyClass\n",
    "obj = MyClass()\n",
    "\n",
    "# Accessing the object (it has no specific attributes)\n",
    "print(obj)  # Output: <__main__.MyClass object at 0x...>\n"
   ]
  },
  {
   "cell_type": "markdown",
   "metadata": {},
   "source": [
    "9. Create a Python class called `Rectangle` with a constructor that initializes the `width` and `height`\n",
    "attributes. Provide a method to calculate the area of the rectangle."
   ]
  },
  {
   "cell_type": "code",
   "execution_count": 13,
   "metadata": {},
   "outputs": [
    {
     "name": "stdout",
     "output_type": "stream",
     "text": [
      "Width: 5\n",
      "Height: 8\n",
      "Area: 40\n"
     ]
    }
   ],
   "source": [
    "class Rectangle:\n",
    "    def __init__(self, width, height):\n",
    "        self.width = width\n",
    "        self.height = height\n",
    "\n",
    "    def calculate_area(self):\n",
    "        return self.width * self.height\n",
    "\n",
    "# Creating an object of the Rectangle class\n",
    "rectangle1 = Rectangle(5, 8)\n",
    "\n",
    "# Accessing attributes of the rectangle1 object\n",
    "print(\"Width:\", rectangle1.width)    # Output: 5\n",
    "print(\"Height:\", rectangle1.height)  # Output: 8\n",
    "\n",
    "# Calculating and printing the area of the rectangle1\n",
    "area1 = rectangle1.calculate_area()\n",
    "print(\"Area:\", area1)  # Output: 40\n"
   ]
  },
  {
   "cell_type": "markdown",
   "metadata": {},
   "source": [
    "10. How can you have multiple constructors in a Python class? Explain with an example."
   ]
  },
  {
   "cell_type": "markdown",
   "metadata": {},
   "source": [
    "In Python, you can't have multiple constructors in the same way you might have in some other programming languages, where method overloading allows you to define multiple methods with the same name but different parameter lists. However, you can achieve similar functionality by providing default values for some parameters in the constructor. This way, you can create instances of the class with different sets of parameters."
   ]
  },
  {
   "cell_type": "code",
   "execution_count": 14,
   "metadata": {},
   "outputs": [
    {
     "name": "stdout",
     "output_type": "stream",
     "text": [
      "Rectangle 1 - Width: 5 Height: 8\n",
      "Rectangle 2 - Width: 10 Height: 0\n",
      "Rectangle 1 Area: 40\n",
      "Rectangle 2 Area: 0\n"
     ]
    }
   ],
   "source": [
    "class Rectangle:\n",
    "    def __init__(self, width, height=0):\n",
    "        self.width = width\n",
    "        self.height = height\n",
    "\n",
    "    def calculate_area(self):\n",
    "        return self.width * self.height\n",
    "\n",
    "# Creating objects using different constructors\n",
    "rectangle1 = Rectangle(5, 8)    # width = 5, height = 8\n",
    "rectangle2 = Rectangle(10)      # width = 10, default height = 0\n",
    "\n",
    "# Accessing attributes of the objects\n",
    "print(\"Rectangle 1 - Width:\", rectangle1.width, \"Height:\", rectangle1.height)\n",
    "print(\"Rectangle 2 - Width:\", rectangle2.width, \"Height:\", rectangle2.height)\n",
    "\n",
    "# Calculating and printing the area of the rectangles\n",
    "area1 = rectangle1.calculate_area()\n",
    "area2 = rectangle2.calculate_area()\n",
    "print(\"Rectangle 1 Area:\", area1)\n",
    "print(\"Rectangle 2 Area:\", area2)\n"
   ]
  },
  {
   "cell_type": "markdown",
   "metadata": {},
   "source": [
    "11. What is method overloading, and how is it related to constructors in Python?"
   ]
  },
  {
   "cell_type": "markdown",
   "metadata": {},
   "source": [
    "Method overloading is a concept in object-oriented programming where multiple methods with the same name are defined in a class, but they differ in the number or types of their parameters. The purpose is to provide flexibility in how methods are called, allowing the same method name to be used for different operations based on the arguments provided.\n",
    "\n",
    "In some programming languages, like Java or C++, you can explicitly define multiple methods with the same name but different parameter lists. However, Python does not support method overloading in the traditional sense. In Python, if you define multiple methods with the same name, the last one defined will override the previous ones."
   ]
  },
  {
   "cell_type": "code",
   "execution_count": 15,
   "metadata": {},
   "outputs": [
    {
     "name": "stdout",
     "output_type": "stream",
     "text": [
      "Object 1 - Attribute: Single Parameter\n",
      "Object 2 - Attributes: First Parameter Second Parameter\n"
     ]
    }
   ],
   "source": [
    "class MyClass:\n",
    "    def __init__(self, param1, param2=None):\n",
    "        if param2 is None:\n",
    "            # Constructor with one parameter\n",
    "            self.attribute = param1\n",
    "        else:\n",
    "            # Constructor with two parameters\n",
    "            self.attribute1 = param1\n",
    "            self.attribute2 = param2\n",
    "\n",
    "# Creating objects using different constructors\n",
    "obj1 = MyClass(\"Single Parameter\")\n",
    "obj2 = MyClass(\"First Parameter\", \"Second Parameter\")\n",
    "\n",
    "# Accessing attributes of the objects\n",
    "print(\"Object 1 - Attribute:\", obj1.attribute)\n",
    "print(\"Object 2 - Attributes:\", obj2.attribute1, obj2.attribute2)\n"
   ]
  },
  {
   "cell_type": "markdown",
   "metadata": {},
   "source": [
    "12. Explain the use of the `super()` function in Python constructors. Provide an example."
   ]
  },
  {
   "cell_type": "markdown",
   "metadata": {},
   "source": [
    "The super() function in Python is used to call a method from a parent class, allowing you to invoke the constructor or other methods defined in the parent class. This is particularly useful when you are working with inheritance and want to extend the functionality of a method in the child class while still utilizing the behavior of the method in the parent class.\n",
    "\n",
    "In the context of constructors, using super().__init__() allows the child class to call the constructor of its parent class, ensuring that any initialization defined in the parent class is also executed. This is commonly used in scenarios where you want to add specific behavior in the child class constructor while still retaining the functionality provided by the parent class constructor."
   ]
  },
  {
   "cell_type": "code",
   "execution_count": 16,
   "metadata": {},
   "outputs": [
    {
     "name": "stdout",
     "output_type": "stream",
     "text": [
      "Parent Class - Name: John\n",
      "Child Class - Additional Info: Likes Python\n"
     ]
    }
   ],
   "source": [
    "class Parent:\n",
    "    def __init__(self, name):\n",
    "        self.name = name\n",
    "\n",
    "    def display_info(self):\n",
    "        print(f\"Parent Class - Name: {self.name}\")\n",
    "\n",
    "class Child(Parent):\n",
    "    def __init__(self, name, additional_info):\n",
    "        super().__init__(name)  # Call the constructor of the parent class\n",
    "        self.additional_info = additional_info\n",
    "\n",
    "    def display_info(self):\n",
    "        super().display_info()  # Call the display_info method of the parent class\n",
    "        print(f\"Child Class - Additional Info: {self.additional_info}\")\n",
    "\n",
    "# Creating an object of the Child class\n",
    "child_obj = Child(\"John\", \"Likes Python\")\n",
    "\n",
    "# Calling the display_info method of the Child class\n",
    "child_obj.display_info()\n"
   ]
  },
  {
   "cell_type": "markdown",
   "metadata": {},
   "source": [
    "13. Create a class called `Book` with a constructor that initializes the `title`, `author`, and `published_year`\n",
    "attributes. Provide a method to display book details."
   ]
  },
  {
   "cell_type": "code",
   "execution_count": 17,
   "metadata": {},
   "outputs": [
    {
     "name": "stdout",
     "output_type": "stream",
     "text": [
      "Title: The Great Gatsby\n",
      "Author: F. Scott Fitzgerald\n",
      "Published Year: 1925\n"
     ]
    }
   ],
   "source": [
    "class Book:\n",
    "    def __init__(self, title, author, published_year):\n",
    "        self.title = title\n",
    "        self.author = author\n",
    "        self.published_year = published_year\n",
    "\n",
    "    def display_details(self):\n",
    "        print(f\"Title: {self.title}\")\n",
    "        print(f\"Author: {self.author}\")\n",
    "        print(f\"Published Year: {self.published_year}\")\n",
    "\n",
    "# Creating an object of the Book class\n",
    "book1 = Book(\"The Great Gatsby\", \"F. Scott Fitzgerald\", 1925)\n",
    "\n",
    "# Calling the display_details method to show book details\n",
    "book1.display_details()\n"
   ]
  },
  {
   "cell_type": "markdown",
   "metadata": {},
   "source": [
    "14. Discuss the differences between constructors and regular methods in Python classes."
   ]
  },
  {
   "cell_type": "markdown",
   "metadata": {},
   "source": [
    "Constructors and regular methods in Python classes serve different purposes, and there are several key differences between them:\n",
    "\n",
    "Name and Invocation:\n",
    "\n",
    "Constructors: Constructors have a specific name, __init__, and are automatically invoked when an object is created from a class. They are responsible for initializing the attributes of the object.\n",
    "Regular Methods: Regular methods have names that you choose, and they need to be explicitly called on an object. They perform specific actions or computations and may or may not modify the object's attributes.\n",
    "Purpose:\n",
    "\n",
    "Constructors: The primary purpose of constructors is to initialize the attributes of an object, ensuring that it is in a valid state upon creation.\n",
    "Regular Methods: Regular methods perform various actions or operations on the object. They may interact with the object's attributes, but their main purpose is not necessarily to initialize the object.\n",
    "Parameters:\n",
    "\n",
    "Constructors: Constructors typically take parameters to initialize the attributes of the object. The first parameter is conventionally named self and refers to the instance of the class.\n",
    "Regular Methods: Regular methods take parameters as needed for their specific functionality. They also have self as the first parameter to access and modify the object's attributes.\n",
    "Return Value:\n",
    "\n",
    "Constructors: Constructors do not explicitly return a value. Their role is to set up the object's state.\n",
    "Regular Methods: Regular methods can return values or perform actions without returning anything, depending on their purpose.\n",
    "Automatic Invocation:\n",
    "\n",
    "Constructors: Constructors are automatically called when an object is created from a class. You don't need to call them explicitly.\n",
    "Regular Methods: Regular methods need to be explicitly called on an object when you want them to execute."
   ]
  },
  {
   "cell_type": "code",
   "execution_count": 18,
   "metadata": {},
   "outputs": [
    {
     "name": "stdout",
     "output_type": "stream",
     "text": [
      "Regular method called with attribute: example\n"
     ]
    }
   ],
   "source": [
    "class MyClass:\n",
    "    def __init__(self, attribute):\n",
    "        self.attribute = attribute\n",
    "\n",
    "    def regular_method(self):\n",
    "        print(f\"Regular method called with attribute: {self.attribute}\")\n",
    "\n",
    "# Creating an object of MyClass\n",
    "obj = MyClass(\"example\")\n",
    "\n",
    "# Constructor is automatically called\n",
    "# Regular method needs to be called explicitly\n",
    "obj.regular_method()\n"
   ]
  },
  {
   "cell_type": "markdown",
   "metadata": {},
   "source": [
    "15. Explain the role of the `self` parameter in instance variable initialization within a constructor."
   ]
  },
  {
   "cell_type": "markdown",
   "metadata": {},
   "source": [
    "In Python, the self parameter in a constructor plays a crucial role in instance variable initialization. The self parameter is a convention and refers to the instance of the class, representing the object being created or operated upon. It allows you to access and modify the attributes (instance variables) of the object within the constructor.\n",
    "\n",
    "Here's how the self parameter works in the context of instance variable initialization within a constructor:\n",
    "\n",
    "Reference to the Instance:\n",
    "\n",
    "When the constructor is called during object creation, the self parameter serves as a reference to the instance of the class.\n",
    "It allows you to differentiate between instance variables and local variables within the constructor, ensuring that you are working with the attributes of the specific object being created.\n",
    "Attribute Initialization:\n",
    "\n",
    "The self parameter is used to initialize instance variables. It allows you to assign values to the attributes of the object by using the self.attribute_name syntax.\n",
    "Without self, Python would treat the variable as a local variable within the constructor, and it wouldn't be associated with the object.\n",
    "Consistent Access:\n",
    "\n",
    "After the object is created, the self parameter continues to be used within other methods of the class to access and modify the instance variables.\n",
    "It provides a consistent way to reference the instance, allowing you to work with its attributes throughout the class."
   ]
  },
  {
   "cell_type": "code",
   "execution_count": 19,
   "metadata": {},
   "outputs": [
    {
     "name": "stdout",
     "output_type": "stream",
     "text": [
      "Attribute 1: Value 1\n",
      "Attribute 2: Value 2\n"
     ]
    }
   ],
   "source": [
    "class MyClass:\n",
    "    def __init__(self, attribute1, attribute2):\n",
    "        # Using self to initialize instance variables\n",
    "        self.attribute1 = attribute1\n",
    "        self.attribute2 = attribute2\n",
    "\n",
    "    def display_attributes(self):\n",
    "        # Using self to access instance variables\n",
    "        print(f\"Attribute 1: {self.attribute1}\")\n",
    "        print(f\"Attribute 2: {self.attribute2}\")\n",
    "\n",
    "# Creating an object of MyClass\n",
    "obj = MyClass(\"Value 1\", \"Value 2\")\n",
    "\n",
    "# Calling a method to display attributes\n",
    "obj.display_attributes()\n"
   ]
  },
  {
   "cell_type": "markdown",
   "metadata": {},
   "source": [
    "16. How do you prevent a class from having multiple instances by using constructors in Python? Provide an\n",
    "example."
   ]
  },
  {
   "cell_type": "markdown",
   "metadata": {},
   "source": [
    "In Python, you can prevent a class from having multiple instances by using a design pattern called the Singleton pattern. The Singleton pattern ensures that a class has only one instance and provides a global point of access to that instance. To achieve this, you can modify the constructor to check if an instance has already been created and return the existing instance if it exists."
   ]
  },
  {
   "cell_type": "code",
   "execution_count": null,
   "metadata": {},
   "outputs": [],
   "source": [
    "class Singleton:\n",
    "    _instance = None  # Class variable to store the instance\n",
    "\n",
    "    def __new__(cls):\n",
    "        # __new__ is a special method that is called before __init__\n",
    "        if cls._instance is None:\n",
    "            # Create a new instance if it doesn't exist\n",
    "            cls._instance = super(Singleton, cls).__new__(cls)\n",
    "        return cls._instance\n",
    "\n",
    "    def __init__(self, data):\n",
    "        if not hasattr(self, 'initialized'):\n",
    "            # Initialize the instance only if it hasn't been initialized before\n",
    "            self.data = data\n",
    "            self.initialized = True\n",
    "\n",
    "# Creating instances of the Singleton class\n",
    "singleton1 = Singleton(\"Instance 1\")\n",
    "singleton2 = Singleton(\"Instance 2\")\n",
    "\n",
    "# Displaying data from both instances\n",
    "print(\"Data from Singleton 1:\", singleton1.data)\n",
    "print(\"Data from Singleton 2:\", singleton2.data)\n",
    "\n",
    "# Checking if both instances are the same\n",
    "print(\"Are instances the same?\", singleton1 is singleton2)\n"
   ]
  },
  {
   "cell_type": "markdown",
   "metadata": {},
   "source": [
    "17. Create a Python class called `Student` with a constructor that takes a list of subjects as a parameter and\n",
    "initializes the `subjects` attribute."
   ]
  },
  {
   "cell_type": "code",
   "execution_count": 21,
   "metadata": {},
   "outputs": [
    {
     "name": "stdout",
     "output_type": "stream",
     "text": [
      "Subjects for Student 1: ['Math', 'English', 'Science']\n"
     ]
    }
   ],
   "source": [
    "class Student:\n",
    "    def __init__(self, subjects):\n",
    "        self.subjects = subjects\n",
    "\n",
    "# Creating an object of the Student class\n",
    "student1 = Student([\"Math\", \"English\", \"Science\"])\n",
    "\n",
    "# Accessing the subjects attribute\n",
    "print(\"Subjects for Student 1:\", student1.subjects)\n"
   ]
  },
  {
   "cell_type": "markdown",
   "metadata": {},
   "source": [
    "18. What is the purpose of the `__del__` method in Python classes, and how does it relate to constructors?"
   ]
  },
  {
   "cell_type": "markdown",
   "metadata": {},
   "source": [
    "The __del__ method in Python is a special method that is called when an object is about to be destroyed or deallocated. It is the counterpart to the __init__ method, which is the constructor responsible for initializing an object. While the __init__ method is automatically called when an object is created, the __del__ method is automatically called when the object is garbage-collected or explicitly deleted using the del statement.\n",
    "\n",
    "The primary purpose of the __del__ method is to define the actions that should be taken just before an object is destroyed. This can involve releasing resources, closing files, or performing any cleanup operations necessary for the object."
   ]
  },
  {
   "cell_type": "code",
   "execution_count": 22,
   "metadata": {},
   "outputs": [
    {
     "name": "stdout",
     "output_type": "stream",
     "text": [
      "Example is created.\n",
      "Example is being destroyed.\n"
     ]
    }
   ],
   "source": [
    "class MyClass:\n",
    "    def __init__(self, name):\n",
    "        self.name = name\n",
    "        print(f\"{self.name} is created.\")\n",
    "\n",
    "    def __del__(self):\n",
    "        print(f\"{self.name} is being destroyed.\")\n",
    "\n",
    "# Creating an object of MyClass\n",
    "obj = MyClass(\"Example\")\n",
    "\n",
    "# Deleting the object explicitly\n",
    "del obj\n"
   ]
  },
  {
   "cell_type": "markdown",
   "metadata": {},
   "source": [
    "19. Explain the use of constructor chaining in Python. Provide a practical example."
   ]
  },
  {
   "cell_type": "markdown",
   "metadata": {},
   "source": [
    "Constructor chaining in Python refers to the process of one constructor calling another constructor in the same class or in its parent class. This allows you to reuse the code present in one constructor in another, reducing redundancy and improving code organization.\n",
    "\n",
    "In Python, constructor chaining is often achieved using the super() function, which is used to call a method from a parent class. By using super().__init__(), you can call the constructor of the parent class, allowing you to initialize attributes common to both the parent and child classes."
   ]
  },
  {
   "cell_type": "code",
   "execution_count": 23,
   "metadata": {},
   "outputs": [
    {
     "name": "stdout",
     "output_type": "stream",
     "text": [
      "Parent Constructor - Name: John\n",
      "Child Constructor - Additional Info: Likes Python\n"
     ]
    }
   ],
   "source": [
    "class Parent:\n",
    "    def __init__(self, name):\n",
    "        self.name = name\n",
    "        print(f\"Parent Constructor - Name: {self.name}\")\n",
    "\n",
    "class Child(Parent):\n",
    "    def __init__(self, name, additional_info):\n",
    "        # Call the constructor of the parent class\n",
    "        super().__init__(name)\n",
    "\n",
    "        # Initialize additional attributes specific to the child class\n",
    "        self.additional_info = additional_info\n",
    "        print(f\"Child Constructor - Additional Info: {self.additional_info}\")\n",
    "\n",
    "# Creating an object of the Child class\n",
    "child_obj = Child(\"John\", \"Likes Python\")\n"
   ]
  },
  {
   "cell_type": "markdown",
   "metadata": {},
   "source": [
    "20. Create a Python class called `Car` with a default constructor that initializes the `make` and `model`\n",
    "attributes. Provide a method to display car information."
   ]
  },
  {
   "cell_type": "code",
   "execution_count": 24,
   "metadata": {},
   "outputs": [
    {
     "name": "stdout",
     "output_type": "stream",
     "text": [
      "Car Information: Make - Unknown Make, Model - Unknown Model\n"
     ]
    }
   ],
   "source": [
    "class Car:\n",
    "    def __init__(self, make=\"Unknown Make\", model=\"Unknown Model\"):\n",
    "        self.make = make\n",
    "        self.model = model\n",
    "\n",
    "    def display_info(self):\n",
    "        print(f\"Car Information: Make - {self.make}, Model - {self.model}\")\n",
    "\n",
    "# Creating an object of the Car class with default values\n",
    "default_car = Car()\n",
    "\n",
    "# Displaying car information\n",
    "default_car.display_info()\n"
   ]
  },
  {
   "cell_type": "markdown",
   "metadata": {},
   "source": [
    "# Inheritance:"
   ]
  },
  {
   "cell_type": "markdown",
   "metadata": {},
   "source": [
    "1. What is inheritance in Python? Explain its significance in object-oriented programming."
   ]
  },
  {
   "cell_type": "markdown",
   "metadata": {},
   "source": [
    "Inheritance is a fundamental concept in object-oriented programming (OOP) that allows a class to inherit properties and behaviors from another class. Inheritance enables the creation of a new class (called the subclass or derived class) based on an existing class (called the superclass or base class). The subclass inherits attributes and methods from the superclass, promoting code reuse and facilitating the creation of a hierarchical structure in the program.\n",
    "\n",
    "Key concepts related to inheritance in Python:\n",
    "\n",
    "Superclass (Base Class):\n",
    "\n",
    "The class whose properties and methods are inherited is called the superclass or base class.\n",
    "It serves as a template for creating subclasses.\n",
    "Subclass (Derived Class):\n",
    "\n",
    "The class that inherits properties and methods from a superclass is called the subclass or derived class.\n",
    "The subclass can add or override methods, providing additional or modified functionality.\n",
    "Syntax for Inheritance in Python:\n",
    "\n",
    "In Python, a subclass is created by specifying the superclass in parentheses after the class name.\n",
    "Example: class Subclass(Superclass):\n",
    "Significance in OOP:\n",
    "\n",
    "Code Reusability: Inheritance promotes code reuse by allowing the subclass to inherit the attributes and methods of the superclass. This reduces redundancy and makes the code more maintainable.\n",
    "Modularity: Inheritance facilitates creating modular and organized code by organizing classes into a hierarchy. Each class can focus on specific functionality, making the code easier to understand and maintain.\n",
    "Polymorphism: Inheritance supports polymorphism, allowing objects of the subclass to be treated as objects of the superclass. This enhances flexibility in the design of the program."
   ]
  },
  {
   "cell_type": "code",
   "execution_count": 25,
   "metadata": {},
   "outputs": [
    {
     "name": "stdout",
     "output_type": "stream",
     "text": [
      "Buddy barks\n",
      "Whiskers meows\n"
     ]
    }
   ],
   "source": [
    "class Animal:\n",
    "    def __init__(self, name):\n",
    "        self.name = name\n",
    "\n",
    "    def speak(self):\n",
    "        print(f\"{self.name} makes a sound\")\n",
    "\n",
    "class Dog(Animal):\n",
    "    def speak(self):\n",
    "        print(f\"{self.name} barks\")\n",
    "\n",
    "class Cat(Animal):\n",
    "    def speak(self):\n",
    "        print(f\"{self.name} meows\")\n",
    "\n",
    "# Creating objects of the subclasses\n",
    "dog = Dog(\"Buddy\")\n",
    "cat = Cat(\"Whiskers\")\n",
    "\n",
    "# Calling the speak method of each object\n",
    "dog.speak()  # Output: Buddy barks\n",
    "cat.speak()  # Output: Whiskers meows\n"
   ]
  },
  {
   "cell_type": "markdown",
   "metadata": {},
   "source": [
    "2. Differentiate between single inheritance and multiple inheritance in Python. Provide examples for each."
   ]
  },
  {
   "cell_type": "markdown",
   "metadata": {},
   "source": [
    "Single Inheritance:\n",
    "\n",
    "In single inheritance, a class can inherit from only one superclass. The derived class (subclass) inherits the attributes and methods of a single base class. This is a straightforward and linear form of inheritance."
   ]
  },
  {
   "cell_type": "code",
   "execution_count": 26,
   "metadata": {},
   "outputs": [
    {
     "name": "stdout",
     "output_type": "stream",
     "text": [
      "Buddy makes a sound\n",
      "Buddy barks\n"
     ]
    }
   ],
   "source": [
    "class Animal:\n",
    "    def __init__(self, name):\n",
    "        self.name = name\n",
    "\n",
    "    def speak(self):\n",
    "        print(f\"{self.name} makes a sound\")\n",
    "\n",
    "class Dog(Animal):\n",
    "    def bark(self):\n",
    "        print(f\"{self.name} barks\")\n",
    "\n",
    "# Creating an object of the derived class\n",
    "dog = Dog(\"Buddy\")\n",
    "\n",
    "# Accessing methods from the base class and the derived class\n",
    "dog.speak()  # Output: Buddy makes a sound\n",
    "dog.bark()   # Output: Buddy barks\n"
   ]
  },
  {
   "cell_type": "markdown",
   "metadata": {},
   "source": [
    "Multiple Inheritance:\n",
    "\n",
    "In multiple inheritance, a class can inherit from more than one superclass. This allows the derived class to inherit attributes and methods from multiple base classes. While it provides flexibility, multiple inheritance can introduce complexities and challenges, such as ambiguity when methods with the same name exist in multiple base classes."
   ]
  },
  {
   "cell_type": "code",
   "execution_count": 27,
   "metadata": {},
   "outputs": [
    {
     "name": "stdout",
     "output_type": "stream",
     "text": [
      "Flying\n",
      "Swimming\n"
     ]
    }
   ],
   "source": [
    "class Bird:\n",
    "    def fly(self):\n",
    "        print(\"Flying\")\n",
    "\n",
    "class Fish:\n",
    "    def swim(self):\n",
    "        print(\"Swimming\")\n",
    "\n",
    "class FlyingFish(Bird, Fish):\n",
    "    pass\n",
    "\n",
    "# Creating an object of the derived class\n",
    "flying_fish = FlyingFish()\n",
    "\n",
    "# Accessing methods from both base classes\n",
    "flying_fish.fly()   # Output: Flying\n",
    "flying_fish.swim()  # Output: Swimming\n"
   ]
  },
  {
   "cell_type": "markdown",
   "metadata": {},
   "source": [
    "3. Create a Python class called `Vehicle` with attributes `color` and `speed`. Then, create a child class called\n",
    "`Car` that inherits from `Vehicle` and adds a `brand` attribute. Provide an example of creating a `Car` object."
   ]
  },
  {
   "cell_type": "code",
   "execution_count": 29,
   "metadata": {},
   "outputs": [
    {
     "name": "stdout",
     "output_type": "stream",
     "text": [
      "Car - Brand: Toyota, Color: Blue, Speed: 60 mph\n"
     ]
    }
   ],
   "source": [
    "class Vehicle:\n",
    "    def __init__(self, color, speed):\n",
    "        self.color = color\n",
    "        self.speed = speed\n",
    "\n",
    "    def display_info(self):\n",
    "        print(f\"Vehicle - Color: {self.color}, Speed: {self.speed} mph\")\n",
    "\n",
    "class Car(Vehicle):\n",
    "    def __init__(self, color, speed, brand):\n",
    "        # Call the constructor of the base class (Vehicle)\n",
    "        super().__init__(color, speed)\n",
    "        # Add an additional attribute specific to the Car class\n",
    "        self.brand = brand\n",
    "\n",
    "    def display_info(self):\n",
    "        # Override the display_info method to include brand information\n",
    "        print(f\"Car - Brand: {self.brand}, Color: {self.color}, Speed: {self.speed} mph\")\n",
    "\n",
    "# Creating a Car object\n",
    "my_car = Car(color=\"Blue\", speed=60, brand=\"Toyota\")\n",
    "\n",
    "# Accessing and displaying information about the Car object\n",
    "my_car.display_info()\n",
    "\n"
   ]
  },
  {
   "cell_type": "markdown",
   "metadata": {},
   "source": [
    "4. Explain the concept of method overriding in inheritance. Provide a practical example."
   ]
  },
  {
   "cell_type": "markdown",
   "metadata": {},
   "source": [
    "Method overriding in inheritance is a concept where a subclass provides a specific implementation for a method that is already defined in its superclass. The overridden method in the subclass has the same name, return type, and parameters as the method in the superclass, but it provides a different or specialized implementation. When an object of the subclass calls the overridden method, the subclass's implementation takes precedence."
   ]
  },
  {
   "cell_type": "code",
   "execution_count": 30,
   "metadata": {},
   "outputs": [
    {
     "name": "stdout",
     "output_type": "stream",
     "text": [
      "Dog barks\n",
      "Cat meows\n"
     ]
    }
   ],
   "source": [
    "class Animal:\n",
    "    def speak(self):\n",
    "        print(\"Animal makes a sound\")\n",
    "\n",
    "class Dog(Animal):\n",
    "    def speak(self):\n",
    "        print(\"Dog barks\")\n",
    "\n",
    "class Cat(Animal):\n",
    "    def speak(self):\n",
    "        print(\"Cat meows\")\n",
    "\n",
    "# Creating objects of the subclasses\n",
    "dog = Dog()\n",
    "cat = Cat()\n",
    "\n",
    "# Calling the overridden method for each object\n",
    "dog.speak()  # Output: Dog barks\n",
    "cat.speak()  # Output: Cat meows\n"
   ]
  },
  {
   "cell_type": "markdown",
   "metadata": {},
   "source": [
    "5. How can you access the methods and attributes of a parent class from a child class in Python? Give an\n",
    "example."
   ]
  },
  {
   "cell_type": "markdown",
   "metadata": {},
   "source": [
    "In Python, you can access the methods and attributes of a parent class from a child class using the super() function. The super() function provides a way to call methods and access attributes of the parent class within the child class. This is particularly useful when you want to extend the functionality of the parent class in the child class while still utilizing the behavior of the parent class"
   ]
  },
  {
   "cell_type": "code",
   "execution_count": 31,
   "metadata": {},
   "outputs": [
    {
     "name": "stdout",
     "output_type": "stream",
     "text": [
      "Parent Class - Name: John\n",
      "Child Class - Additional Info: Likes Python\n"
     ]
    }
   ],
   "source": [
    "class Parent:\n",
    "    def __init__(self, name):\n",
    "        self.name = name\n",
    "\n",
    "    def display_info(self):\n",
    "        print(f\"Parent Class - Name: {self.name}\")\n",
    "\n",
    "class Child(Parent):\n",
    "    def __init__(self, name, additional_info):\n",
    "        # Call the constructor of the parent class using super()\n",
    "        super().__init__(name)\n",
    "        self.additional_info = additional_info\n",
    "\n",
    "    def display_info(self):\n",
    "        # Call the display_info method of the parent class using super()\n",
    "        super().display_info()\n",
    "        print(f\"Child Class - Additional Info: {self.additional_info}\")\n",
    "\n",
    "# Creating an object of the Child class\n",
    "child_obj = Child(\"John\", \"Likes Python\")\n",
    "\n",
    "# Calling the display_info method of the Child class\n",
    "child_obj.display_info()\n"
   ]
  },
  {
   "cell_type": "markdown",
   "metadata": {},
   "source": [
    "6. Discuss the use of the `super()` function in Python inheritance. When and why is it used? Provide an\n",
    "example."
   ]
  },
  {
   "cell_type": "markdown",
   "metadata": {},
   "source": [
    "The super() function in Python is used in the context of inheritance to call methods and access attributes of the superclass (parent class) within the subclass (child class). It provides a convenient way to invoke the methods of the parent class, allowing for code reuse and extension of functionality in the child class.\n",
    "\n",
    "Key points about the super() function:\n",
    "\n",
    "Calling Superclass Methods: super() is often used to call methods of the superclass from within a method of the subclass. This is particularly useful when you want to extend or customize the behavior of a method defined in the parent class.\n",
    "\n",
    "Initialization of Superclass: It is commonly used in the __init__ method of the subclass to ensure proper initialization of attributes in both the subclass and the superclass.\n",
    "\n",
    "Method Resolution Order (MRO): super() respects the Method Resolution Order (MRO), which defines the sequence in which base classes are considered when searching for a method or attribute. This is determined by the C3 linearization algorithm."
   ]
  },
  {
   "cell_type": "code",
   "execution_count": 32,
   "metadata": {},
   "outputs": [
    {
     "name": "stdout",
     "output_type": "stream",
     "text": [
      "Name: Buddy, Breed: Golden Retriever\n",
      "Generic animal sound\n",
      "Dog barks\n"
     ]
    }
   ],
   "source": [
    "class Animal:\n",
    "    def __init__(self, name):\n",
    "        self.name = name\n",
    "\n",
    "    def make_sound(self):\n",
    "        print(\"Generic animal sound\")\n",
    "\n",
    "class Dog(Animal):\n",
    "    def __init__(self, name, breed):\n",
    "        # Call the constructor of the superclass (Animal)\n",
    "        super().__init__(name)\n",
    "        self.breed = breed\n",
    "\n",
    "    def make_sound(self):\n",
    "        # Call the make_sound method of the superclass (Animal)\n",
    "        super().make_sound()\n",
    "        print(\"Dog barks\")\n",
    "\n",
    "# Creating an object of the Dog class\n",
    "my_dog = Dog(name=\"Buddy\", breed=\"Golden Retriever\")\n",
    "\n",
    "# Accessing attributes and calling methods using the object\n",
    "print(f\"Name: {my_dog.name}, Breed: {my_dog.breed}\")\n",
    "my_dog.make_sound()\n"
   ]
  },
  {
   "cell_type": "markdown",
   "metadata": {},
   "source": [
    "7. Create a Python class called `Animal` with a method `speak()`. Then, create child classes `Dog` and `Cat`"
   ]
  },
  {
   "cell_type": "code",
   "execution_count": 33,
   "metadata": {},
   "outputs": [
    {
     "name": "stdout",
     "output_type": "stream",
     "text": [
      "Dog barks\n",
      "Cat meows\n"
     ]
    }
   ],
   "source": [
    "class Animal:\n",
    "    def speak(self):\n",
    "        print(\"Generic animal sound\")\n",
    "\n",
    "class Dog(Animal):\n",
    "    def speak(self):\n",
    "        print(\"Dog barks\")\n",
    "\n",
    "class Cat(Animal):\n",
    "    def speak(self):\n",
    "        print(\"Cat meows\")\n",
    "\n",
    "# Creating objects of the subclasses\n",
    "dog = Dog()\n",
    "cat = Cat()\n",
    "\n",
    "# Calling the speak method for each object\n",
    "dog.speak()  # Output: Dog barks\n",
    "cat.speak()  # Output: Cat meows\n"
   ]
  },
  {
   "cell_type": "markdown",
   "metadata": {},
   "source": [
    "8. Explain the role of the `isinstance()` function in Python and how it relates to inheritance."
   ]
  },
  {
   "cell_type": "markdown",
   "metadata": {},
   "source": [
    "The isinstance() function in Python is used to check whether an object belongs to a particular class or is an instance of a class. It also takes into account class inheritance, meaning that it returns True if the object is an instance of the specified class or any of its subclasses.\n",
    "GENERAL syntax\n",
    "isinstance(object, classinfo)\n",
    "\n",
    "object: The object to be checked.\n",
    "classinfo: A class, a tuple of classes, or a type. The function returns True if the object is an instance of any of the specified classes."
   ]
  },
  {
   "cell_type": "code",
   "execution_count": 34,
   "metadata": {},
   "outputs": [
    {
     "name": "stdout",
     "output_type": "stream",
     "text": [
      "True\n",
      "True\n",
      "True\n",
      "True\n"
     ]
    }
   ],
   "source": [
    "class Animal:\n",
    "    pass\n",
    "\n",
    "class Dog(Animal):\n",
    "    pass\n",
    "\n",
    "class Cat(Animal):\n",
    "    pass\n",
    "\n",
    "# Creating objects of the classes\n",
    "animal_obj = Animal()\n",
    "dog_obj = Dog()\n",
    "cat_obj = Cat()\n",
    "\n",
    "# Using isinstance to check instances and inheritance\n",
    "print(isinstance(animal_obj, Animal))  # Output: True\n",
    "print(isinstance(dog_obj, Animal))     # Output: True (Dog is a subclass of Animal)\n",
    "print(isinstance(cat_obj, Animal))     # Output: True (Cat is a subclass of Animal)\n",
    "\n",
    "# Checking for multiple classes\n",
    "print(isinstance(cat_obj, (Animal, Dog)))  # Output: False (Cat is not a Dog)\n"
   ]
  },
  {
   "cell_type": "markdown",
   "metadata": {},
   "source": [
    "9. What is the purpose of the `issubclass()` function in Python? Provide an example."
   ]
  },
  {
   "cell_type": "markdown",
   "metadata": {},
   "source": [
    "The issubclass() function in Python is used to check whether a class is a subclass of another class. It returns True if the first argument is a subclass of the second argument, and False otherwise. This function is particularly useful when you want to verify the inheritance relationship between classes.\n",
    "General Syntax:\n",
    "    \n",
    "issubclass(class, classinfo)\n",
    "\n",
    "class: The class to be checked for being a subclass.\n",
    "classinfo: A class, a tuple of classes, or a type. The function returns True if the first argument is a subclass of any of the specified classes."
   ]
  },
  {
   "cell_type": "code",
   "execution_count": 35,
   "metadata": {},
   "outputs": [
    {
     "name": "stdout",
     "output_type": "stream",
     "text": [
      "True\n",
      "True\n",
      "True\n",
      "True\n",
      "False\n"
     ]
    }
   ],
   "source": [
    "class Animal:\n",
    "    pass\n",
    "\n",
    "class Mammal(Animal):\n",
    "    pass\n",
    "\n",
    "class Dog(Mammal):\n",
    "    pass\n",
    "\n",
    "# Checking subclass relationships\n",
    "print(issubclass(Mammal, Animal))  # Output: True (Mammal is a subclass of Animal)\n",
    "print(issubclass(Dog, Animal))      # Output: True (Dog is a subclass of Animal)\n",
    "print(issubclass(Dog, Mammal))      # Output: True (Dog is a subclass of Mammal)\n",
    "\n",
    "# Checking with a tuple of classes\n",
    "print(issubclass(Dog, (Animal, Mammal)))  # Output: True (Dog is a subclass of Mammal)\n",
    "print(issubclass(Animal, (Mammal, Dog)))  # Output: False (Animal is not a subclass of Mammal or Dog)\n"
   ]
  },
  {
   "cell_type": "markdown",
   "metadata": {},
   "source": [
    "10. Discuss the concept of constructor inheritance in Python. How are constructors inherited in child classes?"
   ]
  },
  {
   "cell_type": "markdown",
   "metadata": {},
   "source": [
    "Constructor inheritance in Python refers to the ability of a child class to inherit the constructor (__init__ method) from its parent class. When a child class is created, it can choose to use the constructor of its parent class, ensuring that attributes are initialized properly in both the parent and child classes. This is achieved using the super() function to call the constructor of the parent class.\n",
    "\n",
    "Here's a detailed explanation of constructor inheritance in Python:\n",
    "\n",
    "Inheriting Constructors:\n",
    "\n",
    "A child class automatically inherits the constructor of its parent class if the child class does not have its own constructor.\n",
    "If the child class has its own constructor, it can explicitly call the constructor of the parent class using super().__init__(...).\n",
    "Calling the Parent Constructor:\n",
    "\n",
    "Inside the child class constructor, super().__init__(...) is used to call the constructor of the parent class.\n",
    "This ensures that the initialization logic present in the parent class constructor is executed.\n",
    "Parameter Passing:\n",
    "\n",
    "The child class constructor can have additional parameters beyond those in the parent class constructor.\n",
    "When calling the parent class constructor using super(), the child class can pass the required parameters.\n",
    "Order of Execution:\n",
    "\n",
    "The order of execution involves first calling the constructor of the parent class and then the constructor of the child class.\n",
    "This ensures that the initialization of attributes in the parent class is completed before the child class adds its own attributes."
   ]
  },
  {
   "cell_type": "code",
   "execution_count": 36,
   "metadata": {},
   "outputs": [
    {
     "name": "stdout",
     "output_type": "stream",
     "text": [
      "Parent Constructor - Name: John\n",
      "Child Constructor - Additional Info: Likes Python\n"
     ]
    }
   ],
   "source": [
    "class Parent:\n",
    "    def __init__(self, name):\n",
    "        self.name = name\n",
    "        print(f\"Parent Constructor - Name: {self.name}\")\n",
    "\n",
    "class Child(Parent):\n",
    "    def __init__(self, name, additional_info):\n",
    "        # Call the constructor of the parent class using super()\n",
    "        super().__init__(name)\n",
    "        self.additional_info = additional_info\n",
    "        print(f\"Child Constructor - Additional Info: {self.additional_info}\")\n",
    "\n",
    "# Creating an object of the Child class\n",
    "child_obj = Child(name=\"John\", additional_info=\"Likes Python\")\n"
   ]
  },
  {
   "cell_type": "markdown",
   "metadata": {},
   "source": [
    "11. Create a Python class called `Shape` with a method `area()` that calculates the area of a shape. Then, create child classes `Circle` and `Rectangle` that inherit from `Shape` and implement the `area()` method\n",
    "accordingly. Provide an example."
   ]
  },
  {
   "cell_type": "code",
   "execution_count": 37,
   "metadata": {},
   "outputs": [
    {
     "name": "stdout",
     "output_type": "stream",
     "text": [
      "Circle Area: 78.54\n",
      "Rectangle Area: 24\n"
     ]
    }
   ],
   "source": [
    "import math\n",
    "\n",
    "class Shape:\n",
    "    def area(self):\n",
    "        pass  # Placeholder method to be overridden by subclasses\n",
    "\n",
    "class Circle(Shape):\n",
    "    def __init__(self, radius):\n",
    "        self.radius = radius\n",
    "\n",
    "    def area(self):\n",
    "        return math.pi * self.radius**2\n",
    "\n",
    "class Rectangle(Shape):\n",
    "    def __init__(self, width, height):\n",
    "        self.width = width\n",
    "        self.height = height\n",
    "\n",
    "    def area(self):\n",
    "        return self.width * self.height\n",
    "\n",
    "# Example usage:\n",
    "circle = Circle(radius=5)\n",
    "rectangle = Rectangle(width=4, height=6)\n",
    "\n",
    "# Calling the area() method for each object\n",
    "print(f\"Circle Area: {circle.area():.2f}\")\n",
    "print(f\"Rectangle Area: {rectangle.area()}\")\n"
   ]
  },
  {
   "cell_type": "markdown",
   "metadata": {},
   "source": [
    "12. Explain the use of abstract base classes (ABCs) in Python and how they relate to inheritance. Provide an\n",
    "example using the `abc` module."
   ]
  },
  {
   "cell_type": "markdown",
   "metadata": {},
   "source": [
    "Abstract Base Classes (ABCs) in Python are a way to define abstract classes and abstract methods, providing a form of interface for classes that inherit from them. An abstract class cannot be instantiated on its own, and it serves as a blueprint for other classes. Abstract methods defined in an abstract class must be implemented by the concrete (non-abstract) subclasses.\n",
    "\n",
    "The abc module in Python provides the ABC (Abstract Base Class) and abstractmethod decorator to create and define abstract base classes and abstract methods."
   ]
  },
  {
   "cell_type": "code",
   "execution_count": 38,
   "metadata": {},
   "outputs": [
    {
     "name": "stdout",
     "output_type": "stream",
     "text": [
      "Circle Area: 78.54\n",
      "Rectangle Area: 24\n"
     ]
    }
   ],
   "source": [
    "from abc import ABC, abstractmethod\n",
    "import math\n",
    "\n",
    "class Shape(ABC):\n",
    "    @abstractmethod\n",
    "    def area(self):\n",
    "        pass\n",
    "\n",
    "class Circle(Shape):\n",
    "    def __init__(self, radius):\n",
    "        self.radius = radius\n",
    "\n",
    "    def area(self):\n",
    "        return math.pi * self.radius**2\n",
    "\n",
    "class Rectangle(Shape):\n",
    "    def __init__(self, width, height):\n",
    "        self.width = width\n",
    "        self.height = height\n",
    "\n",
    "    def area(self):\n",
    "        return self.width * self.height\n",
    "\n",
    "# Example usage:\n",
    "circle = Circle(radius=5)\n",
    "rectangle = Rectangle(width=4, height=6)\n",
    "\n",
    "# Calling the area() method for each object\n",
    "print(f\"Circle Area: {circle.area():.2f}\")\n",
    "print(f\"Rectangle Area: {rectangle.area()}\")\n"
   ]
  },
  {
   "cell_type": "markdown",
   "metadata": {},
   "source": [
    "13. How can you prevent a child class from modifying certain attributes or methods inherited from a parent\n",
    "class in Python?"
   ]
  },
  {
   "cell_type": "markdown",
   "metadata": {},
   "source": [
    "In Python, you can prevent a child class from modifying certain attributes or methods inherited from a parent class by making those attributes or methods private or by using name mangling. This helps in encapsulating the implementation details and discourages modification from outside the class. Here are two approaches:\n",
    "\n",
    "1) Private Attributes or Methods:\n",
    "\n",
    "Prefix the attributes or methods with a double underscore (__). This makes them \"private\" in the sense that their names are mangled, and they are not easily accessible from outside the class.\n",
    "\n",
    "2) Name Mangling:\n",
    "\n",
    "Use a single leading underscore (_) followed by the class name as a prefix to the attribute or method. This is a form of name mangling that makes the attribute or method less accessible from outside the class.\n",
    "\n"
   ]
  },
  {
   "cell_type": "code",
   "execution_count": 39,
   "metadata": {},
   "outputs": [
    {
     "name": "stdout",
     "output_type": "stream",
     "text": [
      "42\n"
     ]
    }
   ],
   "source": [
    "#private attributes/methods \n",
    "class Parent:\n",
    "    def __init__(self):\n",
    "        self.__private_attribute = 42\n",
    "\n",
    "    def get_private_attribute(self):\n",
    "        return self.__private_attribute\n",
    "\n",
    "class Child(Parent):\n",
    "    def __init__(self):\n",
    "        super().__init__()\n",
    "\n",
    "        # Attempting to modify the private attribute from the child class\n",
    "        # would result in an AttributeError.\n",
    "        # Uncommenting the line below would raise an error.\n",
    "        # self.__private_attribute = 99\n",
    "\n",
    "# Example usage:\n",
    "child = Child()\n",
    "print(child.get_private_attribute())  # Output: 42\n"
   ]
  },
  {
   "cell_type": "code",
   "execution_count": 40,
   "metadata": {},
   "outputs": [
    {
     "name": "stdout",
     "output_type": "stream",
     "text": [
      "99\n"
     ]
    }
   ],
   "source": [
    "#namemangling\n",
    "class Parent:\n",
    "    def __init__(self):\n",
    "        self._protected_attribute = 42\n",
    "\n",
    "class Child(Parent):\n",
    "    def __init__(self):\n",
    "        super().__init__()\n",
    "\n",
    "        # Attempting to modify the \"protected\" attribute from the child class\n",
    "        # would still be possible but is considered a convention not to do so.\n",
    "        self._protected_attribute = 99\n",
    "\n",
    "# Example usage:\n",
    "child = Child()\n",
    "print(child._protected_attribute)  # Output: 99\n"
   ]
  },
  {
   "cell_type": "markdown",
   "metadata": {},
   "source": [
    "14. Create a Python class called `Employee` with attributes `name` and `salary`. Then, create a child class\n",
    "`Manager` that inherits from `Employee` and adds an attribute `department`. Provide an example."
   ]
  },
  {
   "cell_type": "code",
   "execution_count": 42,
   "metadata": {},
   "outputs": [
    {
     "name": "stdout",
     "output_type": "stream",
     "text": [
      "Employee: John Doe, Salary: 50000\n",
      "Manager: Alice Smith, Salary: 70000, Department: Marketing\n"
     ]
    }
   ],
   "source": [
    "class Employee:\n",
    "    def __init__(self, name, salary):\n",
    "        self.name = name\n",
    "        self.salary = salary\n",
    "\n",
    "class Manager(Employee):\n",
    "    def __init__(self, name, salary, department):\n",
    "        # Call the constructor of the parent class (Employee)\n",
    "        super().__init__(name, salary)\n",
    "        self.department = department\n",
    "\n",
    "# Example usage:\n",
    "employee = Employee(name=\"John Doe\", salary=50000)\n",
    "manager = Manager(name=\"Alice Smith\", salary=70000, department=\"Marketing\")\n",
    "\n",
    "# Accessing attributes for the Employee object\n",
    "print(f\"Employee: {employee.name}, Salary: {employee.salary}\")\n",
    "\n",
    "# Accessing attributes for the Manager object\n",
    "print(f\"Manager: {manager.name}, Salary: {manager.salary}, Department: {manager.department}\")\n"
   ]
  },
  {
   "cell_type": "markdown",
   "metadata": {},
   "source": [
    "15. Discuss the concept of method overloading in Python inheritance. How does it differ from method\n",
    "overriding?\n"
   ]
  },
  {
   "cell_type": "markdown",
   "metadata": {},
   "source": [
    "Method overloading and method overriding are two distinct concepts in object-oriented programming, and they serve different purposes in the context of Python inheritance.\n",
    "\n",
    "Method Overloading:\n",
    "Definition:\n",
    "Method overloading refers to the ability to define multiple methods in the same class with the same name but different parameters. The methods have the same name but differ in the type or number of their parameters"
   ]
  },
  {
   "cell_type": "code",
   "execution_count": null,
   "metadata": {},
   "outputs": [],
   "source": [
    "class MathOperations:\n",
    "    def add(self, x, y):\n",
    "        return x + y\n",
    "\n",
    "    def add(self, x, y, z):\n",
    "        return x + y + z\n",
    "\n",
    "# Example usage:\n",
    "math_ops = MathOperations()\n",
    "result1 = math_ops.add(1, 2)\n",
    "result2 = math_ops.add(1, 2, 3)\n",
    "\n"
   ]
  },
  {
   "cell_type": "markdown",
   "metadata": {},
   "source": [
    "Differences from Method Overriding:\n",
    "\n",
    "Method overloading occurs within the same class, allowing multiple methods with the same name but different parameters.\n",
    "Python does not natively support method overloading based on the number or type of parameters like some other languages (e.g., Java). However, you can achieve a similar effect by using default parameter values or variable-length argument lists.\n",
    "\n",
    "Method Overriding:\n",
    "Definition:\n",
    "Method overriding refers to the ability of a child class to provide a specific implementation for a method that is already defined in its parent class. The method in the child class has the same name and signature as the method in the parent class.\n",
    "\n"
   ]
  },
  {
   "cell_type": "code",
   "execution_count": 45,
   "metadata": {},
   "outputs": [
    {
     "name": "stdout",
     "output_type": "stream",
     "text": [
      "Dog barks\n"
     ]
    }
   ],
   "source": [
    "class Animal:\n",
    "    def make_sound(self):\n",
    "        print(\"Generic animal sound\")\n",
    "\n",
    "class Dog(Animal):\n",
    "    def make_sound(self):\n",
    "        print(\"Dog barks\")\n",
    "\n",
    "# Example usage:\n",
    "dog = Dog()\n",
    "dog.make_sound()  # Output: Dog barks\n"
   ]
  },
  {
   "cell_type": "markdown",
   "metadata": {},
   "source": [
    "16. Explain the purpose of the `__init__()` method in Python inheritance and how it is utilized in child classes."
   ]
  },
  {
   "cell_type": "markdown",
   "metadata": {},
   "source": [
    "The __init__() method in Python is a special method (also known as a constructor) that is automatically called when an object of a class is created. It is used to initialize the attributes or properties of the object. In the context of inheritance, the __init__() method plays a crucial role in ensuring proper initialization of both the attributes of the current class and the attributes inherited from the parent class.\n",
    "\n",
    "Purpose of __init__() in Inheritance:\n",
    "Initialization of Inherited Attributes:\n",
    "\n",
    "When a child class is created, its __init__() method can call the __init__() method of the parent class using super().__init__(...). This ensures that the attributes inherited from the parent class are properly initialized.\n",
    "Additional Initialization:\n",
    "\n",
    "The __init__() method of the child class can include additional parameters and initialization logic specific to the child class. This allows the child class to extend or customize the initialization process beyond what is defined in the parent class."
   ]
  },
  {
   "cell_type": "code",
   "execution_count": 46,
   "metadata": {},
   "outputs": [
    {
     "name": "stdout",
     "output_type": "stream",
     "text": [
      "Species: Canine, Breed: Golden Retriever\n"
     ]
    }
   ],
   "source": [
    "class Animal:\n",
    "    def __init__(self, species):\n",
    "        self.species = species\n",
    "\n",
    "class Dog(Animal):\n",
    "    def __init__(self, species, breed):\n",
    "        # Call the constructor of the parent class (Animal)\n",
    "        super().__init__(species)\n",
    "        \n",
    "        # Initialize additional attribute specific to Dog\n",
    "        self.breed = breed\n",
    "\n",
    "# Example usage:\n",
    "dog = Dog(species=\"Canine\", breed=\"Golden Retriever\")\n",
    "print(f\"Species: {dog.species}, Breed: {dog.breed}\")\n"
   ]
  },
  {
   "cell_type": "markdown",
   "metadata": {},
   "source": [
    "17. Create a Python class called `Bird` with a method `fly()`. Then, create child classes `Eagle` and `Sparrow` that inherit from `Bird` and implement the `fly()` method differently. Provide an example of using these\n",
    "classes."
   ]
  },
  {
   "cell_type": "markdown",
   "metadata": {},
   "source": [
    "Here's an example of a Bird class with a fly() method, along with child classes Eagle and Sparrow that inherit from Bird and implement the fly() method differently:"
   ]
  },
  {
   "cell_type": "code",
   "execution_count": 47,
   "metadata": {},
   "outputs": [
    {
     "name": "stdout",
     "output_type": "stream",
     "text": [
      "Bird is flying\n",
      "Eagle soars high in the sky\n",
      "Sparrow flits from branch to branch\n"
     ]
    }
   ],
   "source": [
    "class Bird:\n",
    "    def fly(self):\n",
    "        print(\"Bird is flying\")\n",
    "\n",
    "class Eagle(Bird):\n",
    "    def fly(self):\n",
    "        print(\"Eagle soars high in the sky\")\n",
    "\n",
    "class Sparrow(Bird):\n",
    "    def fly(self):\n",
    "        print(\"Sparrow flits from branch to branch\")\n",
    "\n",
    "# Example usage:\n",
    "bird = Bird()\n",
    "eagle = Eagle()\n",
    "sparrow = Sparrow()\n",
    "\n",
    "# Calling the fly() method for each object\n",
    "bird.fly()    # Output: Bird is flying\n",
    "eagle.fly()   # Output: Eagle soars high in the sky\n",
    "sparrow.fly() # Output: Sparrow flits from branch to branch\n"
   ]
  },
  {
   "cell_type": "markdown",
   "metadata": {},
   "source": [
    "The Bird class has a fly() method with a generic implementation for any bird.\n",
    "The Eagle class is a subclass of Bird and overrides the fly() method with a specific implementation for an eagle.\n",
    "The Sparrow class is also a subclass of Bird and provides its own implementation for the fly() method, which is specific to a sparrow's way of flying.\n",
    "When objects of the Bird, Eagle, and Sparrow classes are created and the fly() method is called, the overridden methods in the respective subclasses are executed, providing specialized behavior based on the type of bird."
   ]
  },
  {
   "cell_type": "markdown",
   "metadata": {},
   "source": [
    "18. What is the \"diamond problem\" in multiple inheritance, and how does Python address it?"
   ]
  },
  {
   "cell_type": "markdown",
   "metadata": {},
   "source": [
    "The \"diamond problem\" is a challenge that arises in programming languages that support multiple inheritance. It occurs when a class inherits from two classes that have a common ancestor. If a method or attribute is invoked that is present in both parent classes, it becomes ambiguous for the compiler or interpreter to determine which version of the method or attribute to use.\n",
    "\n",
    "      A\n",
    "     / \\\n",
    "    B   C\n",
    "     \\ /\n",
    "      D\n",
    "In this example, class D inherits from both classes B and C, which in turn inherit from class A. If both B and C have a method or attribute with the same name, it becomes unclear which one should be used in D.\n",
    "\n",
    "How Python Addresses the Diamond Problem:\n",
    "Python addresses the diamond problem by implementing a mechanism called C3 linearization, which is based on the C3 superclass linearization algorithm. This algorithm defines a consistent and predictable order in which base classes are considered during method resolution.\n",
    "\n",
    "In Python, the C3 linearization algorithm is used in the method resolution order (MRO). The MRO defines the order in which base classes are searched when looking for a method or attribute. The super() function also relies on the MRO to determine the next class in the hierarchy.\n",
    "\n"
   ]
  },
  {
   "cell_type": "code",
   "execution_count": 48,
   "metadata": {},
   "outputs": [
    {
     "name": "stdout",
     "output_type": "stream",
     "text": [
      "Method in class B\n",
      "Method in class C\n",
      "Method in class A\n"
     ]
    }
   ],
   "source": [
    "class A:\n",
    "    def method(self):\n",
    "        print(\"Method in class A\")\n",
    "\n",
    "class B(A):\n",
    "    def method(self):\n",
    "        print(\"Method in class B\")\n",
    "        super().method()\n",
    "\n",
    "class C(A):\n",
    "    def method(self):\n",
    "        print(\"Method in class C\")\n",
    "        super().method()\n",
    "\n",
    "class D(B, C):\n",
    "    pass\n",
    "\n",
    "# Example usage:\n",
    "d = D()\n",
    "d.method()\n"
   ]
  },
  {
   "cell_type": "markdown",
   "metadata": {},
   "source": [
    "19. Discuss the concept of \"is-a\" and \"has-a\" relationships in inheritance, and provide examples of each."
   ]
  },
  {
   "cell_type": "markdown",
   "metadata": {},
   "source": [
    "\"Is-a\" Relationship:\n",
    "The \"is-a\" relationship represents inheritance, where a subclass is a specialized version of its superclass. This relationship is often described in terms of categories and subcategories"
   ]
  },
  {
   "cell_type": "code",
   "execution_count": 49,
   "metadata": {},
   "outputs": [
    {
     "name": "stdout",
     "output_type": "stream",
     "text": [
      "Animal speaks\n",
      "Dog barks\n"
     ]
    }
   ],
   "source": [
    "class Animal:\n",
    "    def speak(self):\n",
    "        print(\"Animal speaks\")\n",
    "\n",
    "class Dog(Animal):\n",
    "    def bark(self):\n",
    "        print(\"Dog barks\")\n",
    "\n",
    "# Example usage:\n",
    "dog = Dog()\n",
    "dog.speak()  # Output: Animal speaks\n",
    "dog.bark()   # Output: Dog barks\n"
   ]
  },
  {
   "cell_type": "markdown",
   "metadata": {},
   "source": [
    "\"Has-a\" Relationship:\n",
    "The \"has-a\" relationship represents composition or aggregation, where one class has an instance of another class as a part of its structure. This relationship is often used to model containment or association between classes."
   ]
  },
  {
   "cell_type": "code",
   "execution_count": 50,
   "metadata": {},
   "outputs": [
    {
     "name": "stdout",
     "output_type": "stream",
     "text": [
      "Engine started\n"
     ]
    }
   ],
   "source": [
    "class Engine:\n",
    "    def start(self):\n",
    "        print(\"Engine started\")\n",
    "\n",
    "class Car:\n",
    "    def __init__(self):\n",
    "        self.engine = Engine()\n",
    "\n",
    "    def start_engine(self):\n",
    "        self.engine.start()\n",
    "\n",
    "# Example usage:\n",
    "car = Car()\n",
    "car.start_engine()  # Output: Engine started\n"
   ]
  },
  {
   "cell_type": "markdown",
   "metadata": {},
   "source": [
    "20. Create a Python class hierarchy for a university system. Start with a base class `Person` and create child\n",
    "classes `Student` and `Professor`, each with their own attributes and methods. Provide an example of using\n",
    "these classes in a university context."
   ]
  },
  {
   "cell_type": "code",
   "execution_count": 51,
   "metadata": {},
   "outputs": [
    {
     "name": "stdout",
     "output_type": "stream",
     "text": [
      "Name: Alice, Age: 20\n",
      "Student ID: S12345\n",
      "\n",
      "\n",
      "Name: Dr. Smith, Age: 45\n",
      "Employee ID: P98765\n",
      "\n",
      "\n",
      "Student is studying\n",
      "Professor is teaching\n"
     ]
    }
   ],
   "source": [
    "class Person:\n",
    "    def __init__(self, name, age):\n",
    "        self.name = name\n",
    "        self.age = age\n",
    "\n",
    "    def display_info(self):\n",
    "        print(f\"Name: {self.name}, Age: {self.age}\")\n",
    "\n",
    "class Student(Person):\n",
    "    def __init__(self, name, age, student_id):\n",
    "        super().__init__(name, age)\n",
    "        self.student_id = student_id\n",
    "\n",
    "    def display_info(self):\n",
    "        super().display_info()\n",
    "        print(f\"Student ID: {self.student_id}\")\n",
    "\n",
    "    def study(self):\n",
    "        print(\"Student is studying\")\n",
    "\n",
    "class Professor(Person):\n",
    "    def __init__(self, name, age, employee_id):\n",
    "        super().__init__(name, age)\n",
    "        self.employee_id = employee_id\n",
    "\n",
    "    def display_info(self):\n",
    "        super().display_info()\n",
    "        print(f\"Employee ID: {self.employee_id}\")\n",
    "\n",
    "    def teach(self):\n",
    "        print(\"Professor is teaching\")\n",
    "\n",
    "# Example usage:\n",
    "student1 = Student(name=\"Alice\", age=20, student_id=\"S12345\")\n",
    "professor1 = Professor(name=\"Dr. Smith\", age=45, employee_id=\"P98765\")\n",
    "\n",
    "# Display information for both student and professor\n",
    "student1.display_info()\n",
    "print(\"\\n\")\n",
    "professor1.display_info()\n",
    "\n",
    "# Student studying and Professor teaching\n",
    "print(\"\\n\")\n",
    "student1.study()\n",
    "professor1.teach()\n"
   ]
  },
  {
   "cell_type": "markdown",
   "metadata": {},
   "source": [
    "# Encapsulation:"
   ]
  },
  {
   "cell_type": "markdown",
   "metadata": {},
   "source": [
    "1. Explain the concept of encapsulation in Python. What is its role in object-oriented programming?"
   ]
  },
  {
   "cell_type": "markdown",
   "metadata": {},
   "source": [
    "Encapsulation is one of the fundamental principles of object-oriented programming (OOP) and is a key concept in Python. It refers to the bundling of data (attributes) and the methods that operate on that data into a single unit known as a class. Encapsulation provides a way to restrict access to certain components of an object and prevent the accidental modification of its internal state.\n",
    "\n",
    "Key Points of Encapsulation:\n",
    "Data Hiding:\n",
    "\n",
    "Encapsulation allows the hiding of the implementation details of an object from the outside world. The internal state of an object, represented by its attributes, is typically marked as private, and access to it is controlled by methods.\n",
    "Access Modifiers:\n",
    "\n",
    "In Python, access to attributes and methods can be controlled using access modifiers such as private (__), protected (_), and public (default). The use of these modifiers indicates the intended level of visibility and accessibility.\n",
    "Getters and Setters:\n",
    "\n",
    "Encapsulation often involves the use of getter and setter methods. Getter methods allow external code to access the values of private attributes, while setter methods provide controlled ways to modify those values, allowing validation or additional logic."
   ]
  },
  {
   "cell_type": "code",
   "execution_count": 52,
   "metadata": {},
   "outputs": [
    {
     "name": "stdout",
     "output_type": "stream",
     "text": [
      "Account Holder: 1000\n",
      "Balance: 1300\n"
     ]
    }
   ],
   "source": [
    "class BankAccount:\n",
    "    def __init__(self, account_holder, balance):\n",
    "        self.__account_holder = account_holder  # Private attribute\n",
    "        self.__balance = balance  # Private attribute\n",
    "\n",
    "    def get_balance(self):\n",
    "        return self.__balance\n",
    "\n",
    "    def deposit(self, amount):\n",
    "        if amount > 0:\n",
    "            self.__balance += amount\n",
    "\n",
    "    def withdraw(self, amount):\n",
    "        if 0 < amount <= self.__balance:\n",
    "            self.__balance -= amount\n",
    "\n",
    "# Example usage:\n",
    "account = BankAccount(account_holder=\"John Doe\", balance=1000)\n",
    "\n",
    "# Accessing attributes indirectly through getter method\n",
    "print(\"Account Holder:\", account.get_balance())  # Output: John Doe\n",
    "\n",
    "# Depositing and withdrawing using public methods\n",
    "account.deposit(500)\n",
    "account.withdraw(200)\n",
    "\n",
    "# Accessing the balance indirectly through getter method\n",
    "print(\"Balance:\", account.get_balance())  # Output: 1300\n"
   ]
  },
  {
   "cell_type": "markdown",
   "metadata": {},
   "source": [
    "2. Describe the key principles of encapsulation, including access control and data hiding."
   ]
  },
  {
   "cell_type": "markdown",
   "metadata": {},
   "source": [
    "Encapsulation is a fundamental concept in object-oriented programming (OOP) that involves bundling data (attributes) and the methods that operate on that data into a single unit known as a class. The key principles of encapsulation include access control and data hiding.\n",
    "\n",
    "1. Access Control:\n",
    "Access control refers to the ability to restrict or allow access to the components (attributes and methods) of a class. In Python, access control is implemented using access modifiers. The three main access modifiers are:\n",
    "\n",
    "Public (No Modifier):\n",
    "\n",
    "Public components are accessible from anywhere, both within and outside the class.\n",
    "There is no special syntax for defining public components; they are the default."
   ]
  },
  {
   "cell_type": "code",
   "execution_count": 53,
   "metadata": {},
   "outputs": [],
   "source": [
    "class MyClass:\n",
    "    def public_method(self):\n",
    "        print(\"This is a public method\")\n"
   ]
  },
  {
   "cell_type": "code",
   "execution_count": 56,
   "metadata": {},
   "outputs": [],
   "source": [
    "#Protected (_ Prefix):\n",
    "\n",
    "#Protected components are intended for use within the class and its subclasses. They are not intended for use outside the class, but there is no strict enforcement in Python\n",
    "\n",
    "class MyClass:\n",
    "    def _protected_method(self):\n",
    "        print(\"This is a protected method\")\n"
   ]
  },
  {
   "cell_type": "code",
   "execution_count": 57,
   "metadata": {},
   "outputs": [],
   "source": [
    "#Private (__ Double Underscore Prefix):\n",
    "\n",
    "#Private components are intended to be used only within the class. They are not accessible from outside the class, and their names are subject to name mangling.\n",
    "\n",
    "class MyClass:\n",
    "    def __private_method(self):\n",
    "        print(\"This is a private method\")\n"
   ]
  },
  {
   "cell_type": "markdown",
   "metadata": {},
   "source": [
    "2. Data Hiding:\n",
    "Data hiding is the practice of making the details of an object's internal state inaccessible from outside the class. This is achieved by marking attributes as private and providing controlled access through getter and setter methods.\n",
    "\n",
    "Getter Methods:\n",
    "\n",
    "Getter methods provide read-only access to the private attributes. They allow external code to retrieve the values of private attributes.\n",
    "\n",
    "Setter Methods:\n",
    "\n",
    "Setter methods provide controlled write access to the private attributes. They allow external code to modify the values of private attributes while enforcing any validation or logic.\n",
    "\n"
   ]
  },
  {
   "cell_type": "code",
   "execution_count": 58,
   "metadata": {},
   "outputs": [],
   "source": [
    "#getter methods\n",
    "class BankAccount:\n",
    "    def __init__(self, balance):\n",
    "        self.__balance = balance\n",
    "\n",
    "    def get_balance(self):\n",
    "        return self.__balance\n"
   ]
  },
  {
   "cell_type": "code",
   "execution_count": 59,
   "metadata": {},
   "outputs": [],
   "source": [
    "#setter methods\n",
    "class BankAccount:\n",
    "    def __init__(self, balance):\n",
    "        self.__balance = balance\n",
    "\n",
    "    def set_balance(self, new_balance):\n",
    "        if new_balance >= 0:\n",
    "            self.__balance = new_balance\n"
   ]
  },
  {
   "cell_type": "markdown",
   "metadata": {},
   "source": [
    "3. How can you achieve encapsulation in Python classes? Provide an example."
   ]
  },
  {
   "cell_type": "markdown",
   "metadata": {},
   "source": [
    "Encapsulation in Python can be achieved by using access modifiers to control the visibility of attributes and methods in a class. The two commonly used access modifiers are underscore (_) for protected attributes/methods and double underscore (__) for private attributes/methods. Additionally, getter and setter methods can be used to control access to attributes and provide a way to interact with them."
   ]
  },
  {
   "cell_type": "code",
   "execution_count": 60,
   "metadata": {},
   "outputs": [
    {
     "name": "stdout",
     "output_type": "stream",
     "text": [
      "Make: Toyota\n",
      "Model: Camry\n",
      "Year: 2020\n",
      "Toyota Camry (2022)\n"
     ]
    }
   ],
   "source": [
    "class Car:\n",
    "    def __init__(self, make, model, year):\n",
    "        # Public attributes\n",
    "        self.make = make\n",
    "        self.model = model\n",
    "\n",
    "        # Private attribute\n",
    "        self.__year = year\n",
    "\n",
    "    # Getter method for the private attribute\n",
    "    def get_year(self):\n",
    "        return self.__year\n",
    "\n",
    "    # Setter method for the private attribute\n",
    "    def set_year(self, new_year):\n",
    "        if new_year >= 1900:\n",
    "            self.__year = new_year\n",
    "        else:\n",
    "            print(\"Invalid year\")\n",
    "\n",
    "    # Public method\n",
    "    def display_info(self):\n",
    "        print(f\"{self.make} {self.model} ({self.__year})\")\n",
    "\n",
    "\n",
    "# Example usage:\n",
    "my_car = Car(make=\"Toyota\", model=\"Camry\", year=2020)\n",
    "\n",
    "# Accessing public attributes directly\n",
    "print(\"Make:\", my_car.make)   # Output: Toyota\n",
    "print(\"Model:\", my_car.model)  # Output: Camry\n",
    "\n",
    "# Accessing private attribute using getter method\n",
    "print(\"Year:\", my_car.get_year())  # Output: 2020\n",
    "\n",
    "# Attempting to modify private attribute directly (will not work)\n",
    "# my_car.__year = 2022  # This won't change the actual __year attribute\n",
    "\n",
    "# Modifying private attribute using setter method\n",
    "my_car.set_year(2022)\n",
    "\n",
    "# Displaying information using a public method\n",
    "my_car.display_info()  # Output: Toyota Camry (2022)\n"
   ]
  },
  {
   "cell_type": "markdown",
   "metadata": {},
   "source": [
    "4. Discuss the difference between public, private, and protected access modifiers in Python."
   ]
  },
  {
   "cell_type": "markdown",
   "metadata": {},
   "source": [
    "In Python, access modifiers are used to control the visibility of attributes and methods in a class. The three main access modifiers are public, private, and protected. These modifiers play a crucial role in encapsulation and help define the scope of accessibility for class members.\n",
    "\n",
    "1. Public Access Modifier:\n",
    "Syntax: No special syntax is needed. Members are public by default.\n",
    "Usage: Public members are accessible from anywhere, both within the class and outside the class.\n",
    "    \n",
    "2. Private Access Modifier:\n",
    "Syntax: Prefix attribute or method names with double underscores (__).\n",
    "Usage: Private members are intended to be used only within the class that defines them. They are not directly accessible from outside the class.\n",
    "    \n",
    "3. Protected Access Modifier:\n",
    "Syntax: Prefix attribute or method names with a single underscore (_).\n",
    "Usage: Protected members are intended for use within the class and its subclasses. While not strictly enforced in Python, it serves as a convention to indicate restricted access.\n",
    "    \n",
    "Summary:\n",
    "Public: No special syntax. Accessible from anywhere.\n",
    "Private: Double underscore (__). Accessible only within the defining class.\n",
    "Protected: Single underscore (_). Conventional indication of restricted access, often used within the class and its subclasses.    \n",
    "    "
   ]
  },
  {
   "cell_type": "code",
   "execution_count": 61,
   "metadata": {},
   "outputs": [
    {
     "name": "stdout",
     "output_type": "stream",
     "text": [
      "This is a public method\n"
     ]
    }
   ],
   "source": [
    "#public access modifier\n",
    "class MyClass:\n",
    "    def public_method(self):\n",
    "        print(\"This is a public method\")\n",
    "\n",
    "# Example usage:\n",
    "obj = MyClass()\n",
    "obj.public_method()  # Accessing public method\n"
   ]
  },
  {
   "cell_type": "code",
   "execution_count": 62,
   "metadata": {},
   "outputs": [],
   "source": [
    "#private access modifier\n",
    "class MyClass:\n",
    "    def __init__(self):\n",
    "        self.__private_attribute = 42  # Private attribute\n",
    "\n",
    "    def __private_method(self):\n",
    "        print(\"This is a private method\")\n",
    "\n",
    "# Example usage:\n",
    "obj = MyClass()\n",
    "\n",
    "# Accessing private attribute or method directly (will result in an error)\n",
    "# print(obj.__private_attribute)  # AttributeError\n",
    "# obj.__private_method()  # AttributeError\n"
   ]
  },
  {
   "cell_type": "code",
   "execution_count": 63,
   "metadata": {},
   "outputs": [
    {
     "name": "stdout",
     "output_type": "stream",
     "text": [
      "Protected\n",
      "This is a protected method\n"
     ]
    }
   ],
   "source": [
    "#protected access modifier \n",
    "class MyClass:\n",
    "    def __init__(self):\n",
    "        self._protected_attribute = \"Protected\"  # Protected attribute\n",
    "\n",
    "    def _protected_method(self):\n",
    "        print(\"This is a protected method\")\n",
    "\n",
    "# Example usage:\n",
    "obj = MyClass()\n",
    "\n",
    "# Accessing protected attribute or method directly (allowed but not recommended)\n",
    "print(obj._protected_attribute)  # Output: Protected\n",
    "obj._protected_method()  # Output: This is a protected method\n"
   ]
  },
  {
   "cell_type": "markdown",
   "metadata": {},
   "source": [
    "5. Create a Python class called `Person` with a private attribute `__name`. Provide methods to get and set the\n",
    "name attribute."
   ]
  },
  {
   "cell_type": "code",
   "execution_count": 64,
   "metadata": {},
   "outputs": [
    {
     "name": "stdout",
     "output_type": "stream",
     "text": [
      "Original Name: John Doe\n",
      "Updated Name: Jane Doe\n"
     ]
    }
   ],
   "source": [
    "class Person:\n",
    "    def __init__(self, name):\n",
    "        self.__name = name  # Private attribute\n",
    "\n",
    "    def get_name(self):\n",
    "        return self.__name\n",
    "\n",
    "    def set_name(self, new_name):\n",
    "        self.__name = new_name\n",
    "\n",
    "# Example usage:\n",
    "person = Person(name=\"John Doe\")\n",
    "\n",
    "# Accessing the private attribute using the getter method\n",
    "print(\"Original Name:\", person.get_name())  # Output: John Doe\n",
    "\n",
    "# Modifying the private attribute using the setter method\n",
    "person.set_name(\"Jane Doe\")\n",
    "\n",
    "# Accessing the updated name using the getter method\n",
    "print(\"Updated Name:\", person.get_name())  # Output: Jane Doe\n"
   ]
  },
  {
   "cell_type": "markdown",
   "metadata": {},
   "source": [
    "6. Explain the purpose of getter and setter methods in encapsulation. Provide examples."
   ]
  },
  {
   "cell_type": "markdown",
   "metadata": {},
   "source": [
    "Getter and setter methods play a crucial role in encapsulation by providing controlled access to the attributes of a class. These methods allow external code to retrieve and modify the values of private attributes in a way that allows for additional logic, validation, or abstraction. This helps in maintaining the integrity of the object's internal state and ensures a more robust and maintainable codebase.\n",
    "\n",
    "Purpose of Getter Methods:\n",
    "Purpose: Getter methods are used to retrieve the values of private attributes. They provide a way for external code to access the state of an object without direct access to the underlying attributes.\n",
    "Syntax: Typically named with a get_ prefix followed by the attribute name.\n",
    "Example:"
   ]
  },
  {
   "cell_type": "code",
   "execution_count": 65,
   "metadata": {},
   "outputs": [
    {
     "name": "stdout",
     "output_type": "stream",
     "text": [
      "Name: John Doe\n"
     ]
    }
   ],
   "source": [
    "class Person:\n",
    "    def __init__(self, name):\n",
    "        self.__name = name  # Private attribute\n",
    "\n",
    "    def get_name(self):\n",
    "        return self.__name\n",
    "\n",
    "# Example usage:\n",
    "person = Person(name=\"John Doe\")\n",
    "\n",
    "# Accessing the private attribute using the getter method\n",
    "print(\"Name:\", person.get_name())  # Output: John Doe\n"
   ]
  },
  {
   "cell_type": "markdown",
   "metadata": {},
   "source": [
    "Purpose of Setter Methods:\n",
    "Purpose: Setter methods are used to modify the values of private attributes. They provide a way to control how external code can update the internal state of an object. This allows for validation, error checking, or additional logic during assignment.\n",
    "Syntax: Typically named with a set_ prefix followed by the attribute name.\n",
    "Example:"
   ]
  },
  {
   "cell_type": "code",
   "execution_count": null,
   "metadata": {},
   "outputs": [],
   "source": [
    "\n",
    "class BankAccount:\n",
    "    def __init__(self, balance):\n",
    "        self.__balance = balance  # Private attribute\n",
    "\n",
    "    def set_balance(self, new_balance):\n",
    "        if new_balance >= 0:\n",
    "            self.__balance = new_balance\n",
    "\n",
    "# Example usage:\n",
    "account = BankAccount(balance=1000)\n",
    "\n",
    "# Modifying the private attribute using the setter method\n",
    "account.set_balance(1500)\n",
    "\n",
    "# Attempting to set an invalid balance (will not modify the attribute)\n",
    "account.set_balance(-500)\n",
    "\n",
    "# Accessing the updated balance using a getter method\n",
    "print(\"Balance:\", account.get_balance())  # Output: 1500\n"
   ]
  },
  {
   "cell_type": "markdown",
   "metadata": {},
   "source": [
    "7. What is name mangling in Python, and how does it affect encapsulation?"
   ]
  },
  {
   "cell_type": "markdown",
   "metadata": {},
   "source": [
    "Name mangling in Python is a mechanism for making the names of attributes in a class more difficult to access unintentionally from outside the class. It involves adding a prefix to the names of attributes that are designated as private by using double underscores (__). This prefixing is done to avoid naming conflicts in situations where subclasses may unintentionally override or inherit attributes from their parent classes.\n",
    "\n",
    "Purpose of Name Mangling:\n",
    "Avoiding Name Clashes: Name mangling helps prevent unintentional name clashes when a class is subclassed. Without name mangling, attributes with double underscores in different classes could accidentally override each other.\n",
    "\n",
    "Encapsulation: While not a strict security feature, name mangling contributes to encapsulation by making it more difficult for external code to access and modify private attributes directly.\n",
    "\n",
    "How Name Mangling Works:\n",
    "When a class attribute is prefixed with double underscores, Python internally changes its name by adding the name of the class as a prefix. The format is \"_ClassName__attribute\". This name transformation is known as name mangling.\n",
    "\n",
    "Here's an example to illustrate name mangling:"
   ]
  },
  {
   "cell_type": "code",
   "execution_count": 68,
   "metadata": {},
   "outputs": [
    {
     "name": "stdout",
     "output_type": "stream",
     "text": [
      "42\n"
     ]
    }
   ],
   "source": [
    "class MyClass:\n",
    "    def __init__(self):\n",
    "        self.__private_attribute = 42  # Private attribute\n",
    "\n",
    "# Example usage:\n",
    "obj = MyClass()\n",
    "\n",
    "# Attempting to access the private attribute directly (will not work)\n",
    "# print(obj.__private_attribute)  # AttributeError\n",
    "\n",
    "# Accessing the private attribute using name mangling\n",
    "print(obj._MyClass__private_attribute)  # Output: 42\n"
   ]
  },
  {
   "cell_type": "markdown",
   "metadata": {},
   "source": [
    "Impact on Encapsulation:\n",
    "While name mangling is a useful feature, it's essential to note that it doesn't provide true security or access control. The prefixed names can still be accessed if there is a deliberate attempt to do so. It is more of a convention that signals to developers that a particular attribute is intended for internal use within the class and its subclasses."
   ]
  },
  {
   "cell_type": "code",
   "execution_count": 69,
   "metadata": {},
   "outputs": [
    {
     "name": "stdout",
     "output_type": "stream",
     "text": [
      "42\n",
      "99\n"
     ]
    }
   ],
   "source": [
    "class MyClass:\n",
    "    def __init__(self):\n",
    "        self.__private_attribute = 42\n",
    "\n",
    "    def get_private_attribute(self):\n",
    "        return self.__private_attribute\n",
    "\n",
    "    def set_private_attribute(self, value):\n",
    "        self.__private_attribute = value\n",
    "\n",
    "# Example usage:\n",
    "obj = MyClass()\n",
    "\n",
    "# Accessing private attribute using getter and setter methods\n",
    "print(obj.get_private_attribute())  # Output: 42\n",
    "\n",
    "obj.set_private_attribute(99)\n",
    "print(obj.get_private_attribute())  # Output: 99\n"
   ]
  },
  {
   "cell_type": "markdown",
   "metadata": {},
   "source": [
    "8. Create a Python class called `BankAccount` with private attributes for the account balance (`__balance`)"
   ]
  },
  {
   "cell_type": "code",
   "execution_count": 70,
   "metadata": {},
   "outputs": [
    {
     "name": "stdout",
     "output_type": "stream",
     "text": [
      "Current Balance: 1000\n",
      "Updated Balance: 1300\n"
     ]
    }
   ],
   "source": [
    "class BankAccount:\n",
    "    def __init__(self, initial_balance=0):\n",
    "        self.__balance = initial_balance  # Private attribute for account balance\n",
    "\n",
    "    def get_balance(self):\n",
    "        return self.__balance\n",
    "\n",
    "    def deposit(self, amount):\n",
    "        if amount > 0:\n",
    "            self.__balance += amount\n",
    "\n",
    "    def withdraw(self, amount):\n",
    "        if 0 < amount <= self.__balance:\n",
    "            self.__balance -= amount\n",
    "        else:\n",
    "            print(\"Insufficient funds!\")\n",
    "\n",
    "# Example usage:\n",
    "account = BankAccount(initial_balance=1000)\n",
    "\n",
    "# Accessing the private balance attribute using the getter method\n",
    "print(\"Current Balance:\", account.get_balance())  # Output: 1000\n",
    "\n",
    "# Depositing and withdrawing using public methods\n",
    "account.deposit(500)\n",
    "account.withdraw(200)\n",
    "\n",
    "# Accessing the updated balance using the getter method\n",
    "print(\"Updated Balance:\", account.get_balance())  # Output: 1300\n"
   ]
  },
  {
   "cell_type": "markdown",
   "metadata": {},
   "source": [
    "9. Discuss the advantages of encapsulation in terms of code maintainability and security."
   ]
  },
  {
   "cell_type": "markdown",
   "metadata": {},
   "source": [
    "Encapsulation is a fundamental concept in object-oriented programming (OOP) that involves bundling data (attributes) and the methods that operate on that data into a single unit known as a class. Encapsulation brings several advantages, particularly in terms of code maintainability and security.\n",
    "\n",
    "### Advantages of Encapsulation:\n",
    "\n",
    "1. **Modularity:**\n",
    "   - **Code Organization:** Encapsulation promotes modularity by organizing code into well-defined and self-contained units (classes). Each class encapsulates its data and methods, making it a modular building block.\n",
    "\n",
    "2. **Code Maintainability:**\n",
    "   - **Ease of Modification:** Changes to the internal implementation of a class can be made without affecting the external code that uses the class. This separation between the internal and external aspects of a class enhances code maintainability.\n",
    "\n",
    "3. **Security:**\n",
    "   - **Access Control:** Encapsulation allows for access control through the use of access modifiers (public, private, protected). Private attributes and methods are hidden from external code, preventing unintended manipulation and promoting data security.\n",
    "\n",
    "4. **Abstraction:**\n",
    "   - **Hiding Implementation Details:** Encapsulation allows developers to hide the implementation details of a class and expose only what is necessary. This abstraction simplifies the use of objects by providing a clear and high-level interface.\n",
    "\n",
    "5. **Validation and Consistency:**\n",
    "   - **Controlled Access:** Getter and setter methods, often associated with encapsulation, provide controlled access to attributes. This allows for validation checks, ensuring that data remains consistent and adheres to specified rules.\n",
    "\n",
    "6. **Flexibility:**\n",
    "   - **Enhanced Flexibility:** Changes to the internal implementation of a class do not affect external code that uses the class. This separation enhances flexibility, allowing developers to modify and extend classes without impacting existing code.\n",
    "\n",
    "7. **Encapsulation of Complexity:**\n",
    "   - **Complexity Management:** Encapsulation helps manage complexity by encapsulating details within a class. External code interacts with a simplified and well-defined interface, abstracting away unnecessary complexity.\n",
    "\n",
    "8. **Information Hiding:**\n",
    "   - **Hiding Unnecessary Details:** Encapsulation allows developers to hide unnecessary details and expose only what is essential for the proper functioning of the class. This reduces cognitive load for developers using the class.\n",
    "\n",
    "9. **Easier Debugging and Testing:**\n",
    "   - **Isolated Units:** Encapsulated classes form isolated units, making it easier to debug and test individual components. Changes and improvements can be made to a class without affecting the entire system.\n",
    "\n",
    "In summary, encapsulation in OOP provides a way to create modular, maintainable, and secure code. It promotes a clear separation of concerns, hides unnecessary details, and allows for controlled access to internal components. These advantages contribute to the development of robust, flexible, and easily maintainable software systems."
   ]
  },
  {
   "cell_type": "markdown",
   "metadata": {},
   "source": [
    "**10. How can you access private attributes in Python? Provide an example demonstrating the use of name\n",
    "mangling.**"
   ]
  },
  {
   "cell_type": "markdown",
   "metadata": {},
   "source": [
    "In Python, private attributes are intended to be accessed only within the class that defines them. However, there is a way to access private attributes from outside the class using a technique called name mangling. Name mangling involves altering the names of private attributes by adding a prefix that includes the class name.\n",
    "\n",
    "While name mangling provides a way to access private attributes, it is important to note the following:\n",
    "\n",
    "It's a Convention, Not a Rule:\n",
    "\n",
    "Name mangling is a convention, not a strict rule. It is designed to reduce accidental name clashes rather than provide strict access control. It doesn't provide true security.\n",
    "Consider Using Public Methods:\n",
    "\n",
    "It is generally considered good practice to access private attributes through public methods (getter and setter methods) rather than directly using name mangling. This promotes encapsulation and controlled access.\n",
    "Avoid Unnecessary Access:\n",
    "\n",
    "Accessing private attributes from outside the class should be done with caution. It is typically better to encapsulate the behavior associated with the attribute and provide well-defined methods for external code to interact with the class.\n",
    "While name mangling is available and can be useful in certain situations, it's important to use it judiciously and consider alternative approaches, such as providing public methods for controlled access to private attributes."
   ]
  },
  {
   "cell_type": "code",
   "execution_count": 71,
   "metadata": {},
   "outputs": [
    {
     "name": "stdout",
     "output_type": "stream",
     "text": [
      "I am private\n"
     ]
    }
   ],
   "source": [
    "class MyClass:\n",
    "    def __init__(self):\n",
    "        self.__private_attribute = \"I am private\"\n",
    "\n",
    "# Example usage:\n",
    "obj = MyClass()\n",
    "\n",
    "# Accessing the private attribute directly (will result in an AttributeError)\n",
    "# print(obj.__private_attribute)  # Uncommenting this line would raise an AttributeError\n",
    "\n",
    "# Accessing the private attribute using name mangling\n",
    "print(obj._MyClass__private_attribute)  # Output: I am private\n"
   ]
  },
  {
   "cell_type": "markdown",
   "metadata": {},
   "source": [
    "**11. Create a Python class hierarchy for a school system, including classes for students, teachers, and courses,\n",
    "and implement encapsulation principles to protect sensitive information.**"
   ]
  },
  {
   "cell_type": "code",
   "execution_count": 72,
   "metadata": {},
   "outputs": [
    {
     "name": "stdout",
     "output_type": "stream",
     "text": [
      "Alice\n",
      "19\n",
      "T001\n",
      "T002\n",
      "[<__main__.Course object at 0x000002A43DD4C898>]\n",
      "[<__main__.Course object at 0x000002A43DD4C898>]\n"
     ]
    }
   ],
   "source": [
    "class Person:\n",
    "    def __init__(self, name, age, gender):\n",
    "        self.__name = name\n",
    "        self.__age = age\n",
    "        self.__gender = gender\n",
    "\n",
    "    def get_name(self):\n",
    "        return self.__name\n",
    "\n",
    "    def set_name(self, new_name):\n",
    "        self.__name = new_name\n",
    "\n",
    "    def get_age(self):\n",
    "        return self.__age\n",
    "\n",
    "    def set_age(self, new_age):\n",
    "        if 0 <= new_age <= 150:  # Assuming a reasonable age range\n",
    "            self.__age = new_age\n",
    "        else:\n",
    "            print(\"Invalid age\")\n",
    "\n",
    "    def get_gender(self):\n",
    "        return self.__gender\n",
    "\n",
    "    def set_gender(self, new_gender):\n",
    "        self.__gender = new_gender\n",
    "\n",
    "\n",
    "class Student(Person):\n",
    "    def __init__(self, name, age, gender, student_id):\n",
    "        super().__init__(name, age, gender)\n",
    "        self.__student_id = student_id\n",
    "        self.__courses = []\n",
    "\n",
    "    def get_student_id(self):\n",
    "        return self.__student_id\n",
    "\n",
    "    def set_student_id(self, new_student_id):\n",
    "        self.__student_id = new_student_id\n",
    "\n",
    "    def enroll_in_course(self, course):\n",
    "        self.__courses.append(course)\n",
    "\n",
    "    def get_courses(self):\n",
    "        return self.__courses\n",
    "\n",
    "\n",
    "class Teacher(Person):\n",
    "    def __init__(self, name, age, gender, employee_id):\n",
    "        super().__init__(name, age, gender)\n",
    "        self.__employee_id = employee_id\n",
    "        self.__courses_taught = []\n",
    "\n",
    "    def get_employee_id(self):\n",
    "        return self.__employee_id\n",
    "\n",
    "    def set_employee_id(self, new_employee_id):\n",
    "        self.__employee_id = new_employee_id\n",
    "\n",
    "    def assign_course(self, course):\n",
    "        self.__courses_taught.append(course)\n",
    "\n",
    "    def get_courses_taught(self):\n",
    "        return self.__courses_taught\n",
    "\n",
    "\n",
    "class Course:\n",
    "    def __init__(self, course_code, course_name):\n",
    "        self.__course_code = course_code\n",
    "        self.__course_name = course_name\n",
    "\n",
    "    def get_course_code(self):\n",
    "        return self.__course_code\n",
    "\n",
    "    def set_course_code(self, new_course_code):\n",
    "        self.__course_code = new_course_code\n",
    "\n",
    "    def get_course_name(self):\n",
    "        return self.__course_name\n",
    "\n",
    "    def set_course_name(self, new_course_name):\n",
    "        self.__course_name = new_course_name\n",
    "\n",
    "\n",
    "# Example usage:\n",
    "student1 = Student(name=\"Alice\", age=18, gender=\"Female\", student_id=\"S001\")\n",
    "teacher1 = Teacher(name=\"Mr. Smith\", age=35, gender=\"Male\", employee_id=\"T001\")\n",
    "course1 = Course(course_code=\"C001\", course_name=\"Mathematics\")\n",
    "\n",
    "# Accessing and modifying attributes through getter and setter methods\n",
    "print(student1.get_name())  # Output: Alice\n",
    "student1.set_age(19)\n",
    "print(student1.get_age())  # Output: 19\n",
    "\n",
    "print(teacher1.get_employee_id())  # Output: T001\n",
    "teacher1.set_employee_id(\"T002\")\n",
    "print(teacher1.get_employee_id())  # Output: T002\n",
    "\n",
    "# Enrolling in a course and assigning a course\n",
    "student1.enroll_in_course(course1)\n",
    "teacher1.assign_course(course1)\n",
    "\n",
    "# Accessing courses through getter methods\n",
    "print(student1.get_courses())  # Output: [Course object]\n",
    "print(teacher1.get_courses_taught())  # Output: [Course object]\n"
   ]
  },
  {
   "cell_type": "markdown",
   "metadata": {},
   "source": [
    "**12. Explain the concept of property decorators in Python and how they relate to encapsulation.**"
   ]
  },
  {
   "cell_type": "markdown",
   "metadata": {},
   "source": [
    "In Python, property decorators provide a convenient way to implement getter, setter, and deleter methods for class attributes. They are used to encapsulate the access and modification of attributes, allowing developers to control and validate attribute access while providing a clean and readable syntax. Property decorators help implement the property design pattern, enhancing encapsulation within classes.\n",
    "\n",
    "Property Decorator Syntax:\n",
    "The property decorator is used to define a property. It takes getter, setter, and deleter methods as arguments and returns a property object."
   ]
  },
  {
   "cell_type": "code",
   "execution_count": 73,
   "metadata": {},
   "outputs": [],
   "source": [
    "class MyClass:\n",
    "    def __init__(self):\n",
    "        self._my_private_variable = None\n",
    "\n",
    "    @property\n",
    "    def my_property(self):\n",
    "        return self._my_private_variable\n",
    "\n",
    "    @my_property.setter\n",
    "    def my_property(self, value):\n",
    "        # Optional validation or modification logic\n",
    "        self._my_private_variable = value\n",
    "\n",
    "    @my_property.deleter\n",
    "    def my_property(self):\n",
    "        # Optional cleanup or deletion logic\n",
    "        del self._my_private_variable\n"
   ]
  },
  {
   "cell_type": "markdown",
   "metadata": {},
   "source": [
    "Benefits of Property Decorators and Encapsulation:\n",
    "Getter Method:\n",
    "\n",
    "Encapsulation: The @property decorator allows the definition of a getter method (my_property in the example) without explicitly calling it as a method. It provides a clean and readable way to access private attributes.\n",
    "Setter Method:\n",
    "\n",
    "Controlled Access: The @property.setter decorator enables the definition of a setter method (my_property in the example) that controls how the attribute is modified. This allows for validation or modification logic before assigning a new value.\n",
    "Deleter Method:\n",
    "\n",
    "Cleanup Logic: The @property.deleter decorator facilitates the definition of a deleter method (my_property in the example) to perform cleanup or deletion logic when the property is deleted.\n",
    "Readable Syntax:\n",
    "\n",
    "Enhanced Readability: The use of property decorators results in a clean and concise syntax, making the code more readable and Pythoni"
   ]
  },
  {
   "cell_type": "code",
   "execution_count": 74,
   "metadata": {},
   "outputs": [
    {
     "name": "stdout",
     "output_type": "stream",
     "text": [
      "Celsius Temperature: 25\n",
      "Deleting Celsius temperature.\n"
     ]
    }
   ],
   "source": [
    "class TemperatureConverter:\n",
    "    def __init__(self, celsius):\n",
    "        self._celsius = celsius\n",
    "\n",
    "    @property\n",
    "    def celsius(self):\n",
    "        return self._celsius\n",
    "\n",
    "    @celsius.setter\n",
    "    def celsius(self, value):\n",
    "        if value < -273.15:\n",
    "            raise ValueError(\"Temperature cannot be below absolute zero.\")\n",
    "        self._celsius = value\n",
    "\n",
    "    @celsius.deleter\n",
    "    def celsius(self):\n",
    "        print(\"Deleting Celsius temperature.\")\n",
    "        del self._celsius\n",
    "\n",
    "\n",
    "# Example usage:\n",
    "temperature_object = TemperatureConverter(celsius=25)\n",
    "\n",
    "# Accessing the property using the getter method\n",
    "print(\"Celsius Temperature:\", temperature_object.celsius)\n",
    "\n",
    "# Modifying the property using the setter method\n",
    "temperature_object.celsius = 30\n",
    "\n",
    "# Deleting the property using the deleter method\n",
    "del temperature_object.celsius\n"
   ]
  },
  {
   "cell_type": "markdown",
   "metadata": {},
   "source": [
    "**13. What is data hiding, and why is it important in encapsulation? Provide examples.**"
   ]
  },
  {
   "cell_type": "markdown",
   "metadata": {},
   "source": [
    "Data hiding, also known as information hiding, is a fundamental principle in object-oriented programming (OOP) and encapsulation. It involves restricting the access to certain details of an object and only exposing what is necessary for the external code to interact with the object. The goal is to hide the internal implementation details of a class, providing a clear and well-defined interface for users of the class.\n",
    "\n",
    "Importance of Data Hiding in Encapsulation:\n",
    "Encapsulation:\n",
    "\n",
    "Abstraction of Implementation: Data hiding allows developers to abstract away the internal implementation details of a class, exposing only what is essential for external code to use. This promotes encapsulation, one of the key principles of OOP.\n",
    "Controlled Access:\n",
    "\n",
    "Access through Interfaces: Data hiding ensures that external code interacts with objects through well-defined interfaces (methods), rather than directly accessing the internal attributes. This controlled access prevents unintended manipulation of the internal state.\n",
    "Security:\n",
    "\n",
    "Protection of Sensitive Information: By hiding the internal details, sensitive information or critical implementation details are protected from unauthorized access or modification. This enhances the security of the class.\n",
    "Flexibility and Maintainability:\n",
    "\n",
    "Flexibility in Implementation: Data hiding allows developers to modify the internal implementation of a class without affecting external code that uses the class. This enhances flexibility and maintainability as changes can be made without impacting the entire codebase.\n",
    "Reduced Complexity:\n",
    "\n",
    "Simplification of External Interactions: Hiding unnecessary details simplifies the interactions for external code. Users of a class are not burdened with unnecessary complexities, reducing the cognitive load."
   ]
  },
  {
   "cell_type": "code",
   "execution_count": 75,
   "metadata": {},
   "outputs": [
    {
     "name": "stdout",
     "output_type": "stream",
     "text": [
      "Current Balance: 1000\n",
      "Updated Balance: 1300\n"
     ]
    }
   ],
   "source": [
    "class BankAccount:\n",
    "    def __init__(self, account_holder, balance):\n",
    "        self._account_holder = account_holder  # Protected attribute\n",
    "        self.__balance = balance  # Private attribute\n",
    "\n",
    "    def get_balance(self):\n",
    "        return self.__balance\n",
    "\n",
    "    def deposit(self, amount):\n",
    "        if amount > 0:\n",
    "            self.__balance += amount\n",
    "\n",
    "    def withdraw(self, amount):\n",
    "        if 0 < amount <= self.__balance:\n",
    "            self.__balance -= amount\n",
    "        else:\n",
    "            print(\"Insufficient funds!\")\n",
    "\n",
    "# Example usage:\n",
    "account = BankAccount(account_holder=\"Alice\", balance=1000)\n",
    "\n",
    "# Accessing the balance using a getter method\n",
    "print(\"Current Balance:\", account.get_balance())  # Output: 1000\n",
    "\n",
    "# Attempting to access the private attribute directly (will result in an AttributeError)\n",
    "# print(account.__balance)  # Uncommenting this line would raise an AttributeError\n",
    "\n",
    "# Modifying the balance using public methods\n",
    "account.deposit(500)\n",
    "account.withdraw(200)\n",
    "\n",
    "# Accessing the updated balance using the getter method\n",
    "print(\"Updated Balance:\", account.get_balance())  # Output: 1300\n"
   ]
  },
  {
   "cell_type": "markdown",
   "metadata": {},
   "source": [
    "**14. Create a Python class called `Employee` with private attributes for salary (`__salary`) and employee ID (`__employee_id`). Provide a method to calculate yearly bonuses.**"
   ]
  },
  {
   "cell_type": "markdown",
   "metadata": {},
   "source": [
    "Certainly! Below is an example of a Python class called Employee with private attributes for salary (__salary) and employee ID (__employee_id). The class provides a method to calculate yearly bonuses. The application of data hiding ensures that the internal attributes are not directly accessible from outside the class."
   ]
  },
  {
   "cell_type": "code",
   "execution_count": 76,
   "metadata": {},
   "outputs": [
    {
     "name": "stdout",
     "output_type": "stream",
     "text": [
      "Employee ID: E001\n",
      "Name: John Doe\n",
      "Salary: 50000\n",
      "Yearly Bonus: $5000.00\n"
     ]
    }
   ],
   "source": [
    "class Employee:\n",
    "    def __init__(self, employee_id, name, salary):\n",
    "        self.__employee_id = employee_id  # Private attribute for employee ID\n",
    "        self.__name = name\n",
    "        self.__salary = salary  # Private attribute for salary\n",
    "\n",
    "    def calculate_yearly_bonus(self, percentage):\n",
    "        \"\"\"\n",
    "        Calculate yearly bonus based on the given percentage.\n",
    "\n",
    "        Parameters:\n",
    "        - percentage (float): Bonus percentage (e.g., 0.1 for 10%).\n",
    "\n",
    "        Returns:\n",
    "        float: Calculated yearly bonus.\n",
    "        \"\"\"\n",
    "        if percentage < 0 or percentage > 1:\n",
    "            raise ValueError(\"Bonus percentage should be between 0 and 1.\")\n",
    "        \n",
    "        yearly_bonus = self.__salary * percentage\n",
    "        return yearly_bonus\n",
    "\n",
    "    # Getter methods for employee ID, name, and salary (optional)\n",
    "    def get_employee_id(self):\n",
    "        return self.__employee_id\n",
    "\n",
    "    def get_name(self):\n",
    "        return self.__name\n",
    "\n",
    "    def get_salary(self):\n",
    "        return self.__salary\n",
    "\n",
    "\n",
    "# Example usage:\n",
    "employee1 = Employee(employee_id=\"E001\", name=\"John Doe\", salary=50000)\n",
    "\n",
    "# Accessing attributes through getter methods\n",
    "print(\"Employee ID:\", employee1.get_employee_id())\n",
    "print(\"Name:\", employee1.get_name())\n",
    "print(\"Salary:\", employee1.get_salary())\n",
    "\n",
    "# Calculating and displaying yearly bonus\n",
    "bonus_percentage = 0.1  # 10% bonus\n",
    "yearly_bonus = employee1.calculate_yearly_bonus(percentage=bonus_percentage)\n",
    "print(f\"Yearly Bonus: ${yearly_bonus:.2f}\")\n"
   ]
  },
  {
   "cell_type": "markdown",
   "metadata": {},
   "source": [
    "**15. Discuss the use of accessors and mutators in encapsulation. How do they help maintain control over\n",
    "attribute access?**"
   ]
  },
  {
   "cell_type": "markdown",
   "metadata": {},
   "source": [
    "Accessors and mutators are methods used in encapsulation to control and manage access to the attributes of a class. They play a key role in maintaining control over how attributes are read and modified, promoting data encapsulation and providing a well-defined interface for external code.\n",
    "\n",
    "1. Accessors (Getter Methods):\n",
    "Purpose: Accessors are methods that provide controlled access to the values of private attributes.\n",
    "Naming Convention: Accessors typically have names like get_attribute or simply attribute.\n",
    "Role: They allow external code to retrieve the values of private attributes without direct access."
   ]
  },
  {
   "cell_type": "markdown",
   "metadata": {},
   "source": [
    "2. Mutators (Setter Methods):\n",
    "Purpose: Mutators are methods that provide controlled means of modifying the values of private attributes.\n",
    "Naming Convention: Mutators typically have names like set_attribute.\n",
    "Role: They allow external code to modify the values of private attributes with additional validation or modification logic."
   ]
  },
  {
   "cell_type": "code",
   "execution_count": 77,
   "metadata": {},
   "outputs": [
    {
     "name": "stdout",
     "output_type": "stream",
     "text": [
      "42\n"
     ]
    }
   ],
   "source": [
    "#accessors \n",
    "class MyClass:\n",
    "    def __init__(self, attribute):\n",
    "        self.__attribute = attribute\n",
    "\n",
    "    def get_attribute(self):\n",
    "        return self.__attribute\n",
    "\n",
    "# Usage:\n",
    "obj = MyClass(attribute=42)\n",
    "value = obj.get_attribute()\n",
    "print(value)  # Output: 42\n"
   ]
  },
  {
   "cell_type": "code",
   "execution_count": 80,
   "metadata": {},
   "outputs": [],
   "source": [
    "#mutators\n",
    "class MyClass:\n",
    "    def __init__(self, attribute):\n",
    "        self.__attribute = attribute\n",
    "\n",
    "    def set_attribute(self, new_value):\n",
    "        # Additional validation or modification logic\n",
    "        self.__attribute = new_value\n",
    "\n",
    "# Usage:\n",
    "obj = MyClass(attribute=42)\n",
    "obj.set_attribute(new_value=99)\n",
    "print(obj.get_attribute())  # Output: 99\n"
   ]
  },
  {
   "cell_type": "markdown",
   "metadata": {},
   "source": [
    "How They Help Maintain Control:\n",
    "Encapsulation:\n",
    "\n",
    "Accessors and mutators promote encapsulation by abstracting away the internal details of a class. External code interacts with the class through these methods, rather than directly accessing private attributes.\n",
    "Controlled Access:\n",
    "\n",
    "By providing getter methods (accessors), developers can control how external code retrieves the values of private attributes. This allows for additional logic or restrictions to be applied.\n",
    "Validation and Modification:\n",
    "\n",
    "Setter methods (mutators) enable controlled modification of private attributes. Developers can include validation checks or modify the incoming values before assigning them to the attributes.\n",
    "Flexibility and Maintenance:\n",
    "\n",
    "Accessors and mutators provide a clear and consistent interface for external code. This enhances the flexibility to modify the internal implementation of a class without affecting the external code that uses the class.\n",
    "Security:\n",
    "\n",
    "Accessors and mutators allow developers to apply security measures, such as access control checks or input validation, ensuring that only valid and authorized changes are made to the internal state."
   ]
  },
  {
   "cell_type": "markdown",
   "metadata": {},
   "source": [
    "**16. What are the potential drawbacks or disadvantages of using encapsulation in Python?**"
   ]
  },
  {
   "cell_type": "markdown",
   "metadata": {},
   "source": [
    "While encapsulation is a fundamental concept in object-oriented programming (OOP) and is generally beneficial, there are potential drawbacks or disadvantages to consider when using encapsulation in Python:\n",
    "\n",
    "Overhead and Complexity:\n",
    "\n",
    "Drawback: Encapsulation can introduce some level of overhead and complexity to the code. The need to create getter and setter methods for every attribute may lead to increased boilerplate code, making the class definition longer and potentially more complex.\n",
    "Accessing Private Attributes:\n",
    "\n",
    "Drawback: Although private attributes are intended to be inaccessible from outside the class, Python does not provide strict access control. Using techniques like name mangling, it's still possible to access private attributes, compromising encapsulation to some extent.\n",
    "Reduced Readability for Simple Classes:\n",
    "\n",
    "Drawback: For simple classes with straightforward attributes and behavior, excessive use of getters and setters can make the code less readable. In such cases, the benefits of encapsulation may not outweigh the added complexity.\n",
    "Potential Performance Impact:\n",
    "\n",
    "Drawback: In some cases, the use of getter and setter methods may have a small impact on performance compared to direct attribute access. While modern Python interpreters are optimized, the overhead may be noticeable in performance-critical applications.\n",
    "Increased Development Time:\n",
    "\n",
    "Drawback: Writing and maintaining getter and setter methods for each attribute can increase development time, especially for classes with a large number of attributes. This can be a trade-off between code maintainability and development efficiency.\n",
    "Breaking Existing Code:\n",
    "\n",
    "Drawback: Introducing encapsulation to an existing codebase may require modifying existing code that directly accesses attributes. This can lead to potential compatibility issues and necessitate updates throughout the code.\n",
    "Less Intuitive Syntax:\n",
    "\n",
    "Drawback: For simple use cases, direct attribute access can be more intuitive than using getter and setter methods. Encapsulation may introduce a level of indirection that makes the code less straightforward, especially for those unfamiliar with the class implementation.\n",
    "Tighter Coupling:\n",
    "\n",
    "Drawback: Encapsulation can lead to tighter coupling between classes if getter and setter methods expose more details than necessary. This can hinder the flexibility and modularity of the code.\n",
    "Difficulty in Testing:\n",
    "\n",
    "Drawback: Writing tests for classes with encapsulation may require additional effort, as the internal state needs to be manipulated through the provided interfaces. This can make unit testing more challenging."
   ]
  },
  {
   "cell_type": "markdown",
   "metadata": {},
   "source": [
    "**17. Create a Python class for a library system that encapsulates book information, including titles, authors,\n",
    "and availability status.**"
   ]
  },
  {
   "cell_type": "code",
   "execution_count": 81,
   "metadata": {},
   "outputs": [
    {
     "name": "stdout",
     "output_type": "stream",
     "text": [
      "Book 1 Title: The Great Gatsby\n",
      "Book 1 Author: F. Scott Fitzgerald\n",
      "Is Book 1 Available? True\n",
      "Book 'The Great Gatsby' by F. Scott Fitzgerald has been borrowed.\n",
      "Book 'To Kill a Mockingbird' by Harper Lee has been borrowed.\n",
      "Book 'The Great Gatsby' has been returned.\n",
      "Book 'To Kill a Mockingbird' has been returned.\n",
      "Is Book 1 Available? True\n",
      "Is Book 2 Available? True\n"
     ]
    }
   ],
   "source": [
    "class Book:\n",
    "    def __init__(self, title, author, available=True):\n",
    "        self.__title = title\n",
    "        self.__author = author\n",
    "        self.__available = available\n",
    "\n",
    "    def get_title(self):\n",
    "        return self.__title\n",
    "\n",
    "    def get_author(self):\n",
    "        return self.__author\n",
    "\n",
    "    def is_available(self):\n",
    "        return self.__available\n",
    "\n",
    "    def borrow_book(self):\n",
    "        if self.__available:\n",
    "            print(f\"Book '{self.__title}' by {self.__author} has been borrowed.\")\n",
    "            self.__available = False\n",
    "        else:\n",
    "            print(f\"Book '{self.__title}' is currently not available.\")\n",
    "\n",
    "    def return_book(self):\n",
    "        if not self.__available:\n",
    "            print(f\"Book '{self.__title}' has been returned.\")\n",
    "            self.__available = True\n",
    "        else:\n",
    "            print(f\"Book '{self.__title}' is already available.\")\n",
    "\n",
    "# Example usage:\n",
    "book1 = Book(title=\"The Great Gatsby\", author=\"F. Scott Fitzgerald\")\n",
    "book2 = Book(title=\"To Kill a Mockingbird\", author=\"Harper Lee\")\n",
    "\n",
    "# Accessing book information through getter methods\n",
    "print(\"Book 1 Title:\", book1.get_title())\n",
    "print(\"Book 1 Author:\", book1.get_author())\n",
    "print(\"Is Book 1 Available?\", book1.is_available())\n",
    "\n",
    "# Borrowing and returning books\n",
    "book1.borrow_book()\n",
    "book2.borrow_book()\n",
    "\n",
    "book1.return_book()\n",
    "book2.return_book()\n",
    "\n",
    "# Checking availability after actions\n",
    "print(\"Is Book 1 Available?\", book1.is_available())\n",
    "print(\"Is Book 2 Available?\", book2.is_available())\n"
   ]
  },
  {
   "cell_type": "markdown",
   "metadata": {},
   "source": [
    "**18. Explain how encapsulation enhances code reusability and modularity in Python programs.**"
   ]
  },
  {
   "cell_type": "markdown",
   "metadata": {},
   "source": [
    "Encapsulation enhances code reusability and modularity in Python programs by promoting a clear separation between the implementation details of a class and its external interface. It achieves this through the use of access modifiers, getter and setter methods, and encapsulating related functionalities within classes. Here's how encapsulation contributes to code reusability and modularity:\n",
    "\n",
    "1. **Abstraction:**\n",
    "   - **Role in Encapsulation:** Encapsulation abstracts away the internal details of a class, exposing only what is necessary for external code to interact with. It provides a high-level view of the class's functionality without exposing the implementation specifics.\n",
    "\n",
    "2. **Access Control:**\n",
    "   - **Role in Encapsulation:** Encapsulation uses access modifiers (e.g., private, protected) to control the visibility of class members. This prevents direct access to internal attributes from outside the class, ensuring that interactions occur through well-defined interfaces (getter and setter methods).\n",
    "\n",
    "3. **Getter and Setter Methods:**\n",
    "   - **Role in Encapsulation:** Encapsulation encourages the use of getter and setter methods to access and modify the state of an object. This allows for controlled access, validation, and potential modification of attribute values, promoting a consistent and well-defined interface.\n",
    "\n",
    "4. **Isolation of Implementation Details:**\n",
    "   - **Role in Encapsulation:** The internal details of a class, such as its data members and methods, are encapsulated within the class itself. External code interacts with the class through public interfaces, reducing dependencies and isolating implementation changes from external code.\n",
    "\n",
    "5. **Code Reusability:**\n",
    "   - **Benefits:** Encapsulation promotes the reuse of classes in different parts of the program. A well-designed class with a clear interface can be reused in various contexts without the need for modifications, as long as the external interface remains consistent.\n",
    "\n",
    "6. **Modularity:**\n",
    "   - **Benefits:** Encapsulation contributes to modularity by breaking down complex systems into smaller, manageable units (classes). Each class encapsulates a specific set of functionalities, making the codebase easier to understand, maintain, and extend.\n",
    "\n",
    "7. **Ease of Maintenance:**\n",
    "   - **Benefits:** Because encapsulation isolates implementation details within classes, modifications to one class are less likely to impact other parts of the codebase. This separation of concerns simplifies maintenance, as changes can be made within a specific class without affecting the overall system.\n",
    "\n",
    "8. **Enhanced Readability:**\n",
    "   - **Benefits:** Encapsulation enhances code readability by providing a clear structure and exposing only relevant information through well-named methods. This makes it easier for developers to understand and use classes without delving into unnecessary details.\n",
    "\n",
    "9. **Flexibility in Implementation:**\n",
    "   - **Benefits:** Encapsulation allows developers to modify the internal implementation of a class without affecting external code. As long as the external interfaces (methods) remain unchanged, the class can be improved or refactored without breaking existing code.\n",
    "\n",
    "In summary, encapsulation in Python promotes code reusability and modularity by encapsulating the implementation details within classes, controlling access to internal attributes, and providing well-defined interfaces. This results in more maintainable, readable, and flexible code that can be reused in different parts of a program or even in other projects."
   ]
  },
  {
   "cell_type": "markdown",
   "metadata": {},
   "source": [
    "**19. Describe the concept of information hiding in encapsulation. Why is it essential in software development?**"
   ]
  },
  {
   "cell_type": "markdown",
   "metadata": {},
   "source": [
    "Information hiding is a concept in software development that is closely associated with encapsulation. It refers to the practice of restricting access to certain details or implementation aspects of an object and exposing only what is necessary for the object's external use. Information hiding is achieved through the use of access modifiers (e.g., private, protected) and encapsulation techniques.\n",
    "\n",
    "Reasons Information Hiding is Essential in Software Development:\n",
    "Abstraction:\n",
    "Information hiding provides a level of abstraction by exposing only essential details and hiding the unnecessary complexities of the implementation. This allows developers to focus on high-level functionality without being burdened by low-level details.\n",
    "\n",
    "Security:\n",
    " By hiding sensitive implementation details, information hiding enhances security. It prevents unauthorized access to internal attributes and methods, reducing the risk of unintended manipulation or interference.\n",
    "\n",
    "Modularity:\n",
    " Information hiding supports the modularity of software systems. Classes can be designed as independent units with well-defined interfaces, making it easier to understand, maintain, and update specific components without affecting the entire system.\n",
    "\n",
    "Reduced Complexity:\n",
    "   Information hiding simplifies the external view of an object or class by exposing only what is necessary. This reduces the cognitive load on developers, making it easier to comprehend and use classes without delving into unnecessary details.\n",
    "\n",
    "\n",
    "Flexibility and Maintainability:\n",
    "   By isolating internal details, information hiding increases the flexibility of a codebase. Changes to the internal implementation can be made without affecting external code, enhancing maintainability and making it easier to adapt to evolving requirements.\n",
    "\n",
    "\n",
    "Code Reusability:\n",
    "   Information hiding supports code reusability by allowing classes to be reused in different contexts without exposing their internal workings. Well-defined interfaces make it easier to integrate existing classes into new projects or scenarios.\n",
    "\n",
    "\n",
    "Encourages Good Design Practices:\n",
    "     Information hiding encourages the adoption of good design practices, such as encapsulation and the use of interfaces. This leads to more modular, maintainable, and extensible code."
   ]
  },
  {
   "cell_type": "markdown",
   "metadata": {},
   "source": [
    "**20. Create a Python class called `Customer` with private attributes for customer details like name, address,\n",
    "and contact information. Implement encapsulation to ensure data integrity and security.**"
   ]
  },
  {
   "cell_type": "code",
   "execution_count": 84,
   "metadata": {},
   "outputs": [
    {
     "name": "stdout",
     "output_type": "stream",
     "text": [
      "Customer Name: John Doe\n",
      "Customer Address: 123 Main St\n",
      "Customer Contact Info: john@example.com\n",
      "Updated Customer Contact Info: john.new@example.com\n"
     ]
    }
   ],
   "source": [
    "class Customer:\n",
    "    def __init__(self, name, address, contact_info):\n",
    "        self.__name = name  # Private attribute for customer name\n",
    "        self.__address = address  # Private attribute for customer address\n",
    "        self.__contact_info = contact_info  # Private attribute for customer contact information\n",
    "\n",
    "    def get_name(self):\n",
    "        return self.__name\n",
    "\n",
    "    def get_address(self):\n",
    "        return self.__address\n",
    "\n",
    "    def get_contact_info(self):\n",
    "        return self.__contact_info\n",
    "\n",
    "    def update_contact_info(self, new_contact_info):\n",
    "        # Additional validation or logic can be added here\n",
    "        self.__contact_info = new_contact_info\n",
    "\n",
    "# Example usage:\n",
    "customer1 = Customer(name=\"John Doe\", address=\"123 Main St\", contact_info=\"john@example.com\")\n",
    "\n",
    "# Accessing customer information through getter methods\n",
    "print(\"Customer Name:\", customer1.get_name())\n",
    "print(\"Customer Address:\", customer1.get_address())\n",
    "print(\"Customer Contact Info:\", customer1.get_contact_info())\n",
    "\n",
    "# Updating customer contact information using a method\n",
    "customer1.update_contact_info(new_contact_info=\"john.new@example.com\")\n",
    "print(\"Updated Customer Contact Info:\", customer1.get_contact_info())\n"
   ]
  },
  {
   "cell_type": "markdown",
   "metadata": {},
   "source": [
    "# Polymorphism:"
   ]
  },
  {
   "cell_type": "markdown",
   "metadata": {},
   "source": [
    "**1. What is polymorphism in Python? Explain how it is related to object-oriented programming.**"
   ]
  },
  {
   "cell_type": "markdown",
   "metadata": {},
   "source": [
    "Polymorphism is a concept in object-oriented programming (OOP) that allows objects of different types to be treated as objects of a common base type. It enables a single interface to represent entities of different types, providing a consistent way to interact with them. Polymorphism allows a single function, method, or operator to work with objects of various types, providing flexibility and extensibility in code design.\n",
    "\n",
    "Key Aspects of Polymorphism:\n",
    "Method Overloading:\n",
    "\n",
    "Definition: Method overloading allows a class to define multiple methods with the same name but different parameter types or numbers of parameters."
   ]
  },
  {
   "cell_type": "code",
   "execution_count": 85,
   "metadata": {},
   "outputs": [],
   "source": [
    "class Calculator:\n",
    "    def add(self, x, y):\n",
    "        return x + y\n",
    "\n",
    "    def add(self, x, y, z):\n",
    "        return x + y + z\n"
   ]
  },
  {
   "cell_type": "markdown",
   "metadata": {},
   "source": [
    "Method Overriding:\n",
    "\n",
    "Definition: Method overriding occurs when a subclass provides a specific implementation of a method that is already defined in its superclass. It allows a subclass to provide a specialized version of a method."
   ]
  },
  {
   "cell_type": "code",
   "execution_count": 86,
   "metadata": {},
   "outputs": [],
   "source": [
    "class Animal:\n",
    "    def make_sound(self):\n",
    "        pass\n",
    "\n",
    "class Dog(Animal):\n",
    "    def make_sound(self):\n",
    "        return \"Woof!\"\n"
   ]
  },
  {
   "cell_type": "markdown",
   "metadata": {},
   "source": [
    "Operator Overloading:\n",
    "\n",
    "Definition: Operator overloading allows objects of a class to define their behavior when operated upon by certain operators (e.g., +, -, *). It involves implementing special methods such as __add__, __sub__, etc."
   ]
  },
  {
   "cell_type": "code",
   "execution_count": 87,
   "metadata": {},
   "outputs": [],
   "source": [
    "class Point:\n",
    "    def __init__(self, x, y):\n",
    "        self.x = x\n",
    "        self.y = y\n",
    "\n",
    "    def __add__(self, other_point):\n",
    "        return Point(self.x + other_point.x, self.y + other_point.y)\n"
   ]
  },
  {
   "cell_type": "markdown",
   "metadata": {},
   "source": [
    "Duck Typing:\n",
    "\n",
    "Definition: Duck typing allows objects to be used based on their behavior rather than their type. If an object quacks like a duck (supports the required methods), it can be treated as a duck."
   ]
  },
  {
   "cell_type": "code",
   "execution_count": 88,
   "metadata": {},
   "outputs": [],
   "source": [
    "def calculate_area(shape):\n",
    "    return shape.calculate_area()\n"
   ]
  },
  {
   "cell_type": "markdown",
   "metadata": {},
   "source": [
    "Relationship to Object-Oriented Programming (OOP):\n",
    "Abstraction:\n",
    "\n",
    "Polymorphism supports abstraction by allowing developers to work with objects at a higher level, ignoring specific implementations and focusing on shared interfaces.\n",
    "Code Reusability:\n",
    "\n",
    "Polymorphism enhances code reusability by enabling the use of common interfaces. A function or method can work with objects of different types that adhere to the same interface.\n",
    "Flexibility:\n",
    "\n",
    "Polymorphism provides flexibility in code design. New classes can be added without modifying existing code, as long as they conform to the expected interfaces.\n",
    "Dynamic Binding:\n",
    "\n",
    "In polymorphism, method calls are dynamically bound at runtime. This allows a program to determine the actual method to be called based on the type of the object.\n",
    "Extensibility:\n",
    "\n",
    "Polymorphism allows for easy extension of functionality. New subclasses can be introduced without altering existing code, promoting the open-closed principle in OOP"
   ]
  },
  {
   "cell_type": "markdown",
   "metadata": {},
   "source": [
    "**2. Describe the difference between compile-time polymorphism and runtime polymorphism in Python.**"
   ]
  },
  {
   "cell_type": "markdown",
   "metadata": {},
   "source": [
    "Compile Time Polymorphism: Whenever an object is bound with its functionality at the compile time, this is known as the compile-time polymorphism. At compile-time, java knows which method to call by checking the method signatures. So this is called compile-time polymorphism or static or early binding. Compile-time polymorphism is achieved through method overloading. Method Overloading says you can have more than one function with the same name in one class having a different prototype. Function overloading is one of the ways to achieve polymorphism but it depends on technology and which type of polymorphism we adopt\n",
    "\n",
    "Run-Time Polymorphism: Whenever an object is bound with the functionality at run time, this is known as runtime polymorphism. The runtime polymorphism can be achieved by method overriding. Java virtual machine determines the proper method to call at the runtime, not at the compile time. It is also called dynamic or late binding. Method overriding says the child class has the same method as declared in the parent class. It means if the child class provides the specific implementation of the method that has been provided by one of its parent classes then it is known as method overriding. The following is an example where runtime polymorphism can be observed.\n",
    "\n"
   ]
  },
  {
   "cell_type": "markdown",
   "metadata": {},
   "source": [
    "#compile time polymorphismclass Calculator:\n",
    "    def add(self, x, y):\n",
    "        return x + y\n",
    "\n",
    "    def add(self, x, y, z):\n",
    "        return x + y + z\n",
    "\n",
    "# Usage\n",
    "calculator = Calculator()\n",
    "result1 = calculator.add(1, 2)          # Calls the first add method\n",
    "result2 = calculator.add(1, 2, 3)       # Calls the second add method\n",
    "\n",
    "class Calculator:\n",
    "    def add(self, x, y):\n",
    "        return x + y\n",
    "\n",
    "    def add(self, x, y, z):\n",
    "        return x + y + z\n",
    "\n",
    "# Usage\n",
    "calculator = Calculator()\n",
    "result1 = calculator.add(1, 2)          # Calls the first add method\n",
    "result2 = calculator.add(1, 2, 3)       # Calls the second add method\n"
   ]
  },
  {
   "cell_type": "code",
   "execution_count": 92,
   "metadata": {},
   "outputs": [],
   "source": [
    "#runtime polymorphism \n",
    "class Animal:\n",
    "    def make_sound(self):\n",
    "        pass\n",
    "\n",
    "class Dog(Animal):\n",
    "    def make_sound(self):\n",
    "        return \"Woof!\"\n",
    "\n",
    "# Usage\n",
    "dog = Dog()\n",
    "sound = dog.make_sound()    # Calls the make_sound method of the Dog class\n"
   ]
  },
  {
   "cell_type": "markdown",
   "metadata": {},
   "source": [
    "**3. Create a Python class hierarchy for shapes (e.g., circle, square, triangle) and demonstrate polymorphism\n",
    "through a common method, such as `calculate_area()`.**"
   ]
  },
  {
   "cell_type": "code",
   "execution_count": 93,
   "metadata": {},
   "outputs": [
    {
     "name": "stdout",
     "output_type": "stream",
     "text": [
      "The area of the Circle is: 78.54\n",
      "The area of the Square is: 16.00\n",
      "The area of the Triangle is: 9.00\n"
     ]
    }
   ],
   "source": [
    "import math\n",
    "\n",
    "class Shape:\n",
    "    def calculate_area(self):\n",
    "        pass  # This method will be overridden by subclasses\n",
    "\n",
    "class Circle(Shape):\n",
    "    def __init__(self, radius):\n",
    "        self.radius = radius\n",
    "\n",
    "    def calculate_area(self):\n",
    "        return math.pi * self.radius ** 2\n",
    "\n",
    "class Square(Shape):\n",
    "    def __init__(self, side_length):\n",
    "        self.side_length = side_length\n",
    "\n",
    "    def calculate_area(self):\n",
    "        return self.side_length ** 2\n",
    "\n",
    "class Triangle(Shape):\n",
    "    def __init__(self, base, height):\n",
    "        self.base = base\n",
    "        self.height = height\n",
    "\n",
    "    def calculate_area(self):\n",
    "        return 0.5 * self.base * self.height\n",
    "\n",
    "# Example usage demonstrating polymorphism\n",
    "shapes = [Circle(radius=5), Square(side_length=4), Triangle(base=3, height=6)]\n",
    "\n",
    "for shape in shapes:\n",
    "    area = shape.calculate_area()\n",
    "    shape_type = type(shape).__name__\n",
    "    print(f\"The area of the {shape_type} is: {area:.2f}\")\n"
   ]
  },
  {
   "cell_type": "markdown",
   "metadata": {},
   "source": [
    "**4. Explain the concept of method overriding in polymorphism. Provide an example.**"
   ]
  },
  {
   "cell_type": "markdown",
   "metadata": {},
   "source": [
    "Method overriding is a concept in object-oriented programming (OOP) where a subclass provides a specific implementation for a method that is already defined in its superclass. The overriding method in the subclass has the same name, return type, and parameters as the method in the superclass. This allows the subclass to provide a specialized version of the method, adapting it to the specific behavior of the subclass."
   ]
  },
  {
   "cell_type": "code",
   "execution_count": 94,
   "metadata": {},
   "outputs": [
    {
     "name": "stdout",
     "output_type": "stream",
     "text": [
      "Woof!\n",
      "Meow\n",
      "Generic animal sound\n"
     ]
    }
   ],
   "source": [
    "class Animal:\n",
    "    def make_sound(self):\n",
    "        return \"Generic animal sound\"\n",
    "\n",
    "class Dog(Animal):\n",
    "    def make_sound(self):\n",
    "        return \"Woof!\"\n",
    "\n",
    "class Cat(Animal):\n",
    "    def make_sound(self):\n",
    "        return \"Meow\"\n",
    "\n",
    "class Cow(Animal):\n",
    "    pass  # Inherits the make_sound method from the Animal class\n",
    "\n",
    "# Example Usage\n",
    "dog = Dog()\n",
    "cat = Cat()\n",
    "cow = Cow()\n",
    "\n",
    "print(dog.make_sound())  # Calls the make_sound method of the Dog class\n",
    "print(cat.make_sound())  # Calls the make_sound method of the Cat class\n",
    "print(cow.make_sound())  # Calls the make_sound method of the Animal class\n"
   ]
  },
  {
   "cell_type": "markdown",
   "metadata": {},
   "source": [
    "**5. How is polymorphism different from method overloading in Python? Provide examples for both.**"
   ]
  },
  {
   "cell_type": "markdown",
   "metadata": {},
   "source": [
    "Polymorphism and method overloading are related concepts in Python, but they refer to different aspects of function/method behavior.\n",
    "\n",
    "Polymorphism:\n",
    "Definition: Polymorphism is the ability of a single function or method to operate on different types of objects, providing a common interface for objects of different classes."
   ]
  },
  {
   "cell_type": "code",
   "execution_count": null,
   "metadata": {},
   "outputs": [],
   "source": [
    "class Circle:\n",
    "    def area(self, radius):\n",
    "        return 3.14 * radius ** 2\n",
    "\n",
    "class Square:\n",
    "    def area(self, side_length):\n",
    "        return side_length ** 2\n",
    "\n",
    "def print_area(shape):\n",
    "    print(\"Area:\", shape.area())\n",
    "\n",
    "# Example Usage\n",
    "circle = Circle()\n",
    "square = Square()\n",
    "\n",
    "print_area(circle)  # Calls the area method of the Circle class\n",
    "print_area(square)  # Calls the area method of the Square class\n"
   ]
  },
  {
   "cell_type": "markdown",
   "metadata": {},
   "source": [
    "Method Overloading:\n",
    "Definition: Method overloading is the ability to define multiple methods in a class with the same name but with different parameters (either a different number of parameters or different types of parameters)."
   ]
  },
  {
   "cell_type": "code",
   "execution_count": null,
   "metadata": {},
   "outputs": [],
   "source": [
    "class Calculator:\n",
    "    def add(self, x, y):\n",
    "        return x + y\n",
    "\n",
    "    def add(self, x, y, z):\n",
    "        return x + y + z\n",
    "\n",
    "# Example Usage\n",
    "calculator = Calculator()\n",
    "\n",
    "result1 = calculator.add(1, 2)          # Calls the first add method\n",
    "result2 = calculator.add(1, 2, 3)       # Calls the second add method\n"
   ]
  },
  {
   "cell_type": "markdown",
   "metadata": {},
   "source": [
    "**6. Create a Python class called `Animal` with a method `speak()`. Then, create child classes like `Dog`, `Cat`, and `Bird`, each with their own `speak()` method. Demonstrate polymorphism by calling the `speak()` method\n",
    "on objects of different subclasses.**"
   ]
  },
  {
   "cell_type": "code",
   "execution_count": 98,
   "metadata": {},
   "outputs": [
    {
     "name": "stdout",
     "output_type": "stream",
     "text": [
      "The Dog says: Woof!\n",
      "The Cat says: Meow\n",
      "The Bird says: Tweet\n"
     ]
    }
   ],
   "source": [
    "class Animal:\n",
    "    def speak(self):\n",
    "        return \"Generic animal sound\"\n",
    "\n",
    "class Dog(Animal):\n",
    "    def speak(self):\n",
    "        return \"Woof!\"\n",
    "\n",
    "class Cat(Animal):\n",
    "    def speak(self):\n",
    "        return \"Meow\"\n",
    "\n",
    "class Bird(Animal):\n",
    "    def speak(self):\n",
    "        return \"Tweet\"\n",
    "\n",
    "# Example usage demonstrating polymorphism\n",
    "animals = [Dog(), Cat(), Bird()]\n",
    "\n",
    "for animal in animals:\n",
    "    sound = animal.speak()\n",
    "    animal_type = type(animal).__name__\n",
    "    print(f\"The {animal_type} says: {sound}\")\n"
   ]
  },
  {
   "cell_type": "markdown",
   "metadata": {},
   "source": [
    "**7. Discuss the use of abstract methods and classes in achieving polymorphism in Python. Provide an example\n",
    "using the `abc` module.**"
   ]
  },
  {
   "cell_type": "markdown",
   "metadata": {},
   "source": [
    "Abstract methods and classes play a crucial role in achieving polymorphism in Python. Abstract classes cannot be instantiated and are meant to be subclassed. Abstract methods are declared in abstract classes but do not have an implementation in the abstract class itself. Instead, they must be implemented by concrete (non-abstract) subclasses.\n",
    "\n",
    "In Python, you can create abstract classes and methods using the abc module. The abc module provides the ABC (Abstract Base Class) metaclass and the abstractmethod decorator, which are essential for creating abstract classes and methods."
   ]
  },
  {
   "cell_type": "code",
   "execution_count": 99,
   "metadata": {},
   "outputs": [
    {
     "name": "stdout",
     "output_type": "stream",
     "text": [
      "The area of the Circle is: 78.50\n",
      "The area of the Square is: 16.00\n",
      "The area of the Triangle is: 9.00\n"
     ]
    }
   ],
   "source": [
    "from abc import ABC, abstractmethod\n",
    "\n",
    "# Abstract class with an abstract method\n",
    "class Shape(ABC):\n",
    "    @abstractmethod\n",
    "    def calculate_area(self):\n",
    "        pass\n",
    "\n",
    "# Concrete subclasses implementing the abstract method\n",
    "class Circle(Shape):\n",
    "    def __init__(self, radius):\n",
    "        self.radius = radius\n",
    "\n",
    "    def calculate_area(self):\n",
    "        return 3.14 * self.radius ** 2\n",
    "\n",
    "class Square(Shape):\n",
    "    def __init__(self, side_length):\n",
    "        self.side_length = side_length\n",
    "\n",
    "    def calculate_area(self):\n",
    "        return self.side_length ** 2\n",
    "\n",
    "class Triangle(Shape):\n",
    "    def __init__(self, base, height):\n",
    "        self.base = base\n",
    "        self.height = height\n",
    "\n",
    "    def calculate_area(self):\n",
    "        return 0.5 * self.base * self.height\n",
    "\n",
    "# Function that works with shapes polymorphically\n",
    "def print_area(shape):\n",
    "    area = shape.calculate_area()\n",
    "    shape_type = type(shape).__name__\n",
    "    print(f\"The area of the {shape_type} is: {area:.2f}\")\n",
    "\n",
    "# Example usage demonstrating polymorphism\n",
    "shapes = [Circle(radius=5), Square(side_length=4), Triangle(base=3, height=6)]\n",
    "\n",
    "for shape in shapes:\n",
    "    print_area(shape)\n"
   ]
  },
  {
   "cell_type": "markdown",
   "metadata": {},
   "source": [
    "**8. Create a Python class hierarchy for a vehicle system (e.g., car, bicycle, boat) and implement a polymorphic `start()` method that prints a message specific to each vehicle type.**"
   ]
  },
  {
   "cell_type": "code",
   "execution_count": 100,
   "metadata": {},
   "outputs": [
    {
     "name": "stdout",
     "output_type": "stream",
     "text": [
      "Starting the Car: Car engine started. Vroom vroom!\n",
      "Starting the Bicycle: Bicycle pedaling started. Ring ring!\n",
      "Starting the Boat: Boat engine started. Splish splash!\n"
     ]
    }
   ],
   "source": [
    "class Vehicle:\n",
    "    def start(self):\n",
    "        raise NotImplementedError(\"start() method must be implemented in subclasses\")\n",
    "\n",
    "class Car(Vehicle):\n",
    "    def start(self):\n",
    "        return \"Car engine started. Vroom vroom!\"\n",
    "\n",
    "class Bicycle(Vehicle):\n",
    "    def start(self):\n",
    "        return \"Bicycle pedaling started. Ring ring!\"\n",
    "\n",
    "class Boat(Vehicle):\n",
    "    def start(self):\n",
    "        return \"Boat engine started. Splish splash!\"\n",
    "\n",
    "# Example usage demonstrating polymorphism\n",
    "vehicles = [Car(), Bicycle(), Boat()]\n",
    "\n",
    "for vehicle in vehicles:\n",
    "    start_message = vehicle.start()\n",
    "    vehicle_type = type(vehicle).__name__\n",
    "    print(f\"Starting the {vehicle_type}: {start_message}\")\n"
   ]
  },
  {
   "cell_type": "markdown",
   "metadata": {},
   "source": [
    "**9. Explain the significance of the `isinstance()` and `issubclass()` functions in Python polymorphism.**"
   ]
  },
  {
   "cell_type": "markdown",
   "metadata": {},
   "source": [
    "The isinstance() and issubclass() functions in Python play significant roles in working with polymorphism and object-oriented programming. These functions are used to check the type and inheritance relationships between objects and classes, respectively.\n",
    "\n",
    "1. isinstance() Function:\n",
    "The isinstance() function is used to check if an object is an instance of a particular class or a tuple of classes. It is particularly useful in scenarios where polymorphism is applied, and you want to determine the type of an object before performing certain operations."
   ]
  },
  {
   "cell_type": "code",
   "execution_count": 101,
   "metadata": {},
   "outputs": [
    {
     "name": "stdout",
     "output_type": "stream",
     "text": [
      "True\n",
      "True\n",
      "True\n",
      "False\n"
     ]
    }
   ],
   "source": [
    "class Animal:\n",
    "    pass\n",
    "\n",
    "class Dog(Animal):\n",
    "    pass\n",
    "\n",
    "class Cat(Animal):\n",
    "    pass\n",
    "\n",
    "# Objects\n",
    "dog_instance = Dog()\n",
    "cat_instance = Cat()\n",
    "\n",
    "# Checking type using isinstance\n",
    "print(isinstance(dog_instance, Dog))   # True\n",
    "print(isinstance(cat_instance, Cat))   # True\n",
    "print(isinstance(cat_instance, Animal))  # True (Cat is also an Animal)\n",
    "print(isinstance(dog_instance, Cat))    # False (Dog is not a Cat)\n"
   ]
  },
  {
   "cell_type": "markdown",
   "metadata": {},
   "source": [
    "**10. What is the role of the `@abstractmethod` decorator in achieving polymorphism in Python? Provide an\n",
    "example.**"
   ]
  },
  {
   "cell_type": "markdown",
   "metadata": {},
   "source": [
    "The @abstractmethod decorator in Python is part of the abc (Abstract Base Classes) module. It is used to declare abstract methods within abstract classes. An abstract method is a method that is declared in the abstract class but does not have an implementation in that class. Subclasses are required to provide concrete implementations for abstract methods.\n",
    "\n",
    "The @abstractmethod decorator ensures that any concrete subclass that does not provide an implementation for the abstract method will raise a TypeError at runtime, preventing instantiation of the abstract class."
   ]
  },
  {
   "cell_type": "code",
   "execution_count": 102,
   "metadata": {},
   "outputs": [
    {
     "name": "stdout",
     "output_type": "stream",
     "text": [
      "The area of the Circle is: 78.50\n",
      "The area of the Square is: 16.00\n",
      "The area of the Triangle is: 9.00\n"
     ]
    }
   ],
   "source": [
    "from abc import ABC, abstractmethod\n",
    "\n",
    "# Abstract class with an abstract method\n",
    "class Shape(ABC):\n",
    "    @abstractmethod\n",
    "    def calculate_area(self):\n",
    "        pass\n",
    "\n",
    "# Concrete subclasses implementing the abstract method\n",
    "class Circle(Shape):\n",
    "    def __init__(self, radius):\n",
    "        self.radius = radius\n",
    "\n",
    "    def calculate_area(self):\n",
    "        return 3.14 * self.radius ** 2\n",
    "\n",
    "class Square(Shape):\n",
    "    def __init__(self, side_length):\n",
    "        self.side_length = side_length\n",
    "\n",
    "    def calculate_area(self):\n",
    "        return self.side_length ** 2\n",
    "\n",
    "class Triangle(Shape):\n",
    "    def __init__(self, base, height):\n",
    "        self.base = base\n",
    "        self.height = height\n",
    "\n",
    "    def calculate_area(self):\n",
    "        return 0.5 * self.base * self.height\n",
    "\n",
    "# Function that works with shapes polymorphically\n",
    "def print_area(shape):\n",
    "    area = shape.calculate_area()\n",
    "    shape_type = type(shape).__name__\n",
    "    print(f\"The area of the {shape_type} is: {area:.2f}\")\n",
    "\n",
    "# Example usage demonstrating polymorphism\n",
    "shapes = [Circle(radius=5), Square(side_length=4), Triangle(base=3, height=6)]\n",
    "\n",
    "for shape in shapes:\n",
    "    print_area(shape)\n"
   ]
  },
  {
   "cell_type": "markdown",
   "metadata": {},
   "source": [
    "11. Create a Python class called `Shape` with a polymorphic method `area()` that calculates the area of different shapes (e.g., circle, rectangle, triangle)."
   ]
  },
  {
   "cell_type": "code",
   "execution_count": 103,
   "metadata": {},
   "outputs": [
    {
     "name": "stdout",
     "output_type": "stream",
     "text": [
      "The area of the Circle is: 78.54\n",
      "The area of the Rectangle is: 24.00\n",
      "The area of the Triangle is: 9.00\n"
     ]
    }
   ],
   "source": [
    "import math\n",
    "\n",
    "class Shape:\n",
    "    def area(self):\n",
    "        raise NotImplementedError(\"area() method must be implemented in subclasses\")\n",
    "\n",
    "class Circle(Shape):\n",
    "    def __init__(self, radius):\n",
    "        self.radius = radius\n",
    "\n",
    "    def area(self):\n",
    "        return math.pi * self.radius ** 2\n",
    "\n",
    "class Rectangle(Shape):\n",
    "    def __init__(self, width, height):\n",
    "        self.width = width\n",
    "        self.height = height\n",
    "\n",
    "    def area(self):\n",
    "        return self.width * self.height\n",
    "\n",
    "class Triangle(Shape):\n",
    "    def __init__(self, base, height):\n",
    "        self.base = base\n",
    "        self.height = height\n",
    "\n",
    "    def area(self):\n",
    "        return 0.5 * self.base * self.height\n",
    "\n",
    "# Example usage demonstrating polymorphism\n",
    "shapes = [Circle(radius=5), Rectangle(width=4, height=6), Triangle(base=3, height=6)]\n",
    "\n",
    "for shape in shapes:\n",
    "    area_result = shape.area()\n",
    "    shape_type = type(shape).__name__\n",
    "    print(f\"The area of the {shape_type} is: {area_result:.2f}\")\n"
   ]
  },
  {
   "cell_type": "markdown",
   "metadata": {},
   "source": [
    "**12. Discuss the benefits of polymorphism in terms of code reusability and flexibility in Python programs.**"
   ]
  },
  {
   "cell_type": "markdown",
   "metadata": {},
   "source": [
    "Polymorphism in Python provides several benefits in terms of code reusability and flexibility, making it a fundamental concept in object-oriented programming. Here are the key advantages:\n",
    "\n",
    "Code Reusability:\n",
    "\n",
    "Unified Interface: Polymorphism allows different classes to implement a common interface (e.g., method names) while providing their specific implementations. This unification of interfaces promotes code reuse.\n",
    "\n",
    "Common Operations: A single piece of code can work with objects of different types as long as they adhere to a common interface. This reduces redundancy and promotes the reuse of code across different parts of a program.\n",
    "\n",
    "Flexibility:\n",
    "\n",
    "Adaptability: Polymorphism enables the creation of flexible and adaptable code that can work with a variety of objects without being tied to their specific implementations.\n",
    "\n",
    "Ease of Maintenance: Changes to one part of the code, especially in the context of adding new classes or modifying existing ones, are less likely to impact other parts of the code. This makes the codebase more maintainable and extensible.\n",
    "\n",
    "Scalability:\n",
    "\n",
    "Adding New Functionality: When new classes are added to a program, as long as they adhere to the same interface (e.g., by implementing the same methods), existing code that relies on polymorphism can seamlessly work with these new classes without modification.\n",
    "\n",
    "Expanding Functionality: Polymorphism supports the addition of new functionality without modifying existing code. This is crucial for programs that need to evolve and adapt to changing requirements.\n",
    "\n",
    "Easier Collaboration:\n",
    "\n",
    "Team Collaboration: In collaborative development environments, different team members can work on different parts of a program without worrying about how their changes will impact other components. As long as the interface is maintained, collaboration becomes more straightforward.\n",
    "\n",
    "Library Integration: Libraries and frameworks that utilize polymorphism can be seamlessly integrated into different projects, as long as the projects adhere to the specified interfaces. This promotes the use of third-party libraries and enhances interoperability.\n",
    "\n",
    "Dynamic Behavior:\n",
    "\n",
    "Run-time Decisions: Polymorphism enables decisions about which method to invoke to be made at runtime based on the actual type of the object. This dynamic behavior enhances the flexibility of the code.\n",
    "\n",
    "Reduced Code Dependence: The code becomes less dependent on the specific types of objects it works with, making it more adaptable to changes in the program's requirements."
   ]
  },
  {
   "cell_type": "markdown",
   "metadata": {},
   "source": [
    "**13. Explain the use of the `super()` function in Python polymorphism. How does it help call methods of parent\n",
    "classes?**"
   ]
  },
  {
   "cell_type": "markdown",
   "metadata": {},
   "source": [
    "The super() function in Python is used to call methods from a parent or superclass. It is commonly used in the context of method overriding within inheritance hierarchies. The primary purpose of super() is to enable access to methods and attributes of a parent class from within a subclass.\n",
    "\n",
    "#syntax\n",
    "class Subclass(ParentClass):\n",
    "    def some_method(self):\n",
    "        super().method_in_parent_class()\n"
   ]
  },
  {
   "cell_type": "markdown",
   "metadata": {},
   "source": [
    "Use Cases and Benefits:\n",
    "Method Overriding:\n",
    "\n",
    "When a subclass overrides a method of its parent class, you might still want to call the overridden method in the parent class to reuse its functionality.\n",
    "super() allows you to call the overridden method in the parent class from within the subclass.\n",
    "\n"
   ]
  },
  {
   "cell_type": "code",
   "execution_count": 105,
   "metadata": {},
   "outputs": [
    {
     "name": "stdout",
     "output_type": "stream",
     "text": [
      "Parent class\n",
      "Child class\n"
     ]
    }
   ],
   "source": [
    "class Parent:\n",
    "    def show_info(self):\n",
    "        print(\"Parent class\")\n",
    "\n",
    "class Child(Parent):\n",
    "    def show_info(self):\n",
    "        super().show_info()  # Calls the show_info method in the Parent class\n",
    "        print(\"Child class\")\n",
    "\n",
    "obj = Child()\n",
    "obj.show_info()\n"
   ]
  },
  {
   "cell_type": "markdown",
   "metadata": {},
   "source": [
    "Constructor in Subclass:\n",
    "\n",
    "When you override the constructor (__init__ method) in a subclass, you might want to ensure that the initialization code in the parent class is also executed.\n",
    "super().__init__() is commonly used to call the constructor of the parent class."
   ]
  },
  {
   "cell_type": "code",
   "execution_count": 106,
   "metadata": {},
   "outputs": [
    {
     "name": "stdout",
     "output_type": "stream",
     "text": [
      "John 25\n"
     ]
    }
   ],
   "source": [
    "class Parent:\n",
    "    def __init__(self, name):\n",
    "        self.name = name\n",
    "\n",
    "class Child(Parent):\n",
    "    def __init__(self, name, age):\n",
    "        super().__init__(name)  # Calls the constructor of the Parent class\n",
    "        self.age = age\n",
    "\n",
    "obj = Child(name=\"John\", age=25)\n",
    "print(obj.name, obj.age)\n"
   ]
  },
  {
   "cell_type": "markdown",
   "metadata": {},
   "source": [
    "Multiple Inheritance:\n",
    "\n",
    "In the case of multiple inheritance, where a class has more than one parent class, super() helps in calling methods from the immediate parent class."
   ]
  },
  {
   "cell_type": "code",
   "execution_count": 107,
   "metadata": {},
   "outputs": [
    {
     "name": "stdout",
     "output_type": "stream",
     "text": [
      "Method in A\n",
      "Method in C\n",
      "Method in B\n",
      "Method in D\n"
     ]
    }
   ],
   "source": [
    "class A:\n",
    "    def method(self):\n",
    "        print(\"Method in A\")\n",
    "\n",
    "class B(A):\n",
    "    def method(self):\n",
    "        super().method()\n",
    "        print(\"Method in B\")\n",
    "\n",
    "class C(A):\n",
    "    def method(self):\n",
    "        super().method()\n",
    "        print(\"Method in C\")\n",
    "\n",
    "class D(B, C):\n",
    "    def method(self):\n",
    "        super().method()\n",
    "        print(\"Method in D\")\n",
    "\n",
    "obj = D()\n",
    "obj.method()\n"
   ]
  },
  {
   "cell_type": "markdown",
   "metadata": {},
   "source": [
    "**14. Create a Python class hierarchy for a banking system with various account types (e.g., savings, checking,**"
   ]
  },
  {
   "cell_type": "code",
   "execution_count": 109,
   "metadata": {},
   "outputs": [
    {
     "name": "stdout",
     "output_type": "stream",
     "text": [
      "Deposited $500. New balance: $1500.00\n",
      "Interest added: $30.00. New balance: $1530.00\n",
      "Account Balance for Alice's account: $1530.00\n",
      "Withdrew $700. New balance: $-200.00\n",
      "Account Balance for Bob's account: $-200.00\n",
      "Interest accrued: $500.00. New balance: $10500.00\n",
      "Account Balance for Charlie's account: $10500.00\n"
     ]
    }
   ],
   "source": [
    "class BankAccount:\n",
    "    def __init__(self, account_number, holder_name, balance=0.0):\n",
    "        self.account_number = account_number\n",
    "        self.holder_name = holder_name\n",
    "        self.balance = balance\n",
    "\n",
    "    def deposit(self, amount):\n",
    "        self.balance += amount\n",
    "        print(f\"Deposited ${amount}. New balance: ${self.balance:.2f}\")\n",
    "\n",
    "    def withdraw(self, amount):\n",
    "        if amount <= self.balance:\n",
    "            self.balance -= amount\n",
    "            print(f\"Withdrew ${amount}. New balance: ${self.balance:.2f}\")\n",
    "        else:\n",
    "            print(\"Insufficient funds.\")\n",
    "\n",
    "    def display_balance(self):\n",
    "        print(f\"Account Balance for {self.holder_name}'s account: ${self.balance:.2f}\")\n",
    "\n",
    "\n",
    "class SavingsAccount(BankAccount):\n",
    "    def __init__(self, account_number, holder_name, balance=0.0, interest_rate=0.02):\n",
    "        super().__init__(account_number, holder_name, balance)\n",
    "        self.interest_rate = interest_rate\n",
    "\n",
    "    def add_interest(self):\n",
    "        interest_amount = self.balance * self.interest_rate\n",
    "        self.balance += interest_amount\n",
    "        print(f\"Interest added: ${interest_amount:.2f}. New balance: ${self.balance:.2f}\")\n",
    "\n",
    "\n",
    "class CheckingAccount(BankAccount):\n",
    "    def __init__(self, account_number, holder_name, balance=0.0, overdraft_limit=100.0):\n",
    "        super().__init__(account_number, holder_name, balance)\n",
    "        self.overdraft_limit = overdraft_limit\n",
    "\n",
    "    def withdraw(self, amount):\n",
    "        if amount <= self.balance + self.overdraft_limit:\n",
    "            self.balance -= amount\n",
    "            print(f\"Withdrew ${amount}. New balance: ${self.balance:.2f}\")\n",
    "        else:\n",
    "            print(\"Transaction denied. Exceeds overdraft limit.\")\n",
    "\n",
    "\n",
    "class LoanAccount(BankAccount):\n",
    "    def __init__(self, account_number, holder_name, balance=0.0, interest_rate=0.05):\n",
    "        super().__init__(account_number, holder_name, balance)\n",
    "        self.interest_rate = interest_rate\n",
    "\n",
    "    def accrue_interest(self):\n",
    "        interest_amount = self.balance * self.interest_rate\n",
    "        self.balance += interest_amount\n",
    "        print(f\"Interest accrued: ${interest_amount:.2f}. New balance: ${self.balance:.2f}\")\n",
    "\n",
    "\n",
    "# Example usage\n",
    "savings_account = SavingsAccount(account_number=\"SA123\", holder_name=\"Alice\", balance=1000.0)\n",
    "checking_account = CheckingAccount(account_number=\"CA456\", holder_name=\"Bob\", balance=500.0, overdraft_limit=200.0)\n",
    "loan_account = LoanAccount(account_number=\"LA789\", holder_name=\"Charlie\", balance=10000.0)\n",
    "\n",
    "savings_account.deposit(500)\n",
    "savings_account.add_interest()\n",
    "savings_account.display_balance()\n",
    "\n",
    "checking_account.withdraw(700)\n",
    "checking_account.display_balance()\n",
    "\n",
    "loan_account.accrue_interest()\n",
    "loan_account.display_balance()\n"
   ]
  },
  {
   "cell_type": "markdown",
   "metadata": {},
   "source": [
    "**15. Describe the concept of operator overloading in Python and how it relates to polymorphism. Provide\n",
    "examples using operators like `+` and `*`.**"
   ]
  },
  {
   "cell_type": "markdown",
   "metadata": {},
   "source": [
    "Operator overloading in Python allows you to define how operators behave for objects of your own classes. It is a form of polymorphism, specifically compile-time polymorphism, as it allows the same operator to have different implementations based on the types of operands involved.\n",
    "\n",
    "When you overload an operator, you provide a special method in your class that defines the behavior of the operator when applied to instances of your class. The special method names are in the form of __operator__, where operator is the name of the operator being overloaded."
   ]
  },
  {
   "cell_type": "code",
   "execution_count": 110,
   "metadata": {},
   "outputs": [
    {
     "name": "stdout",
     "output_type": "stream",
     "text": [
      "Result of addition: Point(3, 7)\n",
      "Result of multiplication: Point(4, 6)\n"
     ]
    }
   ],
   "source": [
    "class Point:\n",
    "    def __init__(self, x, y):\n",
    "        self.x = x\n",
    "        self.y = y\n",
    "\n",
    "    def __add__(self, other):\n",
    "        if isinstance(other, Point):\n",
    "            return Point(self.x + other.x, self.y + other.y)\n",
    "        else:\n",
    "            raise TypeError(\"Unsupported operand type for +: Point and {}\".format(type(other)))\n",
    "\n",
    "    def __mul__(self, scalar):\n",
    "        if isinstance(scalar, (int, float)):\n",
    "            return Point(self.x * scalar, self.y * scalar)\n",
    "        else:\n",
    "            raise TypeError(\"Unsupported operand type for *: Point and {}\".format(type(scalar)))\n",
    "\n",
    "    def __str__(self):\n",
    "        return \"Point({}, {})\".format(self.x, self.y)\n",
    "\n",
    "# Example usage demonstrating operator overloading\n",
    "point1 = Point(2, 3)\n",
    "point2 = Point(1, 4)\n",
    "\n",
    "# Overloading the + operator\n",
    "result_addition = point1 + point2\n",
    "print(\"Result of addition:\", result_addition)\n",
    "\n",
    "# Overloading the * operator\n",
    "result_multiplication = point1 * 2\n",
    "print(\"Result of multiplication:\", result_multiplication)\n"
   ]
  },
  {
   "cell_type": "markdown",
   "metadata": {},
   "source": [
    "**16. What is dynamic polymorphism, and how is it achieved in Python?**"
   ]
  },
  {
   "cell_type": "markdown",
   "metadata": {},
   "source": [
    "Dynamic polymorphism, also known as runtime polymorphism, is a concept in object-oriented programming where the method or operation to be performed is decided at runtime. This allows different classes to be treated uniformly through a common interface, even if they belong to different parts of the class hierarchy.\n",
    "\n",
    "In Python, dynamic polymorphism is achieved through method overriding and late binding. Method overriding occurs when a subclass provides a specific implementation for a method that is already defined in its superclass. Late binding, also known as dynamic or runtime binding, means that the method call is resolved at runtime based on the actual type of the object."
   ]
  },
  {
   "cell_type": "code",
   "execution_count": 111,
   "metadata": {},
   "outputs": [
    {
     "name": "stdout",
     "output_type": "stream",
     "text": [
      "Animal speaks\n",
      "Dog barks\n",
      "Cat meows\n"
     ]
    }
   ],
   "source": [
    "class Animal:\n",
    "    def speak(self):\n",
    "        return \"Animal speaks\"\n",
    "\n",
    "class Dog(Animal):\n",
    "    def speak(self):\n",
    "        return \"Dog barks\"\n",
    "\n",
    "class Cat(Animal):\n",
    "    def speak(self):\n",
    "        return \"Cat meows\"\n",
    "\n",
    "# Function demonstrating dynamic polymorphism\n",
    "def animal_sound(animal):\n",
    "    return animal.speak()\n",
    "\n",
    "# Example usage\n",
    "animal1 = Animal()\n",
    "dog = Dog()\n",
    "cat = Cat()\n",
    "\n",
    "print(animal_sound(animal1))  # Output: Animal speaks\n",
    "print(animal_sound(dog))      # Output: Dog barks\n",
    "print(animal_sound(cat))      # Output: Cat meows\n"
   ]
  },
  {
   "cell_type": "markdown",
   "metadata": {},
   "source": [
    "**17. Create a Python class hierarchy for employees in a company (e.g., manager, developer, designer) a17. Create a Python class hierarchy for employees in a company (e.g., manager, developer, designer)**"
   ]
  },
  {
   "cell_type": "code",
   "execution_count": 112,
   "metadata": {},
   "outputs": [
    {
     "name": "stdout",
     "output_type": "stream",
     "text": [
      "Employee ID: M001\n",
      "Name: John Manager\n",
      "Role: Manager\n",
      "Salary: $80000.00\n",
      "---------------\n",
      "Team Size: 10\n",
      "Employee ID: D001\n",
      "Name: Alice Developer\n",
      "Role: Developer\n",
      "Salary: $60000.00\n",
      "---------------\n",
      "Programming Language: Python\n",
      "Employee ID: DS001\n",
      "Name: Bob Designer\n",
      "Role: Designer\n",
      "Salary: $70000.00\n",
      "---------------\n",
      "Design Tool: Sketch\n"
     ]
    }
   ],
   "source": [
    "class Employee:\n",
    "    def __init__(self, employee_id, name, role, salary):\n",
    "        self.employee_id = employee_id\n",
    "        self.name = name\n",
    "        self.role = role\n",
    "        self.salary = salary\n",
    "\n",
    "    def display_details(self):\n",
    "        print(f\"Employee ID: {self.employee_id}\")\n",
    "        print(f\"Name: {self.name}\")\n",
    "        print(f\"Role: {self.role}\")\n",
    "        print(f\"Salary: ${self.salary:.2f}\")\n",
    "        print(\"---------------\")\n",
    "\n",
    "class Manager(Employee):\n",
    "    def __init__(self, employee_id, name, salary, team_size):\n",
    "        super().__init__(employee_id, name, role=\"Manager\", salary=salary)\n",
    "        self.team_size = team_size\n",
    "\n",
    "    def display_details(self):\n",
    "        super().display_details()\n",
    "        print(f\"Team Size: {self.team_size}\")\n",
    "\n",
    "class Developer(Employee):\n",
    "    def __init__(self, employee_id, name, salary, programming_language):\n",
    "        super().__init__(employee_id, name, role=\"Developer\", salary=salary)\n",
    "        self.programming_language = programming_language\n",
    "\n",
    "    def display_details(self):\n",
    "        super().display_details()\n",
    "        print(f\"Programming Language: {self.programming_language}\")\n",
    "\n",
    "class Designer(Employee):\n",
    "    def __init__(self, employee_id, name, salary, design_tool):\n",
    "        super().__init__(employee_id, name, role=\"Designer\", salary=salary)\n",
    "        self.design_tool = design_tool\n",
    "\n",
    "    def display_details(self):\n",
    "        super().display_details()\n",
    "        print(f\"Design Tool: {self.design_tool}\")\n",
    "\n",
    "# Example usage\n",
    "manager1 = Manager(employee_id=\"M001\", name=\"John Manager\", salary=80000, team_size=10)\n",
    "developer1 = Developer(employee_id=\"D001\", name=\"Alice Developer\", salary=60000, programming_language=\"Python\")\n",
    "designer1 = Designer(employee_id=\"DS001\", name=\"Bob Designer\", salary=70000, design_tool=\"Sketch\")\n",
    "\n",
    "# Display details for each employee\n",
    "manager1.display_details()\n",
    "developer1.display_details()\n",
    "designer1.display_details()\n"
   ]
  },
  {
   "cell_type": "markdown",
   "metadata": {},
   "source": [
    "**18. Discuss the concept of function pointers and how they can be used to achieve polymorphism in Python.**"
   ]
  },
  {
   "cell_type": "markdown",
   "metadata": {},
   "source": [
    "n Python, the concept of function pointers is somewhat different from languages like C or C++. Python doesn't have explicit function pointers, but it does support higher-order functions, first-class functions, and the ability to pass functions as arguments to other functions. This flexibility enables a form of polymorphism through functions, though it may not be exactly the same as using function pointers in other languages."
   ]
  },
  {
   "cell_type": "code",
   "execution_count": 113,
   "metadata": {},
   "outputs": [
    {
     "name": "stdout",
     "output_type": "stream",
     "text": [
      "Result of addition: 8\n",
      "Result of subtraction: 2\n",
      "Result of multiplication: 15\n"
     ]
    }
   ],
   "source": [
    "class Operation:\n",
    "    def operate(self, x, y):\n",
    "        pass\n",
    "\n",
    "class Addition(Operation):\n",
    "    def operate(self, x, y):\n",
    "        return x + y\n",
    "\n",
    "class Subtraction(Operation):\n",
    "    def operate(self, x, y):\n",
    "        return x - y\n",
    "\n",
    "class Multiplication(Operation):\n",
    "    def operate(self, x, y):\n",
    "        return x * y\n",
    "\n",
    "class Calculator:\n",
    "    def __init__(self, operation):\n",
    "        self.operation = operation\n",
    "\n",
    "    def calculate(self, x, y):\n",
    "        return self.operation.operate(x, y)\n",
    "\n",
    "# Example usage\n",
    "addition = Addition()\n",
    "subtraction = Subtraction()\n",
    "multiplication = Multiplication()\n",
    "\n",
    "calculator_add = Calculator(addition)\n",
    "calculator_sub = Calculator(subtraction)\n",
    "calculator_mul = Calculator(multiplication)\n",
    "\n",
    "result_add = calculator_add.calculate(5, 3)\n",
    "result_sub = calculator_sub.calculate(5, 3)\n",
    "result_mul = calculator_mul.calculate(5, 3)\n",
    "\n",
    "print(\"Result of addition:\", result_add)\n",
    "print(\"Result of subtraction:\", result_sub)\n",
    "print(\"Result of multiplication:\", result_mul)\n"
   ]
  },
  {
   "cell_type": "markdown",
   "metadata": {},
   "source": [
    "**19. Explain the role of interfaces and abstract classes in polymorphism, drawing comparisons between them.**"
   ]
  },
  {
   "cell_type": "markdown",
   "metadata": {},
   "source": [
    "In object-oriented programming, both interfaces and abstract classes play a crucial role in achieving polymorphism. They provide a way to define a common interface for a group of related classes, allowing objects of these classes to be treated uniformly through a common interface.\n",
    "\n",
    "Interfaces:\n",
    "Definition:\n",
    "\n",
    "An interface is a collection of abstract methods without any implementation. It defines a contract that concrete classes must adhere to.\n",
    "In languages like Java or C#, interfaces can also include constant values (fields), but they don't provide any method implementation.\n",
    "Implementation:\n",
    "\n",
    "Classes implement interfaces by providing concrete implementations for all the methods declared in the interface.\n",
    "An interface can be implemented by multiple classes, fostering a form of multiple inheritance through interfaces."
   ]
  },
  {
   "cell_type": "code",
   "execution_count": 114,
   "metadata": {},
   "outputs": [],
   "source": [
    "from abc import ABC, abstractmethod\n",
    "\n",
    "class Shape(ABC):\n",
    "    @abstractmethod\n",
    "    def area(self):\n",
    "        pass\n",
    "\n",
    "class Circle(Shape):\n",
    "    def __init__(self, radius):\n",
    "        self.radius = radius\n",
    "\n",
    "    def area(self):\n",
    "        return 3.14 * self.radius * self.radius\n",
    "\n",
    "class Square(Shape):\n",
    "    def __init__(self, side):\n",
    "        self.side = side\n",
    "\n",
    "    def area(self):\n",
    "        return self.side * self.side\n"
   ]
  },
  {
   "cell_type": "markdown",
   "metadata": {},
   "source": [
    "Abstract Classes:\n",
    "Definition:\n",
    "\n",
    "An abstract class is a class that cannot be instantiated on its own and may contain a mix of abstract and concrete methods.\n",
    "Abstract classes can have constructors, member variables, and method implementations.\n",
    "Implementation:\n",
    "\n",
    "Concrete subclasses extend abstract classes, providing implementations for abstract methods.\n",
    "An abstract class can provide a partial implementation, allowing subclasses to inherit common behavior."
   ]
  },
  {
   "cell_type": "code",
   "execution_count": 115,
   "metadata": {},
   "outputs": [],
   "source": [
    "from abc import ABC, abstractmethod\n",
    "\n",
    "class Shape(ABC):\n",
    "    def __init__(self, color):\n",
    "        self.color = color\n",
    "\n",
    "    @abstractmethod\n",
    "    def area(self):\n",
    "        pass\n",
    "\n",
    "class Circle(Shape):\n",
    "    def __init__(self, radius, color):\n",
    "        super().__init__(color)\n",
    "        self.radius = radius\n",
    "\n",
    "    def area(self):\n",
    "        return 3.14 * self.radius * self.radius\n",
    "\n",
    "class Square(Shape):\n",
    "    def __init__(self, side, color):\n",
    "        super().__init__(color)\n",
    "        self.side = side\n",
    "\n",
    "    def area(self):\n",
    "        return self.side * self.side\n"
   ]
  },
  {
   "cell_type": "markdown",
   "metadata": {},
   "source": [
    "**20. Create a Python class for a zoo simulation, demonstrating polymorphism with different animal types (e.g.,**"
   ]
  },
  {
   "cell_type": "code",
   "execution_count": 116,
   "metadata": {},
   "outputs": [
    {
     "name": "stdout",
     "output_type": "stream",
     "text": [
      "Simba: Lion is eating meat.\n",
      "Simba: Lion is sleeping.\n",
      "Simba: Roar!\n",
      "Simba: Lioness gave birth to cubs.\n",
      "-------------\n",
      "Polly: Parrot is eating seeds.\n",
      "Polly: Parrot is sleeping on its perch.\n",
      "Polly: Squawk!\n",
      "Polly: Parrot is flying.\n",
      "-------------\n",
      "Nagini: Snake is swallowing prey.\n",
      "Nagini: Snake is coiled and resting.\n",
      "Nagini: Hiss!\n",
      "Nagini: Snake is crawling.\n",
      "-------------\n"
     ]
    }
   ],
   "source": [
    "class Animal:\n",
    "    def __init__(self, name):\n",
    "        self.name = name\n",
    "\n",
    "    def eat(self):\n",
    "        pass\n",
    "\n",
    "    def sleep(self):\n",
    "        pass\n",
    "\n",
    "    def make_sound(self):\n",
    "        pass\n",
    "\n",
    "class Mammal(Animal):\n",
    "    def give_birth(self):\n",
    "        pass\n",
    "\n",
    "class Bird(Animal):\n",
    "    def fly(self):\n",
    "        pass\n",
    "\n",
    "class Reptile(Animal):\n",
    "    def crawl(self):\n",
    "        pass\n",
    "\n",
    "# Specific animal classes\n",
    "\n",
    "class Lion(Mammal):\n",
    "    def eat(self):\n",
    "        return \"Lion is eating meat.\"\n",
    "\n",
    "    def sleep(self):\n",
    "        return \"Lion is sleeping.\"\n",
    "\n",
    "    def make_sound(self):\n",
    "        return \"Roar!\"\n",
    "\n",
    "    def give_birth(self):\n",
    "        return \"Lioness gave birth to cubs.\"\n",
    "\n",
    "class Parrot(Bird):\n",
    "    def eat(self):\n",
    "        return \"Parrot is eating seeds.\"\n",
    "\n",
    "    def sleep(self):\n",
    "        return \"Parrot is sleeping on its perch.\"\n",
    "\n",
    "    def make_sound(self):\n",
    "        return \"Squawk!\"\n",
    "\n",
    "    def fly(self):\n",
    "        return \"Parrot is flying.\"\n",
    "\n",
    "class Snake(Reptile):\n",
    "    def eat(self):\n",
    "        return \"Snake is swallowing prey.\"\n",
    "\n",
    "    def sleep(self):\n",
    "        return \"Snake is coiled and resting.\"\n",
    "\n",
    "    def make_sound(self):\n",
    "        return \"Hiss!\"\n",
    "\n",
    "    def crawl(self):\n",
    "        return \"Snake is crawling.\"\n",
    "\n",
    "# Zoo simulation\n",
    "\n",
    "lion = Lion(\"Simba\")\n",
    "parrot = Parrot(\"Polly\")\n",
    "snake = Snake(\"Nagini\")\n",
    "\n",
    "zoo_animals = [lion, parrot, snake]\n",
    "\n",
    "for animal in zoo_animals:\n",
    "    print(f\"{animal.name}: {animal.eat()}\")\n",
    "    print(f\"{animal.name}: {animal.sleep()}\")\n",
    "    print(f\"{animal.name}: {animal.make_sound()}\")\n",
    "    if isinstance(animal, Mammal):\n",
    "        print(f\"{animal.name}: {animal.give_birth()}\")\n",
    "    elif isinstance(animal, Bird):\n",
    "        print(f\"{animal.name}: {animal.fly()}\")\n",
    "    elif isinstance(animal, Reptile):\n",
    "        print(f\"{animal.name}: {animal.crawl()}\")\n",
    "    print(\"-------------\")\n"
   ]
  },
  {
   "cell_type": "markdown",
   "metadata": {},
   "source": [
    "# Abstraction:"
   ]
  },
  {
   "cell_type": "markdown",
   "metadata": {},
   "source": [
    "1. What is abstraction in Python, and how does it relate to object-oriented programming?"
   ]
  },
  {
   "cell_type": "markdown",
   "metadata": {},
   "source": [
    "Abstraction in Python, as well as in object-oriented programming (OOP) in general, is a concept that involves simplifying complex systems by modeling classes based on essential characteristics and hiding unnecessary details from the user. It is one of the core principles of OOP and is closely related to encapsulation.\n",
    "\n",
    "Here are key aspects of abstraction in Python and OOP:\n",
    "\n",
    "Modeling Real-world Entities:\n",
    "\n",
    "Abstraction allows programmers to represent real-world entities in a software system by defining classes that encapsulate relevant attributes and behaviors.\n",
    "Classes abstract away unnecessary details, focusing on the essential features of the entities being modeled.\n",
    "Hiding Implementation Details:\n",
    "\n",
    "Abstraction involves hiding the internal implementation details of a class and exposing only the necessary functionalities to the outside world.\n",
    "This helps in reducing complexity and allows users to interact with the system at a higher level without needing to understand the internal workings.\n",
    "Defining Interfaces:\n",
    "\n",
    "Abstraction often involves defining interfaces that specify the methods or operations a class should support.\n",
    "Users of a class interact with its public interface, which serves as a contract for how the class should be used.\n",
    "Implementation through Classes and Objects:\n",
    "\n",
    "In Python and OOP, abstraction is implemented through the creation of classes and the instantiation of objects based on those classes.\n",
    "Classes define the blueprint for objects, including attributes and methods, while objects represent instances of those classes."
   ]
  },
  {
   "cell_type": "code",
   "execution_count": 117,
   "metadata": {},
   "outputs": [],
   "source": [
    "from abc import ABC, abstractmethod\n",
    "\n",
    "class Shape(ABC):\n",
    "    @abstractmethod\n",
    "    def calculate_area(self):\n",
    "        pass\n",
    "\n",
    "class Circle(Shape):\n",
    "    def __init__(self, radius):\n",
    "        self.radius = radius\n",
    "\n",
    "    def calculate_area(self):\n",
    "        return 3.14 * self.radius * self.radius\n",
    "\n",
    "class Rectangle(Shape):\n",
    "    def __init__(self, length, width):\n",
    "        self.length = length\n",
    "        self.width = width\n",
    "\n",
    "    def calculate_area(self):\n",
    "        return self.length * self.width\n"
   ]
  },
  {
   "cell_type": "markdown",
   "metadata": {},
   "source": [
    "**2. Describe the benefits of abstraction in terms of code organization and complexity reduction.**"
   ]
  },
  {
   "cell_type": "markdown",
   "metadata": {},
   "source": [
    "Abstraction in programming, particularly in the context of object-oriented programming, offers several benefits in terms of code organization and complexity reduction. Here are some key advantages:\n",
    "\n",
    "Simplifies Complexity:\n",
    "\n",
    "Abstraction allows developers to model complex systems by focusing on essential features while hiding unnecessary details. This simplification makes it easier to understand and manage the code.\n",
    "Modular Design:\n",
    "\n",
    "Abstraction promotes modular design, where a system is broken down into smaller, self-contained units (classes or modules). Each module encapsulates specific functionality, contributing to a modular and organized codebase.\n",
    "Encapsulation of Details:\n",
    "\n",
    "Abstraction and encapsulation go hand in hand. Abstraction enables the hiding of implementation details, allowing users to interact with well-defined interfaces. This encapsulation enhances code readability and maintenance.\n",
    "Reusability:\n",
    "\n",
    "Abstraction supports the creation of reusable components. Once a well-designed abstraction (e.g., a class) is implemented, it can be easily reused in various parts of the program or even in different projects, reducing redundancy and promoting code reuse.\n",
    "Separation of Concerns:\n",
    "\n",
    "Abstraction helps in separating concerns within a program. Each class or module focuses on a specific aspect of the system, making it easier to understand and modify a particular part of the code without affecting the entire system.\n",
    "Enhanced Maintainability:\n",
    "\n",
    "Abstracting away unnecessary details and providing a clear interface makes code easier to maintain. Developers can make changes or improvements to a specific abstraction without affecting the rest of the codebase, as long as the interface remains consistent.\n",
    "Facilitates Collaboration:\n",
    "\n",
    "Abstraction improves collaboration among developers working on different parts of a system. When each developer can focus on a well-defined interface, it becomes easier to integrate and coordinate efforts without extensive knowledge of the entire system.\n",
    "Adaptability to Changes:\n",
    "\n",
    "Abstraction provides a level of insulation against changes in the implementation details. If the internal implementation of an abstraction needs to change, the external interface remains the same, minimizing the impact on the rest of the system.\n",
    "Promotes Scalability:\n",
    "\n",
    "Abstraction contributes to scalable code architectures. As the complexity of a system grows, well-defined abstractions allow for the addition of new components or features without significantly impacting existing code.\n",
    "Facilitates Testing:\n",
    "\n",
    "Abstractions with clear interfaces are easier to test in isolation. Unit testing becomes more straightforward when each class or module has a well-defined contract, making it easier to verify the correctness of individual components."
   ]
  },
  {
   "cell_type": "markdown",
   "metadata": {},
   "source": [
    "**3. Create a Python class called `Shape` with an abstract method `calculate_area()`. Then, create child classes (e.g., `Circle`, `Rectangle`) that implement the `calculate_area()` method. Provide an example of\n",
    "using these classes.**"
   ]
  },
  {
   "cell_type": "code",
   "execution_count": 118,
   "metadata": {},
   "outputs": [
    {
     "name": "stdout",
     "output_type": "stream",
     "text": [
      "Area of the Circle: 78.50\n",
      "Area of the Rectangle: 24\n"
     ]
    }
   ],
   "source": [
    "from abc import ABC, abstractmethod\n",
    "\n",
    "class Shape(ABC):\n",
    "    @abstractmethod\n",
    "    def calculate_area(self):\n",
    "        pass\n",
    "\n",
    "class Circle(Shape):\n",
    "    def __init__(self, radius):\n",
    "        self.radius = radius\n",
    "\n",
    "    def calculate_area(self):\n",
    "        return 3.14 * self.radius * self.radius\n",
    "\n",
    "class Rectangle(Shape):\n",
    "    def __init__(self, length, width):\n",
    "        self.length = length\n",
    "        self.width = width\n",
    "\n",
    "    def calculate_area(self):\n",
    "        return self.length * self.width\n",
    "\n",
    "# Example usage\n",
    "circle = Circle(radius=5)\n",
    "rectangle = Rectangle(length=4, width=6)\n",
    "\n",
    "print(f\"Area of the Circle: {circle.calculate_area():.2f}\")\n",
    "print(f\"Area of the Rectangle: {rectangle.calculate_area()}\")\n"
   ]
  },
  {
   "cell_type": "markdown",
   "metadata": {},
   "source": [
    "**4. Explain the concept of abstract classes in Python and how they are defined using the `abc` module. Provide\n",
    "an example.**"
   ]
  },
  {
   "cell_type": "markdown",
   "metadata": {},
   "source": [
    "In Python, abstract classes are classes that cannot be instantiated on their own and may contain one or more abstract methods. Abstract methods are methods without a body, and they are meant to be implemented by concrete subclasses. Abstract classes serve as a blueprint for other classes, defining a common interface that their subclasses must follow.\n",
    "\n",
    "To define abstract classes in Python, you can use the abc (Abstract Base Classes) module. The ABC class from the abc module is used as a base class for abstract classes, and the @abstractmethod decorator is used to declare abstract methods."
   ]
  },
  {
   "cell_type": "code",
   "execution_count": 119,
   "metadata": {},
   "outputs": [
    {
     "name": "stdout",
     "output_type": "stream",
     "text": [
      "Area of the Circle: 78.50\n",
      "Area of the Rectangle: 24\n"
     ]
    }
   ],
   "source": [
    "from abc import ABC, abstractmethod\n",
    "\n",
    "# Abstract class with an abstract method\n",
    "class Shape(ABC):\n",
    "    @abstractmethod\n",
    "    def calculate_area(self):\n",
    "        pass\n",
    "\n",
    "# Concrete subclass implementing the abstract method\n",
    "class Circle(Shape):\n",
    "    def __init__(self, radius):\n",
    "        self.radius = radius\n",
    "\n",
    "    def calculate_area(self):\n",
    "        return 3.14 * self.radius * self.radius\n",
    "\n",
    "# Concrete subclass implementing the abstract method\n",
    "class Rectangle(Shape):\n",
    "    def __init__(self, length, width):\n",
    "        self.length = length\n",
    "        self.width = width\n",
    "\n",
    "    def calculate_area(self):\n",
    "        return self.length * self.width\n",
    "\n",
    "# Attempting to instantiate the abstract class directly raises an error\n",
    "# shape = Shape()  # Uncommenting this line would result in a TypeError\n",
    "\n",
    "# Instantiate concrete subclasses\n",
    "circle = Circle(radius=5)\n",
    "rectangle = Rectangle(length=4, width=6)\n",
    "\n",
    "# Call the calculate_area method on concrete instances\n",
    "print(f\"Area of the Circle: {circle.calculate_area():.2f}\")\n",
    "print(f\"Area of the Rectangle: {rectangle.calculate_area()}\")\n"
   ]
  },
  {
   "cell_type": "markdown",
   "metadata": {},
   "source": [
    "5. How do abstract classes differ from regular classes in Python? Discuss their use cases."
   ]
  },
  {
   "cell_type": "markdown",
   "metadata": {},
   "source": [
    "Abstract classes and regular classes in Python differ primarily in their instantiation and the presence of abstract methods. Here are the key distinctions and use cases for each:\n",
    "\n",
    "Abstract Classes:\n",
    "Cannot be Instantiated:\n",
    "\n",
    "Abstract classes cannot be instantiated directly. Attempting to create an instance of an abstract class will result in a TypeError.\n",
    "Abstract classes serve as blueprints or templates for other classes.\n",
    "May Contain Abstract Methods:\n",
    "\n",
    "Abstract classes often include abstract methods, which are methods without a body. These methods must be implemented by concrete subclasses.\n",
    "Abstract methods are declared using the @abstractmethod decorator.\n",
    "Enforce a Common Interface:\n",
    "\n",
    "Abstract classes are used to enforce a common interface among a group of related classes. Subclasses are required to provide implementations for the abstract methods.\n",
    "They help in defining a contract that concrete subclasses must adhere to.\n",
    "Designed for Inheritance:\n",
    "\n",
    "Abstract classes are designed to be subclassed. They provide a foundation for creating a family of related classes that share common characteristics and behaviors.\n",
    "Regular Classes:\n",
    "Can be Instantiated:\n",
    "\n",
    "Regular classes can be instantiated directly. Objects can be created from regular classes using the class constructor.\n",
    "Regular classes represent concrete entities and can be used to create instances with specific attributes and behaviors.\n",
    "May Not Contain Abstract Methods:\n",
    "\n",
    "Regular classes do not have abstract methods. All methods in a regular class have concrete implementations.\n",
    "Regular classes can have a mix of attributes, methods, and constructor methods without the need for abstract methods.\n",
    "Provide Concrete Implementations:\n",
    "\n",
    "Regular classes provide concrete implementations for all methods. Instances of regular classes have well-defined behaviors based on the implementations provided in the class.\n",
    "Can be Standalone:\n",
    "\n",
    "Regular classes can exist independently without the need for subclasses. They represent specific entities or concepts without mandating further inheritance.\n",
    "Use Cases:\n",
    "Abstract Classes:\n",
    "\n",
    "Use abstract classes when you want to define a common interface for a group of related classes, and you want to enforce that certain methods must be implemented by subclasses.\n",
    "Use abstract classes to provide a structured framework for a family of classes with shared characteristics.\n",
    "Regular Classes:\n",
    "\n",
    "Use regular classes when you have specific entities or concepts with well-defined behaviors and attributes.\n",
    "Use regular classes when you don't need to enforce a common interface or when you want instances to have complete, concrete implementations for all methods."
   ]
  },
  {
   "cell_type": "code",
   "execution_count": 120,
   "metadata": {},
   "outputs": [
    {
     "name": "stdout",
     "output_type": "stream",
     "text": [
      "Area of the Circle: 78.50\n",
      "Area of the Rectangle: 24\n"
     ]
    }
   ],
   "source": [
    "from abc import ABC, abstractmethod\n",
    "\n",
    "# Abstract class with an abstract method\n",
    "class Shape(ABC):\n",
    "    @abstractmethod\n",
    "    def calculate_area(self):\n",
    "        pass\n",
    "\n",
    "# Concrete subclass of Shape\n",
    "class Circle(Shape):\n",
    "    def __init__(self, radius):\n",
    "        self.radius = radius\n",
    "\n",
    "    def calculate_area(self):\n",
    "        return 3.14 * self.radius * self.radius\n",
    "\n",
    "# Regular class representing a specific entity\n",
    "class Rectangle:\n",
    "    def __init__(self, length, width):\n",
    "        self.length = length\n",
    "        self.width = width\n",
    "\n",
    "    def calculate_area(self):\n",
    "        return self.length * self.width\n",
    "\n",
    "# Instantiate concrete subclasses\n",
    "circle = Circle(radius=5)\n",
    "rectangle = Rectangle(length=4, width=6)\n",
    "\n",
    "# Call the calculate_area method on instances\n",
    "print(f\"Area of the Circle: {circle.calculate_area():.2f}\")\n",
    "print(f\"Area of the Rectangle: {rectangle.calculate_area()}\")\n"
   ]
  },
  {
   "cell_type": "markdown",
   "metadata": {},
   "source": [
    "**6. Create a Python class for a bank account and demonstrate abstraction by hiding the account balance and\n",
    "providing methods to deposit and withdraw funds.**"
   ]
  },
  {
   "cell_type": "code",
   "execution_count": 121,
   "metadata": {},
   "outputs": [
    {
     "name": "stdout",
     "output_type": "stream",
     "text": [
      "Initial balance: $1000.0\n",
      "Deposited $500.0. New balance: $1500.0\n",
      "Withdrew $200.0. New balance: $1300.0\n",
      "Interest added: $39.0. New balance: $1339.0\n"
     ]
    }
   ],
   "source": [
    "from abc import ABC, abstractmethod\n",
    "\n",
    "class BankAccount(ABC):\n",
    "    def __init__(self, account_holder, initial_balance=0.0):\n",
    "        self.account_holder = account_holder\n",
    "        self._balance = initial_balance  # Prefixing with '_' to indicate it's a protected attribute\n",
    "\n",
    "    @property\n",
    "    def balance(self):\n",
    "        return self._balance\n",
    "\n",
    "    @abstractmethod\n",
    "    def deposit(self, amount):\n",
    "        pass\n",
    "\n",
    "    @abstractmethod\n",
    "    def withdraw(self, amount):\n",
    "        pass\n",
    "\n",
    "class SavingsAccount(BankAccount):\n",
    "    def __init__(self, account_holder, initial_balance=0.0, interest_rate=0.02):\n",
    "        super().__init__(account_holder, initial_balance)\n",
    "        self.interest_rate = interest_rate\n",
    "\n",
    "    def deposit(self, amount):\n",
    "        self._balance += amount\n",
    "        print(f\"Deposited ${amount}. New balance: ${self._balance}\")\n",
    "\n",
    "    def withdraw(self, amount):\n",
    "        if amount <= self._balance:\n",
    "            self._balance -= amount\n",
    "            print(f\"Withdrew ${amount}. New balance: ${self._balance}\")\n",
    "        else:\n",
    "            print(\"Insufficient funds. Withdrawal canceled.\")\n",
    "\n",
    "    def calculate_interest(self):\n",
    "        interest = self._balance * self.interest_rate\n",
    "        self._balance += interest\n",
    "        print(f\"Interest added: ${interest}. New balance: ${self._balance}\")\n",
    "\n",
    "# Example usage\n",
    "savings_account = SavingsAccount(account_holder=\"John Doe\", initial_balance=1000.0, interest_rate=0.03)\n",
    "\n",
    "print(f\"Initial balance: ${savings_account.balance}\")\n",
    "savings_account.deposit(500.0)\n",
    "savings_account.withdraw(200.0)\n",
    "savings_account.calculate_interest()\n"
   ]
  },
  {
   "cell_type": "markdown",
   "metadata": {},
   "source": [
    "**7. Discuss the concept of interface classes in Python and their role in achieving abstraction.**"
   ]
  },
  {
   "cell_type": "markdown",
   "metadata": {},
   "source": [
    "Abstract Base Classes (ABCs):\n",
    "\n",
    "Abstract Base Classes in Python serve as a way to define a common interface for a group of related classes.\n",
    "ABCs are created using the ABC base class from the abc module.\n",
    "@abstractmethod Decorator:\n",
    "\n",
    "The @abstractmethod decorator is used to declare abstract methods within an abstract base class.\n",
    "Concrete subclasses must provide implementations for these abstract methods.\n",
    "Enforcing a Contract:\n",
    "\n",
    "An interface, implemented using ABCs and abstract methods, enforces a contract that concrete subclasses must adhere to. This contract defines a set of methods that must be implemented.\n",
    "Achieving Abstraction:\n",
    "\n",
    "Interface classes, through ABCs, contribute to abstraction by allowing the definition of a common interface without specifying the implementation details.\n",
    "Concrete subclasses provide their own implementations while adhering to the interface defined by the abstract base class."
   ]
  },
  {
   "cell_type": "code",
   "execution_count": 122,
   "metadata": {},
   "outputs": [
    {
     "name": "stdout",
     "output_type": "stream",
     "text": [
      "Area: 78.5\n",
      "Circle with radius 5\n",
      "\n",
      "Area: 24\n",
      "Rectangle with length 4 and width 6\n",
      "\n"
     ]
    }
   ],
   "source": [
    "from abc import ABC, abstractmethod\n",
    "\n",
    "class Shape(ABC):\n",
    "    @abstractmethod\n",
    "    def calculate_area(self):\n",
    "        pass\n",
    "\n",
    "    @abstractmethod\n",
    "    def display_info(self):\n",
    "        pass\n",
    "\n",
    "class Circle(Shape):\n",
    "    def __init__(self, radius):\n",
    "        self.radius = radius\n",
    "\n",
    "    def calculate_area(self):\n",
    "        return 3.14 * self.radius * self.radius\n",
    "\n",
    "    def display_info(self):\n",
    "        print(f\"Circle with radius {self.radius}\")\n",
    "\n",
    "class Rectangle(Shape):\n",
    "    def __init__(self, length, width):\n",
    "        self.length = length\n",
    "        self.width = width\n",
    "\n",
    "    def calculate_area(self):\n",
    "        return self.length * self.width\n",
    "\n",
    "    def display_info(self):\n",
    "        print(f\"Rectangle with length {self.length} and width {self.width}\")\n",
    "\n",
    "# Usage\n",
    "circle = Circle(radius=5)\n",
    "rectangle = Rectangle(length=4, width=6)\n",
    "\n",
    "shapes = [circle, rectangle]\n",
    "\n",
    "for shape in shapes:\n",
    "    print(f\"Area: {shape.calculate_area()}\")\n",
    "    shape.display_info()\n",
    "    print()\n"
   ]
  },
  {
   "cell_type": "markdown",
   "metadata": {},
   "source": [
    "8. Create a Python class hierarchy for animals and implement abstraction by defining common methods (e.g., `eat()`, `sleep()`) in an abstract base class."
   ]
  },
  {
   "cell_type": "code",
   "execution_count": 123,
   "metadata": {},
   "outputs": [
    {
     "name": "stdout",
     "output_type": "stream",
     "text": [
      "Simba - African Lion\n",
      "Simba the Lion is hunting and eating.\n",
      "Simba the Lion is sleeping in the shade.\n",
      "\n",
      "Dumbo - African Elephant\n",
      "Dumbo the Elephant is using its trunk to grab and eat leaves.\n",
      "Dumbo the Elephant is resting under a tree.\n",
      "\n",
      "Freedom - Bald Eagle\n",
      "Freedom the Eagle is soaring high in the sky, hunting for prey.\n",
      "Freedom the Eagle is perched on a branch, keeping a watchful eye.\n",
      "\n"
     ]
    }
   ],
   "source": [
    "from abc import ABC, abstractmethod\n",
    "\n",
    "class Animal(ABC):\n",
    "    def __init__(self, name, species):\n",
    "        self.name = name\n",
    "        self.species = species\n",
    "\n",
    "    @abstractmethod\n",
    "    def eat(self):\n",
    "        pass\n",
    "\n",
    "    @abstractmethod\n",
    "    def sleep(self):\n",
    "        pass\n",
    "\n",
    "class Lion(Animal):\n",
    "    def eat(self):\n",
    "        print(f\"{self.name} the Lion is hunting and eating.\")\n",
    "\n",
    "    def sleep(self):\n",
    "        print(f\"{self.name} the Lion is sleeping in the shade.\")\n",
    "\n",
    "class Elephant(Animal):\n",
    "    def eat(self):\n",
    "        print(f\"{self.name} the Elephant is using its trunk to grab and eat leaves.\")\n",
    "\n",
    "    def sleep(self):\n",
    "        print(f\"{self.name} the Elephant is resting under a tree.\")\n",
    "\n",
    "class Eagle(Animal):\n",
    "    def eat(self):\n",
    "        print(f\"{self.name} the Eagle is soaring high in the sky, hunting for prey.\")\n",
    "\n",
    "    def sleep(self):\n",
    "        print(f\"{self.name} the Eagle is perched on a branch, keeping a watchful eye.\")\n",
    "\n",
    "# Example usage\n",
    "lion = Lion(name=\"Simba\", species=\"African Lion\")\n",
    "elephant = Elephant(name=\"Dumbo\", species=\"African Elephant\")\n",
    "eagle = Eagle(name=\"Freedom\", species=\"Bald Eagle\")\n",
    "\n",
    "zoo_animals = [lion, elephant, eagle]\n",
    "\n",
    "for animal in zoo_animals:\n",
    "    print(f\"{animal.name} - {animal.species}\")\n",
    "    animal.eat()\n",
    "    animal.sleep()\n",
    "    print()\n"
   ]
  },
  {
   "cell_type": "markdown",
   "metadata": {},
   "source": [
    "**9. Explain the significance of encapsulation in achieving abstraction. Provide examples.**"
   ]
  },
  {
   "cell_type": "markdown",
   "metadata": {},
   "source": [
    "Encapsulation and abstraction are closely related concepts in object-oriented programming, and encapsulation plays a crucial role in achieving abstraction. Let's explore the significance of encapsulation in the context of abstraction with examples.\n",
    "\n",
    "1. Data Hiding:\n",
    "Encapsulation allows the bundling of data (attributes) and methods that operate on the data within a single unit (class).\n",
    "By using access modifiers (e.g., private attributes), encapsulation hides the internal details of how data is stored and manipulated, promoting data integrity and preventing direct access from outside the class."
   ]
  },
  {
   "cell_type": "code",
   "execution_count": 125,
   "metadata": {},
   "outputs": [],
   "source": [
    "class BankAccount:\n",
    "    def __init__(self, balance):\n",
    "        self._balance = balance  # Encapsulation with data hiding\n",
    "\n",
    "    def get_balance(self):\n",
    "        return self._balance\n",
    "\n",
    "    def deposit(self, amount):\n",
    "        self._balance += amount\n",
    "\n",
    "    def withdraw(self, amount):\n",
    "        if amount <= self._balance:\n",
    "            self._balance -= amount\n",
    "        else:\n",
    "            print(\"Insufficient funds.\")\n"
   ]
  },
  {
   "cell_type": "markdown",
   "metadata": {},
   "source": [
    "2. Method Abstraction:\n",
    "Encapsulation allows the bundling of methods within a class, providing a clear and organized interface for interacting with objects.\n",
    "Public methods represent the external interface of the class, abstracting away the implementation details."
   ]
  },
  {
   "cell_type": "code",
   "execution_count": 126,
   "metadata": {},
   "outputs": [],
   "source": [
    "class Calculator:\n",
    "    def add(self, x, y):\n",
    "        return x + y\n",
    "\n",
    "    def subtract(self, x, y):\n",
    "        return x - y\n"
   ]
  },
  {
   "cell_type": "markdown",
   "metadata": {},
   "source": [
    "3. Preventing Direct Manipulation:\n",
    "Encapsulation restricts direct access to internal data, preventing unintended modifications and ensuring that changes to the internal state occur through controlled methods."
   ]
  },
  {
   "cell_type": "code",
   "execution_count": 127,
   "metadata": {},
   "outputs": [],
   "source": [
    "class TemperatureSensor:\n",
    "    def __init__(self):\n",
    "        self._temperature = 0\n",
    "\n",
    "    def get_temperature(self):\n",
    "        return self._temperature\n",
    "\n",
    "    def set_temperature(self, new_temperature):\n",
    "        if new_temperature < -273.15:  # Absolute zero in Celsius\n",
    "            print(\"Invalid temperature.\")\n",
    "        else:\n",
    "            self._temperature = new_temperature\n"
   ]
  },
  {
   "cell_type": "markdown",
   "metadata": {},
   "source": [
    "**10. What is the purpose of abstract methods, and how do they enforce abstraction in Python classes?**"
   ]
  },
  {
   "cell_type": "markdown",
   "metadata": {},
   "source": [
    "Purpose of Abstract Methods:\n",
    "Define a Common Interface:\n",
    "\n",
    "Abstract methods allow the definition of a common interface that concrete subclasses must implement.\n",
    "This common interface establishes a contract, specifying what methods subclasses should provide.\n",
    "Enforce Method Implementation:\n",
    "\n",
    "Abstract methods act as placeholders for methods that must be implemented by concrete subclasses.\n",
    "Subclasses that fail to provide an implementation for an abstract method will result in an error.\n",
    "Promote Code Consistency:\n",
    "\n",
    "By using abstract methods, you ensure that all subclasses have a consistent set of methods, promoting a uniform and predictable structure across related classes.\n",
    "How Abstract Methods Enforce Abstraction:\n",
    "Inheritance:\n",
    "\n",
    "Abstract methods are defined in an abstract base class using the @abstractmethod decorator.\n",
    "Concrete subclasses must inherit from the abstract base class to provide implementations for the abstract methods."
   ]
  },
  {
   "cell_type": "code",
   "execution_count": 128,
   "metadata": {},
   "outputs": [],
   "source": [
    "from abc import ABC, abstractmethod\n",
    "\n",
    "class Shape(ABC):\n",
    "    @abstractmethod\n",
    "    def calculate_area(self):\n",
    "        pass\n",
    "\n",
    "    @abstractmethod\n",
    "    def display_info(self):\n",
    "        pass\n"
   ]
  },
  {
   "cell_type": "markdown",
   "metadata": {},
   "source": [
    "Implementation in Subclasses:\n",
    "\n",
    "Subclasses inherit the abstract methods from the abstract base class and must provide concrete implementations for each abstract method."
   ]
  },
  {
   "cell_type": "code",
   "execution_count": 129,
   "metadata": {},
   "outputs": [],
   "source": [
    "class Circle(Shape):\n",
    "    def __init__(self, radius):\n",
    "        self.radius = radius\n",
    "\n",
    "    def calculate_area(self):\n",
    "        return 3.14 * self.radius * self.radius\n",
    "\n",
    "    def display_info(self):\n",
    "        print(f\"Circle with radius {self.radius}\")\n"
   ]
  },
  {
   "cell_type": "markdown",
   "metadata": {},
   "source": [
    "Enforcement of Interface:\n",
    "\n",
    "Attempting to create an instance of a concrete subclass that doesn't provide implementations for all abstract methods will result in a TypeError.\n",
    "This ensures that all subclasses adhere to the common interface specified by the abstract base class."
   ]
  },
  {
   "cell_type": "code",
   "execution_count": 130,
   "metadata": {},
   "outputs": [
    {
     "name": "stdout",
     "output_type": "stream",
     "text": [
      "Woof!\n",
      "Meow!\n"
     ]
    }
   ],
   "source": [
    "from abc import ABC, abstractmethod\n",
    "\n",
    "class Animal(ABC):\n",
    "    @abstractmethod\n",
    "    def make_sound(self):\n",
    "        pass\n",
    "\n",
    "class Dog(Animal):\n",
    "    def make_sound(self):\n",
    "        return \"Woof!\"\n",
    "\n",
    "class Cat(Animal):\n",
    "    def make_sound(self):\n",
    "        return \"Meow!\"\n",
    "\n",
    "# Usage\n",
    "dog = Dog()\n",
    "cat = Cat()\n",
    "\n",
    "print(dog.make_sound())  # Output: Woof!\n",
    "print(cat.make_sound())  # Output: Meow!\n"
   ]
  },
  {
   "cell_type": "markdown",
   "metadata": {},
   "source": [
    "**11. Create a Python class for a vehicle system and demonstrate abstraction by defining common methods (e.g., `start()`, `stop()`) in an abstract base class.**"
   ]
  },
  {
   "cell_type": "code",
   "execution_count": 131,
   "metadata": {},
   "outputs": [
    {
     "name": "stdout",
     "output_type": "stream",
     "text": [
      "Toyota Camry\n",
      "Toyota Camry is starting the engine.\n",
      "Toyota Camry has turned off the engine.\n",
      "\n",
      "Schwinn Cruiser\n",
      "Schwinn Cruiser is ready to pedal.\n",
      "Schwinn Cruiser has come to a stop.\n",
      "\n",
      "Yamaha Jet Boat\n",
      "Yamaha Jet Boat is setting sail.\n",
      "Yamaha Jet Boat has anchored and stopped.\n",
      "\n"
     ]
    }
   ],
   "source": [
    "from abc import ABC, abstractmethod\n",
    "\n",
    "class Vehicle(ABC):\n",
    "    def __init__(self, brand, model):\n",
    "        self.brand = brand\n",
    "        self.model = model\n",
    "\n",
    "    @abstractmethod\n",
    "    def start(self):\n",
    "        pass\n",
    "\n",
    "    @abstractmethod\n",
    "    def stop(self):\n",
    "        pass\n",
    "\n",
    "class Car(Vehicle):\n",
    "    def start(self):\n",
    "        return f\"{self.brand} {self.model} is starting the engine.\"\n",
    "\n",
    "    def stop(self):\n",
    "        return f\"{self.brand} {self.model} has turned off the engine.\"\n",
    "\n",
    "class Bicycle(Vehicle):\n",
    "    def start(self):\n",
    "        return f\"{self.brand} {self.model} is ready to pedal.\"\n",
    "\n",
    "    def stop(self):\n",
    "        return f\"{self.brand} {self.model} has come to a stop.\"\n",
    "\n",
    "class Boat(Vehicle):\n",
    "    def start(self):\n",
    "        return f\"{self.brand} {self.model} is setting sail.\"\n",
    "\n",
    "    def stop(self):\n",
    "        return f\"{self.brand} {self.model} has anchored and stopped.\"\n",
    "\n",
    "# Example usage\n",
    "car = Car(brand=\"Toyota\", model=\"Camry\")\n",
    "bicycle = Bicycle(brand=\"Schwinn\", model=\"Cruiser\")\n",
    "boat = Boat(brand=\"Yamaha\", model=\"Jet Boat\")\n",
    "\n",
    "vehicles = [car, bicycle, boat]\n",
    "\n",
    "for vehicle in vehicles:\n",
    "    print(f\"{vehicle.brand} {vehicle.model}\")\n",
    "    print(vehicle.start())\n",
    "    print(vehicle.stop())\n",
    "    print()\n"
   ]
  },
  {
   "cell_type": "markdown",
   "metadata": {},
   "source": [
    "**12. Describe the use of abstract properties in Python and how they can be employed in abstract classes.**"
   ]
  },
  {
   "cell_type": "markdown",
   "metadata": {},
   "source": [
    "Abstract properties in Python are a way to define properties in abstract base classes (ABCs) that must be implemented by concrete subclasses. Properties, like methods, can be declared as abstract, creating a contract that ensures specific attributes exist in subclasses while allowing those subclasses to provide their own implementation.\n",
    "\n",
    "Key Points:\n",
    "Abstract Properties:\n",
    "\n",
    "Abstract properties are created using the @property decorator along with the @abstractmethod decorator in an abstract base class.\n",
    "They define a contract that requires concrete subclasses to implement getter and setter methods for a specific attribute.\n",
    "Getter and Setter Methods:\n",
    "\n",
    "The abstract property should have an abstract getter method (@property) that is responsible for retrieving the property's value.\n",
    "If the property is mutable and has a setter, an abstract setter method (@<property_name>.setter) is also declared."
   ]
  },
  {
   "cell_type": "code",
   "execution_count": 132,
   "metadata": {},
   "outputs": [
    {
     "name": "stdout",
     "output_type": "stream",
     "text": [
      "Area: 78.5\n",
      "Area: 24\n"
     ]
    }
   ],
   "source": [
    "from abc import ABC, abstractmethod\n",
    "\n",
    "class Shape(ABC):\n",
    "    @property\n",
    "    @abstractmethod\n",
    "    def area(self):\n",
    "        pass\n",
    "\n",
    "class Circle(Shape):\n",
    "    def __init__(self, radius):\n",
    "        self._radius = radius\n",
    "\n",
    "    @property\n",
    "    def area(self):\n",
    "        return 3.14 * self._radius * self._radius\n",
    "\n",
    "class Rectangle(Shape):\n",
    "    def __init__(self, length, width):\n",
    "        self._length = length\n",
    "        self._width = width\n",
    "\n",
    "    @property\n",
    "    def area(self):\n",
    "        return self._length * self._width\n",
    "\n",
    "# Example usage\n",
    "circle = Circle(radius=5)\n",
    "rectangle = Rectangle(length=4, width=6)\n",
    "\n",
    "shapes = [circle, rectangle]\n",
    "\n",
    "for shape in shapes:\n",
    "    print(f\"Area: {shape.area}\")\n"
   ]
  },
  {
   "cell_type": "markdown",
   "metadata": {},
   "source": [
    "**13. Create a Python class hierarchy for employees in a company (e.g., manager, developer, designer) and**"
   ]
  },
  {
   "cell_type": "code",
   "execution_count": 133,
   "metadata": {},
   "outputs": [
    {
     "name": "stdout",
     "output_type": "stream",
     "text": [
      "Manager: Alice, Employee ID: M001, Team Size: 10\n",
      "Salary: $130000\n",
      "\n",
      "Developer: Bob, Employee ID: D001, Language: Python\n",
      "Salary: $70000\n",
      "\n",
      "Designer: Charlie, Employee ID: DS001, Design Tool: Sketch\n",
      "Salary: $70000\n",
      "\n"
     ]
    }
   ],
   "source": [
    "from abc import ABC, abstractmethod\n",
    "\n",
    "class Employee(ABC):\n",
    "    def __init__(self, name, employee_id):\n",
    "        self.name = name\n",
    "        self.employee_id = employee_id\n",
    "\n",
    "    @abstractmethod\n",
    "    def calculate_salary(self):\n",
    "        pass\n",
    "\n",
    "    @abstractmethod\n",
    "    def display_info(self):\n",
    "        pass\n",
    "\n",
    "class Manager(Employee):\n",
    "    def __init__(self, name, employee_id, team_size):\n",
    "        super().__init__(name, employee_id)\n",
    "        self.team_size = team_size\n",
    "\n",
    "    def calculate_salary(self):\n",
    "        base_salary = 80000\n",
    "        bonus = self.team_size * 5000\n",
    "        return base_salary + bonus\n",
    "\n",
    "    def display_info(self):\n",
    "        print(f\"Manager: {self.name}, Employee ID: {self.employee_id}, Team Size: {self.team_size}\")\n",
    "\n",
    "class Developer(Employee):\n",
    "    def __init__(self, name, employee_id, programming_language):\n",
    "        super().__init__(name, employee_id)\n",
    "        self.programming_language = programming_language\n",
    "\n",
    "    def calculate_salary(self):\n",
    "        base_salary = 60000\n",
    "        if self.programming_language.lower() == \"python\":\n",
    "            bonus = 10000\n",
    "        else:\n",
    "            bonus = 5000\n",
    "        return base_salary + bonus\n",
    "\n",
    "    def display_info(self):\n",
    "        print(f\"Developer: {self.name}, Employee ID: {self.employee_id}, Language: {self.programming_language}\")\n",
    "\n",
    "class Designer(Employee):\n",
    "    def __init__(self, name, employee_id, design_tool):\n",
    "        super().__init__(name, employee_id)\n",
    "        self.design_tool = design_tool\n",
    "\n",
    "    def calculate_salary(self):\n",
    "        base_salary = 70000\n",
    "        return base_salary\n",
    "\n",
    "    def display_info(self):\n",
    "        print(f\"Designer: {self.name}, Employee ID: {self.employee_id}, Design Tool: {self.design_tool}\")\n",
    "\n",
    "# Example usage\n",
    "manager = Manager(name=\"Alice\", employee_id=\"M001\", team_size=10)\n",
    "developer = Developer(name=\"Bob\", employee_id=\"D001\", programming_language=\"Python\")\n",
    "designer = Designer(name=\"Charlie\", employee_id=\"DS001\", design_tool=\"Sketch\")\n",
    "\n",
    "employees = [manager, developer, designer]\n",
    "\n",
    "for employee in employees:\n",
    "    employee.display_info()\n",
    "    print(f\"Salary: ${employee.calculate_salary()}\\n\")\n"
   ]
  },
  {
   "cell_type": "markdown",
   "metadata": {},
   "source": [
    "**14. Discuss the differences between abstract classes and concrete classes in Python, including their\n",
    "instantiation.**"
   ]
  },
  {
   "cell_type": "markdown",
   "metadata": {},
   "source": [
    "In Python, abstract classes and concrete classes serve different purposes in the context of object-oriented programming. Let's discuss the key differences between abstract classes and concrete classes, including their instantiation:\n",
    "\n",
    "Abstract Classes:\n",
    "Definition:\n",
    "\n",
    "An abstract class is a class that cannot be instantiated on its own.\n",
    "It often serves as a blueprint for other classes and may contain abstract methods that must be implemented by its subclasses.\n",
    "Instantiation:\n",
    "\n",
    "Direct instantiation of an abstract class is not allowed. Trying to create an instance of an abstract class will result in an error.\n",
    "Abstract classes are meant to be subclassed, and instances are created from concrete subclasses that provide implementations for abstract methods.\n",
    "Use of Abstract Methods:\n",
    "\n",
    "Abstract classes may contain abstract methods (methods without an implementation).\n",
    "Subclasses must provide concrete implementations for all abstract methods to be considered valid."
   ]
  },
  {
   "cell_type": "code",
   "execution_count": 134,
   "metadata": {},
   "outputs": [],
   "source": [
    "from abc import ABC, abstractmethod\n",
    "\n",
    "class Shape(ABC):\n",
    "    @abstractmethod\n",
    "    def area(self):\n",
    "        pass\n",
    "\n",
    "# This will result in an error because Shape is an abstract class\n",
    "# shape = Shape()\n"
   ]
  },
  {
   "cell_type": "markdown",
   "metadata": {},
   "source": [
    "Concrete Classes:\n",
    "Definition:\n",
    "\n",
    "A concrete class is a class that can be instantiated directly.\n",
    "It may or may not have methods with implementations.\n",
    "Instantiation:\n",
    "\n",
    "Instances of concrete classes can be created using the class constructor.\n",
    "Concrete classes may or may not have subclasses.\n",
    "Implementation of Methods:\n",
    "\n",
    "Concrete classes often provide implementations for all of their methods, including any inherited abstract methods."
   ]
  },
  {
   "cell_type": "code",
   "execution_count": 135,
   "metadata": {},
   "outputs": [
    {
     "name": "stdout",
     "output_type": "stream",
     "text": [
      "20\n"
     ]
    }
   ],
   "source": [
    "class Rectangle:\n",
    "    def __init__(self, length, width):\n",
    "        self.length = length\n",
    "        self.width = width\n",
    "\n",
    "    def area(self):\n",
    "        return self.length * self.width\n",
    "\n",
    "# Creating an instance of the concrete class\n",
    "rectangle = Rectangle(length=4, width=5)\n",
    "print(rectangle.area())  # Output: 20\n"
   ]
  },
  {
   "cell_type": "markdown",
   "metadata": {},
   "source": [
    "**15. Explain the concept of abstract data types (ADTs) and their role in achieving abstraction in Python.**"
   ]
  },
  {
   "cell_type": "markdown",
   "metadata": {},
   "source": [
    "Abstract Data Types (ADTs) are a conceptual model for representing and organizing data and the operations that can be performed on that data. The key idea behind ADTs is to provide a high-level abstraction that defines the behavior of a data structure, hiding the details of its implementation. ADTs help achieve abstraction in Python and other programming languages by separating the interface (what operations can be performed) from the implementation (how those operations are carried out).\n",
    "\n",
    "Key Concepts of Abstract Data Types:\n",
    "Encapsulation:\n",
    "\n",
    "ADTs encapsulate data and operations into a single unit, hiding the internal details from the outside world.\n",
    "Users interact with the ADT through a well-defined interface, without needing to know the internal workings.\n",
    "Interface Specification:\n",
    "\n",
    "ADTs define a set of operations (methods) that can be performed on the data, along with their expected behavior.\n",
    "The interface specifies what the data structure can do, not how it does it.\n",
    "Data Abstraction:\n",
    "\n",
    "ADTs provide a level of abstraction by allowing users to work with data structures at a higher conceptual level.\n",
    "Users focus on the essential characteristics of the data and its operations, rather than the low-level implementation details.\n",
    "Implementation Flexibility:\n",
    "\n",
    "ADTs allow for multiple implementations of the same abstract data type.\n",
    "Users can choose the appropriate implementation based on their specific requirements, without affecting the way they use the data structure.\n",
    "Role of ADTs in Achieving Abstraction in Python:\n",
    "Code Organization:\n",
    "\n",
    "ADTs help organize code by grouping related data and operations together in a structured manner.\n",
    "This organization improves code readability and maintainability.\n",
    "Modularity:\n",
    "\n",
    "ADTs promote modularity by encapsulating functionality into separate units.\n",
    "This modularity allows for easier code maintenance and future updates.\n",
    "Code Reusability:\n",
    "\n",
    "ADTs facilitate code reuse since the same abstract data type interface can be used with different implementations.\n",
    "Users can switch between implementations without changing the code that interacts with the ADT.\n",
    "Abstraction of Complexity:\n",
    "\n",
    "ADTs abstract away the complexity of data structures, making it easier for users to reason about and use these structures without being concerned about the internal details."
   ]
  },
  {
   "cell_type": "markdown",
   "metadata": {},
   "source": [
    "**16. Create a Python class for a computer system, demonstrating abstraction by defining common methods**"
   ]
  },
  {
   "cell_type": "code",
   "execution_count": 136,
   "metadata": {},
   "outputs": [
    {
     "name": "stdout",
     "output_type": "stream",
     "text": [
      "Dell Latitude\n",
      "Dell Latitude is starting. Battery life: 8 hours.\n",
      "Dell Latitude is shutting down.\n",
      "\n",
      "HP Pavilion\n",
      "HP Pavilion is starting. Power supply: AC Adapter.\n",
      "HP Pavilion is shutting down.\n",
      "\n"
     ]
    }
   ],
   "source": [
    "from abc import ABC, abstractmethod\n",
    "\n",
    "class Computer(ABC):\n",
    "    def __init__(self, brand, model):\n",
    "        self.brand = brand\n",
    "        self.model = model\n",
    "\n",
    "    @abstractmethod\n",
    "    def start(self):\n",
    "        pass\n",
    "\n",
    "    @abstractmethod\n",
    "    def shutdown(self):\n",
    "        pass\n",
    "\n",
    "class Laptop(Computer):\n",
    "    def __init__(self, brand, model, battery_life):\n",
    "        super().__init__(brand, model)\n",
    "        self.battery_life = battery_life\n",
    "\n",
    "    def start(self):\n",
    "        return f\"{self.brand} {self.model} is starting. Battery life: {self.battery_life} hours.\"\n",
    "\n",
    "    def shutdown(self):\n",
    "        return f\"{self.brand} {self.model} is shutting down.\"\n",
    "\n",
    "class Desktop(Computer):\n",
    "    def __init__(self, brand, model, power_supply):\n",
    "        super().__init__(brand, model)\n",
    "        self.power_supply = power_supply\n",
    "\n",
    "    def start(self):\n",
    "        return f\"{self.brand} {self.model} is starting. Power supply: {self.power_supply}.\"\n",
    "\n",
    "    def shutdown(self):\n",
    "        return f\"{self.brand} {self.model} is shutting down.\"\n",
    "\n",
    "# Example usage\n",
    "laptop = Laptop(brand=\"Dell\", model=\"Latitude\", battery_life=8)\n",
    "desktop = Desktop(brand=\"HP\", model=\"Pavilion\", power_supply=\"AC Adapter\")\n",
    "\n",
    "computers = [laptop, desktop]\n",
    "\n",
    "for computer in computers:\n",
    "    print(f\"{computer.brand} {computer.model}\")\n",
    "    print(computer.start())\n",
    "    print(computer.shutdown())\n",
    "    print()\n"
   ]
  },
  {
   "cell_type": "markdown",
   "metadata": {},
   "source": [
    "**17. Discuss the benefits of using abstraction in large-scale software development projects.**"
   ]
  },
  {
   "cell_type": "markdown",
   "metadata": {},
   "source": [
    "Abstraction plays a crucial role in large-scale software development projects, providing several benefits that contribute to the efficiency, maintainability, and scalability of the project. Here are some key advantages of using abstraction in such projects:\n",
    "\n",
    "1. Code Organization:\n",
    "Abstraction helps organize code into manageable and modular units.\n",
    "Large-scale projects often involve numerous components and functionalities. Abstraction allows developers to group related code into modules, classes, and functions, making the codebase more structured and easier to navigate.\n",
    "2. Reduced Complexity:\n",
    "Abstraction hides the internal complexities of modules or components from the rest of the system.\n",
    "Developers can work with high-level interfaces and functionality without needing to understand the intricate details of the underlying implementations. This simplifies the development process and reduces the chances of introducing errors.\n",
    "3. Improved Maintainability:\n",
    "Abstraction promotes code reuse and modularity, making it easier to update and maintain code.\n",
    "Changes to the internal implementation of a module or class can be made without affecting the rest of the system as long as the interface remains consistent. This simplifies maintenance and allows for updates without causing widespread disruptions.\n",
    "4. Encapsulation of Complexity:\n",
    "Abstraction encapsulates the complexity of specific functionalities or data structures.\n",
    "This encapsulation makes it possible for developers to understand and use components without delving into their internal details. It also allows different teams to work on separate components concurrently, as long as they adhere to the defined interfaces.\n",
    "5. Facilitates Collaboration:\n",
    "Abstraction enables multiple teams or developers to work on different parts of the system simultaneously.\n",
    "Teams can focus on implementing or maintaining specific modules or components without being overly concerned about the entire system. Well-defined interfaces facilitate collaboration by providing a clear contract between different parts of the system.\n",
    "6. Adaptability to Change:\n",
    "Abstraction allows for changes and upgrades to specific components without affecting the entire system.\n",
    "As long as the external interfaces remain unchanged, internal modifications can be made to improve performance, security, or functionality. This adaptability is crucial in large-scale projects where requirements may evolve over time.\n",
    "7. Ease of Testing:\n",
    "Abstraction simplifies testing by allowing for the isolation of components.\n",
    "Each module or class can be tested independently, ensuring that it behaves as expected based on its interface. This compartmentalization of testing helps identify and resolve issues more efficiently.\n",
    "8. Scalability:\n",
    "Abstraction facilitates scalability by providing a foundation for modular growth.\n",
    "New features or components can be added to the system without disrupting existing functionality, as long as they adhere to the established interfaces. This allows the software to evolve and scale in response to changing requirements.\n",
    "9. Improved Debugging:\n",
    "Abstraction aids in debugging by isolating issues to specific components or modules.\n",
    "Developers can focus on the relevant parts of the system, speeding up the debugging process and making it more efficient."
   ]
  },
  {
   "cell_type": "markdown",
   "metadata": {},
   "source": [
    "**18. Explain how abstraction enhances code reusability and modularity in Python programs.**"
   ]
  },
  {
   "cell_type": "markdown",
   "metadata": {},
   "source": [
    "1. Code Organization:\n",
    "Abstraction allows developers to organize code into modular units like classes, functions, or modules.\n",
    "Each unit encapsulates a specific functionality, and the details of its implementation are hidden. This organization enhances readability and makes it easier to locate and understand relevant code.\n",
    "2. Modularity:\n",
    "Abstraction facilitates the creation of modular components with clearly defined interfaces.\n",
    "Modules or classes can be developed independently, promoting a modular design where each component performs a specific task. This modularity simplifies development, testing, and maintenance.\n",
    "3. Code Reusability:\n",
    "Abstraction promotes code reusability by allowing the reuse of well-defined interfaces and functionalities.\n",
    "Modules or classes that encapsulate specific behaviors can be reused in different parts of the program or even in other projects. This reduces redundancy and speeds up development.\n",
    "4. Encapsulation:\n",
    "Abstraction encapsulates implementation details, exposing only what is necessary through a public interface.\n",
    "This encapsulation hides the complexity of a module or class, making it easier to reuse. Developers can interact with the module using its public interface without needing to understand its internal workings.\n",
    "5. Isolation of Concerns:\n",
    "Abstraction isolates concerns by dividing the program into smaller, focused components.\n",
    "Each component addresses a specific aspect of the system, such as data processing, user interface, or data storage. Isolating concerns makes it easier to maintain and update individual components without affecting the entire system.\n",
    "6. Defined Interfaces:\n",
    "Abstraction relies on well-defined interfaces that specify how components can be used.\n",
    "These interfaces serve as contracts, ensuring that components adhere to a consistent set of methods or functions. Defined interfaces make it clear how to interact with a component, promoting consistency and reducing the likelihood of errors.\n",
    "7. Flexibility in Implementation:\n",
    "Abstraction allows for multiple implementations of a common interface.\n",
    "Different modules or classes can provide alternative implementations of the same functionality. This flexibility in implementation enables developers to choose the most suitable component based on specific requirements.\n",
    "8. Ease of Maintenance:\n",
    "Abstraction makes it easier to maintain code by localizing changes to specific modules or classes.\n",
    "If a change is required, developers can focus on the relevant component without affecting the entire codebase. This localized approach streamlines maintenance efforts and reduces the risk of unintended consequences.\n",
    "9. Scalability:\n",
    "Abstraction supports scalability by enabling the addition of new features or components without disrupting existing functionality.\n",
    "As long as the new components adhere to the established interfaces, they can seamlessly integrate with the rest of the system. This scalability is crucial for handling evolving project requirements."
   ]
  },
  {
   "cell_type": "markdown",
   "metadata": {},
   "source": [
    "19. Create a Python class for a library system, implementing abstraction by defining common methods (e.g., `add_book()`, `borrow_book()`) in an abstract base class."
   ]
  },
  {
   "cell_type": "code",
   "execution_count": 137,
   "metadata": {},
   "outputs": [
    {
     "name": "stdout",
     "output_type": "stream",
     "text": [
      "Book Details: The Great Gatsby by F. Scott Fitzgerald, Genre: Fiction\n",
      "The Great Gatsby by F. Scott Fitzgerald has been checked out. Please return by 2023-11-26 19:14:24.057150.\n",
      "Thank you for returning The Great Gatsby.\n",
      "\n",
      "Magazine Details: National Geographic, Issue Number: October 2023\n",
      "National Geographic by Various has been checked out. Please return by 2023-11-26 19:14:24.059428.\n",
      "Thank you for returning National Geographic.\n",
      "\n"
     ]
    }
   ],
   "source": [
    "from abc import ABC, abstractmethod\n",
    "from datetime import datetime, timedelta\n",
    "\n",
    "class LibraryItem(ABC):\n",
    "    def __init__(self, title, author):\n",
    "        self.title = title\n",
    "        self.author = author\n",
    "        self.checked_out = False\n",
    "        self.return_date = None\n",
    "\n",
    "    @abstractmethod\n",
    "    def display_details(self):\n",
    "        pass\n",
    "\n",
    "    def check_out(self):\n",
    "        if not self.checked_out:\n",
    "            self.checked_out = True\n",
    "            self.return_date = datetime.now() + timedelta(days=14)\n",
    "            print(f\"{self.title} by {self.author} has been checked out. Please return by {self.return_date}.\")\n",
    "        else:\n",
    "            print(f\"{self.title} is already checked out.\")\n",
    "\n",
    "    def return_item(self):\n",
    "        if self.checked_out:\n",
    "            days_late = (datetime.now() - self.return_date).days\n",
    "            if days_late > 0:\n",
    "                print(f\"Thank you for returning {self.title}. It is {days_late} days overdue.\")\n",
    "            else:\n",
    "                print(f\"Thank you for returning {self.title}.\")\n",
    "            self.checked_out = False\n",
    "            self.return_date = None\n",
    "        else:\n",
    "            print(f\"{self.title} is not currently checked out.\")\n",
    "\n",
    "class Book(LibraryItem):\n",
    "    def __init__(self, title, author, genre):\n",
    "        super().__init__(title, author)\n",
    "        self.genre = genre\n",
    "\n",
    "    def display_details(self):\n",
    "        print(f\"Book Details: {self.title} by {self.author}, Genre: {self.genre}\")\n",
    "\n",
    "class Magazine(LibraryItem):\n",
    "    def __init__(self, title, author, issue_number):\n",
    "        super().__init__(title, author)\n",
    "        self.issue_number = issue_number\n",
    "\n",
    "    def display_details(self):\n",
    "        print(f\"Magazine Details: {self.title}, Issue Number: {self.issue_number}\")\n",
    "\n",
    "# Example usage\n",
    "book = Book(title=\"The Great Gatsby\", author=\"F. Scott Fitzgerald\", genre=\"Fiction\")\n",
    "magazine = Magazine(title=\"National Geographic\", author=\"Various\", issue_number=\"October 2023\")\n",
    "\n",
    "items = [book, magazine]\n",
    "\n",
    "for item in items:\n",
    "    item.display_details()\n",
    "    item.check_out()\n",
    "    item.return_item()\n",
    "    print()\n"
   ]
  },
  {
   "cell_type": "markdown",
   "metadata": {},
   "source": [
    "**20. Describe the concept of method abstraction in Python and how it relates to polymorphism.**"
   ]
  },
  {
   "cell_type": "markdown",
   "metadata": {},
   "source": [
    "In Python, method abstraction is a concept closely related to polymorphism. Method abstraction involves creating a common interface for a group of related methods, allowing different classes to implement these methods in their own way while adhering to the shared interface. This concept is a key component of polymorphism, which allows objects of different types to be treated as objects of a common base type.\n",
    "\n",
    "Key Points:\n",
    "Common Interface:\n",
    "\n",
    "Method abstraction involves defining a common set of methods in a base class or interface.\n",
    "These methods constitute the interface that subclasses must implement.\n",
    "Shared Functionality:\n",
    "\n",
    "The common interface defines the functionality that should be shared among different classes.\n",
    "Each class provides its own implementation of the methods, contributing to the shared functionality.\n",
    "Polymorphism:\n",
    "\n",
    "Polymorphism allows objects of different classes to be treated as objects of a common base type.\n",
    "Objects can be used interchangeably if they adhere to the common interface, providing flexibility and extensibility in the code.\n",
    "Dynamic Binding:\n",
    "\n",
    "Method abstraction is often achieved through dynamic binding, where the appropriate method to call is determined at runtime based on the actual type of the object.\n",
    "This enables the invocation of the correct method for a particular object, even when dealing with objects of different types through a common interface."
   ]
  },
  {
   "cell_type": "code",
   "execution_count": 139,
   "metadata": {},
   "outputs": [
    {
     "name": "stdout",
     "output_type": "stream",
     "text": [
      "Area of Circle: 78.5\n",
      "Area of Rectangle: 24\n"
     ]
    }
   ],
   "source": [
    "from abc import ABC, abstractmethod\n",
    "\n",
    "class Shape(ABC):\n",
    "    @abstractmethod\n",
    "    def area(self):\n",
    "        pass\n",
    "\n",
    "class Circle(Shape):\n",
    "    def __init__(self, radius):\n",
    "        self.radius = radius\n",
    "\n",
    "    def area(self):\n",
    "        return 3.14 * self.radius * self.radius\n",
    "\n",
    "class Rectangle(Shape):\n",
    "    def __init__(self, width, height):\n",
    "        self.width = width\n",
    "        self.height = height\n",
    "\n",
    "    def area(self):\n",
    "        return self.width * self.height\n",
    "\n",
    "# Usage\n",
    "circle = Circle(radius=5)\n",
    "rectangle = Rectangle(width=4, height=6)\n",
    "\n",
    "shapes = [circle, rectangle]\n",
    "\n",
    "for shape in shapes:\n",
    "    print(f\"Area of {type(shape).__name__}: {shape.area()}\")\n"
   ]
  },
  {
   "cell_type": "code",
   "execution_count": null,
   "metadata": {},
   "outputs": [],
   "source": []
  },
  {
   "cell_type": "markdown",
   "metadata": {},
   "source": [
    "# Composition:"
   ]
  },
  {
   "cell_type": "markdown",
   "metadata": {},
   "source": [
    "In Python, composition is a design principle that involves constructing complex objects by combining simpler ones. Instead of relying on inheritance, where a class inherits the properties and behaviors of another class, composition enables the creation of more complex objects by combining instances of other classes. This promotes a \"has-a\" relationship between objects, as opposed to an \"is-a\" relationship seen in inheritance.\n",
    "\n",
    "Key Concepts of Composition:\n",
    "Combining Objects:\n",
    "\n",
    "Composition involves creating an object by combining instances of other classes.\n",
    "Instead of inheriting from a class, an object is created that contains other objects as components or parts.\n",
    "\"Has-A\" Relationship:\n",
    "\n",
    "Composition establishes a \"has-a\" relationship between the composed object and its components.\n",
    "For example, a Car \"has-a\" Engine, Wheels, and Transmission.\n",
    "Flexibility and Modularity:\n",
    "\n",
    "Composition promotes flexibility and modularity in design.\n",
    "Objects can be easily modified or replaced without affecting the entire system.\n",
    "Code Reusability:\n",
    "\n",
    "Components can be reused in different contexts, leading to better code reusability.\n",
    "Each component class can be designed to perform a specific task and then reused in various compositions.\n",
    "Encapsulation:\n",
    "\n",
    "Composition supports encapsulation by allowing the details of each component to be hidden from the external world.\n",
    "The composed object exposes a higher-level interface, while the components encapsulate their own details."
   ]
  },
  {
   "cell_type": "code",
   "execution_count": 140,
   "metadata": {},
   "outputs": [
    {
     "name": "stdout",
     "output_type": "stream",
     "text": [
      "Car is in motion. Engine starting... Transmission shifting... Wheels rotating...\n"
     ]
    }
   ],
   "source": [
    "class Engine:\n",
    "    def start(self):\n",
    "        return \"Engine starting...\"\n",
    "\n",
    "class Wheels:\n",
    "    def rotate(self):\n",
    "        return \"Wheels rotating...\"\n",
    "\n",
    "class Transmission:\n",
    "    def shift(self):\n",
    "        return \"Transmission shifting...\"\n",
    "\n",
    "class Car:\n",
    "    def __init__(self):\n",
    "        self.engine = Engine()\n",
    "        self.wheels = Wheels()\n",
    "        self.transmission = Transmission()\n",
    "\n",
    "    def drive(self):\n",
    "        return f\"Car is in motion. {self.engine.start()} {self.transmission.shift()} {self.wheels.rotate()}\"\n",
    "\n",
    "# Usage\n",
    "my_car = Car()\n",
    "print(my_car.drive())\n"
   ]
  },
  {
   "cell_type": "markdown",
   "metadata": {},
   "source": [
    "**2. Describe the difference between composition and inheritance in object-oriented programming.**"
   ]
  },
  {
   "cell_type": "markdown",
   "metadata": {},
   "source": [
    "Composition and inheritance are two fundamental concepts in object-oriented programming (OOP) that enable the construction and organization of classes. Each approach has its advantages and use cases. Let's delve into the key differences between composition and inheritance:\n",
    "\n",
    "1. Relationship Type:\n",
    "Inheritance:\n",
    "Represents an \"is-a\" relationship.\n",
    "Subclass inherits properties and behaviors from a superclass.\n",
    "Composition:\n",
    "Represents a \"has-a\" relationship.\n",
    "An object contains instances of other classes as components.\n",
    "2. Code Reusability:\n",
    "Inheritance:\n",
    "Promotes code reuse by inheriting properties and behaviors from a base class.\n",
    "Can lead to a hierarchical structure where common functionalities are inherited.\n",
    "Composition:\n",
    "Promotes code reuse by combining instances of other classes.\n",
    "Components can be reused in various contexts, offering more flexibility.\n",
    "3. Flexibility:\n",
    "Inheritance:\n",
    "Can lead to a rigid class hierarchy.\n",
    "Changes in the base class can affect all subclasses.\n",
    "Composition:\n",
    "Provides more flexibility as components can be easily replaced or modified.\n",
    "Changes in one component do not necessarily impact other components.\n",
    "4. Encapsulation:\n",
    "Inheritance:\n",
    "Exposes details of the superclass to subclasses.\n",
    "Inherited methods and attributes are part of the public interface of the subclass.\n",
    "Composition:\n",
    "Supports encapsulation as the internal details of each component can be hidden.\n",
    "The composed class exposes a higher-level interface.\n",
    "5. Complexity:\n",
    "Inheritance:\n",
    "Can lead to a complex class hierarchy, especially in deep inheritance trees.\n",
    "May result in a situation known as the \"diamond problem\" in multiple inheritance.\n",
    "Composition:\n",
    "Offers a more modular and less complex structure.\n",
    "Changes in one component are localized.\n",
    "6. Dependencies:\n",
    "Inheritance:\n",
    "Creates strong dependencies between the superclass and subclasses.\n",
    "Changes in the superclass can affect all subclasses.\n",
    "Composition:\n",
    "Reduces dependencies as components can be easily replaced or extended.\n",
    "7. Base Class Modification:\n",
    "Inheritance:\n",
    "Changes to the base class can affect all subclasses.\n",
    "May require careful consideration to avoid unintended consequences.\n",
    "Composition:\n",
    "Changes to one component do not necessarily impact other components.\n",
    "Components are independent.\n",
    "8. Ease of Testing:\n",
    "Inheritance:\n",
    "Testing subclasses may require considering the behavior of the superclass.\n",
    "Composition:\n",
    "Components can be tested independently, simplifying the testing process.\n",
    "9. Initialization:\n",
    "Inheritance:\n",
    "Subclasses often need to call the constructor of the superclass.\n",
    "Composition:\n",
    "Components can be initialized independently, leading to more flexibility."
   ]
  },
  {
   "cell_type": "code",
   "execution_count": 141,
   "metadata": {},
   "outputs": [],
   "source": [
    "#inheritance \n",
    "class Animal:\n",
    "    def make_sound(self):\n",
    "        pass\n",
    "\n",
    "class Dog(Animal):\n",
    "    def make_sound(self):\n",
    "        return \"Woof!\"\n"
   ]
  },
  {
   "cell_type": "code",
   "execution_count": 142,
   "metadata": {},
   "outputs": [],
   "source": [
    "#composition\n",
    "class Engine:\n",
    "    def start(self):\n",
    "        return \"Engine starting...\"\n",
    "\n",
    "class Car:\n",
    "    def __init__(self):\n",
    "        self.engine = Engine()\n",
    "\n",
    "    def drive(self):\n",
    "        return f\"Car is in motion. {self.engine.start()}\"\n"
   ]
  },
  {
   "cell_type": "markdown",
   "metadata": {},
   "source": [
    "**3. Create a Python class called `Author` with attributes for name and birthdate. Then, create a `Book` class\n",
    "that contains an instance of `Author` as a composition. Provide an example of creating a `Book` object.**"
   ]
  },
  {
   "cell_type": "code",
   "execution_count": 143,
   "metadata": {},
   "outputs": [
    {
     "name": "stdout",
     "output_type": "stream",
     "text": [
      "Book: Harry Potter and the Sorcerer's Stone, Genre: Fantasy\n",
      "Author: J.K. Rowling, Birthdate: July 31, 1965\n"
     ]
    }
   ],
   "source": [
    "class Author:\n",
    "    def __init__(self, name, birthdate):\n",
    "        self.name = name\n",
    "        self.birthdate = birthdate\n",
    "\n",
    "    def display_info(self):\n",
    "        return f\"Author: {self.name}, Birthdate: {self.birthdate}\"\n",
    "\n",
    "class Book:\n",
    "    def __init__(self, title, genre, author):\n",
    "        self.title = title\n",
    "        self.genre = genre\n",
    "        self.author = author  # Composition: Book has an instance of Author\n",
    "\n",
    "    def display_info(self):\n",
    "        author_info = self.author.display_info()\n",
    "        return f\"Book: {self.title}, Genre: {self.genre}\\n{author_info}\"\n",
    "\n",
    "# Example usage\n",
    "author = Author(name=\"J.K. Rowling\", birthdate=\"July 31, 1965\")\n",
    "book = Book(title=\"Harry Potter and the Sorcerer's Stone\", genre=\"Fantasy\", author=author)\n",
    "\n",
    "# Display information\n",
    "print(book.display_info())\n"
   ]
  },
  {
   "cell_type": "markdown",
   "metadata": {},
   "source": [
    "**4. Discuss the benefits of using composition over inheritance in Python, especially in terms of code flexibility\n",
    "and reusability.**"
   ]
  },
  {
   "cell_type": "markdown",
   "metadata": {},
   "source": [
    "Using composition over inheritance in Python offers several benefits, particularly in terms of code flexibility and reusability. Here are some key advantages:\n",
    "\n",
    "### 1. **Flexibility:**\n",
    "   - **Composition:**\n",
    "     - Allows for a more flexible and modular design.\n",
    "     - Components can be easily replaced or modified without affecting the overall structure.\n",
    "     - Changes to one component have a localized impact.\n",
    "\n",
    "   - **Inheritance:**\n",
    "     - Can lead to a rigid class hierarchy.\n",
    "     - Changes to the base class can affect all subclasses.\n",
    "     - Modifications may require careful consideration to avoid unintended consequences.\n",
    "\n",
    "### 2. **Code Reusability:**\n",
    "   - **Composition:**\n",
    "     - Promotes code reuse by combining instances of other classes.\n",
    "     - Components can be reused in various contexts, offering more flexibility.\n",
    "     - Each component class can be designed to perform a specific task and then reused in different compositions.\n",
    "\n",
    "   - **Inheritance:**\n",
    "     - Promotes code reuse by inheriting properties and behaviors from a base class.\n",
    "     - May result in a hierarchical structure where common functionalities are inherited.\n",
    "     - May lead to less modular and more tightly coupled code.\n",
    "\n",
    "### 3. **Encapsulation:**\n",
    "   - **Composition:**\n",
    "     - Supports encapsulation as the internal details of each component can be hidden.\n",
    "     - The composed class exposes a higher-level interface.\n",
    "     - Each component maintains its own state and behavior, reducing dependencies.\n",
    "\n",
    "   - **Inheritance:**\n",
    "     - Exposes details of the superclass to subclasses.\n",
    "     - Inherited methods and attributes are part of the public interface of the subclass.\n",
    "     - Strong dependencies between the superclass and subclasses.\n",
    "\n",
    "### 4. **Avoidance of Diamond Problem:**\n",
    "   - **Composition:**\n",
    "     - Does not suffer from the \"diamond problem\" associated with multiple inheritance.\n",
    "     - Components are combined as needed, avoiding complex inheritance hierarchies.\n",
    "\n",
    "   - **Inheritance:**\n",
    "     - Multiple inheritance can lead to ambiguity and complexity, especially when the same method is inherited from multiple paths.\n",
    "\n",
    "### 5. **Ease of Testing:**\n",
    "   - **Composition:**\n",
    "     - Components can be tested independently, simplifying the testing process.\n",
    "     - Each component's functionality can be tested in isolation.\n",
    "\n",
    "   - **Inheritance:**\n",
    "     - Testing subclasses may require considering the behavior of the superclass.\n",
    "     - Changes in the superclass can affect the testing of subclasses.\n",
    "\n",
    "### 6. **Reduced Coupling:**\n",
    "   - **Composition:**\n",
    "     - Reduces dependencies as components can be easily replaced or extended.\n",
    "     - Each component is independent of other components.\n",
    "\n",
    "   - **Inheritance:**\n",
    "     - Creates strong dependencies between the superclass and subclasses.\n",
    "     - Changes in the superclass can affect all subclasses.\n",
    "\n",
    "### 7. **Modification and Extension:**\n",
    "   - **Composition:**\n",
    "     - Provides an easier way to modify or extend functionality by replacing or adding components.\n",
    "     - Supports a more incremental and agile development process.\n",
    "\n",
    "   - **Inheritance:**\n",
    "     - Modifications may require changes to the base class and careful consideration of the impact on all subclasses.\n",
    "     - Extensions through subclasses can lead to a more rigid design.\n",
    "\n",
    "### 8. **Initialization:**\n",
    "   - **Composition:**\n",
    "     - Components can be initialized independently, leading to more flexibility.\n",
    "     - Initialization logic for each component is separate.\n",
    "\n",
    "   - **Inheritance:**\n",
    "     - Subclasses often need to call the constructor of the superclass, leading to a more coupled initialization process.\n",
    "\n",
    "### Conclusion:\n",
    "In general, composition is favored when aiming for a more modular, flexible, and maintainable codebase. It enables a design where the relationships between objects are more dynamic and can be adjusted as needed. While both composition and inheritance have their places in software design, composition is often preferred in situations where flexibility and code reusability are key considerations."
   ]
  },
  {
   "cell_type": "markdown",
   "metadata": {},
   "source": [
    "**5. How can you implement composition in Python classes? Provide examples of using composition to create\n",
    "complex objects.**"
   ]
  },
  {
   "cell_type": "code",
   "execution_count": 144,
   "metadata": {},
   "outputs": [
    {
     "name": "stdout",
     "output_type": "stream",
     "text": [
      "Playing: Song Title\n"
     ]
    }
   ],
   "source": [
    "# Example 1: Composition in a Music Player\n",
    "\n",
    "class AudioFile:\n",
    "    def __init__(self, title, duration):\n",
    "        self.title = title\n",
    "        self.duration = duration\n",
    "\n",
    "    def play(self):\n",
    "        return f\"Playing: {self.title}\"\n",
    "\n",
    "class MusicPlayer:\n",
    "    def __init__(self, audio_file):\n",
    "        self.audio_file = audio_file\n",
    "\n",
    "    def play_audio(self):\n",
    "        return self.audio_file.play()\n",
    "\n",
    "# Usage\n",
    "audio_file = AudioFile(title=\"Song Title\", duration=\"3:30\")\n",
    "music_player = MusicPlayer(audio_file=audio_file)\n",
    "print(music_player.play_audio())\n"
   ]
  },
  {
   "cell_type": "code",
   "execution_count": 145,
   "metadata": {},
   "outputs": [
    {
     "name": "stdout",
     "output_type": "stream",
     "text": [
      "Car is in motion. Engine starting... Wheels rotating...\n"
     ]
    }
   ],
   "source": [
    "# Example 2: Composition in a Car System\n",
    "\n",
    "class Engine:\n",
    "    def start(self):\n",
    "        return \"Engine starting...\"\n",
    "\n",
    "class Wheels:\n",
    "    def rotate(self):\n",
    "        return \"Wheels rotating...\"\n",
    "\n",
    "class Car:\n",
    "    def __init__(self):\n",
    "        self.engine = Engine()\n",
    "        self.wheels = Wheels()\n",
    "\n",
    "    def drive(self):\n",
    "        return f\"Car is in motion. {self.engine.start()} {self.wheels.rotate()}\"\n",
    "\n",
    "# Usage\n",
    "car = Car()\n",
    "print(car.drive())\n"
   ]
  },
  {
   "cell_type": "markdown",
   "metadata": {},
   "source": [
    "**6. Create a Python class hierarchy for a music player system, using composition to represent playlists and\n",
    "songs.**"
   ]
  },
  {
   "cell_type": "code",
   "execution_count": 146,
   "metadata": {},
   "outputs": [
    {
     "name": "stdout",
     "output_type": "stream",
     "text": [
      "Playlist: My Playlist\n",
      "Playing: Song 1 by Artist 1\n",
      "Playing: Song 2 by Artist 2\n",
      "Playing: Song 3 by Artist 3\n"
     ]
    }
   ],
   "source": [
    "class Song:\n",
    "    def __init__(self, title, artist, duration):\n",
    "        self.title = title\n",
    "        self.artist = artist\n",
    "        self.duration = duration\n",
    "\n",
    "    def play(self):\n",
    "        return f\"Playing: {self.title} by {self.artist}\"\n",
    "\n",
    "class Playlist:\n",
    "    def __init__(self, name):\n",
    "        self.name = name\n",
    "        self.songs = []\n",
    "\n",
    "    def add_song(self, song):\n",
    "        self.songs.append(song)\n",
    "\n",
    "    def play_all(self):\n",
    "        playlist_info = f\"Playlist: {self.name}\\n\"\n",
    "        playlist_info += \"\\n\".join([song.play() for song in self.songs])\n",
    "        return playlist_info\n",
    "\n",
    "# Usage\n",
    "song1 = Song(title=\"Song 1\", artist=\"Artist 1\", duration=\"3:30\")\n",
    "song2 = Song(title=\"Song 2\", artist=\"Artist 2\", duration=\"4:15\")\n",
    "song3 = Song(title=\"Song 3\", artist=\"Artist 3\", duration=\"2:45\")\n",
    "\n",
    "playlist = Playlist(name=\"My Playlist\")\n",
    "playlist.add_song(song1)\n",
    "playlist.add_song(song2)\n",
    "playlist.add_song(song3)\n",
    "\n",
    "print(playlist.play_all())\n"
   ]
  },
  {
   "cell_type": "markdown",
   "metadata": {},
   "source": [
    "**7. Explain the concept of \"has-a\" relationships in composition and how it helps design software systems.**"
   ]
  },
  {
   "cell_type": "markdown",
   "metadata": {},
   "source": [
    "In object-oriented programming, the concept of \"has-a\" relationships refers to the idea that one class can contain an instance of another class as a part or component. This relationship is implemented through composition, where a class is composed of one or more instances of other classes. The \"has-a\" relationship is often associated with the idea that an object of one class \"has\" another object as one of its attributes.\n",
    "\n",
    "Key Points:\n",
    "Composition:\n",
    "\n",
    "Definition: Composition is a design principle where a class contains one or more instances of other classes as attributes.\n",
    "Implementation: The composed class uses instances of other classes to achieve its functionality.\n",
    "Relationship: It establishes a \"has-a\" relationship between the composed class and the classes it contains."
   ]
  },
  {
   "cell_type": "code",
   "execution_count": null,
   "metadata": {},
   "outputs": [],
   "source": [
    "class Engine:\n",
    "    # Engine implementation...\n",
    "\n",
    "class Wheels:\n",
    "    # Wheels implementation...\n",
    "\n",
    "class Car:\n",
    "    def __init__(self):\n",
    "        self.engine = Engine()\n",
    "        self.wheels = Wheels()\n"
   ]
  },
  {
   "cell_type": "markdown",
   "metadata": {},
   "source": [
    "Benefits of \"Has-a\" Relationships:\n",
    "\n",
    "Modularity: Encapsulating functionality in separate classes promotes modularity and code organization.\n",
    "Flexibility: Components can be easily replaced or extended without affecting the overall structure.\n",
    "Reuse: Components can be reused in different contexts, enhancing code reuse.\n",
    "Code Flexibility and Reusability:\n",
    "\n",
    "The \"has-a\" relationship allows for a more flexible and modular design, as components can be easily interchanged or extended.\n",
    "It supports code reuse by composing classes from existing components, leading to more maintainable and adaptable code.\n",
    "Encapsulation:\n",
    "\n",
    "Each component class encapsulates its own state and behavior.\n",
    "The composed class exposes a higher-level interface, hiding the internal details of its components.\n",
    "Example in Real-World Objects:\n",
    "\n",
    "In a real-world analogy, a Car \"has\" an Engine, a Computer \"has\" a Processor, and a Library \"has\" Books."
   ]
  },
  {
   "cell_type": "code",
   "execution_count": null,
   "metadata": {},
   "outputs": [],
   "source": [
    "class Song:\n",
    "    # Song implementation...\n",
    "\n",
    "class Playlist:\n",
    "    # Playlist implementation...\n",
    "\n",
    "class MusicPlayer:\n",
    "    def __init__(self):\n",
    "        self.playlist = Playlist()\n",
    "        self.current_song = None\n",
    "\n",
    "    def play_song(self, song):\n",
    "        self.current_song = song\n",
    "        return f\"Now playing: {song.title} by {song.artist}.\"\n",
    "\n",
    "    def play_playlist(self):\n",
    "        return self.playlist.play_all()\n"
   ]
  },
  {
   "cell_type": "markdown",
   "metadata": {},
   "source": [
    "**8. Create a Python class for a computer system, using composition to represent components like CPU, RAM,\n",
    "and storage devices.**"
   ]
  },
  {
   "cell_type": "code",
   "execution_count": 149,
   "metadata": {},
   "outputs": [
    {
     "name": "stdout",
     "output_type": "stream",
     "text": [
      "Computer Specifications:\n",
      "CPU: Intel i7, Cores: 4\n",
      "RAM: 16GB, Speed: 2400MHz\n",
      "Storage: 512GB SSD\n"
     ]
    }
   ],
   "source": [
    "class CPU:\n",
    "    def __init__(self, brand, model, cores):\n",
    "        self.brand = brand\n",
    "        self.model = model\n",
    "        self.cores = cores\n",
    "\n",
    "    def get_info(self):\n",
    "        return f\"CPU: {self.brand} {self.model}, Cores: {self.cores}\"\n",
    "\n",
    "class RAM:\n",
    "    def __init__(self, capacity, speed):\n",
    "        self.capacity = capacity\n",
    "        self.speed = speed\n",
    "\n",
    "    def get_info(self):\n",
    "        return f\"RAM: {self.capacity}GB, Speed: {self.speed}MHz\"\n",
    "\n",
    "class Storage:\n",
    "    def __init__(self, capacity, type):\n",
    "        self.capacity = capacity\n",
    "        self.type = type\n",
    "\n",
    "    def get_info(self):\n",
    "        return f\"Storage: {self.capacity}GB {self.type}\"\n",
    "\n",
    "class Computer:\n",
    "    def __init__(self, cpu, ram, storage):\n",
    "        self.cpu = cpu\n",
    "        self.ram = ram\n",
    "        self.storage = storage\n",
    "\n",
    "    def get_specs(self):\n",
    "        cpu_info = self.cpu.get_info()\n",
    "        ram_info = self.ram.get_info()\n",
    "        storage_info = self.storage.get_info()\n",
    "        return f\"Computer Specifications:\\n{cpu_info}\\n{ram_info}\\n{storage_info}\"\n",
    "\n",
    "# Usage\n",
    "cpu = CPU(brand=\"Intel\", model=\"i7\", cores=4)\n",
    "ram = RAM(capacity=16, speed=2400)\n",
    "storage = Storage(capacity=512, type=\"SSD\")\n",
    "\n",
    "my_computer = Computer(cpu=cpu, ram=ram, storage=storage)\n",
    "print(my_computer.get_specs())\n"
   ]
  },
  {
   "cell_type": "markdown",
   "metadata": {},
   "source": [
    "**9. Describe the concept of \"delegation\" in composition and how it simplifies the design of complex systems.**"
   ]
  },
  {
   "cell_type": "markdown",
   "metadata": {},
   "source": [
    "In the context of object-oriented programming and composition, \"delegation\" refers to the process of allowing one object to rely on another object to provide a specific behavior or functionality. Instead of directly implementing the behavior, the delegating object forwards the responsibility to a delegate object. This concept is closely tied to the idea of \"has-a\" relationships through composition.\n",
    "\n",
    "Key Points:\n",
    "Composition and Delegation:\n",
    "\n",
    "Composition: Objects are composed of other objects as components.\n",
    "Delegation: The delegating object relies on a delegate object to perform specific tasks.\n",
    "Simplifying Complex Systems:\n",
    "\n",
    "Reduced Complexity: Delegation simplifies the design of complex systems by breaking down functionality into smaller, more manageable pieces.\n",
    "Modularity: Each component (delegate) is responsible for a specific aspect of behavior, promoting modularity.\n",
    "Example:\n",
    "\n",
    "Consider a Car class composed of various components such as an Engine, Transmission, and Wheels. Each component is responsible for its specific functionality.\n",
    "The Car class delegates tasks like starting the engine or changing gears to the respective components.\n",
    "Advantages:\n",
    "\n",
    "Modularity and Reusability: Delegated components can be reused in different contexts, enhancing modularity and code reusability.\n",
    "Easier Maintenance: Changes to a specific behavior are localized to the delegate object, making maintenance more straightforward.\n",
    "Implementation:\n",
    "\n",
    "Delegation is typically implemented by calling methods or accessing properties of the delegate object from within the delegating object."
   ]
  },
  {
   "cell_type": "code",
   "execution_count": 150,
   "metadata": {},
   "outputs": [
    {
     "name": "stdout",
     "output_type": "stream",
     "text": [
      "Printing: Hello, World!\n"
     ]
    }
   ],
   "source": [
    "class Printer:\n",
    "    def print_document(self, document):\n",
    "        # Print document logic...\n",
    "        return f\"Printing: {document}\"\n",
    "\n",
    "class TextEditor:\n",
    "    def __init__(self, printer):\n",
    "        self.printer = printer\n",
    "\n",
    "    def print_document(self, document):\n",
    "        return self.printer.print_document(document)\n",
    "\n",
    "# Usage\n",
    "printer = Printer()\n",
    "text_editor = TextEditor(printer)\n",
    "\n",
    "document_to_print = \"Hello, World!\"\n",
    "print(text_editor.print_document(document_to_print))\n"
   ]
  },
  {
   "cell_type": "markdown",
   "metadata": {},
   "source": [
    "Benefits of Delegation in Composition:\n",
    "Separation of Concerns:\n",
    "\n",
    "Responsibilities are divided between the delegating and delegate objects, promoting a separation of concerns.\n",
    "Easier Testing:\n",
    "\n",
    "Components can be tested independently, simplifying the testing process.\n",
    "Scalability:\n",
    "\n",
    "Additional functionalities can be added by introducing new delegate objects, maintaining a scalable design.\n",
    "Code Maintenance:\n",
    "\n",
    "Changes to specific behaviors are isolated, making the codebase easier to maintain."
   ]
  },
  {
   "cell_type": "markdown",
   "metadata": {},
   "source": [
    "**10. Create a Python class for a car, using composition to represent components like the engine, wheels, and\n",
    "transmission.**"
   ]
  },
  {
   "cell_type": "code",
   "execution_count": 151,
   "metadata": {},
   "outputs": [
    {
     "name": "stdout",
     "output_type": "stream",
     "text": [
      "Engine starting...\n",
      "Wheels rotating...\n",
      "Changing gear to D...\n",
      "Wheels rotating...\n",
      "Engine stopping...\n"
     ]
    }
   ],
   "source": [
    "class Engine:\n",
    "    def start(self):\n",
    "        return \"Engine starting...\"\n",
    "\n",
    "    def stop(self):\n",
    "        return \"Engine stopping...\"\n",
    "\n",
    "class Wheels:\n",
    "    def rotate(self):\n",
    "        return \"Wheels rotating...\"\n",
    "\n",
    "class Transmission:\n",
    "    def change_gear(self, gear):\n",
    "        return f\"Changing gear to {gear}...\"\n",
    "\n",
    "class Car:\n",
    "    def __init__(self, engine, wheels, transmission):\n",
    "        self.engine = engine\n",
    "        self.wheels = wheels\n",
    "        self.transmission = transmission\n",
    "\n",
    "    def start(self):\n",
    "        engine_status = self.engine.start()\n",
    "        wheels_status = self.wheels.rotate()\n",
    "        return f\"{engine_status}\\n{wheels_status}\"\n",
    "\n",
    "    def stop(self):\n",
    "        engine_status = self.engine.stop()\n",
    "        return f\"{engine_status}\"\n",
    "\n",
    "    def drive(self, gear):\n",
    "        gear_status = self.transmission.change_gear(gear)\n",
    "        return f\"{gear_status}\\n{self.wheels.rotate()}\"\n",
    "\n",
    "# Usage\n",
    "engine = Engine()\n",
    "wheels = Wheels()\n",
    "transmission = Transmission()\n",
    "\n",
    "my_car = Car(engine=engine, wheels=wheels, transmission=transmission)\n",
    "\n",
    "# Start the car\n",
    "print(my_car.start())\n",
    "\n",
    "# Drive the car\n",
    "print(my_car.drive(gear=\"D\"))\n",
    "\n",
    "# Stop the car\n",
    "print(my_car.stop())\n"
   ]
  },
  {
   "cell_type": "markdown",
   "metadata": {},
   "source": [
    "**11. How can you encapsulate and hide the details of composed objects in Python classes to maintain\n",
    "abstraction?**"
   ]
  },
  {
   "cell_type": "markdown",
   "metadata": {},
   "source": [
    "Encapsulation in Python involves bundling the data (attributes) and methods (functions) that operate on the data into a single unit, commonly known as a class. When it comes to composition, encapsulation can be employed to hide the details of composed objects within a class, maintaining abstraction and allowing the internal implementation to be hidden from external users.\n",
    "\n",
    "Here are some techniques to encapsulate and hide the details of composed objects in Python classes:\n",
    "\n",
    "Private Attributes:\n",
    "\n",
    "Use private attributes (attributes with names starting with double underscores __) to make them not directly accessible from outside the class."
   ]
  },
  {
   "cell_type": "code",
   "execution_count": 152,
   "metadata": {},
   "outputs": [],
   "source": [
    "class Car:\n",
    "    def __init__(self, engine, wheels, transmission):\n",
    "        self.__engine = engine  # private attribute\n",
    "        self.__wheels = wheels  # private attribute\n",
    "        self.__transmission = transmission  # private attribute\n"
   ]
  },
  {
   "cell_type": "markdown",
   "metadata": {},
   "source": [
    "Public Methods:\n",
    "\n",
    "Provide public methods to interact with the composed objects. These methods should be the interface through which external users interact with the composed objects"
   ]
  },
  {
   "cell_type": "code",
   "execution_count": 153,
   "metadata": {},
   "outputs": [],
   "source": [
    "class Car:\n",
    "    def __init__(self, engine, wheels, transmission):\n",
    "        self.__engine = engine\n",
    "        self.__wheels = wheels\n",
    "        self.__transmission = transmission\n",
    "\n",
    "    def start(self):\n",
    "        return self.__engine.start()\n",
    "\n",
    "    def drive(self, gear):\n",
    "        return self.__transmission.change_gear(gear)\n",
    "\n",
    "    def stop(self):\n",
    "        return self.__engine.stop()\n"
   ]
  },
  {
   "cell_type": "markdown",
   "metadata": {},
   "source": [
    "Getter Methods:\n",
    "\n",
    "Use getter methods to allow controlled access to the attributes. This way, you can expose certain information about the composed objects while still controlling access."
   ]
  },
  {
   "cell_type": "code",
   "execution_count": 154,
   "metadata": {},
   "outputs": [],
   "source": [
    "class Car:\n",
    "    def __init__(self, engine, wheels, transmission):\n",
    "        self.__engine = engine\n",
    "        self.__wheels = wheels\n",
    "        self.__transmission = transmission\n",
    "\n",
    "    def get_engine_info(self):\n",
    "        return self.__engine.get_info()\n",
    "\n",
    "    def get_wheels_info(self):\n",
    "        return self.__wheels.get_info()\n",
    "\n",
    "    def get_transmission_info(self):\n",
    "        return self.__transmission.get_info()\n"
   ]
  },
  {
   "cell_type": "markdown",
   "metadata": {},
   "source": [
    "Composition within Methods:\n",
    "\n",
    "Limit the exposure of composed objects by using them internally within methods rather than exposing them directly."
   ]
  },
  {
   "cell_type": "code",
   "execution_count": 155,
   "metadata": {},
   "outputs": [],
   "source": [
    "class Car:\n",
    "    def __init__(self, engine, wheels, transmission):\n",
    "        self.__engine = engine\n",
    "        self.__wheels = wheels\n",
    "        self.__transmission = transmission\n",
    "\n",
    "    def perform_complex_task(self):\n",
    "        # Use composed objects internally\n",
    "        result = self.__engine.do_something() + self.__wheels.do_something_else()\n",
    "        return result\n"
   ]
  },
  {
   "cell_type": "markdown",
   "metadata": {},
   "source": [
    "**12. Create a Python class for a university course, using composition to represent students, instructors, and\n",
    "course materials.**"
   ]
  },
  {
   "cell_type": "code",
   "execution_count": 156,
   "metadata": {},
   "outputs": [
    {
     "name": "stdout",
     "output_type": "stream",
     "text": [
      "Course Code: CS101\n",
      "Course Name: Python Programming\n",
      "Instructor:\n",
      "Instructor ID: 1, Name: Dr. Smith\n",
      "Students:\n",
      "Student ID: 101, Name: Alice\n",
      "Student ID: 102, Name: Bob\n",
      "Course Material:\n",
      "Course Material: Introduction to Python\n"
     ]
    }
   ],
   "source": [
    "class Student:\n",
    "    def __init__(self, student_id, name):\n",
    "        self.student_id = student_id\n",
    "        self.name = name\n",
    "\n",
    "    def get_info(self):\n",
    "        return f\"Student ID: {self.student_id}, Name: {self.name}\"\n",
    "\n",
    "class Instructor:\n",
    "    def __init__(self, instructor_id, name):\n",
    "        self.instructor_id = instructor_id\n",
    "        self.name = name\n",
    "\n",
    "    def get_info(self):\n",
    "        return f\"Instructor ID: {self.instructor_id}, Name: {self.name}\"\n",
    "\n",
    "class CourseMaterial:\n",
    "    def __init__(self, title, content):\n",
    "        self.title = title\n",
    "        self.content = content\n",
    "\n",
    "    def get_info(self):\n",
    "        return f\"Course Material: {self.title}\"\n",
    "\n",
    "class UniversityCourse:\n",
    "    def __init__(self, course_code, course_name, instructor, students, course_material):\n",
    "        self.course_code = course_code\n",
    "        self.course_name = course_name\n",
    "        self.instructor = instructor\n",
    "        self.students = students\n",
    "        self.course_material = course_material\n",
    "\n",
    "    def get_course_info(self):\n",
    "        instructor_info = self.instructor.get_info()\n",
    "\n",
    "        students_info = \"\\n\".join([student.get_info() for student in self.students])\n",
    "\n",
    "        course_material_info = self.course_material.get_info()\n",
    "\n",
    "        return f\"Course Code: {self.course_code}\\nCourse Name: {self.course_name}\\nInstructor:\\n{instructor_info}\\nStudents:\\n{students_info}\\nCourse Material:\\n{course_material_info}\"\n",
    "\n",
    "# Usage\n",
    "instructor = Instructor(instructor_id=1, name=\"Dr. Smith\")\n",
    "\n",
    "student1 = Student(student_id=101, name=\"Alice\")\n",
    "student2 = Student(student_id=102, name=\"Bob\")\n",
    "\n",
    "students = [student1, student2]\n",
    "\n",
    "course_material = CourseMaterial(title=\"Introduction to Python\", content=\"Python basics and programming concepts.\")\n",
    "\n",
    "python_course = UniversityCourse(course_code=\"CS101\", course_name=\"Python Programming\", instructor=instructor, students=students, course_material=course_material)\n",
    "\n",
    "# Display course information\n",
    "print(python_course.get_course_info())\n"
   ]
  },
  {
   "cell_type": "markdown",
   "metadata": {},
   "source": [
    "**13. Discuss the challenges and drawbacks of composition, such as increased complexity and potential for\n",
    "tight coupling between objects.**"
   ]
  },
  {
   "cell_type": "markdown",
   "metadata": {},
   "source": [
    "While composition is a powerful concept in object-oriented programming, it comes with its own set of challenges and drawbacks. Here are some of the common challenges associated with composition:\n",
    "\n",
    "1. **Increased Complexity:**\n",
    "   - As the number of composed objects increases, the overall complexity of the system can grow significantly. Managing the relationships between multiple components can become challenging, especially in large and intricate systems.\n",
    "\n",
    "2. **Tight Coupling:**\n",
    "   - Composition can lead to tight coupling between objects, where changes to one object may impact the behavior of others. If the components are highly interdependent, modifications to one part of the system might require adjustments in multiple places.\n",
    "\n",
    "3. **Dependency Management:**\n",
    "   - Managing dependencies between objects can become complex. Changes to the interface of one object might necessitate updates in all objects that depend on it. This can make the system more fragile and prone to errors during maintenance.\n",
    "\n",
    "4. **Inheritance vs. Composition Dilemma:**\n",
    "   - Choosing between inheritance and composition can be a challenging decision. In some cases, composition might lead to an abundance of small, fine-grained objects, making the system harder to understand and navigate.\n",
    "\n",
    "5. **Object Creation Overhead:**\n",
    "   - If there are numerous small objects involved in composition, the overhead of creating and managing these objects might lead to performance issues. Object creation and destruction can impact the runtime performance of the application.\n",
    "\n",
    "6. **Code Verbosity:**\n",
    "   - In highly composed systems, the code can become verbose due to the need for additional methods and classes to manage the relationships between components. This verbosity can reduce code readability.\n",
    "\n",
    "7. **Learning Curve:**\n",
    "   - Composed systems may have a steeper learning curve for developers, especially those new to the codebase. Understanding the relationships and interactions between numerous small objects can be challenging.\n",
    "\n",
    "8. **Testing Challenges:**\n",
    "   - Unit testing can become more complex in composed systems, as testing one component may require creating and managing multiple mock objects. This can increase the effort required for writing and maintaining tests.\n",
    "\n",
    "9. **Performance Considerations:**\n",
    "   - In certain scenarios, composition might introduce performance overhead compared to a more straightforward, monolithic design. This is particularly relevant when dealing with resource-intensive operations or real-time systems.\n",
    "\n",
    "10. **Design Overhead:**\n",
    "    - Deciding on the appropriate composition structure and managing the relationships between components requires careful design. Overcomplicating the design may lead to unnecessary overhead without providing significant benefits.\n",
    "\n",
    "It's essential to strike a balance between using composition for flexibility and maintainability and avoiding excessive complexity. While composition is a valuable tool, it should be employed judiciously based on the specific requirements and characteristics of the software being developed. Considerations such as system size, performance constraints, and development team expertise should influence the decision to use composition in a particular context."
   ]
  },
  {
   "cell_type": "markdown",
   "metadata": {},
   "source": [
    "**14. Create a Python class hierarchy for a restaurant system, using composition to represent menus, dishes,\n",
    "and ingredients.**"
   ]
  },
  {
   "cell_type": "code",
   "execution_count": 157,
   "metadata": {},
   "outputs": [
    {
     "name": "stdout",
     "output_type": "stream",
     "text": [
      "Italian Delights\n",
      "Description: A selection of Italian dishes\n",
      "Dishes:\n",
      "Margherita Pizza\n",
      "Description: Classic pizza with tomato and cheese\n",
      "Ingredients:\n",
      "2 pieces of Tomato\n",
      "100 grams of Cheese\n",
      "\n",
      "Cheese Pasta\n",
      "Description: Pasta with cheesy goodness\n",
      "Ingredients:\n",
      "200 grams of Flour\n",
      "100 grams of Cheese\n"
     ]
    }
   ],
   "source": [
    "class Ingredient:\n",
    "    def __init__(self, name, quantity, unit):\n",
    "        self.name = name\n",
    "        self.quantity = quantity\n",
    "        self.unit = unit\n",
    "\n",
    "    def get_info(self):\n",
    "        return f\"{self.quantity} {self.unit} of {self.name}\"\n",
    "\n",
    "class Dish:\n",
    "    def __init__(self, name, description, ingredients):\n",
    "        self.name = name\n",
    "        self.description = description\n",
    "        self.ingredients = ingredients\n",
    "\n",
    "    def get_info(self):\n",
    "        ingredients_info = \"\\n\".join([ingredient.get_info() for ingredient in self.ingredients])\n",
    "        return f\"{self.name}\\nDescription: {self.description}\\nIngredients:\\n{ingredients_info}\"\n",
    "\n",
    "class Menu:\n",
    "    def __init__(self, name, description, dishes):\n",
    "        self.name = name\n",
    "        self.description = description\n",
    "        self.dishes = dishes\n",
    "\n",
    "    def get_info(self):\n",
    "        dishes_info = \"\\n\\n\".join([dish.get_info() for dish in self.dishes])\n",
    "        return f\"{self.name}\\nDescription: {self.description}\\nDishes:\\n{dishes_info}\"\n",
    "\n",
    "# Usage\n",
    "ingredient1 = Ingredient(name=\"Tomato\", quantity=2, unit=\"pieces\")\n",
    "ingredient2 = Ingredient(name=\"Cheese\", quantity=100, unit=\"grams\")\n",
    "ingredient3 = Ingredient(name=\"Flour\", quantity=200, unit=\"grams\")\n",
    "\n",
    "dish1 = Dish(name=\"Margherita Pizza\", description=\"Classic pizza with tomato and cheese\", ingredients=[ingredient1, ingredient2])\n",
    "dish2 = Dish(name=\"Cheese Pasta\", description=\"Pasta with cheesy goodness\", ingredients=[ingredient3, ingredient2])\n",
    "\n",
    "menu = Menu(name=\"Italian Delights\", description=\"A selection of Italian dishes\", dishes=[dish1, dish2])\n",
    "\n",
    "# Display menu information\n",
    "print(menu.get_info())\n"
   ]
  },
  {
   "cell_type": "markdown",
   "metadata": {},
   "source": [
    "**15. Explain how composition enhances code maintainability and modularity in Python programs.**"
   ]
  },
  {
   "cell_type": "markdown",
   "metadata": {},
   "source": [
    "Composition enhances code maintainability and modularity in Python programs by promoting a design approach where complex systems can be built from smaller, more manageable components. Here are several ways in which composition achieves these goals:\n",
    "\n",
    "1. **Modularity:**\n",
    "   - **Separation of Concerns:** Composition allows you to break down a system into smaller, independent modules or components. Each component is responsible for a specific aspect of functionality, promoting a separation of concerns.\n",
    "   - **Reusability:** Components created through composition can be reused in different parts of the program or even in different projects, enhancing code reuse and minimizing redundancy.\n",
    "\n",
    "2. **Maintainability:**\n",
    "   - **Easier Debugging:** Smaller, modular components are easier to debug and maintain. Issues can be isolated to specific components, making it simpler to identify and fix problems without affecting the entire system.\n",
    "   - **Scalability:** As requirements change or new features are added, it's often easier to extend or modify individual components rather than making changes to the entire monolithic codebase.\n",
    "\n",
    "3. **Flexibility and Extensibility:**\n",
    "   - **Dynamic System Adaptation:** Composition allows for dynamic adaptation of a system by adding, removing, or replacing components as needed. This flexibility is particularly useful when dealing with evolving project requirements.\n",
    "   - **Open/Closed Principle:** Components can be designed to be open for extension but closed for modification. New functionality can be added through the addition of new components without altering existing code.\n",
    "\n",
    "4. **Code Readability:**\n",
    "   - **Clear Structure:** Composition often results in a clear and hierarchical structure, making the code more readable and understandable. Developers can easily grasp the relationships between different components.\n",
    "   - **Focused Responsibilities:** Each component has a focused responsibility, leading to code that follows the single responsibility principle (SRP) and is easier to comprehend.\n",
    "\n",
    "5. **Testing and Debugging:**\n",
    "   - **Isolated Testing:** Components can be tested in isolation, facilitating unit testing. This isolation allows for more targeted and efficient testing of individual functionalities.\n",
    "   - **Easier Debugging:** When issues arise, the scope of debugging is limited to the specific component, making it easier to identify and rectify problems.\n",
    "\n",
    "6. **Code Reusability:**\n",
    "   - **Reusable Components:** Well-designed components can be reused in different contexts, reducing the need to reinvent the wheel. This can save development time and lead to more robust and tested solutions.\n",
    "\n",
    "7. **Collaborative Development:**\n",
    "   - **Concurrent Development:** Different teams or developers can work on different components simultaneously without interfering with each other. This concurrent development is facilitated by the modularity offered by composition.\n",
    "\n",
    "By embracing composition, developers can create systems that are more modular, maintainable, and adaptable to change. The design principles associated with composition contribute to a codebase that is easier to understand, extend, and collaborate on throughout the development lifecycle."
   ]
  },
  {
   "cell_type": "markdown",
   "metadata": {},
   "source": [
    "**16. Create a Python class for a computer game character, using composition to represent attributes like\n",
    "weapons, armor, and inventory.**"
   ]
  },
  {
   "cell_type": "code",
   "execution_count": 158,
   "metadata": {},
   "outputs": [
    {
     "name": "stdout",
     "output_type": "stream",
     "text": [
      "Hero equipped Sword.\n",
      "Hero equipped Shield.\n",
      "Sword deals 20 damage.\n",
      "Shield provides 10 defense.\n",
      "Added Health Potion to the inventory.\n"
     ]
    }
   ],
   "source": [
    "class Weapon:\n",
    "    def __init__(self, name, damage):\n",
    "        self.name = name\n",
    "        self.damage = damage\n",
    "\n",
    "    def attack(self):\n",
    "        print(f\"{self.name} deals {self.damage} damage.\")\n",
    "\n",
    "class Armor:\n",
    "    def __init__(self, name, defense):\n",
    "        self.name = name\n",
    "        self.defense = defense\n",
    "\n",
    "    def defend(self):\n",
    "        print(f\"{self.name} provides {self.defense} defense.\")\n",
    "\n",
    "class Inventory:\n",
    "    def __init__(self):\n",
    "        self.items = []\n",
    "\n",
    "    def add_item(self, item):\n",
    "        self.items.append(item)\n",
    "        print(f\"Added {item} to the inventory.\")\n",
    "\n",
    "class GameCharacter:\n",
    "    def __init__(self, name, health):\n",
    "        self.name = name\n",
    "        self.health = health\n",
    "        self.weapon = None\n",
    "        self.armor = None\n",
    "        self.inventory = Inventory()\n",
    "\n",
    "    def equip_weapon(self, weapon):\n",
    "        self.weapon = weapon\n",
    "        print(f\"{self.name} equipped {weapon.name}.\")\n",
    "\n",
    "    def equip_armor(self, armor):\n",
    "        self.armor = armor\n",
    "        print(f\"{self.name} equipped {armor.name}.\")\n",
    "\n",
    "    def attack(self):\n",
    "        if self.weapon:\n",
    "            self.weapon.attack()\n",
    "        else:\n",
    "            print(f\"{self.name} attacks with bare hands.\")\n",
    "\n",
    "    def defend(self):\n",
    "        if self.armor:\n",
    "            self.armor.defend()\n",
    "        else:\n",
    "            print(f\"{self.name} defends without armor.\")\n",
    "\n",
    "# Usage\n",
    "sword = Weapon(name=\"Sword\", damage=20)\n",
    "shield = Armor(name=\"Shield\", defense=10)\n",
    "\n",
    "player = GameCharacter(name=\"Hero\", health=100)\n",
    "player.equip_weapon(sword)\n",
    "player.equip_armor(shield)\n",
    "player.attack()\n",
    "player.defend()\n",
    "\n",
    "# Adding an item to the inventory\n",
    "health_potion = \"Health Potion\"\n",
    "player.inventory.add_item(health_potion)\n"
   ]
  },
  {
   "cell_type": "markdown",
   "metadata": {},
   "source": [
    "**17. Describe the concept of \"aggregation\" in composition and how it differs from simple composition.**"
   ]
  },
  {
   "cell_type": "markdown",
   "metadata": {},
   "source": [
    "In object-oriented programming, \"aggregation\" is a form of composition where one class contains another class as a part, but the contained class can exist independently of the container. Aggregation represents a \"has-a\" relationship between classes. It differs from simple composition in terms of the lifecycle and dependency between the container and the contained objects.\n",
    "\n",
    "Here are the key points that differentiate aggregation from simple composition:\n",
    "\n",
    "Independence of Lifecycles:\n",
    "\n",
    "Aggregation: The objects involved in aggregation have independent lifecycles. The contained object can exist before and after the container object.\n",
    "Simple Composition: In simple composition, the lifecycle of the contained object is closely tied to the lifecycle of the container. The contained object is created and destroyed with the container.\n",
    "Multiplicity:\n",
    "\n",
    "Aggregation: There can be a one-to-one, one-to-many, or many-to-many relationship between the container and the contained objects. The multiplicity is not fixed.\n",
    "Simple Composition: Usually, there is a fixed one-to-one relationship between the container and the contained object in simple composition.\n",
    "Ownership:\n",
    "\n",
    "Aggregation: The contained object is not owned by the container. It can be shared among multiple containers or exist independently.\n",
    "Simple Composition: The contained object is owned by the container, and its existence is tightly coupled with the container.\n",
    "Flexibility and Reusability:\n",
    "\n",
    "Aggregation: Aggregation allows for greater flexibility and reusability. The contained object can be reused in different contexts and shared among multiple containers.\n",
    "Simple Composition: Simple composition is less flexible because the contained object is specifically designed for and tied to the container.\n",
    "Here's a simple example to illustrate aggregation:"
   ]
  },
  {
   "cell_type": "code",
   "execution_count": 159,
   "metadata": {},
   "outputs": [
    {
     "name": "stdout",
     "output_type": "stream",
     "text": [
      "Added Alice to the HR department.\n",
      "Added Bob to the Development department.\n"
     ]
    }
   ],
   "source": [
    "class Department:\n",
    "    def __init__(self, name):\n",
    "        self.name = name\n",
    "        self.employees = []\n",
    "\n",
    "    def add_employee(self, employee):\n",
    "        self.employees.append(employee)\n",
    "        print(f\"Added {employee.name} to the {self.name} department.\")\n",
    "\n",
    "class Employee:\n",
    "    def __init__(self, name, employee_id):\n",
    "        self.name = name\n",
    "        self.employee_id = employee_id\n",
    "\n",
    "# Aggregation Example\n",
    "hr_department = Department(name=\"HR\")\n",
    "developer_department = Department(name=\"Development\")\n",
    "\n",
    "alice = Employee(name=\"Alice\", employee_id=1)\n",
    "bob = Employee(name=\"Bob\", employee_id=2)\n",
    "\n",
    "hr_department.add_employee(alice)\n",
    "developer_department.add_employee(bob)\n"
   ]
  },
  {
   "cell_type": "markdown",
   "metadata": {},
   "source": [
    "18. Create a Python class for a house, using composition to represent rooms, furniture, and appliances."
   ]
  },
  {
   "cell_type": "code",
   "execution_count": 160,
   "metadata": {},
   "outputs": [
    {
     "name": "stdout",
     "output_type": "stream",
     "text": [
      "Added Sofa to the Living Room room.\n",
      "Added Smart TV to the Living Room room.\n",
      "Added Oven to the Kitchen room.\n",
      "Added Living Room to the house.\n",
      "Added Kitchen to the house.\n",
      "Contents of the Living Room room:\n",
      "Furniture:\n",
      "A piece of furniture: Sofa\n",
      "Appliances:\n",
      "An appliance: Smart TV\n",
      "Contents of the Kitchen room:\n",
      "Furniture:\n",
      "\n",
      "Appliances:\n",
      "An appliance: Oven\n"
     ]
    }
   ],
   "source": [
    "class Furniture:\n",
    "    def __init__(self, name):\n",
    "        self.name = name\n",
    "\n",
    "    def describe(self):\n",
    "        return f\"A piece of furniture: {self.name}\"\n",
    "\n",
    "class Appliance:\n",
    "    def __init__(self, name):\n",
    "        self.name = name\n",
    "\n",
    "    def describe(self):\n",
    "        return f\"An appliance: {self.name}\"\n",
    "\n",
    "class Room:\n",
    "    def __init__(self, name):\n",
    "        self.name = name\n",
    "        self.furniture = []\n",
    "        self.appliances = []\n",
    "\n",
    "    def add_furniture(self, furniture):\n",
    "        self.furniture.append(furniture)\n",
    "        print(f\"Added {furniture.name} to the {self.name} room.\")\n",
    "\n",
    "    def add_appliance(self, appliance):\n",
    "        self.appliances.append(appliance)\n",
    "        print(f\"Added {appliance.name} to the {self.name} room.\")\n",
    "\n",
    "    def describe_contents(self):\n",
    "        furniture_info = \"\\n\".join([item.describe() for item in self.furniture])\n",
    "        appliance_info = \"\\n\".join([item.describe() for item in self.appliances])\n",
    "        return f\"Contents of the {self.name} room:\\nFurniture:\\n{furniture_info}\\nAppliances:\\n{appliance_info}\"\n",
    "\n",
    "class House:\n",
    "    def __init__(self):\n",
    "        self.rooms = []\n",
    "\n",
    "    def add_room(self, room):\n",
    "        self.rooms.append(room)\n",
    "        print(f\"Added {room.name} to the house.\")\n",
    "\n",
    "# Usage\n",
    "living_room = Room(name=\"Living Room\")\n",
    "kitchen = Room(name=\"Kitchen\")\n",
    "\n",
    "sofa = Furniture(name=\"Sofa\")\n",
    "tv = Appliance(name=\"Smart TV\")\n",
    "oven = Appliance(name=\"Oven\")\n",
    "\n",
    "living_room.add_furniture(sofa)\n",
    "living_room.add_appliance(tv)\n",
    "\n",
    "kitchen.add_appliance(oven)\n",
    "\n",
    "my_house = House()\n",
    "my_house.add_room(living_room)\n",
    "my_house.add_room(kitchen)\n",
    "\n",
    "# Describe the contents of rooms in the house\n",
    "print(living_room.describe_contents())\n",
    "print(kitchen.describe_contents())\n"
   ]
  },
  {
   "cell_type": "markdown",
   "metadata": {},
   "source": [
    "**19. How can you achieve flexibility in composed objects by allowing them to be replaced or modified\n",
    "dynamically at runtime?**"
   ]
  },
  {
   "cell_type": "code",
   "execution_count": 161,
   "metadata": {},
   "outputs": [
    {
     "name": "stdout",
     "output_type": "stream",
     "text": [
      "<html>Hello, HTML!</html>\n",
      "{ \"data\": \"Hello, JSON!\" }\n"
     ]
    }
   ],
   "source": [
    "class Renderer:\n",
    "    def render(self, content):\n",
    "        pass\n",
    "\n",
    "class HTMLRenderer(Renderer):\n",
    "    def render(self, content):\n",
    "        return f\"<html>{content}</html>\"\n",
    "\n",
    "class JSONRenderer(Renderer):\n",
    "    def render(self, content):\n",
    "        return f'{{ \"data\": \"{content}\" }}'\n",
    "\n",
    "class ContentProcessor:\n",
    "    def __init__(self, renderer):\n",
    "        self.renderer = renderer\n",
    "\n",
    "    def process_content(self, content):\n",
    "        return self.renderer.render(content)\n",
    "\n",
    "# Usage\n",
    "html_renderer = HTMLRenderer()\n",
    "json_renderer = JSONRenderer()\n",
    "\n",
    "processor = ContentProcessor(renderer=html_renderer)\n",
    "result_html = processor.process_content(\"Hello, HTML!\")\n",
    "\n",
    "processor.renderer = json_renderer  # Switch renderer dynamically\n",
    "result_json = processor.process_content(\"Hello, JSON!\")\n",
    "\n",
    "print(result_html)\n",
    "print(result_json)\n"
   ]
  },
  {
   "cell_type": "markdown",
   "metadata": {},
   "source": [
    "**20. Create a Python class for a social media application, using composition to represent users, posts, and\n",
    "comments.**"
   ]
  },
  {
   "cell_type": "code",
   "execution_count": 162,
   "metadata": {},
   "outputs": [
    {
     "name": "stdout",
     "output_type": "stream",
     "text": [
      "Alice posted:\n",
      "This is my first post!\n",
      "Comments:\n",
      "Charlie: Great post, Alice!\n",
      "Bob posted:\n",
      "Excited to join this social media platform!\n",
      "Comments:\n",
      "David: Welcome, Bob!\n"
     ]
    }
   ],
   "source": [
    "class Comment:\n",
    "    def __init__(self, user, text):\n",
    "        self.user = user\n",
    "        self.text = text\n",
    "\n",
    "    def display(self):\n",
    "        return f\"{self.user}: {self.text}\"\n",
    "\n",
    "class Post:\n",
    "    def __init__(self, user, content):\n",
    "        self.user = user\n",
    "        self.content = content\n",
    "        self.comments = []\n",
    "\n",
    "    def add_comment(self, comment):\n",
    "        self.comments.append(comment)\n",
    "\n",
    "    def display(self):\n",
    "        post_info = f\"{self.user} posted:\\n{self.content}\\nComments:\"\n",
    "        comments_info = \"\\n\".join([comment.display() for comment in self.comments])\n",
    "        return f\"{post_info}\\n{comments_info}\"\n",
    "\n",
    "class User:\n",
    "    def __init__(self, username):\n",
    "        self.username = username\n",
    "        self.posts = []\n",
    "\n",
    "    def create_post(self, content):\n",
    "        post = Post(user=self.username, content=content)\n",
    "        self.posts.append(post)\n",
    "        return post\n",
    "\n",
    "# Usage\n",
    "user1 = User(username=\"Alice\")\n",
    "user2 = User(username=\"Bob\")\n",
    "\n",
    "post1 = user1.create_post(content=\"This is my first post!\")\n",
    "comment1 = Comment(user=\"Charlie\", text=\"Great post, Alice!\")\n",
    "post1.add_comment(comment1)\n",
    "\n",
    "post2 = user2.create_post(content=\"Excited to join this social media platform!\")\n",
    "comment2 = Comment(user=\"David\", text=\"Welcome, Bob!\")\n",
    "post2.add_comment(comment2)\n",
    "\n",
    "# Display posts and comments\n",
    "print(post1.display())\n",
    "print(post2.display())\n"
   ]
  },
  {
   "cell_type": "code",
   "execution_count": null,
   "metadata": {},
   "outputs": [],
   "source": []
  }
 ],
 "metadata": {
  "kernelspec": {
   "display_name": "Python 3",
   "language": "python",
   "name": "python3"
  },
  "language_info": {
   "codemirror_mode": {
    "name": "ipython",
    "version": 3
   },
   "file_extension": ".py",
   "mimetype": "text/x-python",
   "name": "python",
   "nbconvert_exporter": "python",
   "pygments_lexer": "ipython3",
   "version": "3.7.3"
  }
 },
 "nbformat": 4,
 "nbformat_minor": 2
}
