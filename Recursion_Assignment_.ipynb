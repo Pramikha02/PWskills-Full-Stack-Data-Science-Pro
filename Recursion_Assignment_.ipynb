{
  "nbformat": 4,
  "nbformat_minor": 0,
  "metadata": {
    "colab": {
      "provenance": []
    },
    "kernelspec": {
      "name": "python3",
      "display_name": "Python 3"
    },
    "language_info": {
      "name": "python"
    }
  },
  "cells": [
    {
      "cell_type": "code",
      "source": [],
      "metadata": {
        "id": "Pn0f24yRaGUo"
      },
      "execution_count": null,
      "outputs": []
    },
    {
      "cell_type": "markdown",
      "source": [
        "Q.2 Given two strings word1 and word2, return the minimum number of operations required to convert word1\n",
        "to word2."
      ],
      "metadata": {
        "id": "EDE_2bLDaJlZ"
      }
    },
    {
      "cell_type": "code",
      "source": [
        "public class EditDistance {\n",
        "\n",
        "    public static void main(String[] args) {\n",
        "        String word1 = \"horse\";\n",
        "        String word2 = \"ros\";\n",
        "        int result1 = minDistance(word1, word2);\n",
        "        System.out.println(\"Example 1 Output: \" + result1);\n",
        "\n",
        "        String word3 = \"intention\";\n",
        "        String word4 = \"execution\";\n",
        "        int result2 = minDistance(word3, word4);\n",
        "        System.out.println(\"Example 2 Output: \" + result2);\n",
        "    }\n",
        "\n",
        "    public static int minDistance(String word1, String word2) {\n",
        "        int m = word1.length();\n",
        "        int n = word2.length();\n",
        "\n",
        "        // Create a 2D array to store the minimum operations\n",
        "        int[][] dp = new int[m + 1][n + 1];\n",
        "\n",
        "        // Initialize the array for base cases\n",
        "        for (int i = 0; i <= m; i++) {\n",
        "            for (int j = 0; j <= n; j++) {\n",
        "                if (i == 0) {\n",
        "                    dp[i][j] = j; // If word1 is empty, insert all characters of word2\n",
        "                } else if (j == 0) {\n",
        "                    dp[i][j] = i; // If word2 is empty, remove all characters of word1\n",
        "                } else if (word1.charAt(i - 1) == word2.charAt(j - 1)) {\n",
        "                    dp[i][j] = dp[i - 1][j - 1]; // If last characters are the same, no operation needed\n",
        "                } else {\n",
        "                    // If last characters are different, consider the minimum of insert, remove, or replace\n",
        "                    dp[i][j] = 1 + Math.min(Math.min(dp[i][j - 1], dp[i - 1][j]), dp[i - 1][j - 1]);\n",
        "                }\n",
        "            }\n",
        "        }\n",
        "\n",
        "        return dp[m][n];\n",
        "    }\n",
        "}\n"
      ],
      "metadata": {
        "id": "OkYg0xPiaKxb"
      },
      "execution_count": null,
      "outputs": []
    },
    {
      "cell_type": "markdown",
      "source": [
        "Explanation:\n",
        "\n",
        "The dp[i][j] entry in the array represents the minimum number of operations required to convert the first i characters of word1 to the first j characters of word2.\n",
        "\n",
        "The base cases are when either of the words is empty. In such cases, the minimum number of operations is equal to the length of the non-empty word.\n",
        "\n",
        "If the last characters of the substrings are the same, no operation is needed (dp[i][j] = dp[i - 1][j - 1]).\n",
        "\n",
        "If the last characters are different, the minimum number of operations is the minimum of insert, remove, or replace (1 + Math.min(Math.min(dp[i][j - 1], dp[i - 1][j]), dp[i - 1][j - 1])).\n",
        "\n",
        "The final result is stored in dp[m][n], where m and n are the lengths of word1 and word2, respectively."
      ],
      "metadata": {
        "id": "akQbqSNibcvw"
      }
    },
    {
      "cell_type": "code",
      "source": [
        "Q.1 Can you explain the logic and working of the Tower of Hanoi algorithm by writing a Java program?\n",
        "How does the recursion work, and how are the movements of disks between rods accomplished?"
      ],
      "metadata": {
        "id": "R97g9F1IbYOL"
      },
      "execution_count": null,
      "outputs": []
    },
    {
      "cell_type": "code",
      "source": [
        "public class TowerOfHanoi {\n",
        "\n",
        "    public static void main(String[] args) {\n",
        "        int numberOfDisks = 3; // Change this value for a different number of disks\n",
        "        towerOfHanoi(numberOfDisks, 'A', 'C', 'B');\n",
        "    }\n",
        "\n",
        "    // Recursive function to solve Tower of Hanoi\n",
        "    public static void towerOfHanoi(int n, char source, char destination, char auxiliary) {\n",
        "        if (n == 1) {\n",
        "            System.out.println(\"Move disk 1 from \" + source + \" to \" + destination);\n",
        "            return;\n",
        "        }\n",
        "\n",
        "        // Move n-1 disks from source to auxiliary peg\n",
        "        towerOfHanoi(n - 1, source, auxiliary, destination);\n",
        "\n",
        "        // Move the nth disk from source to destination peg\n",
        "        System.out.println(\"Move disk \" + n + \" from \" + source + \" to \" + destination);\n",
        "\n",
        "        // Move the n-1 disks from auxiliary peg to destination peg\n",
        "        towerOfHanoi(n - 1, auxiliary, destination, source);\n",
        "    }\n",
        "}\n"
      ],
      "metadata": {
        "id": "gzU4nTg2kxKd"
      },
      "execution_count": null,
      "outputs": []
    },
    {
      "cell_type": "markdown",
      "source": [
        "\n",
        "Certainly! The Tower of Hanoi is a classic problem in computer science and mathematics. It involves moving a stack of disks from one rod to another, subject to the constraint that only one disk can be moved at a time, and a disk can only be placed on top of a larger disk or an empty rod. The objective is to move the entire stack from one rod to another, following the rules, using an auxiliary rod if necessary.\n",
        "\n",
        "Here's a simple Java program that demonstrates the Tower of Hanoi algorithm using recursion:\n",
        "\n",
        "java\n",
        "Copy code\n",
        "public class TowerOfHanoi {\n",
        "    public static void main(String[] args) {\n",
        "        int numberOfDisks = 3; // Change this value as needed\n",
        "        towerOfHanoi(numberOfDisks, 'A', 'C', 'B');\n",
        "    }\n",
        "\n",
        "    // Recursive function to solve Tower of Hanoi problem\n",
        "    static void towerOfHanoi(int n, char source, char destination, char auxiliary) {\n",
        "        // Base case: If there's only one disk, move it from source to destination\n",
        "        if (n == 1) {\n",
        "            System.out.println(\"Move disk 1 from \" + source + \" to \" + destination);\n",
        "            return;\n",
        "        }\n",
        "\n",
        "        // Move n-1 disks from source to auxiliary peg using destination peg\n",
        "        towerOfHanoi(n - 1, source, auxiliary, destination);\n",
        "\n",
        "        // Move the nth disk from source to destination\n",
        "        System.out.println(\"Move disk \" + n + \" from \" + source + \" to \" + destination);\n",
        "\n",
        "        // Move the n-1 disks from auxiliary peg to destination peg using source peg\n",
        "        towerOfHanoi(n - 1, auxiliary, destination, source);\n",
        "    }\n",
        "\n",
        "\n",
        "The towerOfHanoi method is a recursive function that takes the number of disks (n), the source rod (source), the destination rod (destination), and the auxiliary rod (auxiliary) as parameters.\n",
        "\n",
        "The base case is when there's only one disk (n == 1). In this case, the program prints the move from the source rod to the destination rod.\n",
        "\n",
        "In the recursive case, the algorithm follows these steps:\n",
        "\n",
        "Move the top n-1 disks from the source rod to the auxiliary rod using the destination rod.\n",
        "Move the nth disk from the source rod to the destination rod.\n",
        "Move the n-1 disks from the auxiliary rod to the destination rod using the source rod.\n",
        "The recursion works by breaking down the problem into smaller sub-problems until it reaches the base case. Each recursive call handles a smaller Tower of Hanoi problem, and the solutions are combined to solve the original problem.\n",
        "\n",
        "The movement of disks between rods is accomplished by carefully following the rules of the Tower of Hanoi:\n",
        "\n",
        "Move n-1 disks to the auxiliary rod.\n",
        "Move the nth disk to the destination rod.\n",
        "Move the n-1 disks from the auxiliary rod to the destination rod."
      ],
      "metadata": {
        "id": "Ms8eKhmGEQfX"
      }
    },
    {
      "cell_type": "code",
      "source": [],
      "metadata": {
        "id": "rMRbq_35ERfU"
      },
      "execution_count": null,
      "outputs": []
    },
    {
      "cell_type": "markdown",
      "source": [
        "Q. 3 Print the max value of the array [ 13, 1, -3, 22, 5]."
      ],
      "metadata": {
        "id": "DswvzxorEjo-"
      }
    },
    {
      "cell_type": "code",
      "source": [
        "array = [13, 1, -3, 22, 5]\n",
        "max_value = max(array)\n",
        "\n",
        "print(\"The maximum value in the array is:\", max_value)\n"
      ],
      "metadata": {
        "id": "LHq3f3KfEkFM"
      },
      "execution_count": null,
      "outputs": []
    },
    {
      "cell_type": "markdown",
      "source": [
        "Q.4 Find the sum of the values of the array [92, 23, 15, -20, 10]."
      ],
      "metadata": {
        "id": "nlD0aN2-Eo-w"
      }
    },
    {
      "cell_type": "code",
      "source": [
        "array = [92, 23, 15, -20, 10]\n",
        "sum_of_values = sum(array)\n",
        "\n",
        "print(\"The sum of the values in the array is:\", sum_of_values)\n"
      ],
      "metadata": {
        "colab": {
          "base_uri": "https://localhost:8080/"
        },
        "id": "IWZI4rewErdr",
        "outputId": "192b0395-92a6-4d3e-ad3d-192fa90fc60e"
      },
      "execution_count": 1,
      "outputs": [
        {
          "output_type": "stream",
          "name": "stdout",
          "text": [
            "The sum of the values in the array is: 120\n"
          ]
        }
      ]
    },
    {
      "cell_type": "code",
      "source": [],
      "metadata": {
        "id": "tZgOvxaVEv2S"
      },
      "execution_count": null,
      "outputs": []
    },
    {
      "cell_type": "markdown",
      "source": [
        "Q.5 Given a number n. Print if it is an armstrong number or not.An armstrong number is a number if the sum\n",
        "of every digit in that number raised to the power of total digits in that number is equal to the number."
      ],
      "metadata": {
        "id": "NKsE142VE4ex"
      }
    },
    {
      "cell_type": "code",
      "source": [
        "def is_armstrong_number(n):\n",
        "    # Convert the number to a string to find the total number of digits\n",
        "    num_str = str(n)\n",
        "    num_digits = len(num_str)\n",
        "\n",
        "    # Calculate the sum of each digit raised to the power of total digits\n",
        "    armstrong_sum = sum(int(digit) ** num_digits for digit in num_str)\n",
        "\n",
        "    # Check if the sum is equal to the original number\n",
        "    return armstrong_sum == n\n",
        "\n",
        "# Example usage\n",
        "number = int(input(\"Enter a number: \"))\n",
        "if is_armstrong_number(number):\n",
        "    print(f\"{number} is an Armstrong number.\")\n",
        "else:\n",
        "    print(f\"{number} is not an Armstrong number.\")\n"
      ],
      "metadata": {
        "colab": {
          "base_uri": "https://localhost:8080/"
        },
        "id": "0gmItvkCE5KS",
        "outputId": "94271ac1-090f-4f81-ff33-c81514db84b3"
      },
      "execution_count": 3,
      "outputs": [
        {
          "output_type": "stream",
          "name": "stdout",
          "text": [
            "Enter a number: 153\n",
            "153 is an Armstrong number.\n"
          ]
        }
      ]
    },
    {
      "cell_type": "code",
      "source": [],
      "metadata": {
        "id": "OSmcFu4zE_Yu"
      },
      "execution_count": null,
      "outputs": []
    }
  ]
}