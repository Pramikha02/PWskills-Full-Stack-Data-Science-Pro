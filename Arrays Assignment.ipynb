{
 "cells": [
  {
   "cell_type": "markdown",
   "metadata": {},
   "source": [
    "**1. Given an array, check if it contains any duplicates or not.\n",
    "arr = [1, 2, 4, 2, 5, 9]\n",
    "Output = True**"
   ]
  },
  {
   "cell_type": "code",
   "execution_count": 6,
   "metadata": {},
   "outputs": [
    {
     "name": "stdout",
     "output_type": "stream",
     "text": [
      "True\n"
     ]
    }
   ],
   "source": [
    "def contains_duplicates(arr):\n",
    "    # Initialize an empty set to keep track of elements\n",
    "    seen_set = set()\n",
    "\n",
    "    # Iterate through the array\n",
    "    for element in arr:\n",
    "        # Check if the element is already in the set\n",
    "        if element in seen_set:\n",
    "            # If it is, then we found a duplicate, return True\n",
    "            return True\n",
    "        # If not, add the element to the set\n",
    "        seen_set.add(element)\n",
    "\n",
    "    # If the loop completes without finding duplicates, return False\n",
    "    return False\n",
    "\n",
    "# Example usage\n",
    "arr = [1, 2, 4, 2, 5, 9]\n",
    "output = contains_duplicates(arr)\n",
    "\n",
    "# Print the result\n",
    "print(output)\n"
   ]
  },
  {
   "cell_type": "markdown",
   "metadata": {},
   "source": [
    "**Explanation:**\n",
    "\n",
    "The function contains_duplicates takes an array arr as input.\n",
    "It initializes an empty set called seen_set to keep track of unique elements.\n",
    "It iterates through each element in the array.\n",
    "For each element, it checks whether it is already in the set (element in seen_set).\n",
    "If the element is in the set, it means a duplicate is found, and the function returns True.\n",
    "If the element is not in the set, it is added to the set.\n",
    "If the loop completes without finding any duplicates, the function returns False.\n",
    "The example array [1, 2, 4, 2, 5, 9] contains a duplicate (2), so the output of the function is True."
   ]
  },
  {
   "cell_type": "markdown",
   "metadata": {},
   "source": [
    "**2. Given an array and an integer k, rotate the array to the right by k steps.\n",
    "arr = [1, 2, 3, 4, 5, 6, 7] k = 3\n",
    "Output = [5, 6, 7, 1, 2, 3, 4]**"
   ]
  },
  {
   "cell_type": "code",
   "execution_count": 9,
   "metadata": {},
   "outputs": [
    {
     "name": "stdout",
     "output_type": "stream",
     "text": [
      "[5, 6, 7, 1, 2, 3, 4]\n"
     ]
    }
   ],
   "source": [
    "def rotate_array(arr, k):\n",
    "    n = len(arr)\n",
    "    k = k % n  # Ensure k is within the range of array length\n",
    "\n",
    "    # Rotate the array using slicing\n",
    "    rotated_array = arr[-k:] + arr[:-k]\n",
    "\n",
    "    return rotated_array\n",
    "\n",
    "arr = [1, 2, 3, 4, 5, 6, 7]\n",
    "k = 3\n",
    "output = rotate_array(arr, k)\n",
    "print(output)\n"
   ]
  },
  {
   "cell_type": "markdown",
   "metadata": {},
   "source": [
    "In this code, arr[-k:] represents the last k elements of the array, and arr[:-k] represents the remaining elements. By concatenating them in this order, the array is rotated to the right by k steps. The output for the given example will be [5, 6, 7, 1, 2, 3, 4]."
   ]
  },
  {
   "cell_type": "markdown",
   "metadata": {},
   "source": [
    "**3. Reverse the given array in-place, means without using any extra data structure.\n",
    "arr = [2, 4, 5, 7, 9, 12]\n",
    "Output = [12, 9, 7, 5, 4, 2]**"
   ]
  },
  {
   "cell_type": "code",
   "execution_count": 10,
   "metadata": {},
   "outputs": [
    {
     "name": "stdout",
     "output_type": "stream",
     "text": [
      "[12, 9, 7, 5, 4, 2]\n"
     ]
    }
   ],
   "source": [
    "def reverse_array_in_place(arr):\n",
    "    # Initialize two pointers, one at the beginning and one at the end of the array\n",
    "    start = 0\n",
    "    end = len(arr) - 1\n",
    "\n",
    "    # Continue swapping elements until the pointers meet or cross\n",
    "    while start < end:\n",
    "        # Swap elements at the start and end indices\n",
    "        arr[start], arr[end] = arr[end], arr[start]\n",
    "\n",
    "        # Move the pointers towards the center\n",
    "        start += 1\n",
    "        end -= 1\n",
    "\n",
    "# Example usage\n",
    "arr = [2, 4, 5, 7, 9, 12]\n",
    "reverse_array_in_place(arr)\n",
    "\n",
    "# Print the reversed array\n",
    "print(arr)\n",
    "\n"
   ]
  },
  {
   "cell_type": "markdown",
   "metadata": {},
   "source": [
    "**Explanation:**\n",
    "\n",
    "The function reverse_array_in_place takes an array arr as input.\n",
    "Two pointers, start and end, are initialized at the beginning and end of the array, respectively.\n",
    "The while loop continues until the start pointer is greater than or equal to the end pointer.\n",
    "Inside the loop, elements at the start and end indices are swapped using tuple unpacking (arr[start], arr[end] = arr[end], arr[start]).\n",
    "The pointers are then moved towards the center by incrementing start and decrementing end.\n",
    "The loop continues until the pointers meet or cross, effectively reversing the array in-place.\n",
    "The example array [2, 4, 5, 7, 9, 12] is reversed in-place, and the output is [12, 9, 7, 5, 4, 2]."
   ]
  },
  {
   "cell_type": "markdown",
   "metadata": {},
   "source": [
    "**4. Given an array of integers, find the maximum element in an array\n",
    "arr = [10, 5, 20, 8, 15]\n",
    "Output = 20**"
   ]
  },
  {
   "cell_type": "code",
   "execution_count": 11,
   "metadata": {},
   "outputs": [
    {
     "name": "stdout",
     "output_type": "stream",
     "text": [
      "20\n"
     ]
    }
   ],
   "source": [
    "def find_maximum(arr):\n",
    "    # Check if the array is empty\n",
    "    if not arr:\n",
    "        raise ValueError(\"Array is empty\")\n",
    "\n",
    "    # Initialize the maximum value to the first element of the array\n",
    "    max_element = arr[0]\n",
    "\n",
    "    # Iterate through the array starting from the second element\n",
    "    for element in arr[1:]:\n",
    "        # Compare the current element with the current maximum\n",
    "        if element > max_element:\n",
    "            # If the current element is greater, update the maximum\n",
    "            max_element = element\n",
    "\n",
    "    # Return the maximum element found in the array\n",
    "    return max_element\n",
    "\n",
    "# Example usage\n",
    "arr = [10, 5, 20, 8, 15]\n",
    "max_element = find_maximum(arr)\n",
    "\n",
    "# Print the result\n",
    "print(max_element)\n"
   ]
  },
  {
   "cell_type": "markdown",
   "metadata": {},
   "source": [
    "The function find_maximum takes an array arr as input.\n",
    "It checks if the array is empty and raises a ValueError if so.\n",
    "It initializes the maximum value (max_element) to the first element of the array.\n",
    "It iterates through the array starting from the second element.\n",
    "For each element, it compares it with the current maximum (element > max_element).\n",
    "If the current element is greater than the current maximum, it updates the maximum.\n",
    "After iterating through the entire array, the function returns the maximum element found.\n",
    "The example array [10, 5, 20, 8, 15] has a maximum element of 20, so the output is 20."
   ]
  },
  {
   "cell_type": "markdown",
   "metadata": {},
   "source": [
    "**5. Given a sorted array, remove the duplicate element without using any extra data structure.\n",
    "arr = [1, 1, 2, 2, 2, 3, 3, 4, 4, 4, 5, 5]\n",
    "Output = [1, 2, 3, 4, 5]**"
   ]
  },
  {
   "cell_type": "code",
   "execution_count": 12,
   "metadata": {},
   "outputs": [
    {
     "name": "stdout",
     "output_type": "stream",
     "text": [
      "[1, 2, 3, 4, 5]\n"
     ]
    }
   ],
   "source": [
    "def remove_duplicates_in_place(arr):\n",
    "    # Check if the array is empty\n",
    "    if not arr:\n",
    "        return []\n",
    "\n",
    "    # Initialize a pointer to the first element\n",
    "    current_index = 0\n",
    "\n",
    "    # Iterate through the array\n",
    "    for i in range(1, len(arr)):\n",
    "        # If the current element is different from the previous one, update the array\n",
    "        if arr[i] != arr[current_index]:\n",
    "            current_index += 1\n",
    "            arr[current_index] = arr[i]\n",
    "\n",
    "    # Trim the array to contain only distinct elements\n",
    "    return arr[:current_index + 1]\n",
    "\n",
    "# Example usage\n",
    "arr = [1, 1, 2, 2, 2, 3, 3, 4, 4, 4, 5, 5]\n",
    "output = remove_duplicates_in_place(arr)\n",
    "\n",
    "# Print the result\n",
    "print(output)\n",
    "\n"
   ]
  },
  {
   "cell_type": "markdown",
   "metadata": {},
   "source": [
    "**Explanation:**\n",
    "\n",
    "The function remove_duplicates_in_place takes a sorted array arr as input.\n",
    "It checks if the array is empty and returns an empty array if so.\n",
    "It initializes a pointer (current_index) to the first element of the array.\n",
    "It iterates through the array starting from the second element.\n",
    "If the current element is different from the previous one, it updates the array at the current_index.\n",
    "The current_index is then incremented to the next position.\n",
    "After iterating through the entire array, the function trims the array to contain only distinct elements.\n",
    "The example array [1, 1, 2, 2, 2, 3, 3, 4, 4, 4, 5, 5] is modified in-place, and the output is [1, 2, 3, 4, 5]."
   ]
  },
  {
   "cell_type": "code",
   "execution_count": null,
   "metadata": {},
   "outputs": [],
   "source": []
  }
 ],
 "metadata": {
  "kernelspec": {
   "display_name": "Python 3",
   "language": "python",
   "name": "python3"
  },
  "language_info": {
   "codemirror_mode": {
    "name": "ipython",
    "version": 3
   },
   "file_extension": ".py",
   "mimetype": "text/x-python",
   "name": "python",
   "nbconvert_exporter": "python",
   "pygments_lexer": "ipython3",
   "version": "3.7.3"
  }
 },
 "nbformat": 4,
 "nbformat_minor": 2
}
