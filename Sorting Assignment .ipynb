{
 "cells": [
  {
   "cell_type": "markdown",
   "metadata": {},
   "source": [
    "1.Given an array of n numbers, give an algorithm which gives the element appearing maximum\n",
    "number of times?"
   ]
  },
  {
   "cell_type": "code",
   "execution_count": 1,
   "metadata": {},
   "outputs": [
    {
     "name": "stdout",
     "output_type": "stream",
     "text": [
      "The element appearing most frequently is: 4\n"
     ]
    }
   ],
   "source": [
    "def find_most_frequent_element(arr):\n",
    "    frequency_map = {}\n",
    "\n",
    "    # Count the frequency of each element in the array\n",
    "    for num in arr:\n",
    "        if num in frequency_map:\n",
    "            frequency_map[num] += 1\n",
    "        else:\n",
    "            frequency_map[num] = 1\n",
    "\n",
    "    # Find the element with the maximum frequency\n",
    "    max_frequency = 0\n",
    "    most_frequent_element = None\n",
    "\n",
    "    for num, frequency in frequency_map.items():\n",
    "        if frequency > max_frequency:\n",
    "            max_frequency = frequency\n",
    "            most_frequent_element = num\n",
    "\n",
    "    return most_frequent_element\n",
    "\n",
    "# Example usage:\n",
    "arr = [1, 2, 3, 4, 2, 2, 3, 1, 4, 4, 4]\n",
    "result = find_most_frequent_element(arr)\n",
    "print(\"The element appearing most frequently is:\", result)\n"
   ]
  },
  {
   "cell_type": "markdown",
   "metadata": {},
   "source": [
    "2. We are given a list of n-1 integers and these integers are in the range of 1 to n . There are no\n",
    "duplicates in the list. One of the integers is missing in the list. Give an algorithm to find that element Ex:\n",
    "[1,2,4,6,3,7,8] 5 is the missing num."
   ]
  },
  {
   "cell_type": "code",
   "execution_count": 2,
   "metadata": {},
   "outputs": [
    {
     "name": "stdout",
     "output_type": "stream",
     "text": [
      "The missing element is: 5\n"
     ]
    }
   ],
   "source": [
    "def find_missing_element(arr):\n",
    "    n = len(arr) + 1  # n is the size of the original list\n",
    "\n",
    "    # Calculate the sum of the first n natural numbers using the formula n * (n + 1) / 2\n",
    "    expected_sum = n * (n + 1) // 2\n",
    "\n",
    "    # Calculate the actual sum of the given list\n",
    "    actual_sum = sum(arr)\n",
    "\n",
    "    # The difference is the missing element\n",
    "    missing_element = expected_sum - actual_sum\n",
    "\n",
    "    return missing_element\n",
    "\n",
    "# Example usage:\n",
    "arr = [1, 2, 4, 6, 3, 7, 8]\n",
    "result = find_missing_element(arr)\n",
    "print(\"The missing element is:\", result)\n",
    "\n"
   ]
  },
  {
   "cell_type": "markdown",
   "metadata": {},
   "source": [
    "Problem 3 : Given an array of n positive numbers. All numbers occurs even number of times except 1 which\n",
    "occurs odd number of times. Find that number in O(n) time and O(1) space. Ex: [1,2,3,2,3,1,3]. 3 is repeats odd\n",
    "times."
   ]
  },
  {
   "cell_type": "code",
   "execution_count": 5,
   "metadata": {},
   "outputs": [
    {
     "name": "stdout",
     "output_type": "stream",
     "text": [
      "The number occurring an odd number of times is: 3\n"
     ]
    }
   ],
   "source": [
    "def find_odd_occurrence(arr):\n",
    "    result = 0\n",
    "\n",
    "    # XOR all elements in the array\n",
    "    for num in arr:\n",
    "        result ^= num\n",
    "\n",
    "    return result\n",
    "\n",
    "# Example usage:\n",
    "arr = [1, 2, 3, 2, 3, 1, 3]\n",
    "result = find_odd_occurrence(arr)\n",
    "print(\"The number occurring an odd number of times is:\", result)\n",
    "\n",
    "\n"
   ]
  },
  {
   "cell_type": "markdown",
   "metadata": {},
   "source": [
    "Problem 4 : Given an array of n elements. Find two elements in the array such that their sum is equal to given\n",
    "element K."
   ]
  },
  {
   "cell_type": "code",
   "execution_count": 6,
   "metadata": {},
   "outputs": [
    {
     "name": "stdout",
     "output_type": "stream",
     "text": [
      "Pair with sum 9: 5 and 4\n"
     ]
    }
   ],
   "source": [
    "def find_pair_with_sum(arr, target_sum):\n",
    "    seen_numbers = set()\n",
    "\n",
    "    for num in arr:\n",
    "        complement = target_sum - num\n",
    "\n",
    "        if complement in seen_numbers:\n",
    "            return (num, complement)\n",
    "\n",
    "        seen_numbers.add(num)\n",
    "\n",
    "    return None\n",
    "\n",
    "# Example usage:\n",
    "arr = [1, 2, 3, 4, 5, 6]\n",
    "target_sum = 9\n",
    "result = find_pair_with_sum(arr, target_sum)\n",
    "\n",
    "if result:\n",
    "    print(f\"Pair with sum {target_sum}: {result[0]} and {result[1]}\")\n",
    "else:\n",
    "    print(\"No pair found with the given sum.\")\n"
   ]
  },
  {
   "cell_type": "markdown",
   "metadata": {},
   "source": [
    "Problem 5 : Given an array of both positive and negative numbers, find two numbers such that their sum is\n",
    "closest to 0. Ex: [ 1 ,60 ,-10, 70, -80,85]. Ans : -80,85."
   ]
  },
  {
   "cell_type": "code",
   "execution_count": 7,
   "metadata": {},
   "outputs": [
    {
     "name": "stdout",
     "output_type": "stream",
     "text": [
      "The pair with the closest sum to zero is: (-80, 85)\n"
     ]
    }
   ],
   "source": [
    "def closest_sum_to_zero(arr):\n",
    "    # Sort the array\n",
    "    arr.sort()\n",
    "\n",
    "    # Initialize variables to keep track of the closest sum and the pair of numbers\n",
    "    closest_sum = float('inf')\n",
    "    closest_pair = None\n",
    "\n",
    "    # Two pointers approach to find the pair with the closest sum\n",
    "    left, right = 0, len(arr) - 1\n",
    "\n",
    "    while left < right:\n",
    "        current_sum = arr[left] + arr[right]\n",
    "\n",
    "        # Update the closest pair if the current sum is closer to zero\n",
    "        if abs(current_sum) < abs(closest_sum):\n",
    "            closest_sum = current_sum\n",
    "            closest_pair = (arr[left], arr[right])\n",
    "\n",
    "        # Move pointers based on the current sum\n",
    "        if current_sum < 0:\n",
    "            left += 1\n",
    "        elif current_sum > 0:\n",
    "            right -= 1\n",
    "        else:\n",
    "            # If the sum is exactly zero, we found the closest pair\n",
    "            return (arr[left], arr[right])\n",
    "\n",
    "    return closest_pair\n",
    "\n",
    "# Example usage:\n",
    "arr = [1, 60, -10, 70, -80, 85]\n",
    "result = closest_sum_to_zero(arr)\n",
    "print(\"The pair with the closest sum to zero is:\", result)\n"
   ]
  },
  {
   "cell_type": "markdown",
   "metadata": {},
   "source": [
    "Problem 6 : Given an array of n elements . Find three elements such that their sum is equal to the given\n",
    "number."
   ]
  },
  {
   "cell_type": "code",
   "execution_count": 9,
   "metadata": {},
   "outputs": [
    {
     "name": "stdout",
     "output_type": "stream",
     "text": [
      "Triplet found: (4, 8, 10)\n"
     ]
    }
   ],
   "source": [
    "def find_triplets_with_sum(arr, target_sum):\n",
    "    n = len(arr)\n",
    "\n",
    "    # Sort the array to use two-pointer approach\n",
    "    arr.sort()\n",
    "\n",
    "    # Iterate through each element as the first element of the triplet\n",
    "    for i in range(n - 2):\n",
    "        left, right = i + 1, n - 1\n",
    "\n",
    "        while left < right:\n",
    "            current_sum = arr[i] + arr[left] + arr[right]\n",
    "\n",
    "            if current_sum == target_sum:\n",
    "                # Triplet found\n",
    "                return arr[i], arr[left], arr[right]\n",
    "            elif current_sum < target_sum:\n",
    "                left += 1\n",
    "            else:\n",
    "                right -= 1\n",
    "\n",
    "    # If no triplet is found\n",
    "    return None\n",
    "\n",
    "# Example usage\n",
    "arr = [1, 4, 45, 6, 10, 8]\n",
    "target_sum = 22\n",
    "\n",
    "result = find_triplets_with_sum(arr, target_sum)\n",
    "\n",
    "if result:\n",
    "    print(\"Triplet found:\", result)\n",
    "else:\n",
    "    print(\"No triplet found with the given sum.\")\n",
    "\n"
   ]
  },
  {
   "cell_type": "markdown",
   "metadata": {},
   "source": [
    "Problem 7 : Given an array of n elements . Find three elements i, j, k in the array such that\n",
    "i * i + j * j = k*k."
   ]
  },
  {
   "cell_type": "code",
   "execution_count": 10,
   "metadata": {},
   "outputs": [
    {
     "name": "stdout",
     "output_type": "stream",
     "text": [
      "Pythagorean triplet found: (3, 4, 5)\n"
     ]
    }
   ],
   "source": [
    "def find_triplets_pythagorean(arr):\n",
    "    n = len(arr)\n",
    "\n",
    "    # Iterate through each element as the first element of the triplet\n",
    "    for i in range(n - 2):\n",
    "        for j in range(i + 1, n - 1):\n",
    "            for k in range(j + 1, n):\n",
    "                if arr[i] * arr[i] + arr[j] * arr[j] == arr[k] * arr[k]:\n",
    "                    # Triplet found\n",
    "                    return arr[i], arr[j], arr[k]\n",
    "\n",
    "    # If no triplet is found\n",
    "    return None\n",
    "\n",
    "# Example usage\n",
    "arr = [3, 1, 4, 6, 5]\n",
    "result = find_triplets_pythagorean(arr)\n",
    "\n",
    "if result:\n",
    "    print(\"Pythagorean triplet found:\", result)\n",
    "else:\n",
    "    print(\"No Pythagorean triplet found.\")\n"
   ]
  },
  {
   "cell_type": "markdown",
   "metadata": {},
   "source": [
    "Problem 8 : An element is a majority if it appears more than n/2 times. Give an algorithm takes an array of n\n",
    "element as argument and identifies a majority (if it exists)."
   ]
  },
  {
   "cell_type": "code",
   "execution_count": 12,
   "metadata": {},
   "outputs": [
    {
     "name": "stdout",
     "output_type": "stream",
     "text": [
      "Majority element: 2\n"
     ]
    }
   ],
   "source": [
    "def find_majority_element(arr):\n",
    "    candidate = None\n",
    "    count = 0\n",
    "\n",
    "    # Find a candidate for the majority element\n",
    "    for num in arr:\n",
    "        if count == 0:\n",
    "            candidate = num\n",
    "            count = 1\n",
    "        elif num == candidate:\n",
    "            count += 1\n",
    "        else:\n",
    "            count -= 1\n",
    "\n",
    "    # Check if the candidate is a majority element\n",
    "    count = arr.count(candidate)\n",
    "    if count > len(arr) // 2:\n",
    "        return candidate\n",
    "    else:\n",
    "        return None\n",
    "\n",
    "# Example usage\n",
    "arr = [2, 2, 1, 1, 1, 2, 2]\n",
    "result = find_majority_element(arr)\n",
    "\n",
    "if result is not None:\n",
    "    print(\"Majority element:\", result)\n",
    "else:\n",
    "    print(\"No majority element found.\")\n"
   ]
  },
  {
   "cell_type": "markdown",
   "metadata": {},
   "source": [
    "Problem 9 : Given n × n matrix, and in each row all 1’s are followed by 0’s. Find the row with the maximum\n",
    "number of 0’s."
   ]
  },
  {
   "cell_type": "code",
   "execution_count": 13,
   "metadata": {},
   "outputs": [
    {
     "name": "stdout",
     "output_type": "stream",
     "text": [
      "Row with the maximum number of 0's: 1\n"
     ]
    }
   ],
   "source": [
    "def find_row_with_max_zeros(matrix):\n",
    "    n = len(matrix)\n",
    "    max_zeros_row = 0\n",
    "    max_zeros_count = 0\n",
    "\n",
    "    # Start from the first row and iterate through each row\n",
    "    for row in range(n):\n",
    "        zeros_count = matrix[row].count(0)\n",
    "\n",
    "        if zeros_count > max_zeros_count:\n",
    "            max_zeros_row = row\n",
    "            max_zeros_count = zeros_count\n",
    "\n",
    "    return max_zeros_row\n",
    "\n",
    "# Example usage\n",
    "matrix = [\n",
    "    [1, 1, 1, 0, 0],\n",
    "    [1, 1, 0, 0, 0],\n",
    "    [1, 1, 1, 1, 0],\n",
    "    [1, 1, 1, 0, 0],\n",
    "    [1, 1, 0, 0, 0]\n",
    "]\n",
    "\n",
    "result = find_row_with_max_zeros(matrix)\n",
    "\n",
    "print(\"Row with the maximum number of 0's:\", result)\n"
   ]
  },
  {
   "cell_type": "markdown",
   "metadata": {},
   "source": [
    "Problem 10 : Sort an array of 0’s, 1’s and 2’s [or R’s, G’s and B’s]: Given an array A[] consisting of 0’s, 1’s and\n",
    "2’s, give an algorithm for sorting A[].The algorithm should put all 0’s first, then all 1’s and finally all 2’s at the\n",
    "end. Example Input = {0,1,1,0,1,2,1,2,0,0,0,1}, Output = {0,0,0,0,0,1,1,1,1,1,2,2}"
   ]
  },
  {
   "cell_type": "code",
   "execution_count": 14,
   "metadata": {},
   "outputs": [
    {
     "name": "stdout",
     "output_type": "stream",
     "text": [
      "Sorted array: [0, 0, 0, 0, 0, 1, 1, 1, 1, 1, 2, 2]\n"
     ]
    }
   ],
   "source": [
    "def sort012(arr):\n",
    "    low, mid, high = 0, 0, len(arr) - 1\n",
    "\n",
    "    while mid <= high:\n",
    "        if arr[mid] == 0:\n",
    "            arr[low], arr[mid] = arr[mid], arr[low]\n",
    "            low += 1\n",
    "            mid += 1\n",
    "        elif arr[mid] == 1:\n",
    "            mid += 1\n",
    "        else:\n",
    "            arr[mid], arr[high] = arr[high], arr[mid]\n",
    "            high -= 1\n",
    "\n",
    "# Example usage\n",
    "arr = [0, 1, 1, 0, 1, 2, 1, 2, 0, 0, 0, 1]\n",
    "sort012(arr)\n",
    "\n",
    "print(\"Sorted array:\", arr)\n"
   ]
  },
  {
   "cell_type": "code",
   "execution_count": null,
   "metadata": {},
   "outputs": [],
   "source": []
  }
 ],
 "metadata": {
  "kernelspec": {
   "display_name": "Python 3",
   "language": "python",
   "name": "python3"
  },
  "language_info": {
   "codemirror_mode": {
    "name": "ipython",
    "version": 3
   },
   "file_extension": ".py",
   "mimetype": "text/x-python",
   "name": "python",
   "nbconvert_exporter": "python",
   "pygments_lexer": "ipython3",
   "version": "3.7.3"
  }
 },
 "nbformat": 4,
 "nbformat_minor": 2
}
